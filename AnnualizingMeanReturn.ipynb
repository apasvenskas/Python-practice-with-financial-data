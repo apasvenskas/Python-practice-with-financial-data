{
 "cells": [
  {
   "cell_type": "markdown",
   "id": "84a9e5fe-317c-4686-b917-8b5ca3c527d8",
   "metadata": {},
   "source": [
    " Annualizing Mean Return and Std of Returns"
   ]
  },
  {
   "cell_type": "code",
   "execution_count": 2,
   "id": "f4490060-7bef-4689-b4dc-88668a92fabc",
   "metadata": {},
   "outputs": [],
   "source": [
    "import pandas as pd\n",
    "import numpy as np\n",
    "import matplotlib.pyplot as plt\n",
    "pd.options.display.float_format = '{:.6f}'.format"
   ]
  },
  {
   "cell_type": "code",
   "execution_count": 4,
   "id": "e32de0af-efe3-4c38-883c-7f21cfb2bcad",
   "metadata": {},
   "outputs": [],
   "source": [
    "msft = pd.read_csv(\"msft.csv\", index_col = \"Date\", parse_dates = [\"Date\"])"
   ]
  },
  {
   "cell_type": "code",
   "execution_count": 6,
   "id": "05355d8c-89dd-4814-a3ee-66a9d98aa216",
   "metadata": {},
   "outputs": [
    {
     "data": {
      "text/html": [
       "<div>\n",
       "<style scoped>\n",
       "    .dataframe tbody tr th:only-of-type {\n",
       "        vertical-align: middle;\n",
       "    }\n",
       "\n",
       "    .dataframe tbody tr th {\n",
       "        vertical-align: top;\n",
       "    }\n",
       "\n",
       "    .dataframe thead th {\n",
       "        text-align: right;\n",
       "    }\n",
       "</style>\n",
       "<table border=\"1\" class=\"dataframe\">\n",
       "  <thead>\n",
       "    <tr style=\"text-align: right;\">\n",
       "      <th></th>\n",
       "      <th>Price</th>\n",
       "      <th>Returns</th>\n",
       "    </tr>\n",
       "    <tr>\n",
       "      <th>Date</th>\n",
       "      <th></th>\n",
       "      <th></th>\n",
       "    </tr>\n",
       "  </thead>\n",
       "  <tbody>\n",
       "    <tr>\n",
       "      <th>2014-10-01 00:00:00+00:00</th>\n",
       "      <td>45.900002</td>\n",
       "      <td>NaN</td>\n",
       "    </tr>\n",
       "    <tr>\n",
       "      <th>2014-10-02 00:00:00+00:00</th>\n",
       "      <td>45.759998</td>\n",
       "      <td>-0.003050</td>\n",
       "    </tr>\n",
       "    <tr>\n",
       "      <th>2014-10-03 00:00:00+00:00</th>\n",
       "      <td>46.090000</td>\n",
       "      <td>0.007212</td>\n",
       "    </tr>\n",
       "    <tr>\n",
       "      <th>2014-10-06 00:00:00+00:00</th>\n",
       "      <td>46.090000</td>\n",
       "      <td>0.000000</td>\n",
       "    </tr>\n",
       "    <tr>\n",
       "      <th>2014-10-07 00:00:00+00:00</th>\n",
       "      <td>45.529999</td>\n",
       "      <td>-0.012150</td>\n",
       "    </tr>\n",
       "    <tr>\n",
       "      <th>...</th>\n",
       "      <td>...</td>\n",
       "      <td>...</td>\n",
       "    </tr>\n",
       "    <tr>\n",
       "      <th>2021-05-24 00:00:00+00:00</th>\n",
       "      <td>250.779999</td>\n",
       "      <td>0.022882</td>\n",
       "    </tr>\n",
       "    <tr>\n",
       "      <th>2021-05-25 00:00:00+00:00</th>\n",
       "      <td>251.720001</td>\n",
       "      <td>0.003748</td>\n",
       "    </tr>\n",
       "    <tr>\n",
       "      <th>2021-05-26 00:00:00+00:00</th>\n",
       "      <td>251.490005</td>\n",
       "      <td>-0.000914</td>\n",
       "    </tr>\n",
       "    <tr>\n",
       "      <th>2021-05-27 00:00:00+00:00</th>\n",
       "      <td>249.309998</td>\n",
       "      <td>-0.008668</td>\n",
       "    </tr>\n",
       "    <tr>\n",
       "      <th>2021-05-28 00:00:00+00:00</th>\n",
       "      <td>249.679993</td>\n",
       "      <td>0.001484</td>\n",
       "    </tr>\n",
       "  </tbody>\n",
       "</table>\n",
       "<p>1677 rows × 2 columns</p>\n",
       "</div>"
      ],
      "text/plain": [
       "                               Price   Returns\n",
       "Date                                          \n",
       "2014-10-01 00:00:00+00:00  45.900002       NaN\n",
       "2014-10-02 00:00:00+00:00  45.759998 -0.003050\n",
       "2014-10-03 00:00:00+00:00  46.090000  0.007212\n",
       "2014-10-06 00:00:00+00:00  46.090000  0.000000\n",
       "2014-10-07 00:00:00+00:00  45.529999 -0.012150\n",
       "...                              ...       ...\n",
       "2021-05-24 00:00:00+00:00 250.779999  0.022882\n",
       "2021-05-25 00:00:00+00:00 251.720001  0.003748\n",
       "2021-05-26 00:00:00+00:00 251.490005 -0.000914\n",
       "2021-05-27 00:00:00+00:00 249.309998 -0.008668\n",
       "2021-05-28 00:00:00+00:00 249.679993  0.001484\n",
       "\n",
       "[1677 rows x 2 columns]"
      ]
     },
     "execution_count": 6,
     "metadata": {},
     "output_type": "execute_result"
    }
   ],
   "source": [
    "msft"
   ]
  },
  {
   "cell_type": "code",
   "execution_count": 8,
   "id": "4cabb84c-d49f-4ef1-9774-b5162ae01a98",
   "metadata": {},
   "outputs": [
    {
     "data": {
      "text/html": [
       "<div>\n",
       "<style scoped>\n",
       "    .dataframe tbody tr th:only-of-type {\n",
       "        vertical-align: middle;\n",
       "    }\n",
       "\n",
       "    .dataframe tbody tr th {\n",
       "        vertical-align: top;\n",
       "    }\n",
       "\n",
       "    .dataframe thead th {\n",
       "        text-align: right;\n",
       "    }\n",
       "</style>\n",
       "<table border=\"1\" class=\"dataframe\">\n",
       "  <thead>\n",
       "    <tr style=\"text-align: right;\">\n",
       "      <th></th>\n",
       "      <th>Price</th>\n",
       "      <th>Returns</th>\n",
       "      <th>log_ret</th>\n",
       "    </tr>\n",
       "    <tr>\n",
       "      <th>Date</th>\n",
       "      <th></th>\n",
       "      <th></th>\n",
       "      <th></th>\n",
       "    </tr>\n",
       "  </thead>\n",
       "  <tbody>\n",
       "    <tr>\n",
       "      <th>2014-10-01 00:00:00+00:00</th>\n",
       "      <td>45.900002</td>\n",
       "      <td>NaN</td>\n",
       "      <td>NaN</td>\n",
       "    </tr>\n",
       "    <tr>\n",
       "      <th>2014-10-02 00:00:00+00:00</th>\n",
       "      <td>45.759998</td>\n",
       "      <td>-0.003050</td>\n",
       "      <td>-0.003055</td>\n",
       "    </tr>\n",
       "    <tr>\n",
       "      <th>2014-10-03 00:00:00+00:00</th>\n",
       "      <td>46.090000</td>\n",
       "      <td>0.007212</td>\n",
       "      <td>0.007186</td>\n",
       "    </tr>\n",
       "    <tr>\n",
       "      <th>2014-10-06 00:00:00+00:00</th>\n",
       "      <td>46.090000</td>\n",
       "      <td>0.000000</td>\n",
       "      <td>0.000000</td>\n",
       "    </tr>\n",
       "    <tr>\n",
       "      <th>2014-10-07 00:00:00+00:00</th>\n",
       "      <td>45.529999</td>\n",
       "      <td>-0.012150</td>\n",
       "      <td>-0.012225</td>\n",
       "    </tr>\n",
       "    <tr>\n",
       "      <th>...</th>\n",
       "      <td>...</td>\n",
       "      <td>...</td>\n",
       "      <td>...</td>\n",
       "    </tr>\n",
       "    <tr>\n",
       "      <th>2021-05-24 00:00:00+00:00</th>\n",
       "      <td>250.779999</td>\n",
       "      <td>0.022882</td>\n",
       "      <td>0.022624</td>\n",
       "    </tr>\n",
       "    <tr>\n",
       "      <th>2021-05-25 00:00:00+00:00</th>\n",
       "      <td>251.720001</td>\n",
       "      <td>0.003748</td>\n",
       "      <td>0.003741</td>\n",
       "    </tr>\n",
       "    <tr>\n",
       "      <th>2021-05-26 00:00:00+00:00</th>\n",
       "      <td>251.490005</td>\n",
       "      <td>-0.000914</td>\n",
       "      <td>-0.000914</td>\n",
       "    </tr>\n",
       "    <tr>\n",
       "      <th>2021-05-27 00:00:00+00:00</th>\n",
       "      <td>249.309998</td>\n",
       "      <td>-0.008668</td>\n",
       "      <td>-0.008706</td>\n",
       "    </tr>\n",
       "    <tr>\n",
       "      <th>2021-05-28 00:00:00+00:00</th>\n",
       "      <td>249.679993</td>\n",
       "      <td>0.001484</td>\n",
       "      <td>0.001483</td>\n",
       "    </tr>\n",
       "  </tbody>\n",
       "</table>\n",
       "<p>1677 rows × 3 columns</p>\n",
       "</div>"
      ],
      "text/plain": [
       "                               Price   Returns   log_ret\n",
       "Date                                                    \n",
       "2014-10-01 00:00:00+00:00  45.900002       NaN       NaN\n",
       "2014-10-02 00:00:00+00:00  45.759998 -0.003050 -0.003055\n",
       "2014-10-03 00:00:00+00:00  46.090000  0.007212  0.007186\n",
       "2014-10-06 00:00:00+00:00  46.090000  0.000000  0.000000\n",
       "2014-10-07 00:00:00+00:00  45.529999 -0.012150 -0.012225\n",
       "...                              ...       ...       ...\n",
       "2021-05-24 00:00:00+00:00 250.779999  0.022882  0.022624\n",
       "2021-05-25 00:00:00+00:00 251.720001  0.003748  0.003741\n",
       "2021-05-26 00:00:00+00:00 251.490005 -0.000914 -0.000914\n",
       "2021-05-27 00:00:00+00:00 249.309998 -0.008668 -0.008706\n",
       "2021-05-28 00:00:00+00:00 249.679993  0.001484  0.001483\n",
       "\n",
       "[1677 rows x 3 columns]"
      ]
     },
     "execution_count": 8,
     "metadata": {},
     "output_type": "execute_result"
    }
   ],
   "source": [
    "msft[\"log_ret\"] = np.log(msft.Price / msft.Price.shift())\n",
    "msft"
   ]
  },
  {
   "cell_type": "code",
   "execution_count": 10,
   "id": "811f6771-df99-4d60-a6e7-0390d312a589",
   "metadata": {},
   "outputs": [
    {
     "data": {
      "text/plain": [
       "mean   0.001011\n",
       "std    0.017249\n",
       "Name: log_ret, dtype: float64"
      ]
     },
     "execution_count": 10,
     "metadata": {},
     "output_type": "execute_result"
    }
   ],
   "source": [
    "msft.log_ret.agg([\"mean\", \"std\"])"
   ]
  },
  {
   "cell_type": "code",
   "execution_count": 12,
   "id": "13839aab-aa92-42cf-9c65-486f3c4e69fa",
   "metadata": {},
   "outputs": [
    {
     "data": {
      "text/plain": [
       "0.25466357960390723"
      ]
     },
     "execution_count": 12,
     "metadata": {},
     "output_type": "execute_result"
    }
   ],
   "source": [
    "ann_mu = msft.log_ret.mean() * 252\n",
    "ann_mu"
   ]
  },
  {
   "cell_type": "code",
   "execution_count": 14,
   "id": "97748d34-926f-4c8c-a360-5df68cc76fdc",
   "metadata": {},
   "outputs": [
    {
     "data": {
      "text/plain": [
       "0.29002755628143806"
      ]
     },
     "execution_count": 14,
     "metadata": {},
     "output_type": "execute_result"
    }
   ],
   "source": [
    "cagr = np.exp(ann_mu) - 1\n",
    "cagr"
   ]
  },
  {
   "cell_type": "code",
   "execution_count": 16,
   "id": "755fd4b0-8a1d-403d-8e08-7b7fca2a0f67",
   "metadata": {},
   "outputs": [
    {
     "data": {
      "text/plain": [
       "mean   0.001011\n",
       "std    0.017249\n",
       "Name: log_ret, dtype: float64"
      ]
     },
     "execution_count": 16,
     "metadata": {},
     "output_type": "execute_result"
    }
   ],
   "source": [
    "msft.log_ret.agg([\"mean\", \"std\"])"
   ]
  },
  {
   "cell_type": "code",
   "execution_count": 18,
   "id": "07037962-197b-4d14-8eab-23577f03dbb5",
   "metadata": {},
   "outputs": [
    {
     "data": {
      "text/plain": [
       "0.0010105697603329652"
      ]
     },
     "execution_count": 18,
     "metadata": {},
     "output_type": "execute_result"
    }
   ],
   "source": [
    "ann_mu = msft.log_ret.mean()\n",
    "ann_mu"
   ]
  },
  {
   "cell_type": "code",
   "execution_count": 20,
   "id": "fde27704-5229-47b3-935e-3193318c41f0",
   "metadata": {},
   "outputs": [
    {
     "data": {
      "text/plain": [
       "0.0010110805580043625"
      ]
     },
     "execution_count": 20,
     "metadata": {},
     "output_type": "execute_result"
    }
   ],
   "source": [
    "cagr = np.exp(ann_mu) - 1\n",
    "cagr"
   ]
  },
  {
   "cell_type": "code",
   "execution_count": 24,
   "id": "81e60ffe-8b39-482c-bc29-4cad5f171710",
   "metadata": {},
   "outputs": [
    {
     "data": {
      "text/plain": [
       "0.27381663717464577"
      ]
     },
     "execution_count": 24,
     "metadata": {},
     "output_type": "execute_result"
    }
   ],
   "source": [
    "ann_std = msft.log_ret.std() * np.sqrt(252)\n",
    "ann_std"
   ]
  },
  {
   "cell_type": "code",
   "execution_count": 27,
   "id": "da971483-cf8a-41d1-b984-3f8e05f2c9c4",
   "metadata": {},
   "outputs": [
    {
     "data": {
      "text/plain": [
       "0.27381663717464577"
      ]
     },
     "execution_count": 27,
     "metadata": {},
     "output_type": "execute_result"
    }
   ],
   "source": [
    "ann_std = np.sqrt(msft.log_ret.var() * 252)\n",
    "ann_std"
   ]
  },
  {
   "cell_type": "markdown",
   "id": "2d388047-8a78-433d-9831-8b4833001d03",
   "metadata": {},
   "source": [
    "Resampling / Smoothing"
   ]
  },
  {
   "cell_type": "code",
   "execution_count": 30,
   "id": "dd960e36-1bcb-40b8-9ce2-cd8cb1cb2708",
   "metadata": {},
   "outputs": [
    {
     "data": {
      "text/html": [
       "<div>\n",
       "<style scoped>\n",
       "    .dataframe tbody tr th:only-of-type {\n",
       "        vertical-align: middle;\n",
       "    }\n",
       "\n",
       "    .dataframe tbody tr th {\n",
       "        vertical-align: top;\n",
       "    }\n",
       "\n",
       "    .dataframe thead th {\n",
       "        text-align: right;\n",
       "    }\n",
       "</style>\n",
       "<table border=\"1\" class=\"dataframe\">\n",
       "  <thead>\n",
       "    <tr style=\"text-align: right;\">\n",
       "      <th></th>\n",
       "      <th>Price</th>\n",
       "      <th>Returns</th>\n",
       "      <th>log_ret</th>\n",
       "    </tr>\n",
       "    <tr>\n",
       "      <th>Date</th>\n",
       "      <th></th>\n",
       "      <th></th>\n",
       "      <th></th>\n",
       "    </tr>\n",
       "  </thead>\n",
       "  <tbody>\n",
       "    <tr>\n",
       "      <th>2014-10-01 00:00:00+00:00</th>\n",
       "      <td>45.900002</td>\n",
       "      <td>NaN</td>\n",
       "      <td>NaN</td>\n",
       "    </tr>\n",
       "    <tr>\n",
       "      <th>2014-10-02 00:00:00+00:00</th>\n",
       "      <td>45.759998</td>\n",
       "      <td>-0.003050</td>\n",
       "      <td>-0.003055</td>\n",
       "    </tr>\n",
       "    <tr>\n",
       "      <th>2014-10-03 00:00:00+00:00</th>\n",
       "      <td>46.090000</td>\n",
       "      <td>0.007212</td>\n",
       "      <td>0.007186</td>\n",
       "    </tr>\n",
       "    <tr>\n",
       "      <th>2014-10-06 00:00:00+00:00</th>\n",
       "      <td>46.090000</td>\n",
       "      <td>0.000000</td>\n",
       "      <td>0.000000</td>\n",
       "    </tr>\n",
       "    <tr>\n",
       "      <th>2014-10-07 00:00:00+00:00</th>\n",
       "      <td>45.529999</td>\n",
       "      <td>-0.012150</td>\n",
       "      <td>-0.012225</td>\n",
       "    </tr>\n",
       "    <tr>\n",
       "      <th>2014-10-08 00:00:00+00:00</th>\n",
       "      <td>46.779999</td>\n",
       "      <td>0.027454</td>\n",
       "      <td>0.027084</td>\n",
       "    </tr>\n",
       "    <tr>\n",
       "      <th>2014-10-09 00:00:00+00:00</th>\n",
       "      <td>45.849998</td>\n",
       "      <td>-0.019880</td>\n",
       "      <td>-0.020081</td>\n",
       "    </tr>\n",
       "    <tr>\n",
       "      <th>2014-10-10 00:00:00+00:00</th>\n",
       "      <td>44.029999</td>\n",
       "      <td>-0.039695</td>\n",
       "      <td>-0.040504</td>\n",
       "    </tr>\n",
       "    <tr>\n",
       "      <th>2014-10-13 00:00:00+00:00</th>\n",
       "      <td>43.650002</td>\n",
       "      <td>-0.008630</td>\n",
       "      <td>-0.008668</td>\n",
       "    </tr>\n",
       "    <tr>\n",
       "      <th>2014-10-14 00:00:00+00:00</th>\n",
       "      <td>43.730000</td>\n",
       "      <td>0.001833</td>\n",
       "      <td>0.001831</td>\n",
       "    </tr>\n",
       "    <tr>\n",
       "      <th>2014-10-15 00:00:00+00:00</th>\n",
       "      <td>43.220001</td>\n",
       "      <td>-0.011662</td>\n",
       "      <td>-0.011731</td>\n",
       "    </tr>\n",
       "    <tr>\n",
       "      <th>2014-10-16 00:00:00+00:00</th>\n",
       "      <td>42.740002</td>\n",
       "      <td>-0.011106</td>\n",
       "      <td>-0.011168</td>\n",
       "    </tr>\n",
       "    <tr>\n",
       "      <th>2014-10-17 00:00:00+00:00</th>\n",
       "      <td>43.630001</td>\n",
       "      <td>0.020824</td>\n",
       "      <td>0.020610</td>\n",
       "    </tr>\n",
       "    <tr>\n",
       "      <th>2014-10-20 00:00:00+00:00</th>\n",
       "      <td>44.080002</td>\n",
       "      <td>0.010314</td>\n",
       "      <td>0.010261</td>\n",
       "    </tr>\n",
       "    <tr>\n",
       "      <th>2014-10-21 00:00:00+00:00</th>\n",
       "      <td>44.880001</td>\n",
       "      <td>0.018149</td>\n",
       "      <td>0.017986</td>\n",
       "    </tr>\n",
       "    <tr>\n",
       "      <th>2014-10-22 00:00:00+00:00</th>\n",
       "      <td>44.380001</td>\n",
       "      <td>-0.011141</td>\n",
       "      <td>-0.011203</td>\n",
       "    </tr>\n",
       "    <tr>\n",
       "      <th>2014-10-23 00:00:00+00:00</th>\n",
       "      <td>45.020000</td>\n",
       "      <td>0.014421</td>\n",
       "      <td>0.014318</td>\n",
       "    </tr>\n",
       "    <tr>\n",
       "      <th>2014-10-24 00:00:00+00:00</th>\n",
       "      <td>46.130001</td>\n",
       "      <td>0.024656</td>\n",
       "      <td>0.024357</td>\n",
       "    </tr>\n",
       "    <tr>\n",
       "      <th>2014-10-27 00:00:00+00:00</th>\n",
       "      <td>45.910000</td>\n",
       "      <td>-0.004769</td>\n",
       "      <td>-0.004781</td>\n",
       "    </tr>\n",
       "    <tr>\n",
       "      <th>2014-10-28 00:00:00+00:00</th>\n",
       "      <td>46.490002</td>\n",
       "      <td>0.012633</td>\n",
       "      <td>0.012554</td>\n",
       "    </tr>\n",
       "    <tr>\n",
       "      <th>2014-10-29 00:00:00+00:00</th>\n",
       "      <td>46.619999</td>\n",
       "      <td>0.002796</td>\n",
       "      <td>0.002792</td>\n",
       "    </tr>\n",
       "    <tr>\n",
       "      <th>2014-10-30 00:00:00+00:00</th>\n",
       "      <td>46.049999</td>\n",
       "      <td>-0.012227</td>\n",
       "      <td>-0.012302</td>\n",
       "    </tr>\n",
       "    <tr>\n",
       "      <th>2014-10-31 00:00:00+00:00</th>\n",
       "      <td>46.950001</td>\n",
       "      <td>0.019544</td>\n",
       "      <td>0.019355</td>\n",
       "    </tr>\n",
       "    <tr>\n",
       "      <th>2014-11-03 00:00:00+00:00</th>\n",
       "      <td>47.439999</td>\n",
       "      <td>0.010437</td>\n",
       "      <td>0.010383</td>\n",
       "    </tr>\n",
       "    <tr>\n",
       "      <th>2014-11-04 00:00:00+00:00</th>\n",
       "      <td>47.570000</td>\n",
       "      <td>0.002740</td>\n",
       "      <td>0.002737</td>\n",
       "    </tr>\n",
       "  </tbody>\n",
       "</table>\n",
       "</div>"
      ],
      "text/plain": [
       "                              Price   Returns   log_ret\n",
       "Date                                                   \n",
       "2014-10-01 00:00:00+00:00 45.900002       NaN       NaN\n",
       "2014-10-02 00:00:00+00:00 45.759998 -0.003050 -0.003055\n",
       "2014-10-03 00:00:00+00:00 46.090000  0.007212  0.007186\n",
       "2014-10-06 00:00:00+00:00 46.090000  0.000000  0.000000\n",
       "2014-10-07 00:00:00+00:00 45.529999 -0.012150 -0.012225\n",
       "2014-10-08 00:00:00+00:00 46.779999  0.027454  0.027084\n",
       "2014-10-09 00:00:00+00:00 45.849998 -0.019880 -0.020081\n",
       "2014-10-10 00:00:00+00:00 44.029999 -0.039695 -0.040504\n",
       "2014-10-13 00:00:00+00:00 43.650002 -0.008630 -0.008668\n",
       "2014-10-14 00:00:00+00:00 43.730000  0.001833  0.001831\n",
       "2014-10-15 00:00:00+00:00 43.220001 -0.011662 -0.011731\n",
       "2014-10-16 00:00:00+00:00 42.740002 -0.011106 -0.011168\n",
       "2014-10-17 00:00:00+00:00 43.630001  0.020824  0.020610\n",
       "2014-10-20 00:00:00+00:00 44.080002  0.010314  0.010261\n",
       "2014-10-21 00:00:00+00:00 44.880001  0.018149  0.017986\n",
       "2014-10-22 00:00:00+00:00 44.380001 -0.011141 -0.011203\n",
       "2014-10-23 00:00:00+00:00 45.020000  0.014421  0.014318\n",
       "2014-10-24 00:00:00+00:00 46.130001  0.024656  0.024357\n",
       "2014-10-27 00:00:00+00:00 45.910000 -0.004769 -0.004781\n",
       "2014-10-28 00:00:00+00:00 46.490002  0.012633  0.012554\n",
       "2014-10-29 00:00:00+00:00 46.619999  0.002796  0.002792\n",
       "2014-10-30 00:00:00+00:00 46.049999 -0.012227 -0.012302\n",
       "2014-10-31 00:00:00+00:00 46.950001  0.019544  0.019355\n",
       "2014-11-03 00:00:00+00:00 47.439999  0.010437  0.010383\n",
       "2014-11-04 00:00:00+00:00 47.570000  0.002740  0.002737"
      ]
     },
     "execution_count": 30,
     "metadata": {},
     "output_type": "execute_result"
    }
   ],
   "source": [
    "msft.head(25)"
   ]
  },
  {
   "cell_type": "code",
   "execution_count": 32,
   "id": "10ab727c-1bf7-48d5-a005-16dd28f71f83",
   "metadata": {},
   "outputs": [
    {
     "data": {
      "image/png": "[encoded data removed]",
      "text/plain": [
       "<Figure size 1200x800 with 1 Axes>"
      ]
     },
     "metadata": {},
     "output_type": "display_data"
    }
   ],
   "source": [
    "msft.Price.plot(figsize = (12, 8))\n",
    "plt.legend()\n",
    "plt.show()"
   ]
  },
  {
   "cell_type": "code",
   "execution_count": 34,
   "id": "7e0b2a7a-3525-410e-a559-06c50e0dd3ad",
   "metadata": {},
   "outputs": [
    {
     "name": "stderr",
     "output_type": "stream",
     "text": [
      "C:\\Users\\audri\\AppData\\Local\\Temp\\ipykernel_15852\\2852034256.py:1: FutureWarning: 'M' is deprecated and will be removed in a future version, please use 'ME' instead.\n",
      "  monthly = msft.Price.resample(\"M\").last()\n"
     ]
    },
    {
     "data": {
      "text/plain": [
       "Date\n",
       "2014-10-31 00:00:00+00:00    46.950001\n",
       "2014-11-30 00:00:00+00:00    47.810001\n",
       "2014-12-31 00:00:00+00:00    46.450001\n",
       "2015-01-31 00:00:00+00:00    40.400002\n",
       "2015-02-28 00:00:00+00:00    43.849998\n",
       "                               ...    \n",
       "2021-01-31 00:00:00+00:00   231.960007\n",
       "2021-02-28 00:00:00+00:00   232.380005\n",
       "2021-03-31 00:00:00+00:00   235.770004\n",
       "2021-04-30 00:00:00+00:00   252.179993\n",
       "2021-05-31 00:00:00+00:00   249.679993\n",
       "Freq: ME, Name: Price, Length: 80, dtype: float64"
      ]
     },
     "execution_count": 34,
     "metadata": {},
     "output_type": "execute_result"
    }
   ],
   "source": [
    "monthly = msft.Price.resample(\"M\").last()\n",
    "monthly"
   ]
  },
  {
   "cell_type": "code",
   "execution_count": 36,
   "id": "3e55353f-90c7-4870-997f-6424acff6fc0",
   "metadata": {},
   "outputs": [
    {
     "data": {
      "text/plain": [
       "<function matplotlib.pyplot.show(close=None, block=None)>"
      ]
     },
     "execution_count": 36,
     "metadata": {},
     "output_type": "execute_result"
    },
    {
     "data": {
      "image/png": "[encoded data removed]",
      "text/plain": [
       "<Figure size 1200x800 with 1 Axes>"
      ]
     },
     "metadata": {},
     "output_type": "display_data"
    }
   ],
   "source": [
    "monthly.plot(figsize = (12, 8))\n",
    "plt.legend()\n",
    "plt.show"
   ]
  },
  {
   "cell_type": "markdown",
   "id": "98c0dc48-49dd-45dd-bb7a-64926183e94f",
   "metadata": {},
   "source": [
    "How will the Mean-Varience Analysis change with smoothed data?"
   ]
  },
  {
   "cell_type": "code",
   "execution_count": 67,
   "id": "2be83f78-0772-4326-8430-5b23eb7bcd74",
   "metadata": {},
   "outputs": [],
   "source": [
    "freqs = [\"YE\", \"QE\", \"ME\", \"W-Fri\", \"D\"]\n",
    "periods = [1, 2, 12, 52, 252]\n",
    "ann_mean = []\n",
    "ann_std = []"
   ]
  },
  {
   "cell_type": "code",
   "execution_count": 69,
   "id": "416a03b3-acc2-48aa-be18-c39a4d7da696",
   "metadata": {},
   "outputs": [],
   "source": [
    "for i in range(5):\n",
    "    resamp = msft.Price.resample(freq[i]).last()\n",
    "    ann_mean.append(np.log(resamp / resamp.shift()).mean() * periods[i])\n",
    "    ann_std.append(np.log(resamp / resamp.shift()).std() * np.sqrt(periods[i]))"
   ]
  },
  {
   "cell_type": "code",
   "execution_count": 71,
   "id": "c88c70e6-962f-407c-94d9-09be3b6cd0a1",
   "metadata": {},
   "outputs": [
    {
     "data": {
      "text/plain": [
       "[0.24025765527761314,\n",
       " 0.1293695066879455,\n",
       " 0.253837495704879,\n",
       " 0.253194152871532,\n",
       " 0.25289038013157555]"
      ]
     },
     "execution_count": 71,
     "metadata": {},
     "output_type": "execute_result"
    }
   ],
   "source": [
    "ann_mean"
   ]
  },
  {
   "cell_type": "code",
   "execution_count": 73,
   "id": "54e829a5-33a6-4629-b5cb-250573c13f15",
   "metadata": {},
   "outputs": [
    {
     "data": {
      "text/plain": [
       "[0.12724981752067244,\n",
       " 0.12679409432574146,\n",
       " 0.20496983822390324,\n",
       " 0.2308593150008498,\n",
       " 0.26737210972009995]"
      ]
     },
     "execution_count": 73,
     "metadata": {},
     "output_type": "execute_result"
    }
   ],
   "source": [
    "ann_std"
   ]
  },
  {
   "cell_type": "code",
   "execution_count": 77,
   "id": "692a10b5-0adf-4a94-bd1b-76ed35c5e8b1",
   "metadata": {},
   "outputs": [
    {
     "data": {
      "text/html": [
       "<div>\n",
       "<style scoped>\n",
       "    .dataframe tbody tr th:only-of-type {\n",
       "        vertical-align: middle;\n",
       "    }\n",
       "\n",
       "    .dataframe tbody tr th {\n",
       "        vertical-align: top;\n",
       "    }\n",
       "\n",
       "    .dataframe thead th {\n",
       "        text-align: right;\n",
       "    }\n",
       "</style>\n",
       "<table border=\"1\" class=\"dataframe\">\n",
       "  <thead>\n",
       "    <tr style=\"text-align: right;\">\n",
       "      <th></th>\n",
       "      <th>ann_std</th>\n",
       "      <th>ann_mean</th>\n",
       "    </tr>\n",
       "  </thead>\n",
       "  <tbody>\n",
       "    <tr>\n",
       "      <th>YE</th>\n",
       "      <td>0.127250</td>\n",
       "      <td>0.240258</td>\n",
       "    </tr>\n",
       "    <tr>\n",
       "      <th>QE</th>\n",
       "      <td>0.126794</td>\n",
       "      <td>0.129370</td>\n",
       "    </tr>\n",
       "    <tr>\n",
       "      <th>ME</th>\n",
       "      <td>0.204970</td>\n",
       "      <td>0.253837</td>\n",
       "    </tr>\n",
       "    <tr>\n",
       "      <th>W-Fri</th>\n",
       "      <td>0.230859</td>\n",
       "      <td>0.253194</td>\n",
       "    </tr>\n",
       "    <tr>\n",
       "      <th>D</th>\n",
       "      <td>0.267372</td>\n",
       "      <td>0.252890</td>\n",
       "    </tr>\n",
       "  </tbody>\n",
       "</table>\n",
       "</div>"
      ],
      "text/plain": [
       "       ann_std  ann_mean\n",
       "YE    0.127250  0.240258\n",
       "QE    0.126794  0.129370\n",
       "ME    0.204970  0.253837\n",
       "W-Fri 0.230859  0.253194\n",
       "D     0.267372  0.252890"
      ]
     },
     "execution_count": 77,
     "metadata": {},
     "output_type": "execute_result"
    }
   ],
   "source": [
    "summary = pd.DataFrame(data = {\"ann_std\":ann_std, \"ann_mean\":ann_mean}, index = freqs)\n",
    "summary"
   ]
  },
  {
   "cell_type": "code",
   "execution_count": 81,
   "id": "d34fd2d8-7fba-4a50-add2-77a5dabbc629",
   "metadata": {},
   "outputs": [
    {
     "data": {
      "image/png": "[encoded data removed]",
      "text/plain": [
       "<Figure size 1500x1200 with 1 Axes>"
      ]
     },
     "metadata": {},
     "output_type": "display_data"
    }
   ],
   "source": [
    "summary.plot(kind = \"scatter\", x = \"ann_std\", y = \"ann_mean\", figsize = (15, 12), s = 50, fontsize = 15)\n",
    "for i in summary.index:\n",
    "    plt.annotate(i, xy=(summary.loc[i, \"ann_std\"] + 0.001, summary.loc[i, \"ann_mean\"] + 0.001), size = 15)\n",
    "plt.ylim(0, 0.3)\n",
    "plt.xlabel(\"ann_Risk(std)\", fontsize = 15)\n",
    "plt.ylabel(\"ann.Return\", fontsize = 15)\n",
    "plt.title(\"Risk/Return\", fontsize = 20)\n",
    "plt.show()"
   ]
  },
  {
   "cell_type": "code",
   "execution_count": null,
   "id": "f40f287e-7c69-440f-86d1-1452cf3dc479",
   "metadata": {},
   "outputs": [],
   "source": []
  }
 ],
 "metadata": {
  "kernelspec": {
   "display_name": "Python 3 (ipykernel)",
   "language": "python",
   "name": "python3"
  },
  "language_info": {
   "codemirror_mode": {
    "name": "ipython",
    "version": 3
   },
   "file_extension": ".py",
   "mimetype": "text/x-python",
   "name": "python",
   "nbconvert_exporter": "python",
   "pygments_lexer": "ipython3",
   "version": "3.12.4"
  }
 },
 "nbformat": 4,
 "nbformat_minor": 5
}
