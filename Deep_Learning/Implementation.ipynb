{
 "cells": [
  {
   "cell_type": "markdown",
   "id": "49dff766",
   "metadata": {},
   "source": [
    "# Implementation"
   ]
  },
  {
   "cell_type": "code",
   "execution_count": 16,
   "id": "256ad724",
   "metadata": {},
   "outputs": [],
   "source": [
    "import pandas as pd\n",
    "import numpy as np\n",
    "import tpqoa\n",
    "import fxcmpy\n",
    "from datetime import datetime, timedelta\n",
    "import time"
   ]
  },
  {
   "cell_type": "markdown",
   "id": "b2417bb9-e63b-45fb-bbc8-8338d10fb4e2",
   "metadata": {},
   "source": [
    "## Loading Parameters"
   ]
  },
  {
   "cell_type": "code",
   "execution_count": 17,
   "id": "3569259c-7d13-44c9-ab1f-75f1b77c4860",
   "metadata": {},
   "outputs": [],
   "source": [
    "import keras\n",
    "model = keras.models.load_model(\"DNN_model\")"
   ]
  },
  {
   "cell_type": "code",
   "execution_count": 18,
   "id": "25846987-50a5-4e6a-9c57-2bc3d55bbf57",
   "metadata": {},
   "outputs": [
    {
     "data": {
      "text/plain": [
       "<keras.engine.sequential.Sequential at 0x20bda6861a0>"
      ]
     },
     "execution_count": 18,
     "metadata": {},
     "output_type": "execute_result"
    }
   ],
   "source": [
    "model"
   ]
  },
  {
   "cell_type": "code",
   "execution_count": 19,
   "id": "adce39d5",
   "metadata": {},
   "outputs": [],
   "source": [
    "import pickle\n",
    "params = pickle.load(open(\"params.pkl\", \"rb\"))\n",
    "mu = params[\"mu\"]\n",
    "std = params[\"std\"]"
   ]
  },
  {
   "cell_type": "code",
   "execution_count": 20,
   "id": "712a5f78",
   "metadata": {},
   "outputs": [
    {
     "data": {
      "text/plain": [
       "EUR_USD       1.156186\n",
       "returns       0.000002\n",
       "dir           0.493137\n",
       "sma           0.000137\n",
       "boll          0.014627\n",
       "min          -0.002536\n",
       "max           0.002411\n",
       "mom           0.000002\n",
       "vol           0.000512\n",
       "dir_lag_1     0.493137\n",
       "dir_lag_2     0.493137\n",
       "dir_lag_3     0.493109\n",
       "dir_lag_4     0.493082\n",
       "dir_lag_5     0.493082\n",
       "sma_lag_1     0.000137\n",
       "sma_lag_2     0.000138\n",
       "sma_lag_3     0.000138\n",
       "sma_lag_4     0.000138\n",
       "sma_lag_5     0.000138\n",
       "boll_lag_1    0.014692\n",
       "boll_lag_2    0.014758\n",
       "boll_lag_3    0.014822\n",
       "boll_lag_4    0.014901\n",
       "boll_lag_5    0.015003\n",
       "min_lag_1    -0.002536\n",
       "min_lag_2    -0.002537\n",
       "min_lag_3    -0.002537\n",
       "min_lag_4    -0.002537\n",
       "min_lag_5    -0.002537\n",
       "max_lag_1     0.002411\n",
       "max_lag_2     0.002410\n",
       "max_lag_3     0.002410\n",
       "max_lag_4     0.002410\n",
       "max_lag_5     0.002410\n",
       "mom_lag_1     0.000002\n",
       "mom_lag_2     0.000002\n",
       "mom_lag_3     0.000002\n",
       "mom_lag_4     0.000002\n",
       "mom_lag_5     0.000002\n",
       "vol_lag_1     0.000512\n",
       "vol_lag_2     0.000512\n",
       "vol_lag_3     0.000512\n",
       "vol_lag_4     0.000512\n",
       "vol_lag_5     0.000512\n",
       "dtype: float64"
      ]
     },
     "execution_count": 20,
     "metadata": {},
     "output_type": "execute_result"
    }
   ],
   "source": [
    "mu"
   ]
  },
  {
   "cell_type": "code",
   "execution_count": 21,
   "id": "ba37dc21",
   "metadata": {},
   "outputs": [
    {
     "data": {
      "text/plain": [
       "EUR_USD       0.051209\n",
       "returns       0.000542\n",
       "dir           0.499960\n",
       "sma           0.002872\n",
       "boll          1.441474\n",
       "min           0.002368\n",
       "max           0.002249\n",
       "mom           0.000308\n",
       "vol           0.000178\n",
       "dir_lag_1     0.499960\n",
       "dir_lag_2     0.499960\n",
       "dir_lag_3     0.499959\n",
       "dir_lag_4     0.499959\n",
       "dir_lag_5     0.499959\n",
       "sma_lag_1     0.002872\n",
       "sma_lag_2     0.002872\n",
       "sma_lag_3     0.002872\n",
       "sma_lag_4     0.002872\n",
       "sma_lag_5     0.002872\n",
       "boll_lag_1    1.441498\n",
       "boll_lag_2    1.441521\n",
       "boll_lag_3    1.441539\n",
       "boll_lag_4    1.441568\n",
       "boll_lag_5    1.441631\n",
       "min_lag_1     0.002369\n",
       "min_lag_2     0.002369\n",
       "min_lag_3     0.002369\n",
       "min_lag_4     0.002369\n",
       "min_lag_5     0.002370\n",
       "max_lag_1     0.002249\n",
       "max_lag_2     0.002249\n",
       "max_lag_3     0.002249\n",
       "max_lag_4     0.002248\n",
       "max_lag_5     0.002248\n",
       "mom_lag_1     0.000308\n",
       "mom_lag_2     0.000308\n",
       "mom_lag_3     0.000308\n",
       "mom_lag_4     0.000308\n",
       "mom_lag_5     0.000308\n",
       "vol_lag_1     0.000178\n",
       "vol_lag_2     0.000178\n",
       "vol_lag_3     0.000178\n",
       "vol_lag_4     0.000178\n",
       "vol_lag_5     0.000178\n",
       "dtype: float64"
      ]
     },
     "execution_count": 21,
     "metadata": {},
     "output_type": "execute_result"
    }
   ],
   "source": [
    "std"
   ]
  },
  {
   "cell_type": "markdown",
   "id": "a7d495df",
   "metadata": {},
   "source": [
    "## Implemitation to OANDA"
   ]
  },
  {
   "cell_type": "code",
   "execution_count": 22,
   "id": "64128389",
   "metadata": {},
   "outputs": [],
   "source": [
    "class DNNTrader(tpqoa.tpqoa):\n",
    "    def __init__(self, conf_file, instrument, bar_length, window, lags, model, mu, std, units):\n",
    "        super().__init__(conf_file)\n",
    "        self.instrument = instrument\n",
    "        self.bar_length = pd.to_timedelta(bar_length)\n",
    "        self.tick_data = pd.DataFrame()\n",
    "        self.raw_data = None\n",
    "        self.data = None\n",
    "        self.last_bar = None\n",
    "        self.units = units\n",
    "        self.position = 0\n",
    "        self.profits = []\n",
    "        \n",
    "        # Strategy specs ********************************\n",
    "        self.window = window\n",
    "        self.lags = lags\n",
    "        self.model = model\n",
    "        self.mu = mu\n",
    "        self.std = std\n",
    "        \n",
    "    def get_most_recent(self, day=5):\n",
    "        while True:\n",
    "            time.sleep(2)\n",
    "            now = datetime.utcnow()\n",
    "            now = now - timedelta(microseconds=now.microsecond)\n",
    "            past = now - timedelta(days=day)\n",
    "            df = self.get_history(\n",
    "                instrument=self.instrument, start=past, end=now,\n",
    "                granularity=\"M5\", price=\"M\", localize=False\n",
    "            ).dropna().to_frame()\n",
    "            df.rename(columns={\"c\": self.instrument}, inplace=True)\n",
    "            df = df.resample(self.bar_length, label=\"right\").last().dropna().iloc[:-1]\n",
    "            self.raw_data = df.copy()\n",
    "            self.last_bar = self.raw_data.index[-1]\n",
    "            if pd.to_datetime(datetime.utcnow()).tz_localize(\"UTC\") - self.last_bar < self.bar_length:\n",
    "                self.start_time = pd.to_datetime(datetime.utcnow()).tz_localize(\"UTC\")\n",
    "                break\n",
    "                \n",
    "    def on_success(self, time, bid, ask):\n",
    "        print(self.ticks, end=\" \")\n",
    "        \n",
    "        recent_tick = pd.to_datetime(time)\n",
    "        df = pd.DataFrame({self.instrument: (ask + bid) / 2}, index=[recent_tick])\n",
    "        self.tick_data = self.tick_data.append(df)\n",
    "        \n",
    "        if recent_tick - self.last_bar > self.bar_length:\n",
    "            self.resample_and_join()\n",
    "            self.define_strategy()\n",
    "            self.execute_trades()\n",
    "            \n",
    "    def resample_and_join(self):\n",
    "        self.raw_data = self.raw_data.append(\n",
    "            self.tick_data.resample(self.bar_length, label=\"right\").last().ffill().iloc[:-1]\n",
    "        )\n",
    "        self.tick_data = self.tick_data.iloc[-1:]\n",
    "        self.last_bar = self.raw_data.index[-1]\n",
    "        \n",
    "    def define_strategy(self):\n",
    "        df = self.raw_data.copy()\n",
    "        \n",
    "        df = df.append(self.tick_data)  # Append latest tick\n",
    "        df['returns'] = np.log(df[self.instrument] / df[self.instrument].shift())\n",
    "        df[\"dir\"] = np.where(df[\"returns\"] > 0, 1, 0)\n",
    "        df[\"sma\"] = df[self.instrument].rolling(self.window).mean() - df[self.instrument].rolling(150).mean()\n",
    "        df[\"boll\"] = (df[self.instrument] - df[self.instrument].rolling(self.window).mean()) / df[self.instrument].rolling(self.window).std()\n",
    "        df[\"min\"] = df[self.instrument].rolling(self.window).min() / df[self.instrument] - 1\n",
    "        df[\"max\"] = df[self.instrument].rolling(self.window).max() / df[self.instrument] - 1\n",
    "        df[\"mom\"] = df[\"returns\"].rolling(3).mean()\n",
    "        df[\"vol\"] = df[\"returns\"].rolling(self.window).std()\n",
    "        df.dropna(inplace=True)\n",
    "        \n",
    "        self.cols = []\n",
    "        features = [\"dir\", \"sma\", \"boll\", \"min\", \"max\", \"mom\", \"vol\"]\n",
    "        \n",
    "        for f in features:\n",
    "            for lag in range(1, self.lags + 1):\n",
    "                col = f\"{f}_lag_{lag}\"\n",
    "                df[col] = df[f].shift(lag)\n",
    "                self.cols.append(col)\n",
    "        df.dropna(inplace=True)\n",
    "        \n",
    "        df_s = (df - self.mu) / self.std    \n",
    "        df[\"proba\"] = self.model.predict(df_s[self.cols])\n",
    "        \n",
    "        df = df.loc[self.start_time].copy()\n",
    "        df[\"position\"] = np.where(df[\"proba\"] < 0.47, -1, np.nan)\n",
    "        df[\"position\"] = np.where(df[\"proba\"] > 0.53, 1, df[\"position\"])\n",
    "        df[\"position\"] = df[\"position\"].ffill().fillna(0)\n",
    "        \n",
    "        self.data = df.copy()\n",
    "        \n",
    "    def execute_trades(self):\n",
    "        if self.data[\"position\"].iloc[-1] == 1:\n",
    "            if self.position == 0:\n",
    "                order = self.create_order(self.instrument, self.units, suppress=True, ret=True)\n",
    "                self.report_trade(order, \"GOING LONG\")\n",
    "            elif self.position == -1:\n",
    "                order = self.create_order(self.instrument, self.units * 2, suppress=True, ret=True)\n",
    "                self.report_trade(order, \"GOING LONG\")\n",
    "            self.position = 1\n",
    "        elif self.data[\"position\"].iloc[-1] == -1:\n",
    "            if self.position == 0:\n",
    "                order = self.create_order(self.instrument, -self.units, suppress=True, ret=True)\n",
    "                self.report_trade(order, \"GOING SHORT\")\n",
    "            elif self.position == 1:\n",
    "                order = self.create_order(self.instrument, -self.units * 2, suppress=True, ret=True)\n",
    "                self.report_trade(order, \"GOING SHORT\")\n",
    "            self.position = -1\n",
    "        elif self.data[\"position\"].iloc[-1] == 0:\n",
    "            if self.position == -1:\n",
    "                order = self.create_order(self.instrument, self.units, suppress=True, ret=True)\n",
    "                self.report_trade(order, \"GOING NEUTRAL\")\n",
    "            elif self.position == 1:\n",
    "                order = self.create_order(self.instrument, -self.units, suppress=True, ret=True)\n",
    "                self.report_trade(order, \"GOING NEUTRAL\")  \n",
    "            self.position = 0\n",
    "            \n",
    "    def report_trade(self, order, going):\n",
    "        time = order[\"time\"]\n",
    "        units = order[\"units\"]\n",
    "        price = order[\"price\"]\n",
    "        pl = float(order[\"pl\"])\n",
    "        self.profits.append(pl)\n",
    "        cumpl = sum(self.profits)\n",
    "        print(\"\\n\" + 100 * \"-\")\n",
    "        print(f\"{time} | {going}\")\n",
    "        print(f\"{time} | units = {units} | price = {price} | P&L = {pl} | Cum P&L = {cumpl}\")\n",
    "        print(100 * \"-\" + \"\\n\")"
   ]
  },
  {
   "cell_type": "code",
   "execution_count": 23,
   "id": "ef0cb75e",
   "metadata": {},
   "outputs": [],
   "source": [
    "trader = DNNTrader(\"oanda.cfg\", \"EURUSD\", bar_length = \"20min\",\n",
    "                  window = 50, lags = 5, model = model, mu = mu, std = std, units = 50000)"
   ]
  },
  {
   "cell_type": "code",
   "execution_count": 24,
   "id": "f0b1a405",
   "metadata": {},
   "outputs": [
    {
     "ename": "ResponseNoField",
     "evalue": "401 response for GET https://api-fxpractice.oanda.com:443/v3/instruments/EURUSD/candles?price=M&granularity=M5&from=2025-03-10T23%3A07%3A43.000000000Z&to=2025-03-15T23%3A07%3A43.000000000Z does not have field 'candles' (contains 'errorMessage')",
     "output_type": "error",
     "traceback": [
      "\u001b[1;31m---------------------------------------------------------------------------\u001b[0m",
      "\u001b[1;31mResponseNoField\u001b[0m                           Traceback (most recent call last)",
      "Cell \u001b[1;32mIn[24], line 1\u001b[0m\n\u001b[1;32m----> 1\u001b[0m \u001b[43mtrader\u001b[49m\u001b[38;5;241;43m.\u001b[39;49m\u001b[43mget_most_recent\u001b[49m\u001b[43m(\u001b[49m\u001b[43m)\u001b[49m\n\u001b[0;32m      2\u001b[0m trader\u001b[38;5;241m.\u001b[39mstream_data(trader\u001b[38;5;241m.\u001b[39minstrument, stop \u001b[38;5;241m=\u001b[39m \u001b[38;5;241m100\u001b[39m)\n\u001b[0;32m      3\u001b[0m \u001b[38;5;28;01mif\u001b[39;00m trader\u001b[38;5;241m.\u001b[39mposition \u001b[38;5;241m!=\u001b[39m \u001b[38;5;241m0\u001b[39m:\n",
      "Cell \u001b[1;32mIn[22], line 27\u001b[0m, in \u001b[0;36mDNNTrader.get_most_recent\u001b[1;34m(self, day)\u001b[0m\n\u001b[0;32m     25\u001b[0m now \u001b[38;5;241m=\u001b[39m now \u001b[38;5;241m-\u001b[39m timedelta(microseconds\u001b[38;5;241m=\u001b[39mnow\u001b[38;5;241m.\u001b[39mmicrosecond)\n\u001b[0;32m     26\u001b[0m past \u001b[38;5;241m=\u001b[39m now \u001b[38;5;241m-\u001b[39m timedelta(days\u001b[38;5;241m=\u001b[39mday)\n\u001b[1;32m---> 27\u001b[0m df \u001b[38;5;241m=\u001b[39m \u001b[38;5;28;43mself\u001b[39;49m\u001b[38;5;241;43m.\u001b[39;49m\u001b[43mget_history\u001b[49m\u001b[43m(\u001b[49m\n\u001b[0;32m     28\u001b[0m \u001b[43m    \u001b[49m\u001b[43minstrument\u001b[49m\u001b[38;5;241;43m=\u001b[39;49m\u001b[38;5;28;43mself\u001b[39;49m\u001b[38;5;241;43m.\u001b[39;49m\u001b[43minstrument\u001b[49m\u001b[43m,\u001b[49m\u001b[43m \u001b[49m\u001b[43mstart\u001b[49m\u001b[38;5;241;43m=\u001b[39;49m\u001b[43mpast\u001b[49m\u001b[43m,\u001b[49m\u001b[43m \u001b[49m\u001b[43mend\u001b[49m\u001b[38;5;241;43m=\u001b[39;49m\u001b[43mnow\u001b[49m\u001b[43m,\u001b[49m\n\u001b[0;32m     29\u001b[0m \u001b[43m    \u001b[49m\u001b[43mgranularity\u001b[49m\u001b[38;5;241;43m=\u001b[39;49m\u001b[38;5;124;43m\"\u001b[39;49m\u001b[38;5;124;43mM5\u001b[39;49m\u001b[38;5;124;43m\"\u001b[39;49m\u001b[43m,\u001b[49m\u001b[43m \u001b[49m\u001b[43mprice\u001b[49m\u001b[38;5;241;43m=\u001b[39;49m\u001b[38;5;124;43m\"\u001b[39;49m\u001b[38;5;124;43mM\u001b[39;49m\u001b[38;5;124;43m\"\u001b[39;49m\u001b[43m,\u001b[49m\u001b[43m \u001b[49m\u001b[43mlocalize\u001b[49m\u001b[38;5;241;43m=\u001b[39;49m\u001b[38;5;28;43;01mFalse\u001b[39;49;00m\n\u001b[0;32m     30\u001b[0m \u001b[43m\u001b[49m\u001b[43m)\u001b[49m\u001b[38;5;241m.\u001b[39mdropna()\u001b[38;5;241m.\u001b[39mto_frame()\n\u001b[0;32m     31\u001b[0m df\u001b[38;5;241m.\u001b[39mrename(columns\u001b[38;5;241m=\u001b[39m{\u001b[38;5;124m\"\u001b[39m\u001b[38;5;124mc\u001b[39m\u001b[38;5;124m\"\u001b[39m: \u001b[38;5;28mself\u001b[39m\u001b[38;5;241m.\u001b[39minstrument}, inplace\u001b[38;5;241m=\u001b[39m\u001b[38;5;28;01mTrue\u001b[39;00m)\n\u001b[0;32m     32\u001b[0m df \u001b[38;5;241m=\u001b[39m df\u001b[38;5;241m.\u001b[39mresample(\u001b[38;5;28mself\u001b[39m\u001b[38;5;241m.\u001b[39mbar_length, label\u001b[38;5;241m=\u001b[39m\u001b[38;5;124m\"\u001b[39m\u001b[38;5;124mright\u001b[39m\u001b[38;5;124m\"\u001b[39m)\u001b[38;5;241m.\u001b[39mlast()\u001b[38;5;241m.\u001b[39mdropna()\u001b[38;5;241m.\u001b[39miloc[:\u001b[38;5;241m-\u001b[39m\u001b[38;5;241m1\u001b[39m]\n",
      "File \u001b[1;32m~\\anaconda3\\envs\\DeepLearn\\lib\\site-packages\\tpqoa\\tpqoa.py:232\u001b[0m, in \u001b[0;36mtpqoa.get_history\u001b[1;34m(self, instrument, start, end, granularity, price, localize)\u001b[0m\n\u001b[0;32m    229\u001b[0m         \u001b[38;5;28;01melse\u001b[39;00m:\n\u001b[0;32m    230\u001b[0m             batch_end \u001b[38;5;241m=\u001b[39m \u001b[38;5;28mself\u001b[39m\u001b[38;5;241m.\u001b[39mtransform_datetime(end)\n\u001b[1;32m--> 232\u001b[0m         batch \u001b[38;5;241m=\u001b[39m \u001b[38;5;28;43mself\u001b[39;49m\u001b[38;5;241;43m.\u001b[39;49m\u001b[43mretrieve_data\u001b[49m\u001b[43m(\u001b[49m\u001b[43minstrument\u001b[49m\u001b[43m,\u001b[49m\u001b[43m \u001b[49m\u001b[43mbatch_start\u001b[49m\u001b[43m,\u001b[49m\u001b[43m \u001b[49m\u001b[43mbatch_end\u001b[49m\u001b[43m,\u001b[49m\n\u001b[0;32m    233\u001b[0m \u001b[43m                                   \u001b[49m\u001b[43mgranularity\u001b[49m\u001b[43m,\u001b[49m\u001b[43m \u001b[49m\u001b[43mprice\u001b[49m\u001b[43m)\u001b[49m\n\u001b[0;32m    234\u001b[0m         data \u001b[38;5;241m=\u001b[39m pd\u001b[38;5;241m.\u001b[39mconcat([data, batch])\n\u001b[0;32m    235\u001b[0m \u001b[38;5;28;01melse\u001b[39;00m:\n",
      "File \u001b[1;32m~\\anaconda3\\envs\\DeepLearn\\lib\\site-packages\\tpqoa\\tpqoa.py:167\u001b[0m, in \u001b[0;36mtpqoa.retrieve_data\u001b[1;34m(self, instrument, start, end, granularity, price)\u001b[0m\n\u001b[0;32m    162\u001b[0m \u001b[38;5;28;01mdef\u001b[39;00m \u001b[38;5;21mretrieve_data\u001b[39m(\u001b[38;5;28mself\u001b[39m, instrument, start, end, granularity, price):\n\u001b[0;32m    163\u001b[0m     raw \u001b[38;5;241m=\u001b[39m \u001b[38;5;28mself\u001b[39m\u001b[38;5;241m.\u001b[39mctx\u001b[38;5;241m.\u001b[39minstrument\u001b[38;5;241m.\u001b[39mcandles(\n\u001b[0;32m    164\u001b[0m         instrument\u001b[38;5;241m=\u001b[39minstrument,\n\u001b[0;32m    165\u001b[0m         fromTime\u001b[38;5;241m=\u001b[39mstart, toTime\u001b[38;5;241m=\u001b[39mend,\n\u001b[0;32m    166\u001b[0m         granularity\u001b[38;5;241m=\u001b[39mgranularity, price\u001b[38;5;241m=\u001b[39mprice)\n\u001b[1;32m--> 167\u001b[0m     raw \u001b[38;5;241m=\u001b[39m \u001b[43mraw\u001b[49m\u001b[38;5;241;43m.\u001b[39;49m\u001b[43mget\u001b[49m\u001b[43m(\u001b[49m\u001b[38;5;124;43m'\u001b[39;49m\u001b[38;5;124;43mcandles\u001b[39;49m\u001b[38;5;124;43m'\u001b[39;49m\u001b[43m)\u001b[49m\n\u001b[0;32m    168\u001b[0m     raw \u001b[38;5;241m=\u001b[39m [cs\u001b[38;5;241m.\u001b[39mdict() \u001b[38;5;28;01mfor\u001b[39;00m cs \u001b[38;5;129;01min\u001b[39;00m raw]\n\u001b[0;32m    169\u001b[0m     \u001b[38;5;28;01mif\u001b[39;00m price \u001b[38;5;241m==\u001b[39m \u001b[38;5;124m'\u001b[39m\u001b[38;5;124mA\u001b[39m\u001b[38;5;124m'\u001b[39m:\n",
      "File \u001b[1;32m~\\anaconda3\\envs\\DeepLearn\\lib\\site-packages\\v20\\response.py:35\u001b[0m, in \u001b[0;36mResponse.get\u001b[1;34m(self, field, status)\u001b[0m\n\u001b[0;32m     32\u001b[0m value \u001b[38;5;241m=\u001b[39m \u001b[38;5;28mself\u001b[39m\u001b[38;5;241m.\u001b[39mbody\u001b[38;5;241m.\u001b[39mget(field)\n\u001b[0;32m     34\u001b[0m \u001b[38;5;28;01mif\u001b[39;00m value \u001b[38;5;129;01mis\u001b[39;00m \u001b[38;5;28;01mNone\u001b[39;00m:\n\u001b[1;32m---> 35\u001b[0m     \u001b[38;5;28;01mraise\u001b[39;00m ResponseNoField(\u001b[38;5;28mself\u001b[39m, field)\n\u001b[0;32m     37\u001b[0m \u001b[38;5;28;01mreturn\u001b[39;00m value\n",
      "\u001b[1;31mResponseNoField\u001b[0m: 401 response for GET https://api-fxpractice.oanda.com:443/v3/instruments/EURUSD/candles?price=M&granularity=M5&from=2025-03-10T23%3A07%3A43.000000000Z&to=2025-03-15T23%3A07%3A43.000000000Z does not have field 'candles' (contains 'errorMessage')"
     ]
    }
   ],
   "source": [
    "trader.get_most_recent()\n",
    "trader.stream_data(trader.instrument, stop = 100)\n",
    "if trader.position != 0:\n",
    "    close_order = trader.create_order(trader.instrument, units = -trader.position * trader.units,\n",
    "                                     supress = True, ret = True)\n",
    "    trader.report_trader(close_order, \"GOING NEUTRAL\")\n",
    "    trader.position = 0"
   ]
  },
  {
   "cell_type": "code",
   "execution_count": 25,
   "id": "c6bbcb92",
   "metadata": {},
   "outputs": [],
   "source": [
    "trader.data"
   ]
  },
  {
   "cell_type": "code",
   "execution_count": null,
   "id": "6b45761b",
   "metadata": {},
   "outputs": [],
   "source": []
  }
 ],
 "metadata": {
  "kernelspec": {
   "display_name": "Python 3 (ipykernel)",
   "language": "python",
   "name": "python3"
  },
  "language_info": {
   "codemirror_mode": {
    "name": "ipython",
    "version": 3
   },
   "file_extension": ".py",
   "mimetype": "text/x-python",
   "name": "python",
   "nbconvert_exporter": "python",
   "pygments_lexer": "ipython3",
   "version": "3.10.13"
  }
 },
 "nbformat": 4,
 "nbformat_minor": 5
}
