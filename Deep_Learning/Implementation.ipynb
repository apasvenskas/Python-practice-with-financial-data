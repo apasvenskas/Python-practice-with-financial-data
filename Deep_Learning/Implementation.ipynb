{
 "cells": [
  {
   "cell_type": "markdown",
   "id": "49dff766",
   "metadata": {},
   "source": [
    "# Implementation"
   ]
  },
  {
   "cell_type": "code",
   "execution_count": 1,
   "id": "256ad724",
   "metadata": {},
   "outputs": [],
   "source": [
    "import pandas as pd\n",
    "import numpy as np\n",
    "import tpqoa\n",
    "import fxcmpy\n",
    "from datetime import datetime, timedelta\n",
    "import time"
   ]
  },
  {
   "cell_type": "markdown",
   "id": "b2417bb9-e63b-45fb-bbc8-8338d10fb4e2",
   "metadata": {},
   "source": [
    "## Loading Parameters"
   ]
  },
  {
   "cell_type": "code",
   "execution_count": 3,
   "id": "3569259c-7d13-44c9-ab1f-75f1b77c4860",
   "metadata": {},
   "outputs": [],
   "source": [
    "import keras\n",
    "model = keras.models.load_model(\"DNN_model\")"
   ]
  },
  {
   "cell_type": "code",
   "execution_count": 4,
   "id": "25846987-50a5-4e6a-9c57-2bc3d55bbf57",
   "metadata": {},
   "outputs": [
    {
     "data": {
      "text/plain": [
       "<keras.engine.sequential.Sequential at 0x201eee95090>"
      ]
     },
     "execution_count": 4,
     "metadata": {},
     "output_type": "execute_result"
    }
   ],
   "source": [
    "model"
   ]
  },
  {
   "cell_type": "code",
   "execution_count": 5,
   "id": "adce39d5",
   "metadata": {},
   "outputs": [],
   "source": [
    "import pickle\n",
    "params = pickle.load(open(\"params.pkl\", \"rb\"))\n",
    "mu = params[\"mu\"]\n",
    "std = params[\"std\"]"
   ]
  },
  {
   "cell_type": "code",
   "execution_count": 6,
   "id": "712a5f78",
   "metadata": {},
   "outputs": [
    {
     "data": {
      "text/plain": [
       "EUR_USD       1.156186\n",
       "returns       0.000002\n",
       "dir           0.493137\n",
       "sma           0.000137\n",
       "boll          0.014627\n",
       "min          -0.002536\n",
       "max           0.002411\n",
       "mom           0.000002\n",
       "vol           0.000512\n",
       "dir_lag_1     0.493137\n",
       "dir_lag_2     0.493137\n",
       "dir_lag_3     0.493109\n",
       "dir_lag_4     0.493082\n",
       "dir_lag_5     0.493082\n",
       "sma_lag_1     0.000137\n",
       "sma_lag_2     0.000138\n",
       "sma_lag_3     0.000138\n",
       "sma_lag_4     0.000138\n",
       "sma_lag_5     0.000138\n",
       "boll_lag_1    0.014692\n",
       "boll_lag_2    0.014758\n",
       "boll_lag_3    0.014822\n",
       "boll_lag_4    0.014901\n",
       "boll_lag_5    0.015003\n",
       "min_lag_1    -0.002536\n",
       "min_lag_2    -0.002537\n",
       "min_lag_3    -0.002537\n",
       "min_lag_4    -0.002537\n",
       "min_lag_5    -0.002537\n",
       "max_lag_1     0.002411\n",
       "max_lag_2     0.002410\n",
       "max_lag_3     0.002410\n",
       "max_lag_4     0.002410\n",
       "max_lag_5     0.002410\n",
       "mom_lag_1     0.000002\n",
       "mom_lag_2     0.000002\n",
       "mom_lag_3     0.000002\n",
       "mom_lag_4     0.000002\n",
       "mom_lag_5     0.000002\n",
       "vol_lag_1     0.000512\n",
       "vol_lag_2     0.000512\n",
       "vol_lag_3     0.000512\n",
       "vol_lag_4     0.000512\n",
       "vol_lag_5     0.000512\n",
       "dtype: float64"
      ]
     },
     "execution_count": 6,
     "metadata": {},
     "output_type": "execute_result"
    }
   ],
   "source": [
    "mu"
   ]
  },
  {
   "cell_type": "code",
   "execution_count": 7,
   "id": "ba37dc21",
   "metadata": {},
   "outputs": [
    {
     "data": {
      "text/plain": [
       "EUR_USD       0.051209\n",
       "returns       0.000542\n",
       "dir           0.499960\n",
       "sma           0.002872\n",
       "boll          1.441474\n",
       "min           0.002368\n",
       "max           0.002249\n",
       "mom           0.000308\n",
       "vol           0.000178\n",
       "dir_lag_1     0.499960\n",
       "dir_lag_2     0.499960\n",
       "dir_lag_3     0.499959\n",
       "dir_lag_4     0.499959\n",
       "dir_lag_5     0.499959\n",
       "sma_lag_1     0.002872\n",
       "sma_lag_2     0.002872\n",
       "sma_lag_3     0.002872\n",
       "sma_lag_4     0.002872\n",
       "sma_lag_5     0.002872\n",
       "boll_lag_1    1.441498\n",
       "boll_lag_2    1.441521\n",
       "boll_lag_3    1.441539\n",
       "boll_lag_4    1.441568\n",
       "boll_lag_5    1.441631\n",
       "min_lag_1     0.002369\n",
       "min_lag_2     0.002369\n",
       "min_lag_3     0.002369\n",
       "min_lag_4     0.002369\n",
       "min_lag_5     0.002370\n",
       "max_lag_1     0.002249\n",
       "max_lag_2     0.002249\n",
       "max_lag_3     0.002249\n",
       "max_lag_4     0.002248\n",
       "max_lag_5     0.002248\n",
       "mom_lag_1     0.000308\n",
       "mom_lag_2     0.000308\n",
       "mom_lag_3     0.000308\n",
       "mom_lag_4     0.000308\n",
       "mom_lag_5     0.000308\n",
       "vol_lag_1     0.000178\n",
       "vol_lag_2     0.000178\n",
       "vol_lag_3     0.000178\n",
       "vol_lag_4     0.000178\n",
       "vol_lag_5     0.000178\n",
       "dtype: float64"
      ]
     },
     "execution_count": 7,
     "metadata": {},
     "output_type": "execute_result"
    }
   ],
   "source": [
    "std"
   ]
  },
  {
   "cell_type": "markdown",
   "id": "a7d495df",
   "metadata": {},
   "source": [
    "## Implemitation to OANDA"
   ]
  },
  {
   "cell_type": "code",
   "execution_count": 8,
   "id": "64128389",
   "metadata": {},
   "outputs": [],
   "source": [
    "class DNNTrader(tpqoa.tpqoa):\n",
    "    def __init__(self, conf_file, instrument, bar_length, window, lags, model, mu, std, units):\n",
    "        super().__init__(conf_file)\n",
    "        self.instrument = instrument\n",
    "        self.bar_length = pd.to_timedelta(bar_length)\n",
    "        self.tick_data = pd.DataFrame()\n",
    "        self.raw_data = None\n",
    "        self.data = None\n",
    "        self.last_bar = None\n",
    "        self.units = units\n",
    "        self.position = 0\n",
    "        self.profits = []\n",
    "        \n",
    "        # Strategy specs ********************************\n",
    "        self.window = window\n",
    "        self.lags = lags\n",
    "        self.model = model\n",
    "        self.mu = mu\n",
    "        self.std = std\n",
    "        \n",
    "    def get_most_recent(self, day = 5):\n",
    "        while True:\n",
    "            time.sleep(2)\n",
    "            now = datetime.utcnow()\n",
    "            now = now - timedelta(microseconds = now.microsecond)\n",
    "            past = now - timedelta(days = days)\n",
    "            df = self.get_history(instrument = self.instrument, start = past, end = now,\n",
    "                                 granurality = \"55\", price= \"M\", localize = False).c.dropna().to_frame)\n",
    "            df.rename(columns = {\"c\":self.instrument}, inplace = True)\n",
    "            df = df.resample(self.bar_length, label = \"right\").last().dropna().iloc[:-1]\n",
    "            self.raw_data = df.copy()\n",
    "            self.last_bar = self.raw_data.index[-1]\n",
    "            if pd.to_datetime(datetime.utcnow()).tz_localize(\"UTC\") - self.last_bar < self.bar_length():\n",
    "                self.start_time = pd.to_datetime(datetime.utcnow()).tz_localize(\"UTC\")\n",
    "                break\n",
    "                \n",
    "    def on_success(self, time, bid, ask):\n",
    "        print(self.ticks, end = \" \")\n",
    "        \n",
    "        recent_tick = pd.to_datetime(time)\n",
    "        df = pd.DataFrame({self.instrument:(ask+bid)/2},\n",
    "                         index = [recent_tick])\n",
    "        self.tick_data = self.tick_data.append(df)\n",
    "        \n",
    "        if recent_tick - self.last_bar > self.bar_length:\n",
    "            self.resample_and_join()\n",
    "            self.define_strategy()\n",
    "            self.execute_trades()\n",
    "            \n",
    "    def resample_and_join(self):\n",
    "        self.raw_data = self.raw_data.append(self.tick_data.resample(self.bar_length,\n",
    "                                                                    label=\"right\").last().ffill().iloc[:-1])\n",
    "        self.\n",
    "        \n",
    "        "
   ]
  },
  {
   "cell_type": "code",
   "execution_count": null,
   "id": "ef0cb75e",
   "metadata": {},
   "outputs": [],
   "source": []
  }
 ],
 "metadata": {
  "kernelspec": {
   "display_name": "Python 3 (ipykernel)",
   "language": "python",
   "name": "python3"
  },
  "language_info": {
   "codemirror_mode": {
    "name": "ipython",
    "version": 3
   },
   "file_extension": ".py",
   "mimetype": "text/x-python",
   "name": "python",
   "nbconvert_exporter": "python",
   "pygments_lexer": "ipython3",
   "version": "3.10.13"
  }
 },
 "nbformat": 4,
 "nbformat_minor": 5
}
