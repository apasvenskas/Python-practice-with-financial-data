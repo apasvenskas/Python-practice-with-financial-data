{
 "cells": [
  {
   "cell_type": "markdown",
   "id": "11a14067-9dbd-4f43-ba63-27f2434ce4ff",
   "metadata": {},
   "source": [
    "Margin Trading"
   ]
  },
  {
   "cell_type": "code",
   "execution_count": 38,
   "id": "64eb73a0-09ba-44ec-b21e-d00ecf48313e",
   "metadata": {},
   "outputs": [],
   "source": [
    "import numpy as np"
   ]
  },
  {
   "cell_type": "code",
   "execution_count": 40,
   "id": "09c768a0-e949-4b28-af8f-0caa4ea881ce",
   "metadata": {},
   "outputs": [],
   "source": [
    "P0 = 100\n",
    "P1 = 110\n",
    "leverage = 2\n",
    "margin = P0 / 2"
   ]
  },
  {
   "cell_type": "code",
   "execution_count": 42,
   "id": "fb3aad8e-16f0-4874-95fe-8f69e4797d53",
   "metadata": {},
   "outputs": [
    {
     "data": {
      "text/plain": [
       "50.0"
      ]
     },
     "execution_count": 42,
     "metadata": {},
     "output_type": "execute_result"
    }
   ],
   "source": [
    "margin"
   ]
  },
  {
   "cell_type": "code",
   "execution_count": 44,
   "id": "961e9b63-64e5-4320-8658-e5c1565ad2c9",
   "metadata": {},
   "outputs": [
    {
     "data": {
      "text/plain": [
       "0.1"
      ]
     },
     "execution_count": 44,
     "metadata": {},
     "output_type": "execute_result"
    }
   ],
   "source": [
    "unlev_return = (P1 - P0) / P0\n",
    "unlev_return"
   ]
  },
  {
   "cell_type": "code",
   "execution_count": 84,
   "id": "8102332c-4be1-4721-bb6c-008adedf4858",
   "metadata": {},
   "outputs": [
    {
     "data": {
      "text/plain": [
       "0.2"
      ]
     },
     "execution_count": 84,
     "metadata": {},
     "output_type": "execute_result"
    }
   ],
   "source": [
    "lev_return = (P1 - P0) / margin\n",
    "lev_return"
   ]
  },
  {
   "cell_type": "code",
   "execution_count": 110,
   "id": "cc2ae416-f869-4f60-8c2c-4a4ecd2efa29",
   "metadata": {},
   "outputs": [
    {
     "data": {
      "text/plain": [
       "True"
      ]
     },
     "execution_count": 110,
     "metadata": {},
     "output_type": "execute_result"
    }
   ],
   "source": [
    "lev_return == unlev_return * leverage"
   ]
  },
  {
   "cell_type": "code",
   "execution_count": 112,
   "id": "e114194e-7b6c-45c2-9865-b87688c1b2b0",
   "metadata": {},
   "outputs": [
    {
     "data": {
      "text/plain": [
       "0.1823215567939546"
      ]
     },
     "execution_count": 112,
     "metadata": {},
     "output_type": "execute_result"
    }
   ],
   "source": [
    "unlev_return = np.log((P1 - P0) / margin + 1)\n",
    "unlev_return"
   ]
  },
  {
   "cell_type": "code",
   "execution_count": 114,
   "id": "31edcc21-d4ea-449e-9604-97a157f95f2d",
   "metadata": {},
   "outputs": [
    {
     "data": {
      "text/plain": [
       "0.1823215567939546"
      ]
     },
     "execution_count": 114,
     "metadata": {},
     "output_type": "execute_result"
    }
   ],
   "source": [
    "lev_return = np.log((P1 - P0) / margin + 1)\n",
    "lev_return"
   ]
  },
  {
   "cell_type": "code",
   "execution_count": 116,
   "id": "e78e2965-d031-4546-8a30-28909479ecc9",
   "metadata": {},
   "outputs": [],
   "source": [
    "lev_return = unlev_return * leverage"
   ]
  },
  {
   "cell_type": "markdown",
   "id": "69ce87eb-b90d-421f-a30e-e23267b909ee",
   "metadata": {},
   "source": [
    "Levered Returns (Part2)"
   ]
  },
  {
   "cell_type": "code",
   "execution_count": 139,
   "id": "e765d25c-0e0e-444d-bdf7-d25bec133a90",
   "metadata": {},
   "outputs": [],
   "source": [
    "import pandas as pd\n",
    "import numpy as np\n",
    "pd.options.display.float_format = '{:.4f}'.format\n",
    "import matplotlib.pyplot as plt"
   ]
  },
  {
   "cell_type": "code",
   "execution_count": 141,
   "id": "0b1a41e8-e007-434a-885e-f57bc4540b2c",
   "metadata": {},
   "outputs": [
    {
     "data": {
      "text/html": [
       "<div>\n",
       "<style scoped>\n",
       "    .dataframe tbody tr th:only-of-type {\n",
       "        vertical-align: middle;\n",
       "    }\n",
       "\n",
       "    .dataframe tbody tr th {\n",
       "        vertical-align: top;\n",
       "    }\n",
       "\n",
       "    .dataframe thead th {\n",
       "        text-align: right;\n",
       "    }\n",
       "</style>\n",
       "<table border=\"1\" class=\"dataframe\">\n",
       "  <thead>\n",
       "    <tr style=\"text-align: right;\">\n",
       "      <th></th>\n",
       "      <th>Price</th>\n",
       "      <th>Returns</th>\n",
       "    </tr>\n",
       "    <tr>\n",
       "      <th>Date</th>\n",
       "      <th></th>\n",
       "      <th></th>\n",
       "    </tr>\n",
       "  </thead>\n",
       "  <tbody>\n",
       "    <tr>\n",
       "      <th>2014-10-01 00:00:00+00:00</th>\n",
       "      <td>45.9000</td>\n",
       "      <td>NaN</td>\n",
       "    </tr>\n",
       "    <tr>\n",
       "      <th>2014-10-02 00:00:00+00:00</th>\n",
       "      <td>45.7600</td>\n",
       "      <td>-0.0031</td>\n",
       "    </tr>\n",
       "    <tr>\n",
       "      <th>2014-10-03 00:00:00+00:00</th>\n",
       "      <td>46.0900</td>\n",
       "      <td>0.0072</td>\n",
       "    </tr>\n",
       "    <tr>\n",
       "      <th>2014-10-06 00:00:00+00:00</th>\n",
       "      <td>46.0900</td>\n",
       "      <td>0.0000</td>\n",
       "    </tr>\n",
       "    <tr>\n",
       "      <th>2014-10-07 00:00:00+00:00</th>\n",
       "      <td>45.5300</td>\n",
       "      <td>-0.0122</td>\n",
       "    </tr>\n",
       "    <tr>\n",
       "      <th>...</th>\n",
       "      <td>...</td>\n",
       "      <td>...</td>\n",
       "    </tr>\n",
       "    <tr>\n",
       "      <th>2021-05-24 00:00:00+00:00</th>\n",
       "      <td>250.7800</td>\n",
       "      <td>0.0229</td>\n",
       "    </tr>\n",
       "    <tr>\n",
       "      <th>2021-05-25 00:00:00+00:00</th>\n",
       "      <td>251.7200</td>\n",
       "      <td>0.0037</td>\n",
       "    </tr>\n",
       "    <tr>\n",
       "      <th>2021-05-26 00:00:00+00:00</th>\n",
       "      <td>251.4900</td>\n",
       "      <td>-0.0009</td>\n",
       "    </tr>\n",
       "    <tr>\n",
       "      <th>2021-05-27 00:00:00+00:00</th>\n",
       "      <td>249.3100</td>\n",
       "      <td>-0.0087</td>\n",
       "    </tr>\n",
       "    <tr>\n",
       "      <th>2021-05-28 00:00:00+00:00</th>\n",
       "      <td>249.6800</td>\n",
       "      <td>0.0015</td>\n",
       "    </tr>\n",
       "  </tbody>\n",
       "</table>\n",
       "<p>1677 rows × 2 columns</p>\n",
       "</div>"
      ],
      "text/plain": [
       "                             Price  Returns\n",
       "Date                                       \n",
       "2014-10-01 00:00:00+00:00  45.9000      NaN\n",
       "2014-10-02 00:00:00+00:00  45.7600  -0.0031\n",
       "2014-10-03 00:00:00+00:00  46.0900   0.0072\n",
       "2014-10-06 00:00:00+00:00  46.0900   0.0000\n",
       "2014-10-07 00:00:00+00:00  45.5300  -0.0122\n",
       "...                            ...      ...\n",
       "2021-05-24 00:00:00+00:00 250.7800   0.0229\n",
       "2021-05-25 00:00:00+00:00 251.7200   0.0037\n",
       "2021-05-26 00:00:00+00:00 251.4900  -0.0009\n",
       "2021-05-27 00:00:00+00:00 249.3100  -0.0087\n",
       "2021-05-28 00:00:00+00:00 249.6800   0.0015\n",
       "\n",
       "[1677 rows x 2 columns]"
      ]
     },
     "execution_count": 141,
     "metadata": {},
     "output_type": "execute_result"
    }
   ],
   "source": [
    "msft = pd.read_csv('msft.csv', index_col = \"Date\", parse_dates = [\"Date\"])\n",
    "msft"
   ]
  },
  {
   "cell_type": "code",
   "execution_count": 143,
   "id": "0a5528ac-12d7-46c3-b67b-ed124e97f329",
   "metadata": {},
   "outputs": [],
   "source": [
    "msft[\"Simple_Ret\"] = msft.Price.pct_change() "
   ]
  },
  {
   "cell_type": "code",
   "execution_count": 145,
   "id": "9272b126-a3e9-4d1d-8046-29d46ed20e07",
   "metadata": {},
   "outputs": [],
   "source": [
    "leverage = 2"
   ]
  },
  {
   "cell_type": "code",
   "execution_count": 147,
   "id": "8a275e94-617a-4f4d-8f35-14ac97cfd1bc",
   "metadata": {},
   "outputs": [
    {
     "data": {
      "text/html": [
       "<div>\n",
       "<style scoped>\n",
       "    .dataframe tbody tr th:only-of-type {\n",
       "        vertical-align: middle;\n",
       "    }\n",
       "\n",
       "    .dataframe tbody tr th {\n",
       "        vertical-align: top;\n",
       "    }\n",
       "\n",
       "    .dataframe thead th {\n",
       "        text-align: right;\n",
       "    }\n",
       "</style>\n",
       "<table border=\"1\" class=\"dataframe\">\n",
       "  <thead>\n",
       "    <tr style=\"text-align: right;\">\n",
       "      <th></th>\n",
       "      <th>Price</th>\n",
       "      <th>Returns</th>\n",
       "      <th>Simple_Ret</th>\n",
       "      <th>Lev_Returns</th>\n",
       "    </tr>\n",
       "    <tr>\n",
       "      <th>Date</th>\n",
       "      <th></th>\n",
       "      <th></th>\n",
       "      <th></th>\n",
       "      <th></th>\n",
       "    </tr>\n",
       "  </thead>\n",
       "  <tbody>\n",
       "    <tr>\n",
       "      <th>2014-10-01 00:00:00+00:00</th>\n",
       "      <td>45.9000</td>\n",
       "      <td>NaN</td>\n",
       "      <td>NaN</td>\n",
       "      <td>NaN</td>\n",
       "    </tr>\n",
       "    <tr>\n",
       "      <th>2014-10-02 00:00:00+00:00</th>\n",
       "      <td>45.7600</td>\n",
       "      <td>-0.0031</td>\n",
       "      <td>-0.0031</td>\n",
       "      <td>-0.0061</td>\n",
       "    </tr>\n",
       "    <tr>\n",
       "      <th>2014-10-03 00:00:00+00:00</th>\n",
       "      <td>46.0900</td>\n",
       "      <td>0.0072</td>\n",
       "      <td>0.0072</td>\n",
       "      <td>0.0144</td>\n",
       "    </tr>\n",
       "    <tr>\n",
       "      <th>2014-10-06 00:00:00+00:00</th>\n",
       "      <td>46.0900</td>\n",
       "      <td>0.0000</td>\n",
       "      <td>0.0000</td>\n",
       "      <td>0.0000</td>\n",
       "    </tr>\n",
       "    <tr>\n",
       "      <th>2014-10-07 00:00:00+00:00</th>\n",
       "      <td>45.5300</td>\n",
       "      <td>-0.0122</td>\n",
       "      <td>-0.0122</td>\n",
       "      <td>-0.0243</td>\n",
       "    </tr>\n",
       "    <tr>\n",
       "      <th>...</th>\n",
       "      <td>...</td>\n",
       "      <td>...</td>\n",
       "      <td>...</td>\n",
       "      <td>...</td>\n",
       "    </tr>\n",
       "    <tr>\n",
       "      <th>2021-05-24 00:00:00+00:00</th>\n",
       "      <td>250.7800</td>\n",
       "      <td>0.0229</td>\n",
       "      <td>0.0229</td>\n",
       "      <td>0.0458</td>\n",
       "    </tr>\n",
       "    <tr>\n",
       "      <th>2021-05-25 00:00:00+00:00</th>\n",
       "      <td>251.7200</td>\n",
       "      <td>0.0037</td>\n",
       "      <td>0.0037</td>\n",
       "      <td>0.0075</td>\n",
       "    </tr>\n",
       "    <tr>\n",
       "      <th>2021-05-26 00:00:00+00:00</th>\n",
       "      <td>251.4900</td>\n",
       "      <td>-0.0009</td>\n",
       "      <td>-0.0009</td>\n",
       "      <td>-0.0018</td>\n",
       "    </tr>\n",
       "    <tr>\n",
       "      <th>2021-05-27 00:00:00+00:00</th>\n",
       "      <td>249.3100</td>\n",
       "      <td>-0.0087</td>\n",
       "      <td>-0.0087</td>\n",
       "      <td>-0.0173</td>\n",
       "    </tr>\n",
       "    <tr>\n",
       "      <th>2021-05-28 00:00:00+00:00</th>\n",
       "      <td>249.6800</td>\n",
       "      <td>0.0015</td>\n",
       "      <td>0.0015</td>\n",
       "      <td>0.0030</td>\n",
       "    </tr>\n",
       "  </tbody>\n",
       "</table>\n",
       "<p>1677 rows × 4 columns</p>\n",
       "</div>"
      ],
      "text/plain": [
       "                             Price  Returns  Simple_Ret  Lev_Returns\n",
       "Date                                                                \n",
       "2014-10-01 00:00:00+00:00  45.9000      NaN         NaN          NaN\n",
       "2014-10-02 00:00:00+00:00  45.7600  -0.0031     -0.0031      -0.0061\n",
       "2014-10-03 00:00:00+00:00  46.0900   0.0072      0.0072       0.0144\n",
       "2014-10-06 00:00:00+00:00  46.0900   0.0000      0.0000       0.0000\n",
       "2014-10-07 00:00:00+00:00  45.5300  -0.0122     -0.0122      -0.0243\n",
       "...                            ...      ...         ...          ...\n",
       "2021-05-24 00:00:00+00:00 250.7800   0.0229      0.0229       0.0458\n",
       "2021-05-25 00:00:00+00:00 251.7200   0.0037      0.0037       0.0075\n",
       "2021-05-26 00:00:00+00:00 251.4900  -0.0009     -0.0009      -0.0018\n",
       "2021-05-27 00:00:00+00:00 249.3100  -0.0087     -0.0087      -0.0173\n",
       "2021-05-28 00:00:00+00:00 249.6800   0.0015      0.0015       0.0030\n",
       "\n",
       "[1677 rows x 4 columns]"
      ]
     },
     "execution_count": 147,
     "metadata": {},
     "output_type": "execute_result"
    }
   ],
   "source": [
    "msft[\"Lev_Returns\"] = msft.Simple_Ret.mul(leverage)\n",
    "msft"
   ]
  },
  {
   "cell_type": "code",
   "execution_count": 161,
   "id": "f5faad27-cd42-4f40-bdc5-d578c6b9227e",
   "metadata": {},
   "outputs": [],
   "source": [
    "msft[\"Lev_Returns\"] = np.where(msft[\"Lev_Returns\"] < -1, -1, msft[\"Lev_Returns\"])"
   ]
  },
  {
   "cell_type": "code",
   "execution_count": 163,
   "id": "15b47646-22b1-4e9e-bbea-73945932f3d4",
   "metadata": {},
   "outputs": [
    {
     "data": {
      "image/png": "[encoded data removed]",
      "text/plain": [
       "<Figure size 1500x800 with 1 Axes>"
      ]
     },
     "metadata": {},
     "output_type": "display_data"
    }
   ],
   "source": [
    "msft[[\"Returns\", \"Lev_Returns\"]].add(1).cumprod().plot(figsize = (15, 8), fontsize = 13)\n",
    "plt.legend(fontsize = 13)\n",
    "plt.show()"
   ]
  },
  {
   "cell_type": "code",
   "execution_count": 151,
   "id": "dec5afb5-bd4c-49ec-ac39-e957e2ebd43d",
   "metadata": {},
   "outputs": [
    {
     "data": {
      "text/plain": [
       "0.14216888119914373"
      ]
     },
     "execution_count": 151,
     "metadata": {},
     "output_type": "execute_result"
    }
   ],
   "source": [
    "msft.Simple_Ret.max()"
   ]
  },
  {
   "cell_type": "code",
   "execution_count": 153,
   "id": "4daa15cc-95f2-4f4e-9a64-b44d32f5e282",
   "metadata": {},
   "outputs": [
    {
     "data": {
      "text/plain": [
       "0.28433776239828745"
      ]
     },
     "execution_count": 153,
     "metadata": {},
     "output_type": "execute_result"
    }
   ],
   "source": [
    "msft.Lev_Returns.max()"
   ]
  },
  {
   "cell_type": "code",
   "execution_count": 155,
   "id": "ffd9fa9d-8230-4d95-92f5-b30f3e037352",
   "metadata": {},
   "outputs": [
    {
     "data": {
      "text/plain": [
       "-0.1473903128642552"
      ]
     },
     "execution_count": 155,
     "metadata": {},
     "output_type": "execute_result"
    }
   ],
   "source": [
    "msft.Simple_Ret.min()"
   ]
  },
  {
   "cell_type": "code",
   "execution_count": 157,
   "id": "c5c3b7a1-93f1-4e13-ae02-48def27f0012",
   "metadata": {},
   "outputs": [
    {
     "data": {
      "text/plain": [
       "-0.2947806257285104"
      ]
     },
     "execution_count": 157,
     "metadata": {},
     "output_type": "execute_result"
    }
   ],
   "source": [
    "msft.Lev_Returns.min()"
   ]
  },
  {
   "cell_type": "code",
   "execution_count": 159,
   "id": "3c996e14-2724-45fe-9557-ba722bf2660f",
   "metadata": {},
   "outputs": [
    {
     "data": {
      "text/plain": [
       "6.784706406865346"
      ]
     },
     "execution_count": 159,
     "metadata": {},
     "output_type": "execute_result"
    }
   ],
   "source": [
    "-1 / msft.Simple_Ret.min()"
   ]
  },
  {
   "cell_type": "code",
   "execution_count": null,
   "id": "910c40de-fa8e-407d-b440-e52ac3812717",
   "metadata": {},
   "outputs": [],
   "source": []
  }
 ],
 "metadata": {
  "kernelspec": {
   "display_name": "Python 3 (ipykernel)",
   "language": "python",
   "name": "python3"
  },
  "language_info": {
   "codemirror_mode": {
    "name": "ipython",
    "version": 3
   },
   "file_extension": ".py",
   "mimetype": "text/x-python",
   "name": "python",
   "nbconvert_exporter": "python",
   "pygments_lexer": "ipython3",
   "version": "3.12.4"
  }
 },
 "nbformat": 4,
 "nbformat_minor": 5
}
