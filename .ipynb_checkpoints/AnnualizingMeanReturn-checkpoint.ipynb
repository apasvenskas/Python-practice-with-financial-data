{
 "cells": [
  {
   "cell_type": "markdown",
   "id": "84a9e5fe-317c-4686-b917-8b5ca3c527d8",
   "metadata": {},
   "source": [
    " Annualizing Mean Return and Std of Returns"
   ]
  },
  {
   "cell_type": "code",
   "execution_count": 2,
   "id": "f4490060-7bef-4689-b4dc-88668a92fabc",
   "metadata": {},
   "outputs": [],
   "source": [
    "import pandas as pd\n",
    "import numpy as np\n",
    "import matplotlib.pyplot as plt\n",
    "pd.options.display.float_format = '{:.6f}'.format"
   ]
  },
  {
   "cell_type": "code",
   "execution_count": 4,
   "id": "e32de0af-efe3-4c38-883c-7f21cfb2bcad",
   "metadata": {},
   "outputs": [],
   "source": [
    "msft = pd.read_csv(\"msft.csv\", index_col = \"Date\", parse_dates = [\"Date\"])"
   ]
  },
  {
   "cell_type": "code",
   "execution_count": 6,
   "id": "05355d8c-89dd-4814-a3ee-66a9d98aa216",
   "metadata": {},
   "outputs": [
    {
     "data": {
      "text/html": [
       "<div>\n",
       "<style scoped>\n",
       "    .dataframe tbody tr th:only-of-type {\n",
       "        vertical-align: middle;\n",
       "    }\n",
       "\n",
       "    .dataframe tbody tr th {\n",
       "        vertical-align: top;\n",
       "    }\n",
       "\n",
       "    .dataframe thead th {\n",
       "        text-align: right;\n",
       "    }\n",
       "</style>\n",
       "<table border=\"1\" class=\"dataframe\">\n",
       "  <thead>\n",
       "    <tr style=\"text-align: right;\">\n",
       "      <th></th>\n",
       "      <th>Price</th>\n",
       "      <th>Returns</th>\n",
       "    </tr>\n",
       "    <tr>\n",
       "      <th>Date</th>\n",
       "      <th></th>\n",
       "      <th></th>\n",
       "    </tr>\n",
       "  </thead>\n",
       "  <tbody>\n",
       "    <tr>\n",
       "      <th>2014-10-01 00:00:00+00:00</th>\n",
       "      <td>45.900002</td>\n",
       "      <td>NaN</td>\n",
       "    </tr>\n",
       "    <tr>\n",
       "      <th>2014-10-02 00:00:00+00:00</th>\n",
       "      <td>45.759998</td>\n",
       "      <td>-0.003050</td>\n",
       "    </tr>\n",
       "    <tr>\n",
       "      <th>2014-10-03 00:00:00+00:00</th>\n",
       "      <td>46.090000</td>\n",
       "      <td>0.007212</td>\n",
       "    </tr>\n",
       "    <tr>\n",
       "      <th>2014-10-06 00:00:00+00:00</th>\n",
       "      <td>46.090000</td>\n",
       "      <td>0.000000</td>\n",
       "    </tr>\n",
       "    <tr>\n",
       "      <th>2014-10-07 00:00:00+00:00</th>\n",
       "      <td>45.529999</td>\n",
       "      <td>-0.012150</td>\n",
       "    </tr>\n",
       "    <tr>\n",
       "      <th>...</th>\n",
       "      <td>...</td>\n",
       "      <td>...</td>\n",
       "    </tr>\n",
       "    <tr>\n",
       "      <th>2021-05-24 00:00:00+00:00</th>\n",
       "      <td>250.779999</td>\n",
       "      <td>0.022882</td>\n",
       "    </tr>\n",
       "    <tr>\n",
       "      <th>2021-05-25 00:00:00+00:00</th>\n",
       "      <td>251.720001</td>\n",
       "      <td>0.003748</td>\n",
       "    </tr>\n",
       "    <tr>\n",
       "      <th>2021-05-26 00:00:00+00:00</th>\n",
       "      <td>251.490005</td>\n",
       "      <td>-0.000914</td>\n",
       "    </tr>\n",
       "    <tr>\n",
       "      <th>2021-05-27 00:00:00+00:00</th>\n",
       "      <td>249.309998</td>\n",
       "      <td>-0.008668</td>\n",
       "    </tr>\n",
       "    <tr>\n",
       "      <th>2021-05-28 00:00:00+00:00</th>\n",
       "      <td>249.679993</td>\n",
       "      <td>0.001484</td>\n",
       "    </tr>\n",
       "  </tbody>\n",
       "</table>\n",
       "<p>1677 rows × 2 columns</p>\n",
       "</div>"
      ],
      "text/plain": [
       "                               Price   Returns\n",
       "Date                                          \n",
       "2014-10-01 00:00:00+00:00  45.900002       NaN\n",
       "2014-10-02 00:00:00+00:00  45.759998 -0.003050\n",
       "2014-10-03 00:00:00+00:00  46.090000  0.007212\n",
       "2014-10-06 00:00:00+00:00  46.090000  0.000000\n",
       "2014-10-07 00:00:00+00:00  45.529999 -0.012150\n",
       "...                              ...       ...\n",
       "2021-05-24 00:00:00+00:00 250.779999  0.022882\n",
       "2021-05-25 00:00:00+00:00 251.720001  0.003748\n",
       "2021-05-26 00:00:00+00:00 251.490005 -0.000914\n",
       "2021-05-27 00:00:00+00:00 249.309998 -0.008668\n",
       "2021-05-28 00:00:00+00:00 249.679993  0.001484\n",
       "\n",
       "[1677 rows x 2 columns]"
      ]
     },
     "execution_count": 6,
     "metadata": {},
     "output_type": "execute_result"
    }
   ],
   "source": [
    "msft"
   ]
  },
  {
   "cell_type": "code",
   "execution_count": 8,
   "id": "4cabb84c-d49f-4ef1-9774-b5162ae01a98",
   "metadata": {},
   "outputs": [
    {
     "data": {
      "text/html": [
       "<div>\n",
       "<style scoped>\n",
       "    .dataframe tbody tr th:only-of-type {\n",
       "        vertical-align: middle;\n",
       "    }\n",
       "\n",
       "    .dataframe tbody tr th {\n",
       "        vertical-align: top;\n",
       "    }\n",
       "\n",
       "    .dataframe thead th {\n",
       "        text-align: right;\n",
       "    }\n",
       "</style>\n",
       "<table border=\"1\" class=\"dataframe\">\n",
       "  <thead>\n",
       "    <tr style=\"text-align: right;\">\n",
       "      <th></th>\n",
       "      <th>Price</th>\n",
       "      <th>Returns</th>\n",
       "      <th>log_ret</th>\n",
       "    </tr>\n",
       "    <tr>\n",
       "      <th>Date</th>\n",
       "      <th></th>\n",
       "      <th></th>\n",
       "      <th></th>\n",
       "    </tr>\n",
       "  </thead>\n",
       "  <tbody>\n",
       "    <tr>\n",
       "      <th>2014-10-01 00:00:00+00:00</th>\n",
       "      <td>45.900002</td>\n",
       "      <td>NaN</td>\n",
       "      <td>NaN</td>\n",
       "    </tr>\n",
       "    <tr>\n",
       "      <th>2014-10-02 00:00:00+00:00</th>\n",
       "      <td>45.759998</td>\n",
       "      <td>-0.003050</td>\n",
       "      <td>-0.003055</td>\n",
       "    </tr>\n",
       "    <tr>\n",
       "      <th>2014-10-03 00:00:00+00:00</th>\n",
       "      <td>46.090000</td>\n",
       "      <td>0.007212</td>\n",
       "      <td>0.007186</td>\n",
       "    </tr>\n",
       "    <tr>\n",
       "      <th>2014-10-06 00:00:00+00:00</th>\n",
       "      <td>46.090000</td>\n",
       "      <td>0.000000</td>\n",
       "      <td>0.000000</td>\n",
       "    </tr>\n",
       "    <tr>\n",
       "      <th>2014-10-07 00:00:00+00:00</th>\n",
       "      <td>45.529999</td>\n",
       "      <td>-0.012150</td>\n",
       "      <td>-0.012225</td>\n",
       "    </tr>\n",
       "    <tr>\n",
       "      <th>...</th>\n",
       "      <td>...</td>\n",
       "      <td>...</td>\n",
       "      <td>...</td>\n",
       "    </tr>\n",
       "    <tr>\n",
       "      <th>2021-05-24 00:00:00+00:00</th>\n",
       "      <td>250.779999</td>\n",
       "      <td>0.022882</td>\n",
       "      <td>0.022624</td>\n",
       "    </tr>\n",
       "    <tr>\n",
       "      <th>2021-05-25 00:00:00+00:00</th>\n",
       "      <td>251.720001</td>\n",
       "      <td>0.003748</td>\n",
       "      <td>0.003741</td>\n",
       "    </tr>\n",
       "    <tr>\n",
       "      <th>2021-05-26 00:00:00+00:00</th>\n",
       "      <td>251.490005</td>\n",
       "      <td>-0.000914</td>\n",
       "      <td>-0.000914</td>\n",
       "    </tr>\n",
       "    <tr>\n",
       "      <th>2021-05-27 00:00:00+00:00</th>\n",
       "      <td>249.309998</td>\n",
       "      <td>-0.008668</td>\n",
       "      <td>-0.008706</td>\n",
       "    </tr>\n",
       "    <tr>\n",
       "      <th>2021-05-28 00:00:00+00:00</th>\n",
       "      <td>249.679993</td>\n",
       "      <td>0.001484</td>\n",
       "      <td>0.001483</td>\n",
       "    </tr>\n",
       "  </tbody>\n",
       "</table>\n",
       "<p>1677 rows × 3 columns</p>\n",
       "</div>"
      ],
      "text/plain": [
       "                               Price   Returns   log_ret\n",
       "Date                                                    \n",
       "2014-10-01 00:00:00+00:00  45.900002       NaN       NaN\n",
       "2014-10-02 00:00:00+00:00  45.759998 -0.003050 -0.003055\n",
       "2014-10-03 00:00:00+00:00  46.090000  0.007212  0.007186\n",
       "2014-10-06 00:00:00+00:00  46.090000  0.000000  0.000000\n",
       "2014-10-07 00:00:00+00:00  45.529999 -0.012150 -0.012225\n",
       "...                              ...       ...       ...\n",
       "2021-05-24 00:00:00+00:00 250.779999  0.022882  0.022624\n",
       "2021-05-25 00:00:00+00:00 251.720001  0.003748  0.003741\n",
       "2021-05-26 00:00:00+00:00 251.490005 -0.000914 -0.000914\n",
       "2021-05-27 00:00:00+00:00 249.309998 -0.008668 -0.008706\n",
       "2021-05-28 00:00:00+00:00 249.679993  0.001484  0.001483\n",
       "\n",
       "[1677 rows x 3 columns]"
      ]
     },
     "execution_count": 8,
     "metadata": {},
     "output_type": "execute_result"
    }
   ],
   "source": [
    "msft[\"log_ret\"] = np.log(msft.Price / msft.Price.shift())\n",
    "msft"
   ]
  },
  {
   "cell_type": "code",
   "execution_count": 10,
   "id": "811f6771-df99-4d60-a6e7-0390d312a589",
   "metadata": {},
   "outputs": [
    {
     "data": {
      "text/plain": [
       "mean   0.001011\n",
       "std    0.017249\n",
       "Name: log_ret, dtype: float64"
      ]
     },
     "execution_count": 10,
     "metadata": {},
     "output_type": "execute_result"
    }
   ],
   "source": [
    "msft.log_ret.agg([\"mean\", \"std\"])"
   ]
  },
  {
   "cell_type": "code",
   "execution_count": 12,
   "id": "13839aab-aa92-42cf-9c65-486f3c4e69fa",
   "metadata": {},
   "outputs": [
    {
     "data": {
      "text/plain": [
       "0.25466357960390723"
      ]
     },
     "execution_count": 12,
     "metadata": {},
     "output_type": "execute_result"
    }
   ],
   "source": [
    "ann_mu = msft.log_ret.mean() * 252\n",
    "ann_mu"
   ]
  },
  {
   "cell_type": "code",
   "execution_count": 14,
   "id": "97748d34-926f-4c8c-a360-5df68cc76fdc",
   "metadata": {},
   "outputs": [
    {
     "data": {
      "text/plain": [
       "0.29002755628143806"
      ]
     },
     "execution_count": 14,
     "metadata": {},
     "output_type": "execute_result"
    }
   ],
   "source": [
    "cagr = np.exp(ann_mu) - 1\n",
    "cagr"
   ]
  },
  {
   "cell_type": "code",
   "execution_count": 16,
   "id": "755fd4b0-8a1d-403d-8e08-7b7fca2a0f67",
   "metadata": {},
   "outputs": [
    {
     "data": {
      "text/plain": [
       "mean   0.001011\n",
       "std    0.017249\n",
       "Name: log_ret, dtype: float64"
      ]
     },
     "execution_count": 16,
     "metadata": {},
     "output_type": "execute_result"
    }
   ],
   "source": [
    "msft.log_ret.agg([\"mean\", \"std\"])"
   ]
  },
  {
   "cell_type": "code",
   "execution_count": 18,
   "id": "07037962-197b-4d14-8eab-23577f03dbb5",
   "metadata": {},
   "outputs": [
    {
     "data": {
      "text/plain": [
       "0.0010105697603329652"
      ]
     },
     "execution_count": 18,
     "metadata": {},
     "output_type": "execute_result"
    }
   ],
   "source": [
    "ann_mu = msft.log_ret.mean()\n",
    "ann_mu"
   ]
  },
  {
   "cell_type": "code",
   "execution_count": 20,
   "id": "fde27704-5229-47b3-935e-3193318c41f0",
   "metadata": {},
   "outputs": [
    {
     "data": {
      "text/plain": [
       "0.0010110805580043625"
      ]
     },
     "execution_count": 20,
     "metadata": {},
     "output_type": "execute_result"
    }
   ],
   "source": [
    "cagr = np.exp(ann_mu) - 1\n",
    "cagr"
   ]
  },
  {
   "cell_type": "code",
   "execution_count": 24,
   "id": "81e60ffe-8b39-482c-bc29-4cad5f171710",
   "metadata": {},
   "outputs": [
    {
     "data": {
      "text/plain": [
       "0.27381663717464577"
      ]
     },
     "execution_count": 24,
     "metadata": {},
     "output_type": "execute_result"
    }
   ],
   "source": [
    "ann_std = msft.log_ret.std() * np.sqrt(252)\n",
    "ann_std"
   ]
  },
  {
   "cell_type": "code",
   "execution_count": null,
   "id": "da971483-cf8a-41d1-b984-3f8e05f2c9c4",
   "metadata": {},
   "outputs": [],
   "source": []
  }
 ],
 "metadata": {
  "kernelspec": {
   "display_name": "Python 3 (ipykernel)",
   "language": "python",
   "name": "python3"
  },
  "language_info": {
   "codemirror_mode": {
    "name": "ipython",
    "version": 3
   },
   "file_extension": ".py",
   "mimetype": "text/x-python",
   "name": "python",
   "nbconvert_exporter": "python",
   "pygments_lexer": "ipython3",
   "version": "3.12.4"
  }
 },
 "nbformat": 4,
 "nbformat_minor": 5
}
