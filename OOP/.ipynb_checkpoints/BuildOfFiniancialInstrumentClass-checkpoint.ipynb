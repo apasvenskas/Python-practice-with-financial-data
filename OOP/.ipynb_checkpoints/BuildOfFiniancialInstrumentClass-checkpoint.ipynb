{
 "cells": [
  {
   "cell_type": "markdown",
   "id": "1d4c99ae-12bb-4b67-a4ad-3e077c58e02e",
   "metadata": {},
   "source": [
    "A Build of Finiancia Instrument Class: Instatation"
   ]
  },
  {
   "cell_type": "code",
   "execution_count": 3,
   "id": "8d0ea496-30fc-4aab-8c76-24c0b290251c",
   "metadata": {},
   "outputs": [],
   "source": [
    "class FiniancialInstrument():\n",
    "    pass"
   ]
  },
  {
   "cell_type": "code",
   "execution_count": 5,
   "id": "65808221-bfa2-4e24-a2e7-e8431b6c097b",
   "metadata": {},
   "outputs": [],
   "source": [
    "stock = FiniancialInstrument()"
   ]
  },
  {
   "cell_type": "code",
   "execution_count": 7,
   "id": "87eb133d-8be9-4e25-992f-894c575e1f4c",
   "metadata": {},
   "outputs": [
    {
     "data": {
      "text/plain": [
       "<__main__.FiniancialInstrument at 0x1f4b5f103e0>"
      ]
     },
     "execution_count": 7,
     "metadata": {},
     "output_type": "execute_result"
    }
   ],
   "source": [
    "stock"
   ]
  },
  {
   "cell_type": "code",
   "execution_count": 9,
   "id": "dbf2e680-8a00-45c0-afa7-270d73f90b9c",
   "metadata": {},
   "outputs": [],
   "source": [
    "class FiniancialInstrument():\n",
    "    def __init__(self, ticker, start, end):\n",
    "        self.ticker = ticker\n",
    "        self.start = start\n",
    "        self.end = end\n",
    "        "
   ]
  },
  {
   "cell_type": "code",
   "execution_count": 11,
   "id": "ab3b2192-c0cb-418e-a9d3-43deb640822a",
   "metadata": {},
   "outputs": [],
   "source": [
    "stock = FiniancialInstrument(\"AAPL\", \"2015-01-01\", \"2019-12-31\")"
   ]
  },
  {
   "cell_type": "code",
   "execution_count": 13,
   "id": "6ed78f54-92f7-4e65-aab8-620cbf59effc",
   "metadata": {},
   "outputs": [
    {
     "data": {
      "text/plain": [
       "<__main__.FiniancialInstrument at 0x1f4b6d31640>"
      ]
     },
     "execution_count": 13,
     "metadata": {},
     "output_type": "execute_result"
    }
   ],
   "source": [
    "stock"
   ]
  },
  {
   "cell_type": "code",
   "execution_count": 15,
   "id": "484a071d-701a-44ec-a0fb-142bbe7012d6",
   "metadata": {},
   "outputs": [
    {
     "data": {
      "text/plain": [
       "'AAPL'"
      ]
     },
     "execution_count": 15,
     "metadata": {},
     "output_type": "execute_result"
    }
   ],
   "source": [
    "stock.ticker"
   ]
  },
  {
   "cell_type": "markdown",
   "id": "2c3854ab-d76f-485d-be36-eea7eff279c0",
   "metadata": {},
   "source": [
    "The method get_data()"
   ]
  },
  {
   "cell_type": "code",
   "execution_count": 5,
   "id": "41153a7d-93d6-4896-9cc1-460ba7f85b4d",
   "metadata": {},
   "outputs": [],
   "source": [
    "import yfinance as yf"
   ]
  },
  {
   "cell_type": "code",
   "execution_count": 7,
   "id": "f45b5cfb-a721-482d-8a0f-318ff1ad2d41",
   "metadata": {},
   "outputs": [
    {
     "name": "stderr",
     "output_type": "stream",
     "text": [
      "[*********************100%***********************]  1 of 1 completed\n"
     ]
    },
    {
     "data": {
      "text/html": [
       "<div>\n",
       "<style scoped>\n",
       "    .dataframe tbody tr th:only-of-type {\n",
       "        vertical-align: middle;\n",
       "    }\n",
       "\n",
       "    .dataframe tbody tr th {\n",
       "        vertical-align: top;\n",
       "    }\n",
       "\n",
       "    .dataframe thead th {\n",
       "        text-align: right;\n",
       "    }\n",
       "</style>\n",
       "<table border=\"1\" class=\"dataframe\">\n",
       "  <thead>\n",
       "    <tr style=\"text-align: right;\">\n",
       "      <th></th>\n",
       "      <th>Close</th>\n",
       "    </tr>\n",
       "    <tr>\n",
       "      <th>Date</th>\n",
       "      <th></th>\n",
       "    </tr>\n",
       "  </thead>\n",
       "  <tbody>\n",
       "    <tr>\n",
       "      <th>2015-01-02</th>\n",
       "      <td>27.332500</td>\n",
       "    </tr>\n",
       "    <tr>\n",
       "      <th>2015-01-05</th>\n",
       "      <td>26.562500</td>\n",
       "    </tr>\n",
       "    <tr>\n",
       "      <th>2015-01-06</th>\n",
       "      <td>26.565001</td>\n",
       "    </tr>\n",
       "    <tr>\n",
       "      <th>2015-01-07</th>\n",
       "      <td>26.937500</td>\n",
       "    </tr>\n",
       "    <tr>\n",
       "      <th>2015-01-08</th>\n",
       "      <td>27.972500</td>\n",
       "    </tr>\n",
       "    <tr>\n",
       "      <th>...</th>\n",
       "      <td>...</td>\n",
       "    </tr>\n",
       "    <tr>\n",
       "      <th>2019-12-23</th>\n",
       "      <td>71.000000</td>\n",
       "    </tr>\n",
       "    <tr>\n",
       "      <th>2019-12-24</th>\n",
       "      <td>71.067497</td>\n",
       "    </tr>\n",
       "    <tr>\n",
       "      <th>2019-12-26</th>\n",
       "      <td>72.477501</td>\n",
       "    </tr>\n",
       "    <tr>\n",
       "      <th>2019-12-27</th>\n",
       "      <td>72.449997</td>\n",
       "    </tr>\n",
       "    <tr>\n",
       "      <th>2019-12-30</th>\n",
       "      <td>72.879997</td>\n",
       "    </tr>\n",
       "  </tbody>\n",
       "</table>\n",
       "<p>1257 rows × 1 columns</p>\n",
       "</div>"
      ],
      "text/plain": [
       "                Close\n",
       "Date                 \n",
       "2015-01-02  27.332500\n",
       "2015-01-05  26.562500\n",
       "2015-01-06  26.565001\n",
       "2015-01-07  26.937500\n",
       "2015-01-08  27.972500\n",
       "...               ...\n",
       "2019-12-23  71.000000\n",
       "2019-12-24  71.067497\n",
       "2019-12-26  72.477501\n",
       "2019-12-27  72.449997\n",
       "2019-12-30  72.879997\n",
       "\n",
       "[1257 rows x 1 columns]"
      ]
     },
     "execution_count": 7,
     "metadata": {},
     "output_type": "execute_result"
    }
   ],
   "source": [
    "yf.download(\"AAPL\", \"2015-01-01\", \"2019-12-31\").Close.to_frame()"
   ]
  },
  {
   "cell_type": "code",
   "execution_count": 17,
   "id": "eb39ee5b-e819-4873-ab8e-6d70ffbdf277",
   "metadata": {},
   "outputs": [
    {
     "name": "stderr",
     "output_type": "stream",
     "text": [
      "[*********************100%***********************]  1 of 1 completed\n"
     ]
    }
   ],
   "source": [
    "raw = yf.download(\"AAPL\", \"2015-01-01\", \"2019-12-31\").Close.to_frame()"
   ]
  },
  {
   "cell_type": "code",
   "execution_count": 19,
   "id": "e412baa5-d831-43d7-a45d-c69269c6e89b",
   "metadata": {},
   "outputs": [
    {
     "data": {
      "text/html": [
       "<div>\n",
       "<style scoped>\n",
       "    .dataframe tbody tr th:only-of-type {\n",
       "        vertical-align: middle;\n",
       "    }\n",
       "\n",
       "    .dataframe tbody tr th {\n",
       "        vertical-align: top;\n",
       "    }\n",
       "\n",
       "    .dataframe thead th {\n",
       "        text-align: right;\n",
       "    }\n",
       "</style>\n",
       "<table border=\"1\" class=\"dataframe\">\n",
       "  <thead>\n",
       "    <tr style=\"text-align: right;\">\n",
       "      <th></th>\n",
       "      <th>Close</th>\n",
       "    </tr>\n",
       "    <tr>\n",
       "      <th>Date</th>\n",
       "      <th></th>\n",
       "    </tr>\n",
       "  </thead>\n",
       "  <tbody>\n",
       "    <tr>\n",
       "      <th>2015-01-02</th>\n",
       "      <td>27.332500</td>\n",
       "    </tr>\n",
       "    <tr>\n",
       "      <th>2015-01-05</th>\n",
       "      <td>26.562500</td>\n",
       "    </tr>\n",
       "    <tr>\n",
       "      <th>2015-01-06</th>\n",
       "      <td>26.565001</td>\n",
       "    </tr>\n",
       "    <tr>\n",
       "      <th>2015-01-07</th>\n",
       "      <td>26.937500</td>\n",
       "    </tr>\n",
       "    <tr>\n",
       "      <th>2015-01-08</th>\n",
       "      <td>27.972500</td>\n",
       "    </tr>\n",
       "    <tr>\n",
       "      <th>...</th>\n",
       "      <td>...</td>\n",
       "    </tr>\n",
       "    <tr>\n",
       "      <th>2019-12-23</th>\n",
       "      <td>71.000000</td>\n",
       "    </tr>\n",
       "    <tr>\n",
       "      <th>2019-12-24</th>\n",
       "      <td>71.067497</td>\n",
       "    </tr>\n",
       "    <tr>\n",
       "      <th>2019-12-26</th>\n",
       "      <td>72.477501</td>\n",
       "    </tr>\n",
       "    <tr>\n",
       "      <th>2019-12-27</th>\n",
       "      <td>72.449997</td>\n",
       "    </tr>\n",
       "    <tr>\n",
       "      <th>2019-12-30</th>\n",
       "      <td>72.879997</td>\n",
       "    </tr>\n",
       "  </tbody>\n",
       "</table>\n",
       "<p>1257 rows × 1 columns</p>\n",
       "</div>"
      ],
      "text/plain": [
       "                Close\n",
       "Date                 \n",
       "2015-01-02  27.332500\n",
       "2015-01-05  26.562500\n",
       "2015-01-06  26.565001\n",
       "2015-01-07  26.937500\n",
       "2015-01-08  27.972500\n",
       "...               ...\n",
       "2019-12-23  71.000000\n",
       "2019-12-24  71.067497\n",
       "2019-12-26  72.477501\n",
       "2019-12-27  72.449997\n",
       "2019-12-30  72.879997\n",
       "\n",
       "[1257 rows x 1 columns]"
      ]
     },
     "execution_count": 19,
     "metadata": {},
     "output_type": "execute_result"
    }
   ],
   "source": [
    "raw"
   ]
  },
  {
   "cell_type": "code",
   "execution_count": 47,
   "id": "6e80238e-b046-4809-8072-f412a5543887",
   "metadata": {},
   "outputs": [],
   "source": [
    "class FiniancialInstrument():\n",
    "    def __init__(self, ticker, start, end):\n",
    "        self.ticker = ticker\n",
    "        self.start = start\n",
    "        self.end = end\n",
    "        self.get_data()\n",
    "    def get_data(self):\n",
    "        raw = yf.download(self.ticker, self.start, self.end).Close.to_frame()\n",
    "        raw.rename(columns = {\"Close\":\"price\"}, inplace = True)\n",
    "        self.data = raw"
   ]
  },
  {
   "cell_type": "code",
   "execution_count": 49,
   "id": "222bc27b-7499-4418-996b-7e4aa01c475a",
   "metadata": {},
   "outputs": [],
   "source": [
    "stock = FiniancialInstrument(\"AAPL\", \"2015-01-01\", \"2019-12-31\")"
   ]
  },
  {
   "cell_type": "code",
   "execution_count": 51,
   "id": "ce0f89cc-6d94-4291-95d9-953eb8d3412a",
   "metadata": {},
   "outputs": [
    {
     "data": {
      "text/plain": [
       "<__main__.FiniancialInstrument at 0x26bb52460c0>"
      ]
     },
     "execution_count": 51,
     "metadata": {},
     "output_type": "execute_result"
    }
   ],
   "source": [
    "stock"
   ]
  },
  {
   "cell_type": "code",
   "execution_count": 53,
   "id": "f079fe16-34a4-4403-8277-9a6173dcc609",
   "metadata": {},
   "outputs": [
    {
     "name": "stderr",
     "output_type": "stream",
     "text": [
      "[*********************100%***********************]  1 of 1 completed\n"
     ]
    }
   ],
   "source": [
    "stock.get_data()"
   ]
  },
  {
   "cell_type": "code",
   "execution_count": 55,
   "id": "14828cab-bb3d-474b-98fe-ad37ec88ec4b",
   "metadata": {},
   "outputs": [
    {
     "data": {
      "text/html": [
       "<div>\n",
       "<style scoped>\n",
       "    .dataframe tbody tr th:only-of-type {\n",
       "        vertical-align: middle;\n",
       "    }\n",
       "\n",
       "    .dataframe tbody tr th {\n",
       "        vertical-align: top;\n",
       "    }\n",
       "\n",
       "    .dataframe thead th {\n",
       "        text-align: right;\n",
       "    }\n",
       "</style>\n",
       "<table border=\"1\" class=\"dataframe\">\n",
       "  <thead>\n",
       "    <tr style=\"text-align: right;\">\n",
       "      <th></th>\n",
       "      <th>price</th>\n",
       "    </tr>\n",
       "    <tr>\n",
       "      <th>Date</th>\n",
       "      <th></th>\n",
       "    </tr>\n",
       "  </thead>\n",
       "  <tbody>\n",
       "    <tr>\n",
       "      <th>2015-01-02</th>\n",
       "      <td>27.332500</td>\n",
       "    </tr>\n",
       "    <tr>\n",
       "      <th>2015-01-05</th>\n",
       "      <td>26.562500</td>\n",
       "    </tr>\n",
       "    <tr>\n",
       "      <th>2015-01-06</th>\n",
       "      <td>26.565001</td>\n",
       "    </tr>\n",
       "    <tr>\n",
       "      <th>2015-01-07</th>\n",
       "      <td>26.937500</td>\n",
       "    </tr>\n",
       "    <tr>\n",
       "      <th>2015-01-08</th>\n",
       "      <td>27.972500</td>\n",
       "    </tr>\n",
       "    <tr>\n",
       "      <th>...</th>\n",
       "      <td>...</td>\n",
       "    </tr>\n",
       "    <tr>\n",
       "      <th>2019-12-23</th>\n",
       "      <td>71.000000</td>\n",
       "    </tr>\n",
       "    <tr>\n",
       "      <th>2019-12-24</th>\n",
       "      <td>71.067497</td>\n",
       "    </tr>\n",
       "    <tr>\n",
       "      <th>2019-12-26</th>\n",
       "      <td>72.477501</td>\n",
       "    </tr>\n",
       "    <tr>\n",
       "      <th>2019-12-27</th>\n",
       "      <td>72.449997</td>\n",
       "    </tr>\n",
       "    <tr>\n",
       "      <th>2019-12-30</th>\n",
       "      <td>72.879997</td>\n",
       "    </tr>\n",
       "  </tbody>\n",
       "</table>\n",
       "<p>1257 rows × 1 columns</p>\n",
       "</div>"
      ],
      "text/plain": [
       "                price\n",
       "Date                 \n",
       "2015-01-02  27.332500\n",
       "2015-01-05  26.562500\n",
       "2015-01-06  26.565001\n",
       "2015-01-07  26.937500\n",
       "2015-01-08  27.972500\n",
       "...               ...\n",
       "2019-12-23  71.000000\n",
       "2019-12-24  71.067497\n",
       "2019-12-26  72.477501\n",
       "2019-12-27  72.449997\n",
       "2019-12-30  72.879997\n",
       "\n",
       "[1257 rows x 1 columns]"
      ]
     },
     "execution_count": 55,
     "metadata": {},
     "output_type": "execute_result"
    }
   ],
   "source": [
    "stock.data"
   ]
  },
  {
   "cell_type": "code",
   "execution_count": null,
   "id": "aa13de04-f51e-4227-9a4c-641b5fe43bf1",
   "metadata": {},
   "outputs": [],
   "source": []
  }
 ],
 "metadata": {
  "kernelspec": {
   "display_name": "Python 3 (ipykernel)",
   "language": "python",
   "name": "python3"
  },
  "language_info": {
   "codemirror_mode": {
    "name": "ipython",
    "version": 3
   },
   "file_extension": ".py",
   "mimetype": "text/x-python",
   "name": "python",
   "nbconvert_exporter": "python",
   "pygments_lexer": "ipython3",
   "version": "3.12.4"
  }
 },
 "nbformat": 4,
 "nbformat_minor": 5
}
