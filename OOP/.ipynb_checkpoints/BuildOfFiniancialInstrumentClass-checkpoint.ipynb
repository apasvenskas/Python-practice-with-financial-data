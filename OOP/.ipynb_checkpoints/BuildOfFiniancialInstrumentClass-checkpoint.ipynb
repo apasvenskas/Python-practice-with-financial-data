{
 "cells": [
  {
   "cell_type": "markdown",
   "id": "1d4c99ae-12bb-4b67-a4ad-3e077c58e02e",
   "metadata": {},
   "source": [
    "A Build of Finiancia Instrument Class: Instatation"
   ]
  },
  {
   "cell_type": "code",
   "execution_count": 3,
   "id": "a477be5c-acae-4ac1-b0f3-43376b5f8c7b",
   "metadata": {},
   "outputs": [],
   "source": [
    "import numpy as np"
   ]
  },
  {
   "cell_type": "code",
   "execution_count": 5,
   "id": "8d0ea496-30fc-4aab-8c76-24c0b290251c",
   "metadata": {},
   "outputs": [],
   "source": [
    "class FiniancialInstrument():\n",
    "    pass"
   ]
  },
  {
   "cell_type": "code",
   "execution_count": 7,
   "id": "65808221-bfa2-4e24-a2e7-e8431b6c097b",
   "metadata": {},
   "outputs": [],
   "source": [
    "stock = FiniancialInstrument()"
   ]
  },
  {
   "cell_type": "code",
   "execution_count": 9,
   "id": "87eb133d-8be9-4e25-992f-894c575e1f4c",
   "metadata": {},
   "outputs": [
    {
     "data": {
      "text/plain": [
       "<__main__.FiniancialInstrument at 0x1773736d730>"
      ]
     },
     "execution_count": 9,
     "metadata": {},
     "output_type": "execute_result"
    }
   ],
   "source": [
    "stock"
   ]
  },
  {
   "cell_type": "code",
   "execution_count": 11,
   "id": "dbf2e680-8a00-45c0-afa7-270d73f90b9c",
   "metadata": {},
   "outputs": [],
   "source": [
    "class FiniancialInstrument():\n",
    "    def __init__(self, ticker, start, end):\n",
    "        self.ticker = ticker\n",
    "        self.start = start\n",
    "        self.end = end\n",
    "        "
   ]
  },
  {
   "cell_type": "code",
   "execution_count": 13,
   "id": "ab3b2192-c0cb-418e-a9d3-43deb640822a",
   "metadata": {},
   "outputs": [],
   "source": [
    "stock = FiniancialInstrument(\"AAPL\", \"2015-01-01\", \"2019-12-31\")"
   ]
  },
  {
   "cell_type": "code",
   "execution_count": 15,
   "id": "6ed78f54-92f7-4e65-aab8-620cbf59effc",
   "metadata": {},
   "outputs": [
    {
     "data": {
      "text/plain": [
       "<__main__.FiniancialInstrument at 0x17736a6a270>"
      ]
     },
     "execution_count": 15,
     "metadata": {},
     "output_type": "execute_result"
    }
   ],
   "source": [
    "stock"
   ]
  },
  {
   "cell_type": "code",
   "execution_count": 17,
   "id": "484a071d-701a-44ec-a0fb-142bbe7012d6",
   "metadata": {},
   "outputs": [
    {
     "data": {
      "text/plain": [
       "'AAPL'"
      ]
     },
     "execution_count": 17,
     "metadata": {},
     "output_type": "execute_result"
    }
   ],
   "source": [
    "stock.ticker"
   ]
  },
  {
   "cell_type": "markdown",
   "id": "2c3854ab-d76f-485d-be36-eea7eff279c0",
   "metadata": {},
   "source": [
    "The method get_data()"
   ]
  },
  {
   "cell_type": "code",
   "execution_count": 20,
   "id": "41153a7d-93d6-4896-9cc1-460ba7f85b4d",
   "metadata": {},
   "outputs": [],
   "source": [
    "import yfinance as yf"
   ]
  },
  {
   "cell_type": "code",
   "execution_count": 21,
   "id": "f45b5cfb-a721-482d-8a0f-318ff1ad2d41",
   "metadata": {},
   "outputs": [
    {
     "name": "stderr",
     "output_type": "stream",
     "text": [
      "[*********************100%***********************]  1 of 1 completed\n"
     ]
    },
    {
     "data": {
      "text/html": [
       "<div>\n",
       "<style scoped>\n",
       "    .dataframe tbody tr th:only-of-type {\n",
       "        vertical-align: middle;\n",
       "    }\n",
       "\n",
       "    .dataframe tbody tr th {\n",
       "        vertical-align: top;\n",
       "    }\n",
       "\n",
       "    .dataframe thead th {\n",
       "        text-align: right;\n",
       "    }\n",
       "</style>\n",
       "<table border=\"1\" class=\"dataframe\">\n",
       "  <thead>\n",
       "    <tr style=\"text-align: right;\">\n",
       "      <th></th>\n",
       "      <th>Close</th>\n",
       "    </tr>\n",
       "    <tr>\n",
       "      <th>Date</th>\n",
       "      <th></th>\n",
       "    </tr>\n",
       "  </thead>\n",
       "  <tbody>\n",
       "    <tr>\n",
       "      <th>2015-01-02</th>\n",
       "      <td>27.332500</td>\n",
       "    </tr>\n",
       "    <tr>\n",
       "      <th>2015-01-05</th>\n",
       "      <td>26.562500</td>\n",
       "    </tr>\n",
       "    <tr>\n",
       "      <th>2015-01-06</th>\n",
       "      <td>26.565001</td>\n",
       "    </tr>\n",
       "    <tr>\n",
       "      <th>2015-01-07</th>\n",
       "      <td>26.937500</td>\n",
       "    </tr>\n",
       "    <tr>\n",
       "      <th>2015-01-08</th>\n",
       "      <td>27.972500</td>\n",
       "    </tr>\n",
       "    <tr>\n",
       "      <th>...</th>\n",
       "      <td>...</td>\n",
       "    </tr>\n",
       "    <tr>\n",
       "      <th>2019-12-23</th>\n",
       "      <td>71.000000</td>\n",
       "    </tr>\n",
       "    <tr>\n",
       "      <th>2019-12-24</th>\n",
       "      <td>71.067497</td>\n",
       "    </tr>\n",
       "    <tr>\n",
       "      <th>2019-12-26</th>\n",
       "      <td>72.477501</td>\n",
       "    </tr>\n",
       "    <tr>\n",
       "      <th>2019-12-27</th>\n",
       "      <td>72.449997</td>\n",
       "    </tr>\n",
       "    <tr>\n",
       "      <th>2019-12-30</th>\n",
       "      <td>72.879997</td>\n",
       "    </tr>\n",
       "  </tbody>\n",
       "</table>\n",
       "<p>1257 rows × 1 columns</p>\n",
       "</div>"
      ],
      "text/plain": [
       "                Close\n",
       "Date                 \n",
       "2015-01-02  27.332500\n",
       "2015-01-05  26.562500\n",
       "2015-01-06  26.565001\n",
       "2015-01-07  26.937500\n",
       "2015-01-08  27.972500\n",
       "...               ...\n",
       "2019-12-23  71.000000\n",
       "2019-12-24  71.067497\n",
       "2019-12-26  72.477501\n",
       "2019-12-27  72.449997\n",
       "2019-12-30  72.879997\n",
       "\n",
       "[1257 rows x 1 columns]"
      ]
     },
     "execution_count": 21,
     "metadata": {},
     "output_type": "execute_result"
    }
   ],
   "source": [
    "yf.download(\"AAPL\", \"2015-01-01\", \"2019-12-31\").Close.to_frame()"
   ]
  },
  {
   "cell_type": "code",
   "execution_count": 23,
   "id": "eb39ee5b-e819-4873-ab8e-6d70ffbdf277",
   "metadata": {},
   "outputs": [
    {
     "name": "stderr",
     "output_type": "stream",
     "text": [
      "[*********************100%***********************]  1 of 1 completed\n"
     ]
    }
   ],
   "source": [
    "raw = yf.download(\"AAPL\", \"2015-01-01\", \"2019-12-31\").Close.to_frame()"
   ]
  },
  {
   "cell_type": "code",
   "execution_count": 24,
   "id": "e412baa5-d831-43d7-a45d-c69269c6e89b",
   "metadata": {},
   "outputs": [
    {
     "data": {
      "text/html": [
       "<div>\n",
       "<style scoped>\n",
       "    .dataframe tbody tr th:only-of-type {\n",
       "        vertical-align: middle;\n",
       "    }\n",
       "\n",
       "    .dataframe tbody tr th {\n",
       "        vertical-align: top;\n",
       "    }\n",
       "\n",
       "    .dataframe thead th {\n",
       "        text-align: right;\n",
       "    }\n",
       "</style>\n",
       "<table border=\"1\" class=\"dataframe\">\n",
       "  <thead>\n",
       "    <tr style=\"text-align: right;\">\n",
       "      <th></th>\n",
       "      <th>Close</th>\n",
       "    </tr>\n",
       "    <tr>\n",
       "      <th>Date</th>\n",
       "      <th></th>\n",
       "    </tr>\n",
       "  </thead>\n",
       "  <tbody>\n",
       "    <tr>\n",
       "      <th>2015-01-02</th>\n",
       "      <td>27.332500</td>\n",
       "    </tr>\n",
       "    <tr>\n",
       "      <th>2015-01-05</th>\n",
       "      <td>26.562500</td>\n",
       "    </tr>\n",
       "    <tr>\n",
       "      <th>2015-01-06</th>\n",
       "      <td>26.565001</td>\n",
       "    </tr>\n",
       "    <tr>\n",
       "      <th>2015-01-07</th>\n",
       "      <td>26.937500</td>\n",
       "    </tr>\n",
       "    <tr>\n",
       "      <th>2015-01-08</th>\n",
       "      <td>27.972500</td>\n",
       "    </tr>\n",
       "    <tr>\n",
       "      <th>...</th>\n",
       "      <td>...</td>\n",
       "    </tr>\n",
       "    <tr>\n",
       "      <th>2019-12-23</th>\n",
       "      <td>71.000000</td>\n",
       "    </tr>\n",
       "    <tr>\n",
       "      <th>2019-12-24</th>\n",
       "      <td>71.067497</td>\n",
       "    </tr>\n",
       "    <tr>\n",
       "      <th>2019-12-26</th>\n",
       "      <td>72.477501</td>\n",
       "    </tr>\n",
       "    <tr>\n",
       "      <th>2019-12-27</th>\n",
       "      <td>72.449997</td>\n",
       "    </tr>\n",
       "    <tr>\n",
       "      <th>2019-12-30</th>\n",
       "      <td>72.879997</td>\n",
       "    </tr>\n",
       "  </tbody>\n",
       "</table>\n",
       "<p>1257 rows × 1 columns</p>\n",
       "</div>"
      ],
      "text/plain": [
       "                Close\n",
       "Date                 \n",
       "2015-01-02  27.332500\n",
       "2015-01-05  26.562500\n",
       "2015-01-06  26.565001\n",
       "2015-01-07  26.937500\n",
       "2015-01-08  27.972500\n",
       "...               ...\n",
       "2019-12-23  71.000000\n",
       "2019-12-24  71.067497\n",
       "2019-12-26  72.477501\n",
       "2019-12-27  72.449997\n",
       "2019-12-30  72.879997\n",
       "\n",
       "[1257 rows x 1 columns]"
      ]
     },
     "execution_count": 24,
     "metadata": {},
     "output_type": "execute_result"
    }
   ],
   "source": [
    "raw"
   ]
  },
  {
   "cell_type": "code",
   "execution_count": 25,
   "id": "6e80238e-b046-4809-8072-f412a5543887",
   "metadata": {},
   "outputs": [],
   "source": [
    "class FiniancialInstrument():\n",
    "    def __init__(self, ticker, start, end):\n",
    "        self.ticker = ticker\n",
    "        self.start = start\n",
    "        self.end = end\n",
    "        self.get_data()\n",
    "    def __repr__(self):\n",
    "        return \"FiniancialInstrument(ticker = {}, start = {}, end = {})\".format(self.ticker, \n",
    "                                                                                self.start, self.end)\n",
    "    def get_data(self):\n",
    "        raw = yf.download(self.ticker, self.start, self.end).Close.to_frame()\n",
    "        raw.rename(columns = {\"Close\":\"price\"}, inplace = True)\n",
    "        self.data = raw\n",
    "    def log_returns(self):\n",
    "        self.data[\"log_returns\"] = np.log(self.data.price/self.data.price.shift(1))"
   ]
  },
  {
   "cell_type": "code",
   "execution_count": 30,
   "id": "222bc27b-7499-4418-996b-7e4aa01c475a",
   "metadata": {},
   "outputs": [
    {
     "name": "stderr",
     "output_type": "stream",
     "text": [
      "[*********************100%***********************]  1 of 1 completed\n"
     ]
    }
   ],
   "source": [
    "stock = FiniancialInstrument(\"AAPL\", \"2015-01-01\", \"2019-12-31\")"
   ]
  },
  {
   "cell_type": "code",
   "execution_count": 32,
   "id": "ce0f89cc-6d94-4291-95d9-953eb8d3412a",
   "metadata": {},
   "outputs": [
    {
     "data": {
      "text/plain": [
       "FiniancialInstrument(ticker = AAPL, start = 2015-01-01, end = 2019-12-31)"
      ]
     },
     "execution_count": 32,
     "metadata": {},
     "output_type": "execute_result"
    }
   ],
   "source": [
    "stock"
   ]
  },
  {
   "cell_type": "code",
   "execution_count": 34,
   "id": "f079fe16-34a4-4403-8277-9a6173dcc609",
   "metadata": {},
   "outputs": [
    {
     "name": "stderr",
     "output_type": "stream",
     "text": [
      "[*********************100%***********************]  1 of 1 completed\n"
     ]
    }
   ],
   "source": [
    "stock.get_data()"
   ]
  },
  {
   "cell_type": "code",
   "execution_count": 36,
   "id": "14828cab-bb3d-474b-98fe-ad37ec88ec4b",
   "metadata": {},
   "outputs": [
    {
     "data": {
      "text/html": [
       "<div>\n",
       "<style scoped>\n",
       "    .dataframe tbody tr th:only-of-type {\n",
       "        vertical-align: middle;\n",
       "    }\n",
       "\n",
       "    .dataframe tbody tr th {\n",
       "        vertical-align: top;\n",
       "    }\n",
       "\n",
       "    .dataframe thead th {\n",
       "        text-align: right;\n",
       "    }\n",
       "</style>\n",
       "<table border=\"1\" class=\"dataframe\">\n",
       "  <thead>\n",
       "    <tr style=\"text-align: right;\">\n",
       "      <th></th>\n",
       "      <th>price</th>\n",
       "    </tr>\n",
       "    <tr>\n",
       "      <th>Date</th>\n",
       "      <th></th>\n",
       "    </tr>\n",
       "  </thead>\n",
       "  <tbody>\n",
       "    <tr>\n",
       "      <th>2015-01-02</th>\n",
       "      <td>27.332500</td>\n",
       "    </tr>\n",
       "    <tr>\n",
       "      <th>2015-01-05</th>\n",
       "      <td>26.562500</td>\n",
       "    </tr>\n",
       "    <tr>\n",
       "      <th>2015-01-06</th>\n",
       "      <td>26.565001</td>\n",
       "    </tr>\n",
       "    <tr>\n",
       "      <th>2015-01-07</th>\n",
       "      <td>26.937500</td>\n",
       "    </tr>\n",
       "    <tr>\n",
       "      <th>2015-01-08</th>\n",
       "      <td>27.972500</td>\n",
       "    </tr>\n",
       "    <tr>\n",
       "      <th>...</th>\n",
       "      <td>...</td>\n",
       "    </tr>\n",
       "    <tr>\n",
       "      <th>2019-12-23</th>\n",
       "      <td>71.000000</td>\n",
       "    </tr>\n",
       "    <tr>\n",
       "      <th>2019-12-24</th>\n",
       "      <td>71.067497</td>\n",
       "    </tr>\n",
       "    <tr>\n",
       "      <th>2019-12-26</th>\n",
       "      <td>72.477501</td>\n",
       "    </tr>\n",
       "    <tr>\n",
       "      <th>2019-12-27</th>\n",
       "      <td>72.449997</td>\n",
       "    </tr>\n",
       "    <tr>\n",
       "      <th>2019-12-30</th>\n",
       "      <td>72.879997</td>\n",
       "    </tr>\n",
       "  </tbody>\n",
       "</table>\n",
       "<p>1257 rows × 1 columns</p>\n",
       "</div>"
      ],
      "text/plain": [
       "                price\n",
       "Date                 \n",
       "2015-01-02  27.332500\n",
       "2015-01-05  26.562500\n",
       "2015-01-06  26.565001\n",
       "2015-01-07  26.937500\n",
       "2015-01-08  27.972500\n",
       "...               ...\n",
       "2019-12-23  71.000000\n",
       "2019-12-24  71.067497\n",
       "2019-12-26  72.477501\n",
       "2019-12-27  72.449997\n",
       "2019-12-30  72.879997\n",
       "\n",
       "[1257 rows x 1 columns]"
      ]
     },
     "execution_count": 36,
     "metadata": {},
     "output_type": "execute_result"
    }
   ],
   "source": [
    "stock.data"
   ]
  },
  {
   "cell_type": "markdown",
   "id": "80d006f0-cee2-4872-a58d-973ba17db21c",
   "metadata": {},
   "source": [
    "The Methods plot_data() & plot_returns()"
   ]
  },
  {
   "cell_type": "code",
   "execution_count": 39,
   "id": "f0a96deb-efd2-491e-b2b8-ffb757c2eb79",
   "metadata": {},
   "outputs": [
    {
     "data": {
      "text/plain": [
       "FiniancialInstrument(ticker = AAPL, start = 2015-01-01, end = 2019-12-31)"
      ]
     },
     "execution_count": 39,
     "metadata": {},
     "output_type": "execute_result"
    }
   ],
   "source": [
    "stock"
   ]
  },
  {
   "cell_type": "code",
   "execution_count": 41,
   "id": "6f829ed4-ad41-4637-853d-a020c5ace1e4",
   "metadata": {},
   "outputs": [
    {
     "data": {
      "text/html": [
       "<div>\n",
       "<style scoped>\n",
       "    .dataframe tbody tr th:only-of-type {\n",
       "        vertical-align: middle;\n",
       "    }\n",
       "\n",
       "    .dataframe tbody tr th {\n",
       "        vertical-align: top;\n",
       "    }\n",
       "\n",
       "    .dataframe thead th {\n",
       "        text-align: right;\n",
       "    }\n",
       "</style>\n",
       "<table border=\"1\" class=\"dataframe\">\n",
       "  <thead>\n",
       "    <tr style=\"text-align: right;\">\n",
       "      <th></th>\n",
       "      <th>price</th>\n",
       "    </tr>\n",
       "    <tr>\n",
       "      <th>Date</th>\n",
       "      <th></th>\n",
       "    </tr>\n",
       "  </thead>\n",
       "  <tbody>\n",
       "    <tr>\n",
       "      <th>2015-01-02</th>\n",
       "      <td>27.332500</td>\n",
       "    </tr>\n",
       "    <tr>\n",
       "      <th>2015-01-05</th>\n",
       "      <td>26.562500</td>\n",
       "    </tr>\n",
       "    <tr>\n",
       "      <th>2015-01-06</th>\n",
       "      <td>26.565001</td>\n",
       "    </tr>\n",
       "    <tr>\n",
       "      <th>2015-01-07</th>\n",
       "      <td>26.937500</td>\n",
       "    </tr>\n",
       "    <tr>\n",
       "      <th>2015-01-08</th>\n",
       "      <td>27.972500</td>\n",
       "    </tr>\n",
       "    <tr>\n",
       "      <th>...</th>\n",
       "      <td>...</td>\n",
       "    </tr>\n",
       "    <tr>\n",
       "      <th>2019-12-23</th>\n",
       "      <td>71.000000</td>\n",
       "    </tr>\n",
       "    <tr>\n",
       "      <th>2019-12-24</th>\n",
       "      <td>71.067497</td>\n",
       "    </tr>\n",
       "    <tr>\n",
       "      <th>2019-12-26</th>\n",
       "      <td>72.477501</td>\n",
       "    </tr>\n",
       "    <tr>\n",
       "      <th>2019-12-27</th>\n",
       "      <td>72.449997</td>\n",
       "    </tr>\n",
       "    <tr>\n",
       "      <th>2019-12-30</th>\n",
       "      <td>72.879997</td>\n",
       "    </tr>\n",
       "  </tbody>\n",
       "</table>\n",
       "<p>1257 rows × 1 columns</p>\n",
       "</div>"
      ],
      "text/plain": [
       "                price\n",
       "Date                 \n",
       "2015-01-02  27.332500\n",
       "2015-01-05  26.562500\n",
       "2015-01-06  26.565001\n",
       "2015-01-07  26.937500\n",
       "2015-01-08  27.972500\n",
       "...               ...\n",
       "2019-12-23  71.000000\n",
       "2019-12-24  71.067497\n",
       "2019-12-26  72.477501\n",
       "2019-12-27  72.449997\n",
       "2019-12-30  72.879997\n",
       "\n",
       "[1257 rows x 1 columns]"
      ]
     },
     "execution_count": 41,
     "metadata": {},
     "output_type": "execute_result"
    }
   ],
   "source": [
    "stock.data"
   ]
  },
  {
   "cell_type": "code",
   "execution_count": 43,
   "id": "65824239-c454-4369-8cd0-fda08ad10c3a",
   "metadata": {},
   "outputs": [
    {
     "data": {
      "text/plain": [
       "<Axes: xlabel='Date'>"
      ]
     },
     "execution_count": 43,
     "metadata": {},
     "output_type": "execute_result"
    },
    {
     "data": {
      "image/png": "[encoded data removed]",
      "text/plain": [
       "<Figure size 640x480 with 1 Axes>"
      ]
     },
     "metadata": {},
     "output_type": "display_data"
    }
   ],
   "source": [
    "stock.data.price.plot()"
   ]
  },
  {
   "cell_type": "code",
   "execution_count": 44,
   "id": "17e61fb7-2d4c-40e8-ba73-c65374f0deb2",
   "metadata": {},
   "outputs": [
    {
     "ename": "AttributeError",
     "evalue": "'DataFrame' object has no attribute 'log_returns'",
     "output_type": "error",
     "traceback": [
      "\u001b[1;31m---------------------------------------------------------------------------\u001b[0m",
      "\u001b[1;31mAttributeError\u001b[0m                            Traceback (most recent call last)",
      "\u001b[1;32m~\\AppData\\Local\\Temp\\ipykernel_12460\\3572396699.py\u001b[0m in \u001b[0;36m?\u001b[1;34m()\u001b[0m\n\u001b[1;32m----> 1\u001b[1;33m \u001b[0mstock\u001b[0m\u001b[1;33m.\u001b[0m\u001b[0mdata\u001b[0m\u001b[1;33m.\u001b[0m\u001b[0mlog_returns\u001b[0m\u001b[1;33m.\u001b[0m\u001b[0mplot\u001b[0m\u001b[1;33m(\u001b[0m\u001b[1;33m)\u001b[0m\u001b[1;33m\u001b[0m\u001b[1;33m\u001b[0m\u001b[0m\n\u001b[0m",
      "\u001b[1;32m~\\anaconda3\\Lib\\site-packages\\pandas\\core\\generic.py\u001b[0m in \u001b[0;36m?\u001b[1;34m(self, name)\u001b[0m\n\u001b[0;32m   6295\u001b[0m             \u001b[1;32mand\u001b[0m \u001b[0mname\u001b[0m \u001b[1;32mnot\u001b[0m \u001b[1;32min\u001b[0m \u001b[0mself\u001b[0m\u001b[1;33m.\u001b[0m\u001b[0m_accessors\u001b[0m\u001b[1;33m\u001b[0m\u001b[1;33m\u001b[0m\u001b[0m\n\u001b[0;32m   6296\u001b[0m             \u001b[1;32mand\u001b[0m \u001b[0mself\u001b[0m\u001b[1;33m.\u001b[0m\u001b[0m_info_axis\u001b[0m\u001b[1;33m.\u001b[0m\u001b[0m_can_hold_identifiers_and_holds_name\u001b[0m\u001b[1;33m(\u001b[0m\u001b[0mname\u001b[0m\u001b[1;33m)\u001b[0m\u001b[1;33m\u001b[0m\u001b[1;33m\u001b[0m\u001b[0m\n\u001b[0;32m   6297\u001b[0m         \u001b[1;33m)\u001b[0m\u001b[1;33m:\u001b[0m\u001b[1;33m\u001b[0m\u001b[1;33m\u001b[0m\u001b[0m\n\u001b[0;32m   6298\u001b[0m             \u001b[1;32mreturn\u001b[0m \u001b[0mself\u001b[0m\u001b[1;33m[\u001b[0m\u001b[0mname\u001b[0m\u001b[1;33m]\u001b[0m\u001b[1;33m\u001b[0m\u001b[1;33m\u001b[0m\u001b[0m\n\u001b[1;32m-> 6299\u001b[1;33m         \u001b[1;32mreturn\u001b[0m \u001b[0mobject\u001b[0m\u001b[1;33m.\u001b[0m\u001b[0m__getattribute__\u001b[0m\u001b[1;33m(\u001b[0m\u001b[0mself\u001b[0m\u001b[1;33m,\u001b[0m \u001b[0mname\u001b[0m\u001b[1;33m)\u001b[0m\u001b[1;33m\u001b[0m\u001b[1;33m\u001b[0m\u001b[0m\n\u001b[0m",
      "\u001b[1;31mAttributeError\u001b[0m: 'DataFrame' object has no attribute 'log_returns'"
     ]
    }
   ],
   "source": [
    "stock.data.log_returns.plot()"
   ]
  },
  {
   "cell_type": "code",
   "execution_count": null,
   "id": "401ae6cc-fd2d-4fe9-9119-7a20022b3e77",
   "metadata": {},
   "outputs": [],
   "source": [
    "stock.data.log_returns.hist(bins = 100)"
   ]
  },
  {
   "cell_type": "code",
   "execution_count": null,
   "id": "180190ca-08a8-4bc5-9474-c93c2e5c814f",
   "metadata": {},
   "outputs": [],
   "source": [
    "class FiniancialInstrument():\n",
    "    def __init__(self, ticker, start, end):\n",
    "        self.ticker = ticker\n",
    "        self.start = start\n",
    "        self.end = end\n",
    "        self.get_data()    \n",
    "        self.log_returns()\n",
    "    def __repr__(self):\n",
    "        return \"FiniancialInstrument(ticker = {}, start = {}, end = {})\".format(self.ticker,                                                                              self.start, self.end)\n",
    "    def get_data(self):\n",
    "        raw = yf.download(self.ticker, self.start, self.end).Close.to_frame()\n",
    "        raw.rename(columns = {\"Close\":\"price\"}, inplace = True)\n",
    "        self.data = raw\n",
    "    def log_returns(self):\n",
    "        self.data[\"log_returns\"] = np.log(self.data.price/self.data.price.shift(1))\n",
    "        return self.data[\"log_returns\"]\n",
    "    def plot_prices(self):\n",
    "        self.data.price.plot(figsize = (12, 8))\n",
    "        # plt.title(\"Price Chart:{}\".format(self.ticker), fontsize = 15)\n",
    "    def plot_returns(self, kind=\"ts\"):\n",
    "        if kind == \"ts\":\n",
    "            self.data['log_returns'].plot(figsize=(12, 8))  # Correct access\n",
    "        elif kind == \"hist\":\n",
    "            self.data['log_returns'].hist(figsize=(12, 8), bins=int(np.sqrt(len(self.data))))\n"
   ]
  },
  {
   "cell_type": "code",
   "execution_count": null,
   "id": "08b0316e-f409-4b84-8bba-2c19c199bf05",
   "metadata": {},
   "outputs": [],
   "source": [
    "stock = FiniancialInstrument(\"aapl\", \"2015-01-01\", \"2019-12-31\")"
   ]
  },
  {
   "cell_type": "code",
   "execution_count": null,
   "id": "47fba9ca-e14e-4c72-861e-9f77a2a986ef",
   "metadata": {},
   "outputs": [],
   "source": [
    "stock.plot_prices()"
   ]
  },
  {
   "cell_type": "code",
   "execution_count": null,
   "id": "f63285db-1b05-4385-8d31-0be0db081458",
   "metadata": {},
   "outputs": [],
   "source": [
    "# stock.log_returns()\n",
    "# print(stock.data.head())  "
   ]
  },
  {
   "cell_type": "code",
   "execution_count": 51,
   "id": "bdab3e91-d2c6-453d-9bec-41b6036d928d",
   "metadata": {},
   "outputs": [],
   "source": [
    "# stock.plot_returns(kind = \"hist\")"
   ]
  },
  {
   "cell_type": "markdown",
   "id": "cb60bcca-0438-4c5e-8032-432cd76bbdc7",
   "metadata": {},
   "source": [
    "Encapsulation"
   ]
  },
  {
   "cell_type": "code",
   "execution_count": 54,
   "id": "30e3790d-68d8-4a75-9f0b-f3495798f2d8",
   "metadata": {},
   "outputs": [
    {
     "data": {
      "text/plain": [
       "FiniancialInstrument(ticker = AAPL, start = 2015-01-01, end = 2019-12-31)"
      ]
     },
     "execution_count": 54,
     "metadata": {},
     "output_type": "execute_result"
    }
   ],
   "source": [
    "stock"
   ]
  },
  {
   "cell_type": "code",
   "execution_count": 56,
   "id": "045b3429-5780-4c39-a62e-445cd53c2f03",
   "metadata": {},
   "outputs": [
    {
     "ename": "AttributeError",
     "evalue": "'FiniancialInstrument' object has no attribute 'plot_prices'",
     "output_type": "error",
     "traceback": [
      "\u001b[1;31m---------------------------------------------------------------------------\u001b[0m",
      "\u001b[1;31mAttributeError\u001b[0m                            Traceback (most recent call last)",
      "Cell \u001b[1;32mIn[56], line 1\u001b[0m\n\u001b[1;32m----> 1\u001b[0m stock\u001b[38;5;241m.\u001b[39mplot_prices()\n",
      "\u001b[1;31mAttributeError\u001b[0m: 'FiniancialInstrument' object has no attribute 'plot_prices'"
     ]
    }
   ],
   "source": [
    "stock.plot_prices()"
   ]
  },
  {
   "cell_type": "code",
   "execution_count": null,
   "id": "ced65ae6-5545-4922-8699-6806b9d5b3bc",
   "metadata": {},
   "outputs": [],
   "source": [
    "stock.ticker"
   ]
  },
  {
   "cell_type": "code",
   "execution_count": 59,
   "id": "c6930449-0d4d-4035-90f9-2b663893c71b",
   "metadata": {},
   "outputs": [],
   "source": [
    "stock.ticker = \"GE\""
   ]
  },
  {
   "cell_type": "code",
   "execution_count": 61,
   "id": "ff5c32f3-8248-4a5c-949c-b29ebb78fdb3",
   "metadata": {},
   "outputs": [
    {
     "data": {
      "text/plain": [
       "'GE'"
      ]
     },
     "execution_count": 61,
     "metadata": {},
     "output_type": "execute_result"
    }
   ],
   "source": [
    "stock.ticker"
   ]
  },
  {
   "cell_type": "code",
   "execution_count": 63,
   "id": "ce754ee0-3576-4c3f-9a18-6a11ba30a445",
   "metadata": {},
   "outputs": [
    {
     "ename": "AttributeError",
     "evalue": "'FiniancialInstrument' object has no attribute 'plot_prices'",
     "output_type": "error",
     "traceback": [
      "\u001b[1;31m---------------------------------------------------------------------------\u001b[0m",
      "\u001b[1;31mAttributeError\u001b[0m                            Traceback (most recent call last)",
      "Cell \u001b[1;32mIn[63], line 1\u001b[0m\n\u001b[1;32m----> 1\u001b[0m stock\u001b[38;5;241m.\u001b[39mplot_prices()\n",
      "\u001b[1;31mAttributeError\u001b[0m: 'FiniancialInstrument' object has no attribute 'plot_prices'"
     ]
    }
   ],
   "source": [
    "stock.plot_prices()"
   ]
  },
  {
   "cell_type": "code",
   "execution_count": 65,
   "id": "0159dc1b-f8b9-4f31-98c9-c6b07f778608",
   "metadata": {},
   "outputs": [],
   "source": [
    "class FiniancialInstrument():\n",
    "    def __init__(self, ticker, start, end):\n",
    "        self.ticker = ticker\n",
    "        self.start = start\n",
    "        self.end = end\n",
    "        self.get_data()\n",
    "        self.log_returns()\n",
    "    def __repr__(self):\n",
    "        return \"FiniancialInstrument(ticker = {}, start = {}, end = {})\".format(self.ticker,                                                                              self.start, self.end)\n",
    "    def get_data(self):\n",
    "        raw = yf.download(self.ticker, self.start, self.end).Close.to_frame()\n",
    "        raw.rename(columns = {\"Close\":\"price\"}, inplace = True)\n",
    "        self.data = raw\n",
    "    def log_returns(self):\n",
    "        self.data[\"log_returns\"] = np.log(self.data.price/self.data.price.shift(1))\n",
    "        return self.data[\"log_returns\"]\n",
    "    def plot_prices(self):\n",
    "        self.data.price.plot(figsize = (12, 8))\n",
    "        # plt.title(\"Price Chart:{}\".format(self.ticker), fontsize = 15)\n",
    "    def plot_returns(self, kind=\"ts\"):\n",
    "        if kind == \"ts\":\n",
    "            self.data['log_returns'].plot(figsize=(12, 8))  # Correct access\n",
    "        elif kind == \"hist\":\n",
    "            self.data['log_returns'].hist(figsize=(12, 8), bins=int(np.sqrt(len(self.data))))"
   ]
  },
  {
   "cell_type": "code",
   "execution_count": 67,
   "id": "8c63a057-e68f-43cb-aa66-cc4c7b527b70",
   "metadata": {},
   "outputs": [
    {
     "name": "stderr",
     "output_type": "stream",
     "text": [
      "[*********************100%***********************]  1 of 1 completed\n"
     ]
    }
   ],
   "source": [
    "stock = FiniancialInstrument(\"aapl\", \"2015-01-01\", \"2019-12-31\")"
   ]
  },
  {
   "cell_type": "code",
   "execution_count": 69,
   "id": "b0e114f0-34a0-4c81-a21b-d1cac55222ce",
   "metadata": {},
   "outputs": [
    {
     "data": {
      "text/plain": [
       "FiniancialInstrument(ticker = aapl, start = 2015-01-01, end = 2019-12-31)"
      ]
     },
     "execution_count": 69,
     "metadata": {},
     "output_type": "execute_result"
    }
   ],
   "source": [
    "stock"
   ]
  },
  {
   "cell_type": "code",
   "execution_count": 71,
   "id": "bf148a39-a161-4b03-b684-090f7544697c",
   "metadata": {},
   "outputs": [
    {
     "data": {
      "text/plain": [
       "'aapl'"
      ]
     },
     "execution_count": 71,
     "metadata": {},
     "output_type": "execute_result"
    }
   ],
   "source": [
    "stock.ticker"
   ]
  },
  {
   "cell_type": "markdown",
   "id": "81fd318d-3c18-47e0-b701-1680631fd6f3",
   "metadata": {},
   "source": [
    "The method set_ticker()"
   ]
  },
  {
   "cell_type": "code",
   "execution_count": 74,
   "id": "b4bec245-7160-48d4-879f-f0f41277edf9",
   "metadata": {},
   "outputs": [
    {
     "name": "stderr",
     "output_type": "stream",
     "text": [
      "[*********************100%***********************]  1 of 1 completed\n",
      "[*********************100%***********************]  1 of 1 completed\n"
     ]
    }
   ],
   "source": [
    "import numpy as np\n",
    "import yfinance as yf\n",
    "import matplotlib.pyplot as plt\n",
    "\n",
    "class FiniancialInstrument():\n",
    "    def __init__(self, ticker, start, end):\n",
    "        if ticker is not None:\n",
    "            self._ticker = ticker  # Store the ticker in the private _ticker attribute\n",
    "            self.start = start\n",
    "            self.end = end\n",
    "            self.get_data()\n",
    "            self.log_returns()\n",
    "\n",
    "    def __repr__(self):\n",
    "        return \"FiniancialInstrument(ticker = {}, start = {}, end = {})\".format(self._ticker,\n",
    "                                                                                self.start, self.end)\n",
    "\n",
    "    def get_data(self):\n",
    "        # Use the private _ticker attribute\n",
    "        raw = yf.download(self._ticker, self.start, self.end).Close.to_frame()\n",
    "        raw.rename(columns = {\"Close\":\"price\"}, inplace = True)\n",
    "        self.data = raw\n",
    "\n",
    "    def log_returns(self):\n",
    "        self.data[\"log_returns\"] = np.log(self.data.price / self.data.price.shift(1))\n",
    "        return self.data[\"log_returns\"]\n",
    "\n",
    "    def plot_prices(self):\n",
    "        self.data.price.plot(figsize=(12, 8))\n",
    "        # plt.title(\"Price Chart:{}\".format(self._ticker), fontsize = 15)\n",
    "\n",
    "    def plot_returns(self, kind=\"ts\"):\n",
    "        if kind == \"ts\":\n",
    "            self.data['log_returns'].plot(figsize=(12, 8))\n",
    "        elif kind == \"hist\":\n",
    "            self.data['log_returns'].hist(figsize=(12, 8), bins=int(np.sqrt(len(self.data))))\n",
    "\n",
    "    def set_ticker(self, ticker=None):\n",
    "        if ticker is not None:\n",
    "            self._ticker = ticker  # Update the private _ticker attribute\n",
    "            self.get_data()  # Fetch new data for the new ticker\n",
    "            self.log_returns()  # Recompute log returns for the new data\n",
    "\n",
    "# Example usage:\n",
    "stock = FiniancialInstrument(\"AAPL\", \"2015-01-01\", \"2019-12-31\")\n",
    "stock.set_ticker(\"GE\")  # This should work now\n"
   ]
  },
  {
   "cell_type": "code",
   "execution_count": 76,
   "id": "1dd63787-48fa-4dd5-9fe3-55f959923bab",
   "metadata": {},
   "outputs": [
    {
     "data": {
      "image/png": "[encoded data removed]",
      "text/plain": [
       "<Figure size 1200x800 with 1 Axes>"
      ]
     },
     "metadata": {},
     "output_type": "display_data"
    }
   ],
   "source": [
    "stock.plot_prices()"
   ]
  },
  {
   "cell_type": "code",
   "execution_count": 78,
   "id": "a34e8ec8-5e15-44f1-b28b-c8a4375564c7",
   "metadata": {},
   "outputs": [
    {
     "name": "stderr",
     "output_type": "stream",
     "text": [
      "[*********************100%***********************]  1 of 1 completed\n"
     ]
    }
   ],
   "source": [
    "stock.set_ticker(\"GE\")"
   ]
  },
  {
   "cell_type": "code",
   "execution_count": 80,
   "id": "cf4cc0c1-fb93-4b3f-8c20-e5ee395ec0b9",
   "metadata": {},
   "outputs": [
    {
     "data": {
      "image/png": "[encoded data removed]",
      "text/plain": [
       "<Figure size 1200x800 with 1 Axes>"
      ]
     },
     "metadata": {},
     "output_type": "display_data"
    }
   ],
   "source": [
    "stock.plot_prices()"
   ]
  },
  {
   "cell_type": "markdown",
   "id": "c0a24a6c-c43b-4646-9b03-e3c3d99114cf",
   "metadata": {},
   "source": [
    "Adding more methods nad performance metrics"
   ]
  },
  {
   "cell_type": "markdown",
   "id": "6637cae8-e9be-42a3-b301-028bc670d2ac",
   "metadata": {},
   "source": [
    "Added mean return"
   ]
  },
  {
   "cell_type": "code",
   "execution_count": 88,
   "id": "b5e0ceaf-deb0-4c58-be5d-fb65072de3be",
   "metadata": {},
   "outputs": [],
   "source": [
    "class FiniancialInstrument():\n",
    "    def __init__(self, ticker, start, end):\n",
    "        if ticker is not None:\n",
    "            self._ticker = ticker  # Store the ticker in the private _ticker attribute\n",
    "            self.start = start\n",
    "            self.end = end\n",
    "            self.get_data()\n",
    "            self.log_returns()\n",
    "\n",
    "    def __repr__(self):\n",
    "        return \"FiniancialInstrument(ticker = {}, start = {}, end = {})\".format(self._ticker,\n",
    "                                                                                self.start, self.end)\n",
    "\n",
    "    def get_data(self):\n",
    "        # Use the private _ticker attribute\n",
    "        raw = yf.download(self._ticker, self.start, self.end).Close.to_frame()\n",
    "        raw.rename(columns = {\"Close\":\"price\"}, inplace = True)\n",
    "        self.data = raw\n",
    "\n",
    "    def log_returns(self):\n",
    "        self.data[\"log_returns\"] = np.log(self.data.price / self.data.price.shift(1))\n",
    "        return self.data[\"log_returns\"]\n",
    "\n",
    "    def plot_prices(self):\n",
    "        self.data.price.plot(figsize=(12, 8))\n",
    "        # plt.title(\"Price Chart:{}\".format(self._ticker), fontsize = 15)\n",
    "\n",
    "    def plot_returns(self, kind=\"ts\"):\n",
    "        if kind == \"ts\":\n",
    "            self.data['log_returns'].plot(figsize=(12, 8))\n",
    "        elif kind == \"hist\":\n",
    "            self.data['log_returns'].hist(figsize=(12, 8), bins=int(np.sqrt(len(self.data))))\n",
    "\n",
    "    def set_ticker(self, ticker=None):\n",
    "        if ticker is not None:\n",
    "            self._ticker = ticker  # Update the private _ticker attribute\n",
    "            self.get_data()  # Fetch new data for the new ticker\n",
    "            self.log_returns()  # Recompute log returns for the new data\n",
    "\n",
    "    def mean_return(self, freq = None):\n",
    "        if freq is None:\n",
    "            return self.data.log_returns.mean()\n",
    "        else:\n",
    "            resample_price = self.data.price.resample(freq).last()\n",
    "            resample_returns = np.log(resampled_price / resample_price.shift(1))\n",
    "            return resample_returns.mean()\n",
    "\n",
    "    def std_returns(self, freq = None):\n",
    "        if freq is None:\n",
    "            return self.data.log_returns.std()\n",
    "        else:\n",
    "            resampled_price = self.data.price.resample(freq).last()\n",
    "            resampled_returns = np.log(resampled_price / resampled_price.shift(1))\n",
    "            return resampled_returns.std()\n",
    "\n",
    "    def annualized_perf(self):\n",
    "        mean_return = round(self.data.log_returns.mean() * 252, 3)\n",
    "        risk = round(self.data.log_returns.std() * np.sqrt(252), 3)\n",
    "        print(\"Return: {} | Risk: {}\".format(mean_return, risk))"
   ]
  },
  {
   "cell_type": "code",
   "execution_count": 90,
   "id": "7362548e-f053-43d1-8283-9f36a4877509",
   "metadata": {},
   "outputs": [
    {
     "name": "stderr",
     "output_type": "stream",
     "text": [
      "[*********************100%***********************]  1 of 1 completed\n"
     ]
    }
   ],
   "source": [
    "stock = FiniancialInstrument(\"aapl\", \"2015-01-01\", \"2019-12-31\")"
   ]
  },
  {
   "cell_type": "code",
   "execution_count": 92,
   "id": "2fbb1c6e-4dbd-4f17-b7a5-883bbe217691",
   "metadata": {},
   "outputs": [
    {
     "data": {
      "text/plain": [
       "0.0007808421402793629"
      ]
     },
     "execution_count": 92,
     "metadata": {},
     "output_type": "execute_result"
    }
   ],
   "source": [
    "stock.mean_return()"
   ]
  },
  {
   "cell_type": "code",
   "execution_count": 98,
   "id": "2a51bf5a-acf7-4ff9-bf6b-7c53d3ef21ae",
   "metadata": {},
   "outputs": [
    {
     "data": {
      "text/plain": [
       "0.015692926036583846"
      ]
     },
     "execution_count": 98,
     "metadata": {},
     "output_type": "execute_result"
    }
   ],
   "source": [
    "stock.std_returns()"
   ]
  },
  {
   "cell_type": "code",
   "execution_count": 102,
   "id": "5e075cf5-8761-4f7d-b54f-d9077fc3494c",
   "metadata": {},
   "outputs": [
    {
     "data": {
      "text/plain": [
       "0.3031286167641461"
      ]
     },
     "execution_count": 102,
     "metadata": {},
     "output_type": "execute_result"
    }
   ],
   "source": [
    "stock.std_returns(\"YE\")"
   ]
  },
  {
   "cell_type": "code",
   "execution_count": 104,
   "id": "65a0d824-3758-4f44-88b6-3ab0581b1f3d",
   "metadata": {},
   "outputs": [
    {
     "name": "stdout",
     "output_type": "stream",
     "text": [
      "Return: 0.197 | Risk: 0.249\n"
     ]
    }
   ],
   "source": [
    "stock.annualized_perf()"
   ]
  },
  {
   "cell_type": "code",
   "execution_count": null,
   "id": "b024ef66-2c51-40e9-b203-5a4079582483",
   "metadata": {},
   "outputs": [],
   "source": []
  }
 ],
 "metadata": {
  "kernelspec": {
   "display_name": "Python 3 (ipykernel)",
   "language": "python",
   "name": "python3"
  },
  "language_info": {
   "codemirror_mode": {
    "name": "ipython",
    "version": 3
   },
   "file_extension": ".py",
   "mimetype": "text/x-python",
   "name": "python",
   "nbconvert_exporter": "python",
   "pygments_lexer": "ipython3",
   "version": "3.12.4"
  }
 },
 "nbformat": 4,
 "nbformat_minor": 5
}
