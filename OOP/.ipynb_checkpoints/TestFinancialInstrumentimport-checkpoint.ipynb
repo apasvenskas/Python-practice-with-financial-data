{
 "cells": [
  {
   "cell_type": "markdown",
   "id": "226f4e12-b94d-4e0a-ad46-5d3f2ade421d",
   "metadata": {},
   "source": [
    "Test"
   ]
  },
  {
   "cell_type": "code",
   "execution_count": 4,
   "id": "71b80c10-6035-4b06-97f8-c411f2464b8c",
   "metadata": {},
   "outputs": [],
   "source": [
    "import FinancialInstrument as FI"
   ]
  },
  {
   "cell_type": "code",
   "execution_count": 8,
   "id": "945111ca-70b9-47f7-9e77-1387f2af235e",
   "metadata": {},
   "outputs": [
    {
     "ename": "AttributeError",
     "evalue": "module 'FinancialInstrument' has no attribute 'FinancialInstrumentBase'",
     "output_type": "error",
     "traceback": [
      "\u001b[1;31m---------------------------------------------------------------------------\u001b[0m",
      "\u001b[1;31mAttributeError\u001b[0m                            Traceback (most recent call last)",
      "Cell \u001b[1;32mIn[8], line 1\u001b[0m\n\u001b[1;32m----> 1\u001b[0m stocks \u001b[38;5;241m=\u001b[39m FI\u001b[38;5;241m.\u001b[39mFinancialInstrumentBase(\u001b[38;5;124m\"\u001b[39m\u001b[38;5;124mAAPL\u001b[39m\u001b[38;5;124m\"\u001b[39m, \u001b[38;5;124m\"\u001b[39m\u001b[38;5;124m2015-01-01\u001b[39m\u001b[38;5;124m\"\u001b[39m, \u001b[38;5;124m\"\u001b[39m\u001b[38;5;124m2018-01-01\u001b[39m\u001b[38;5;124m\"\u001b[39m)\n",
      "\u001b[1;31mAttributeError\u001b[0m: module 'FinancialInstrument' has no attribute 'FinancialInstrumentBase'"
     ]
    }
   ],
   "source": [
    "stocks = FI.FinancialInstrumentBase(\"AAPL\", \"2015-01-01\", \"2018-01-01\")"
   ]
  },
  {
   "cell_type": "code",
   "execution_count": null,
   "id": "578a19e4-1123-4f34-b7e9-38210c0fcf9b",
   "metadata": {},
   "outputs": [],
   "source": []
  }
 ],
 "metadata": {
  "kernelspec": {
   "display_name": "Python 3 (ipykernel)",
   "language": "python",
   "name": "python3"
  },
  "language_info": {
   "codemirror_mode": {
    "name": "ipython",
    "version": 3
   },
   "file_extension": ".py",
   "mimetype": "text/x-python",
   "name": "python",
   "nbconvert_exporter": "python",
   "pygments_lexer": "ipython3",
   "version": "3.12.4"
  }
 },
 "nbformat": 4,
 "nbformat_minor": 5
}
