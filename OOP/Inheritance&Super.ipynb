{
 "cells": [
  {
   "cell_type": "markdown",
   "id": "64e41b58-df55-4e6b-a4a0-0bb98c3eb6c4",
   "metadata": {},
   "source": [
    "Inheritance and the super() Function"
   ]
  },
  {
   "cell_type": "code",
   "execution_count": 24,
   "id": "cfaaeb95-63b0-40ee-b06f-a82d3ec12b81",
   "metadata": {},
   "outputs": [],
   "source": [
    "import pandas as pd\n",
    "import numpy as np\n",
    "import matplotlib.pyplot as plt\n",
    "import yfinance as yf"
   ]
  },
  {
   "cell_type": "code",
   "execution_count": 26,
   "id": "f4501702-2e5f-4e32-88c4-5098229287db",
   "metadata": {},
   "outputs": [],
   "source": [
    "class FiniancialInstrumentBase():\n",
    "    def __init__(self, ticker, start, end):\n",
    "        if ticker is not None:\n",
    "            self._ticker = ticker  \n",
    "            self.start = start\n",
    "            self.end = end\n",
    "            self.get_data()\n",
    "            self.log_returns()\n",
    "\n",
    "    def __repr__(self):\n",
    "        return \"FiniancialInstrument(ticker = {}, start = {}, end = {})\".format(self._ticker,\n",
    "                                                                                self.start, self.end)\n",
    "\n",
    "    def get_data(self):\n",
    "        raw = yf.download(self._ticker, self.start, self.end).Close.to_frame()\n",
    "        raw.rename(columns = {\"Close\":\"price\"}, inplace = True)\n",
    "        self.data = raw\n",
    "\n",
    "    def log_returns(self):\n",
    "        self.data[\"log_returns\"] = np.log(self.data.price / self.data.price.shift(1))\n",
    "        return self.data[\"log_returns\"]\n",
    "\n",
    "    def plot_prices(self):\n",
    "        self.data.price.plot(figsize=(12, 8))\n",
    "        # plt.title(\"Price Chart:{}\".format(self._ticker), fontsize = 15)\n",
    "\n",
    "    def plot_returns(self, kind=\"ts\"):\n",
    "        if kind == \"ts\":\n",
    "            self.data['log_returns'].plot(figsize=(12, 8))\n",
    "        elif kind == \"hist\":\n",
    "            self.data['log_returns'].hist(figsize=(12, 8), bins=int(np.sqrt(len(self.data))))\n",
    "\n",
    "    def set_ticker(self, ticker=None):\n",
    "        if ticker is not None:\n",
    "            self._ticker = ticker  # Update the private _ticker attribute\n",
    "            self.get_data()  # Fetch new data for the new ticker\n",
    "            self.log_returns()  # Recompute log returns for the new data\n",
    "\n",
    "    def mean_return(self, freq = None):\n",
    "        if freq is None:\n",
    "            return self.data.log_returns.mean()\n",
    "        else:\n",
    "            resample_price = self.data.price.resample(freq).last()\n",
    "            resample_returns = np.log(resampled_price / resample_price.shift(1))\n",
    "            return resample_returns.mean()\n",
    "\n",
    "    def std_returns(self, freq = None):\n",
    "        if freq is None:\n",
    "            return self.data.log_returns.std()\n",
    "        else:\n",
    "            resampled_price = self.data.price.resample(freq).last()\n",
    "            resampled_returns = np.log(resampled_price / resampled_price.shift(1))\n",
    "            return resampled_returns.std()\n",
    "\n",
    "    def annualized_perf(self):\n",
    "        mean_return = round(self.data.log_returns.mean() * 252, 3)\n",
    "        risk = round(self.data.log_returns.std() * np.sqrt(252), 3)\n",
    "        print(\"Return: {} | Risk: {}\".format(mean_return, risk))"
   ]
  },
  {
   "cell_type": "code",
   "execution_count": 40,
   "id": "cdc13146-e8e8-443b-856b-5173ae8d44b9",
   "metadata": {},
   "outputs": [],
   "source": [
    "class RiskReturn(FiniancialInstrumentBase): # Inheritce the FiniancialInstrument code. \n",
    "\n",
    "    def __init__(self, ticker, start, end, freq = None):\n",
    "        super().__init__(ticker, start, end)\n",
    "        self.freq = freq\n",
    "    \n",
    "    def __repr__(self):\n",
    "        return \"RiskReturn(ticker = {}, start = {}, end = {})\".format(self._ticker, self.start, self.end)\n",
    "        \n",
    "    def mean_return(self):\n",
    "        if self.freq is None:\n",
    "            return self.data.log_returns.mean()\n",
    "        else:\n",
    "            resampled_price = self.data.price.resample(self.freq).last()\n",
    "            resampled_returns = np.log(resampled_price / resampled_price.shift(1))\n",
    "            return resampled_returns.mean()\n",
    "            \n",
    "    def std_returns(self):\n",
    "        if self.freq is None:\n",
    "            return self.data.log_returns.std()\n",
    "        else:\n",
    "            resampled_price = self.data.price.resample(self.freq).last()\n",
    "            resampled_returns = np.log(resampled_price / resampled_price.shift(1))\n",
    "            return resampled_returns.std()\n",
    "\n",
    "    def annualized_perf(self):\n",
    "        mean_return = round(self.data.log_returns.mean() * 252, 3)\n",
    "        risk = round(self.data.log_returns.std() * np.sqrt(252), 3)\n",
    "        print(\"Return: {} | Risk: {}\".format(mean_return, risk))"
   ]
  },
  {
   "cell_type": "code",
   "execution_count": 42,
   "id": "61bb0518-e5a6-4528-95be-3d35769e673c",
   "metadata": {},
   "outputs": [
    {
     "name": "stderr",
     "output_type": "stream",
     "text": [
      "[*********************100%***********************]  1 of 1 completed\n"
     ]
    }
   ],
   "source": [
    "stock = RiskReturn(\"aapl\", \"2015-01-01\", \"2019-12-31\", freq = \"w\")"
   ]
  },
  {
   "cell_type": "code",
   "execution_count": 43,
   "id": "902785c4-d56a-4f86-89b1-12218415e32c",
   "metadata": {},
   "outputs": [
    {
     "data": {
      "text/plain": [
       "'w'"
      ]
     },
     "execution_count": 43,
     "metadata": {},
     "output_type": "execute_result"
    }
   ],
   "source": [
    "stock.freq"
   ]
  },
  {
   "cell_type": "code",
   "execution_count": 44,
   "id": "b28803ec-dfeb-4c1c-a9a3-16976433ac06",
   "metadata": {},
   "outputs": [
    {
     "data": {
      "text/plain": [
       "'aapl'"
      ]
     },
     "execution_count": 44,
     "metadata": {},
     "output_type": "execute_result"
    }
   ],
   "source": [
    "stock._ticker"
   ]
  },
  {
   "cell_type": "code",
   "execution_count": 48,
   "id": "e4674918-2d3d-4f7a-b275-d00f864e21f8",
   "metadata": {},
   "outputs": [
    {
     "data": {
      "text/html": [
       "<div>\n",
       "<style scoped>\n",
       "    .dataframe tbody tr th:only-of-type {\n",
       "        vertical-align: middle;\n",
       "    }\n",
       "\n",
       "    .dataframe tbody tr th {\n",
       "        vertical-align: top;\n",
       "    }\n",
       "\n",
       "    .dataframe thead th {\n",
       "        text-align: right;\n",
       "    }\n",
       "</style>\n",
       "<table border=\"1\" class=\"dataframe\">\n",
       "  <thead>\n",
       "    <tr style=\"text-align: right;\">\n",
       "      <th></th>\n",
       "      <th>price</th>\n",
       "      <th>log_returns</th>\n",
       "    </tr>\n",
       "    <tr>\n",
       "      <th>Date</th>\n",
       "      <th></th>\n",
       "      <th></th>\n",
       "    </tr>\n",
       "  </thead>\n",
       "  <tbody>\n",
       "    <tr>\n",
       "      <th>2015-01-02</th>\n",
       "      <td>27.332500</td>\n",
       "      <td>NaN</td>\n",
       "    </tr>\n",
       "    <tr>\n",
       "      <th>2015-01-05</th>\n",
       "      <td>26.562500</td>\n",
       "      <td>-0.028576</td>\n",
       "    </tr>\n",
       "    <tr>\n",
       "      <th>2015-01-06</th>\n",
       "      <td>26.565001</td>\n",
       "      <td>0.000094</td>\n",
       "    </tr>\n",
       "    <tr>\n",
       "      <th>2015-01-07</th>\n",
       "      <td>26.937500</td>\n",
       "      <td>0.013925</td>\n",
       "    </tr>\n",
       "    <tr>\n",
       "      <th>2015-01-08</th>\n",
       "      <td>27.972500</td>\n",
       "      <td>0.037703</td>\n",
       "    </tr>\n",
       "    <tr>\n",
       "      <th>...</th>\n",
       "      <td>...</td>\n",
       "      <td>...</td>\n",
       "    </tr>\n",
       "    <tr>\n",
       "      <th>2019-12-23</th>\n",
       "      <td>71.000000</td>\n",
       "      <td>0.016187</td>\n",
       "    </tr>\n",
       "    <tr>\n",
       "      <th>2019-12-24</th>\n",
       "      <td>71.067497</td>\n",
       "      <td>0.000950</td>\n",
       "    </tr>\n",
       "    <tr>\n",
       "      <th>2019-12-26</th>\n",
       "      <td>72.477501</td>\n",
       "      <td>0.019646</td>\n",
       "    </tr>\n",
       "    <tr>\n",
       "      <th>2019-12-27</th>\n",
       "      <td>72.449997</td>\n",
       "      <td>-0.000380</td>\n",
       "    </tr>\n",
       "    <tr>\n",
       "      <th>2019-12-30</th>\n",
       "      <td>72.879997</td>\n",
       "      <td>0.005918</td>\n",
       "    </tr>\n",
       "  </tbody>\n",
       "</table>\n",
       "<p>1257 rows × 2 columns</p>\n",
       "</div>"
      ],
      "text/plain": [
       "                price  log_returns\n",
       "Date                              \n",
       "2015-01-02  27.332500          NaN\n",
       "2015-01-05  26.562500    -0.028576\n",
       "2015-01-06  26.565001     0.000094\n",
       "2015-01-07  26.937500     0.013925\n",
       "2015-01-08  27.972500     0.037703\n",
       "...               ...          ...\n",
       "2019-12-23  71.000000     0.016187\n",
       "2019-12-24  71.067497     0.000950\n",
       "2019-12-26  72.477501     0.019646\n",
       "2019-12-27  72.449997    -0.000380\n",
       "2019-12-30  72.879997     0.005918\n",
       "\n",
       "[1257 rows x 2 columns]"
      ]
     },
     "execution_count": 48,
     "metadata": {},
     "output_type": "execute_result"
    }
   ],
   "source": [
    "stock.data"
   ]
  },
  {
   "cell_type": "code",
   "execution_count": 56,
   "id": "36f07173-049a-4287-90dc-a9864d659890",
   "metadata": {},
   "outputs": [
    {
     "data": {
      "image/png": "[encoded data removed]",
      "text/plain": [
       "<Figure size 1200x800 with 1 Axes>"
      ]
     },
     "metadata": {},
     "output_type": "display_data"
    }
   ],
   "source": [
    "stock.plot_prices()"
   ]
  },
  {
   "cell_type": "code",
   "execution_count": 58,
   "id": "b3f1d2ef-9816-43cf-9bb3-856ea200a6a8",
   "metadata": {},
   "outputs": [
    {
     "name": "stderr",
     "output_type": "stream",
     "text": [
      "C:\\Users\\audri\\AppData\\Local\\Temp\\ipykernel_11512\\503701661.py:14: FutureWarning: 'w' is deprecated and will be removed in a future version, please use 'W' instead.\n",
      "  resampled_price = self.data.price.resample(self.freq).last()\n"
     ]
    },
    {
     "data": {
      "text/plain": [
       "0.0037576158168232733"
      ]
     },
     "execution_count": 58,
     "metadata": {},
     "output_type": "execute_result"
    }
   ],
   "source": [
    "stock.mean_return()"
   ]
  },
  {
   "cell_type": "code",
   "execution_count": null,
   "id": "173c722f-ebec-42a3-9d8d-ed2837fc71af",
   "metadata": {},
   "outputs": [],
   "source": []
  }
 ],
 "metadata": {
  "kernelspec": {
   "display_name": "Python 3 (ipykernel)",
   "language": "python",
   "name": "python3"
  },
  "language_info": {
   "codemirror_mode": {
    "name": "ipython",
    "version": 3
   },
   "file_extension": ".py",
   "mimetype": "text/x-python",
   "name": "python",
   "nbconvert_exporter": "python",
   "pygments_lexer": "ipython3",
   "version": "3.12.4"
  }
 },
 "nbformat": 4,
 "nbformat_minor": 5
}
