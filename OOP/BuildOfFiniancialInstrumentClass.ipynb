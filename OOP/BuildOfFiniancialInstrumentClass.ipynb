{
 "cells": [
  {
   "cell_type": "markdown",
   "id": "1d4c99ae-12bb-4b67-a4ad-3e077c58e02e",
   "metadata": {},
   "source": [
    "A Build of Finiancia Instrument Class: Instatation"
   ]
  },
  {
   "cell_type": "code",
   "execution_count": 3,
   "id": "8d0ea496-30fc-4aab-8c76-24c0b290251c",
   "metadata": {},
   "outputs": [],
   "source": [
    "class FiniancialInstrument():\n",
    "    pass"
   ]
  },
  {
   "cell_type": "code",
   "execution_count": 5,
   "id": "65808221-bfa2-4e24-a2e7-e8431b6c097b",
   "metadata": {},
   "outputs": [],
   "source": [
    "stock = FiniancialInstrument()"
   ]
  },
  {
   "cell_type": "code",
   "execution_count": 7,
   "id": "87eb133d-8be9-4e25-992f-894c575e1f4c",
   "metadata": {},
   "outputs": [
    {
     "data": {
      "text/plain": [
       "<__main__.FiniancialInstrument at 0x1f4b5f103e0>"
      ]
     },
     "execution_count": 7,
     "metadata": {},
     "output_type": "execute_result"
    }
   ],
   "source": [
    "stock"
   ]
  },
  {
   "cell_type": "code",
   "execution_count": 9,
   "id": "dbf2e680-8a00-45c0-afa7-270d73f90b9c",
   "metadata": {},
   "outputs": [],
   "source": [
    "class FiniancialInstrument():\n",
    "    def __init__(self, ticker, start, end):\n",
    "        self.ticker = ticker\n",
    "        self.start = start\n",
    "        self.end = end\n",
    "        "
   ]
  },
  {
   "cell_type": "code",
   "execution_count": 11,
   "id": "ab3b2192-c0cb-418e-a9d3-43deb640822a",
   "metadata": {},
   "outputs": [],
   "source": [
    "stock = FiniancialInstrument(\"AAPL\", \"2015-01-01\", \"2019-12-31\")"
   ]
  },
  {
   "cell_type": "code",
   "execution_count": 13,
   "id": "6ed78f54-92f7-4e65-aab8-620cbf59effc",
   "metadata": {},
   "outputs": [
    {
     "data": {
      "text/plain": [
       "<__main__.FiniancialInstrument at 0x1f4b6d31640>"
      ]
     },
     "execution_count": 13,
     "metadata": {},
     "output_type": "execute_result"
    }
   ],
   "source": [
    "stock"
   ]
  },
  {
   "cell_type": "code",
   "execution_count": null,
   "id": "484a071d-701a-44ec-a0fb-142bbe7012d6",
   "metadata": {},
   "outputs": [],
   "source": []
  }
 ],
 "metadata": {
  "kernelspec": {
   "display_name": "Python 3 (ipykernel)",
   "language": "python",
   "name": "python3"
  },
  "language_info": {
   "codemirror_mode": {
    "name": "ipython",
    "version": 3
   },
   "file_extension": ".py",
   "mimetype": "text/x-python",
   "name": "python",
   "nbconvert_exporter": "python",
   "pygments_lexer": "ipython3",
   "version": "3.12.4"
  }
 },
 "nbformat": 4,
 "nbformat_minor": 5
}
