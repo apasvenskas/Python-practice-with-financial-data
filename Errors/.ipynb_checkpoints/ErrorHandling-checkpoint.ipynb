{
 "cells": [
  {
   "cell_type": "markdown",
   "id": "3fe7e83c-ab18-4806-8658-539e5b8e4080",
   "metadata": {},
   "source": [
    "# Error Handling"
   ]
  },
  {
   "cell_type": "code",
   "execution_count": 2,
   "id": "1f8a3167-94c9-4e76-9fb5-5d8d454baca7",
   "metadata": {},
   "outputs": [],
   "source": [
    "my_list = [1, 2, 3, \"Four\", 5, 6, 7]"
   ]
  },
  {
   "cell_type": "code",
   "execution_count": 3,
   "id": "f3ec7932-8389-403f-9443-3116730c1579",
   "metadata": {},
   "outputs": [
    {
     "name": "stdout",
     "output_type": "stream",
     "text": [
      "11\n",
      "12\n",
      "13\n"
     ]
    },
    {
     "ename": "TypeError",
     "evalue": "unsupported operand type(s) for +: 'int' and 'str'",
     "output_type": "error",
     "traceback": [
      "\u001b[1;31m---------------------------------------------------------------------------\u001b[0m",
      "\u001b[1;31mTypeError\u001b[0m                                 Traceback (most recent call last)",
      "Cell \u001b[1;32mIn[3], line 2\u001b[0m\n\u001b[0;32m      1\u001b[0m \u001b[38;5;28;01mfor\u001b[39;00m element \u001b[38;5;129;01min\u001b[39;00m my_list:\n\u001b[1;32m----> 2\u001b[0m     result \u001b[38;5;241m=\u001b[39m \u001b[38;5;241m10\u001b[39m \u001b[38;5;241m+\u001b[39m element\n\u001b[0;32m      3\u001b[0m     \u001b[38;5;28mprint\u001b[39m(result)\n",
      "\u001b[1;31mTypeError\u001b[0m: unsupported operand type(s) for +: 'int' and 'str'"
     ]
    }
   ],
   "source": [
    "for element in my_list:\n",
    "    result = 10 + element\n",
    "    print(result)"
   ]
  },
  {
   "cell_type": "markdown",
   "id": "799e3833-49d2-4919-8eb3-b7150b4e6046",
   "metadata": {},
   "source": [
    "### Using try and except for debugging "
   ]
  },
  {
   "cell_type": "code",
   "execution_count": 6,
   "id": "6bc63bbb-6f3d-48c4-8524-10577798c1ed",
   "metadata": {},
   "outputs": [
    {
     "name": "stdout",
     "output_type": "stream",
     "text": [
      "13\n",
      "13\n",
      "13\n",
      "Four is not a number.\n",
      "13\n",
      "13\n",
      "13\n"
     ]
    }
   ],
   "source": [
    "for element in my_list:\n",
    "    try:\n",
    "        results = 10 + element\n",
    "        print(result)\n",
    "    except:\n",
    "        print(\"{} is not a number.\".format(element))"
   ]
  },
  {
   "cell_type": "markdown",
   "id": "de9d2c31-2566-48a3-bd30-3632c2fe0cc3",
   "metadata": {},
   "source": [
    "### Specific Error Handling"
   ]
  },
  {
   "cell_type": "code",
   "execution_count": 9,
   "id": "6ea9a4a9-6f47-4c7a-b06e-dcebce759486",
   "metadata": {},
   "outputs": [
    {
     "name": "stdout",
     "output_type": "stream",
     "text": [
      "13\n",
      "13\n",
      "13\n",
      "Four is not a number.\n",
      "13\n",
      "13\n",
      "13\n"
     ]
    }
   ],
   "source": [
    "for element in my_list:\n",
    "    try:\n",
    "        results = 10 + element\n",
    "        print(result)\n",
    "    except TypeError: \n",
    "        print(\"{} is not a number.\".format(element))"
   ]
  },
  {
   "cell_type": "code",
   "execution_count": 11,
   "id": "2c2f1f9d-a6c2-4899-9ddb-313515484c38",
   "metadata": {},
   "outputs": [
    {
     "name": "stdout",
     "output_type": "stream",
     "text": [
      "13\n",
      "13\n",
      "13\n"
     ]
    },
    {
     "ename": "TypeError",
     "evalue": "unsupported operand type(s) for +: 'int' and 'str'",
     "output_type": "error",
     "traceback": [
      "\u001b[1;31m---------------------------------------------------------------------------\u001b[0m",
      "\u001b[1;31mTypeError\u001b[0m                                 Traceback (most recent call last)",
      "Cell \u001b[1;32mIn[11], line 3\u001b[0m\n\u001b[0;32m      1\u001b[0m \u001b[38;5;28;01mfor\u001b[39;00m element \u001b[38;5;129;01min\u001b[39;00m my_list:\n\u001b[0;32m      2\u001b[0m     \u001b[38;5;28;01mtry\u001b[39;00m:\n\u001b[1;32m----> 3\u001b[0m         results \u001b[38;5;241m=\u001b[39m \u001b[38;5;241m10\u001b[39m \u001b[38;5;241m+\u001b[39m element\n\u001b[0;32m      4\u001b[0m         \u001b[38;5;28mprint\u001b[39m(result)\n\u001b[0;32m      5\u001b[0m     \u001b[38;5;28;01mexcept\u001b[39;00m \u001b[38;5;167;01mValueError\u001b[39;00m:\n",
      "\u001b[1;31mTypeError\u001b[0m: unsupported operand type(s) for +: 'int' and 'str'"
     ]
    }
   ],
   "source": [
    "for element in my_list:\n",
    "    try:\n",
    "        results = 10 + element\n",
    "        print(result)\n",
    "    except ValueError:\n",
    "        print(\"{} is not a number.\".format(element))"
   ]
  },
  {
   "cell_type": "code",
   "execution_count": 13,
   "id": "8de9e351-ea05-4a67-a3b9-d9e9fed4dfc8",
   "metadata": {},
   "outputs": [
    {
     "name": "stdout",
     "output_type": "stream",
     "text": [
      "13\n",
      "13\n",
      "13\n",
      "Four is not a number. | unsupported operand type(s) for +: 'int' and 'str'\n",
      "13\n",
      "13\n",
      "13\n"
     ]
    }
   ],
   "source": [
    "for element in my_list:\n",
    "    try:\n",
    "        results = 10 + element\n",
    "        print(result)\n",
    "    except Exception as e:\n",
    "        print(\"{} is not a number.\".format(element), end = \" | \")\n",
    "        print(e)"
   ]
  },
  {
   "cell_type": "markdown",
   "id": "d599671c-0a3d-4af6-8459-71ee434eda5c",
   "metadata": {},
   "source": [
    "### Try, Except, Else"
   ]
  },
  {
   "cell_type": "code",
   "execution_count": 16,
   "id": "827a171f-da9d-43be-b8eb-c7b6e91ca44a",
   "metadata": {},
   "outputs": [],
   "source": [
    "my_list = [1, 2, 3, \"Four\", 5, 6, 7]"
   ]
  },
  {
   "cell_type": "code",
   "execution_count": 18,
   "id": "ff462342-13e1-493d-9eee-e3c16af1fdaf",
   "metadata": {},
   "outputs": [
    {
     "name": "stdout",
     "output_type": "stream",
     "text": [
      "11 | 1 is a valid input\n",
      "12 | 2 is a valid input\n",
      "13 | 3 is a valid input\n",
      "Four is not a number | unsupported operand type(s) for +: 'int' and 'str'\n",
      "15 | 5 is a valid input\n",
      "16 | 6 is a valid input\n",
      "17 | 7 is a valid input\n"
     ]
    }
   ],
   "source": [
    "for element in my_list:\n",
    "    try:\n",
    "        result = 10 + element\n",
    "    except Exception as e:\n",
    "        print(\"{} is not a number\".format(element), end = \" | \")\n",
    "        print(e)\n",
    "    else: # if no error the following.\n",
    "        print(result, end = \" | \")\n",
    "        print(\"{} is a valid input\".format(element))"
   ]
  },
  {
   "cell_type": "code",
   "execution_count": 20,
   "id": "3cd0b644-1242-4ec0-a135-a571f50f1b24",
   "metadata": {},
   "outputs": [
    {
     "name": "stdout",
     "output_type": "stream",
     "text": [
      "11 | 1 is a valid input\n",
      "12 | 2 is a valid input\n",
      "13 | 3 is a valid input\n",
      "Four is not a number | unsupported operand type(s) for +: 'int' and 'str'\n",
      "15 | 5 is a valid input\n",
      "16 | 6 is a valid input\n",
      "17 | 7 is a valid input\n"
     ]
    }
   ],
   "source": [
    "# alternative\n",
    "for element in my_list:\n",
    "    try:\n",
    "        result = 10 + element\n",
    "        print(result, end = \" | \")\n",
    "        print(\"{} is a valid input\".format(element))\n",
    "    except Exception as e:\n",
    "        print(\"{} is not a number\".format(element), end = \" | \")\n",
    "        print(e)\n",
    "       "
   ]
  },
  {
   "cell_type": "markdown",
   "id": "eae801d3-7dcc-49da-9696-577690f592dd",
   "metadata": {},
   "source": [
    "#### The addition of finally"
   ]
  },
  {
   "cell_type": "code",
   "execution_count": null,
   "id": "5bf90973-05f0-4f4f-a7f8-281d761aade7",
   "metadata": {},
   "outputs": [],
   "source": [
    "for element in my_list:\n",
    "    try:\n",
    "        result = 10 + element\n",
    "    except Exception as e:\n",
    "        print(\"{} is not a number\".format(element), end = \" | \")\n",
    "        print(e, end = \" | \")\n",
    "        break\n",
    "    else:\n",
    "        print(result, end = \" | \")\n",
    "        print(\"{} is a valid input\".format(element))\n",
    "    finally: # in any case will print. \n",
    "        print(\"Valid or not id does not matter!\")"
   ]
  },
  {
   "cell_type": "markdown",
   "id": "b0089767-11fb-43f1-8a59-1aaf600a79f6",
   "metadata": {},
   "source": [
    "#### Adding a while loop retry till it works."
   ]
  },
  {
   "cell_type": "code",
   "execution_count": null,
   "id": "50b58171-24ae-44ee-a10c-4f8f0234d3ee",
   "metadata": {},
   "outputs": [],
   "source": [
    "attempt = 0\n",
    "while True:\n",
    "    try:\n",
    "        result = 1 / np.random.randit(0, 2)\n",
    "    except Exception as e:\n",
    "        print(e, end = \" | \")\n",
    "    else:\n",
    "        print(result, end = \" | \")\n",
    "        break # break if it works\n",
    "    finally:\n",
    "        attempt += 1\n",
    "        print(\"Attempt: {}\".format(attempt))"
   ]
  },
  {
   "cell_type": "markdown",
   "id": "9115a5e2-0d5b-4b69-b246-61566c8cb636",
   "metadata": {},
   "source": [
    "## Limited number of retiries"
   ]
  },
  {
   "cell_type": "code",
   "execution_count": 27,
   "id": "1ab89c8a-32d7-4b39-a171-e3ef2468ed2a",
   "metadata": {},
   "outputs": [],
   "source": [
    "import numpy as np"
   ]
  },
  {
   "cell_type": "code",
   "execution_count": 29,
   "id": "d9390963-33f3-4f1f-87d9-f9789a540aa6",
   "metadata": {},
   "outputs": [],
   "source": [
    "max_attempts = 3"
   ]
  },
  {
   "cell_type": "code",
   "execution_count": 31,
   "id": "aef5ae80-8607-4ce9-aeb9-2174b655e51a",
   "metadata": {},
   "outputs": [
    {
     "name": "stdout",
     "output_type": "stream",
     "text": [
      "1.0 | Attempt: 1\n"
     ]
    }
   ],
   "source": [
    "attempt = 0\n",
    "success = False\n",
    "while True:\n",
    "    try:\n",
    "        result = 1 / np.random.randint(0, 2)\n",
    "    except Exception as e:\n",
    "        print(e, end = \" | \")\n",
    "    else:\n",
    "        print(result, end = \" | \")\n",
    "        success = True\n",
    "        break\n",
    "    finally:\n",
    "        attempt += 1\n",
    "        print(\"Attempt: {}\".format(attempt))\n",
    "        if success == False:\n",
    "            if attempt >= max_attempts:\n",
    "                print(\"Program stopped: max attempts reached!\")\n",
    "                break"
   ]
  },
  {
   "cell_type": "markdown",
   "id": "92f5f310-e01f-4f5e-8d21-173f53878553",
   "metadata": {},
   "source": [
    "#### Adding waiting periods between retries."
   ]
  },
  {
   "cell_type": "code",
   "execution_count": 34,
   "id": "0393c93c-3684-4db0-83f2-51e4fa2fb489",
   "metadata": {},
   "outputs": [],
   "source": [
    "import time"
   ]
  },
  {
   "cell_type": "code",
   "execution_count": 36,
   "id": "c6186b72-652c-4f84-b02f-ff3cdcd85517",
   "metadata": {},
   "outputs": [
    {
     "name": "stdout",
     "output_type": "stream",
     "text": [
      "1.0 | Attempt: 2\n"
     ]
    }
   ],
   "source": [
    "atttempt = 0\n",
    "max_attempts = 4\n",
    "success = False\n",
    "wait = 1 # 1 second\n",
    "wait_increase = 5 # 3 second wait increase.\n",
    "\n",
    "while True:\n",
    "    try:\n",
    "        result = 1 / np.random.randint(0, 2)\n",
    "    except Exception as e:\n",
    "        print(e, end = \" | \")\n",
    "    else:\n",
    "        print(result, end = \" | \")\n",
    "        success = True\n",
    "        break\n",
    "    finally:\n",
    "        attempt += 1\n",
    "        print(\"Attempt: {}\".format(attempt))\n",
    "        if success == False:\n",
    "            if attempt >= max_attempts: # if max attempts is reached\n",
    "                print(\"Program stopped: max_attempts reached!\")\n",
    "                break\n",
    "            else:\n",
    "                time.sleep(wait)\n",
    "                wait += wait_increase\n",
    "                "
   ]
  },
  {
   "cell_type": "code",
   "execution_count": null,
   "id": "a42c3baf-62fe-4ccf-a84d-09133c43ea85",
   "metadata": {},
   "outputs": [],
   "source": []
  },
  {
   "cell_type": "code",
   "execution_count": null,
   "id": "339efc9e-10e6-473e-89d8-9a19f2fc61ac",
   "metadata": {},
   "outputs": [],
   "source": []
  }
 ],
 "metadata": {
  "kernelspec": {
   "display_name": "Python 3 (ipykernel)",
   "language": "python",
   "name": "python3"
  },
  "language_info": {
   "codemirror_mode": {
    "name": "ipython",
    "version": 3
   },
   "file_extension": ".py",
   "mimetype": "text/x-python",
   "name": "python",
   "nbconvert_exporter": "python",
   "pygments_lexer": "ipython3",
   "version": "3.12.4"
  }
 },
 "nbformat": 4,
 "nbformat_minor": 5
}
