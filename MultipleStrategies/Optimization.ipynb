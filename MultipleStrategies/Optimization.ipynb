{
 "cells": [
  {
   "cell_type": "markdown",
   "id": "b22d07cb-22d7-454a-bd6d-53151f2dc167",
   "metadata": {},
   "source": [
    "Strategy Optimization"
   ]
  },
  {
   "cell_type": "code",
   "execution_count": 1,
   "id": "892ff26e-8737-4c28-b714-e60d410ff4e4",
   "metadata": {},
   "outputs": [],
   "source": [
    "import SMABacktester as SMA\n",
    "import MeanRevBacktester as MeanRev\n",
    "import pandas as pd\n",
    "import numpy as np"
   ]
  },
  {
   "cell_type": "code",
   "execution_count": 3,
   "id": "c15dbf52-41ec-493c-a597-9e674b8805ab",
   "metadata": {},
   "outputs": [
    {
     "data": {
      "text/plain": [
       "'EURUSD'"
      ]
     },
     "execution_count": 3,
     "metadata": {},
     "output_type": "execute_result"
    }
   ],
   "source": [
    "df = pd.read_csv(\"twenty_minutes.csv\", parse_dates=[\"time\"], index_col=\"time\")\n",
    "symbol = \"EURUSD\"\n",
    "symbol"
   ]
  },
  {
   "cell_type": "code",
   "execution_count": 5,
   "id": "6a0d915e-ecfc-48d0-a3dc-36e600f8f4d5",
   "metadata": {},
   "outputs": [],
   "source": [
    "def optimal_strategy(parameters):\n",
    "    start = \"2019-01-01\"\n",
    "    end = \"2020-08-30\"\n",
    "    symbol = \"EURUSD\"\n",
    "    tc = 0.000059\n",
    "\n",
    "    #SMA\n",
    "    tester1 = SMA.SMABacktester(symbol, int(parameters[0]), int(parameters[1]), start, end, tc)\n",
    "    tester1.test_strategy()\n",
    "\n",
    "    #Bollinger\n",
    "    tester2 = MeanRev.MeanRevBacktester(symbol, int(parameters[2]), int(parameters[3]),  start, end, tc)\n",
    "    tester2.test_strategy()\n",
    "\n",
    "    # Create Comb\n",
    "    comb = tester1.results.loc[:, [\"returns\", \"position\"]].copy()\n",
    "    comb.rename(columns = {\"position\":\"position_SMA\"}, inplace = True)\n",
    "    comb[\"position_MR\"] = tester2.results.position\n",
    "\n",
    "    # Methode 2\n",
    "    comb[\"position_comb\"] = np.sign(comb.position_MR + comb.position_SMA)\n",
    "\n",
    "    # Busy Hours\n",
    "    comb[\"NYTime\"] = comb.index.tz_convert(\"America/New_York\")\n",
    "    comb[\"hour\"] = comb.NYTime.dt.hour\n",
    "    comb.position_comb = np.where(comb.hour.between(2, 12), comb.position_comb, 0)\n",
    "\n",
    "    # Backtest\n",
    "    comb[\"strategy\"] = comb[\"position_comb\"].shift(1)*comb[\"returns\"]\n",
    "    comb.dropna(inplace = True)\n",
    "    comb[\"trades\"] = comb.position_comb.diff().fillna(0).abs()\n",
    "    comb.strategy = comb.strategy - comb.trades * tc\n",
    "    comb[\"creturns\"] = comb[\"returns\"].cumsum().apply(np.exp)\n",
    "    comb[\"cstrategy\"] = comb[\"strategy\"].cumsum().apply(np.exp)\n",
    "\n",
    "    return comb # -comb[\"cstrategy\"].iloc[-1]"
   ]
  },
  {
   "cell_type": "code",
   "execution_count": 7,
   "id": "23a1a090-d681-4eed-b760-9b0ebbd72bcf",
   "metadata": {},
   "outputs": [
    {
     "data": {
      "text/html": [
       "<div>\n",
       "<style scoped>\n",
       "    .dataframe tbody tr th:only-of-type {\n",
       "        vertical-align: middle;\n",
       "    }\n",
       "\n",
       "    .dataframe tbody tr th {\n",
       "        vertical-align: top;\n",
       "    }\n",
       "\n",
       "    .dataframe thead th {\n",
       "        text-align: right;\n",
       "    }\n",
       "</style>\n",
       "<table border=\"1\" class=\"dataframe\">\n",
       "  <thead>\n",
       "    <tr style=\"text-align: right;\">\n",
       "      <th></th>\n",
       "      <th>returns</th>\n",
       "      <th>position_SMA</th>\n",
       "      <th>position_MR</th>\n",
       "      <th>position_comb</th>\n",
       "      <th>NYTime</th>\n",
       "      <th>hour</th>\n",
       "      <th>strategy</th>\n",
       "      <th>trades</th>\n",
       "      <th>creturns</th>\n",
       "      <th>cstrategy</th>\n",
       "    </tr>\n",
       "    <tr>\n",
       "      <th>time</th>\n",
       "      <th></th>\n",
       "      <th></th>\n",
       "      <th></th>\n",
       "      <th></th>\n",
       "      <th></th>\n",
       "      <th></th>\n",
       "      <th></th>\n",
       "      <th></th>\n",
       "      <th></th>\n",
       "      <th></th>\n",
       "    </tr>\n",
       "  </thead>\n",
       "  <tbody>\n",
       "    <tr>\n",
       "      <th>2019-01-04 00:20:00+00:00</th>\n",
       "      <td>0.000338</td>\n",
       "      <td>-1</td>\n",
       "      <td>-1.0</td>\n",
       "      <td>0.0</td>\n",
       "      <td>2019-01-03 19:20:00-05:00</td>\n",
       "      <td>19</td>\n",
       "      <td>0.0</td>\n",
       "      <td>0.0</td>\n",
       "      <td>1.000338</td>\n",
       "      <td>1.000000</td>\n",
       "    </tr>\n",
       "    <tr>\n",
       "      <th>2019-01-04 00:40:00+00:00</th>\n",
       "      <td>0.000627</td>\n",
       "      <td>-1</td>\n",
       "      <td>-1.0</td>\n",
       "      <td>0.0</td>\n",
       "      <td>2019-01-03 19:40:00-05:00</td>\n",
       "      <td>19</td>\n",
       "      <td>0.0</td>\n",
       "      <td>0.0</td>\n",
       "      <td>1.000965</td>\n",
       "      <td>1.000000</td>\n",
       "    </tr>\n",
       "    <tr>\n",
       "      <th>2019-01-04 01:00:00+00:00</th>\n",
       "      <td>-0.000013</td>\n",
       "      <td>-1</td>\n",
       "      <td>-1.0</td>\n",
       "      <td>0.0</td>\n",
       "      <td>2019-01-03 20:00:00-05:00</td>\n",
       "      <td>20</td>\n",
       "      <td>-0.0</td>\n",
       "      <td>0.0</td>\n",
       "      <td>1.000952</td>\n",
       "      <td>1.000000</td>\n",
       "    </tr>\n",
       "    <tr>\n",
       "      <th>2019-01-04 01:20:00+00:00</th>\n",
       "      <td>0.000180</td>\n",
       "      <td>-1</td>\n",
       "      <td>-1.0</td>\n",
       "      <td>0.0</td>\n",
       "      <td>2019-01-03 20:20:00-05:00</td>\n",
       "      <td>20</td>\n",
       "      <td>0.0</td>\n",
       "      <td>0.0</td>\n",
       "      <td>1.001132</td>\n",
       "      <td>1.000000</td>\n",
       "    </tr>\n",
       "    <tr>\n",
       "      <th>2019-01-04 01:40:00+00:00</th>\n",
       "      <td>-0.000298</td>\n",
       "      <td>-1</td>\n",
       "      <td>-1.0</td>\n",
       "      <td>0.0</td>\n",
       "      <td>2019-01-03 20:40:00-05:00</td>\n",
       "      <td>20</td>\n",
       "      <td>-0.0</td>\n",
       "      <td>0.0</td>\n",
       "      <td>1.000834</td>\n",
       "      <td>1.000000</td>\n",
       "    </tr>\n",
       "    <tr>\n",
       "      <th>...</th>\n",
       "      <td>...</td>\n",
       "      <td>...</td>\n",
       "      <td>...</td>\n",
       "      <td>...</td>\n",
       "      <td>...</td>\n",
       "      <td>...</td>\n",
       "      <td>...</td>\n",
       "      <td>...</td>\n",
       "      <td>...</td>\n",
       "      <td>...</td>\n",
       "    </tr>\n",
       "    <tr>\n",
       "      <th>2020-08-30 22:20:00+00:00</th>\n",
       "      <td>0.000382</td>\n",
       "      <td>1</td>\n",
       "      <td>0.0</td>\n",
       "      <td>0.0</td>\n",
       "      <td>2020-08-30 18:20:00-04:00</td>\n",
       "      <td>18</td>\n",
       "      <td>0.0</td>\n",
       "      <td>0.0</td>\n",
       "      <td>1.045206</td>\n",
       "      <td>1.150154</td>\n",
       "    </tr>\n",
       "    <tr>\n",
       "      <th>2020-08-30 22:40:00+00:00</th>\n",
       "      <td>-0.000092</td>\n",
       "      <td>1</td>\n",
       "      <td>0.0</td>\n",
       "      <td>0.0</td>\n",
       "      <td>2020-08-30 18:40:00-04:00</td>\n",
       "      <td>18</td>\n",
       "      <td>-0.0</td>\n",
       "      <td>0.0</td>\n",
       "      <td>1.045109</td>\n",
       "      <td>1.150154</td>\n",
       "    </tr>\n",
       "    <tr>\n",
       "      <th>2020-08-30 23:00:00+00:00</th>\n",
       "      <td>-0.000143</td>\n",
       "      <td>1</td>\n",
       "      <td>0.0</td>\n",
       "      <td>0.0</td>\n",
       "      <td>2020-08-30 19:00:00-04:00</td>\n",
       "      <td>19</td>\n",
       "      <td>-0.0</td>\n",
       "      <td>0.0</td>\n",
       "      <td>1.044960</td>\n",
       "      <td>1.150154</td>\n",
       "    </tr>\n",
       "    <tr>\n",
       "      <th>2020-08-30 23:20:00+00:00</th>\n",
       "      <td>0.000172</td>\n",
       "      <td>1</td>\n",
       "      <td>0.0</td>\n",
       "      <td>0.0</td>\n",
       "      <td>2020-08-30 19:20:00-04:00</td>\n",
       "      <td>19</td>\n",
       "      <td>0.0</td>\n",
       "      <td>0.0</td>\n",
       "      <td>1.045140</td>\n",
       "      <td>1.150154</td>\n",
       "    </tr>\n",
       "    <tr>\n",
       "      <th>2020-08-30 23:40:00+00:00</th>\n",
       "      <td>0.000688</td>\n",
       "      <td>1</td>\n",
       "      <td>0.0</td>\n",
       "      <td>0.0</td>\n",
       "      <td>2020-08-30 19:40:00-04:00</td>\n",
       "      <td>19</td>\n",
       "      <td>0.0</td>\n",
       "      <td>0.0</td>\n",
       "      <td>1.045859</td>\n",
       "      <td>1.150154</td>\n",
       "    </tr>\n",
       "  </tbody>\n",
       "</table>\n",
       "<p>30866 rows × 10 columns</p>\n",
       "</div>"
      ],
      "text/plain": [
       "                            returns  position_SMA  position_MR  position_comb  \\\n",
       "time                                                                            \n",
       "2019-01-04 00:20:00+00:00  0.000338            -1         -1.0            0.0   \n",
       "2019-01-04 00:40:00+00:00  0.000627            -1         -1.0            0.0   \n",
       "2019-01-04 01:00:00+00:00 -0.000013            -1         -1.0            0.0   \n",
       "2019-01-04 01:20:00+00:00  0.000180            -1         -1.0            0.0   \n",
       "2019-01-04 01:40:00+00:00 -0.000298            -1         -1.0            0.0   \n",
       "...                             ...           ...          ...            ...   \n",
       "2020-08-30 22:20:00+00:00  0.000382             1          0.0            0.0   \n",
       "2020-08-30 22:40:00+00:00 -0.000092             1          0.0            0.0   \n",
       "2020-08-30 23:00:00+00:00 -0.000143             1          0.0            0.0   \n",
       "2020-08-30 23:20:00+00:00  0.000172             1          0.0            0.0   \n",
       "2020-08-30 23:40:00+00:00  0.000688             1          0.0            0.0   \n",
       "\n",
       "                                             NYTime  hour  strategy  trades  \\\n",
       "time                                                                          \n",
       "2019-01-04 00:20:00+00:00 2019-01-03 19:20:00-05:00    19       0.0     0.0   \n",
       "2019-01-04 00:40:00+00:00 2019-01-03 19:40:00-05:00    19       0.0     0.0   \n",
       "2019-01-04 01:00:00+00:00 2019-01-03 20:00:00-05:00    20      -0.0     0.0   \n",
       "2019-01-04 01:20:00+00:00 2019-01-03 20:20:00-05:00    20       0.0     0.0   \n",
       "2019-01-04 01:40:00+00:00 2019-01-03 20:40:00-05:00    20      -0.0     0.0   \n",
       "...                                             ...   ...       ...     ...   \n",
       "2020-08-30 22:20:00+00:00 2020-08-30 18:20:00-04:00    18       0.0     0.0   \n",
       "2020-08-30 22:40:00+00:00 2020-08-30 18:40:00-04:00    18      -0.0     0.0   \n",
       "2020-08-30 23:00:00+00:00 2020-08-30 19:00:00-04:00    19      -0.0     0.0   \n",
       "2020-08-30 23:20:00+00:00 2020-08-30 19:20:00-04:00    19       0.0     0.0   \n",
       "2020-08-30 23:40:00+00:00 2020-08-30 19:40:00-04:00    19       0.0     0.0   \n",
       "\n",
       "                           creturns  cstrategy  \n",
       "time                                            \n",
       "2019-01-04 00:20:00+00:00  1.000338   1.000000  \n",
       "2019-01-04 00:40:00+00:00  1.000965   1.000000  \n",
       "2019-01-04 01:00:00+00:00  1.000952   1.000000  \n",
       "2019-01-04 01:20:00+00:00  1.001132   1.000000  \n",
       "2019-01-04 01:40:00+00:00  1.000834   1.000000  \n",
       "...                             ...        ...  \n",
       "2020-08-30 22:20:00+00:00  1.045206   1.150154  \n",
       "2020-08-30 22:40:00+00:00  1.045109   1.150154  \n",
       "2020-08-30 23:00:00+00:00  1.044960   1.150154  \n",
       "2020-08-30 23:20:00+00:00  1.045140   1.150154  \n",
       "2020-08-30 23:40:00+00:00  1.045859   1.150154  \n",
       "\n",
       "[30866 rows x 10 columns]"
      ]
     },
     "execution_count": 7,
     "metadata": {},
     "output_type": "execute_result"
    }
   ],
   "source": [
    "optimal_strategy((50, 150, 75, 3))"
   ]
  },
  {
   "cell_type": "code",
   "execution_count": 9,
   "id": "76dd02d6-f982-42de-affc-e4c6b7cb890d",
   "metadata": {},
   "outputs": [],
   "source": [
    "from scipy.optimize import minimize"
   ]
  },
  {
   "cell_type": "code",
   "execution_count": 11,
   "id": "3f65b158-999b-4abc-9cb0-a92655c52bca",
   "metadata": {},
   "outputs": [
    {
     "data": {
      "text/plain": [
       "((25, 75), (100, 200), (50, 100), (1, 5))"
      ]
     },
     "execution_count": 11,
     "metadata": {},
     "output_type": "execute_result"
    }
   ],
   "source": [
    "bnds = ((25, 75), (100, 200), (50, 100), (1, 5))\n",
    "bnds"
   ]
  },
  {
   "cell_type": "code",
   "execution_count": 13,
   "id": "d82efa90-6653-40c8-bb2d-b12f3109e431",
   "metadata": {},
   "outputs": [],
   "source": [
    "start_par = (50, 150, 75, 3)"
   ]
  },
  {
   "cell_type": "code",
   "execution_count": 15,
   "id": "80bc4d96-d66b-4786-b23f-a1d87813c4b3",
   "metadata": {},
   "outputs": [
    {
     "ename": "ValueError",
     "evalue": "The user-provided objective function must return a scalar value.",
     "output_type": "error",
     "traceback": [
      "\u001b[1;31m---------------------------------------------------------------------------\u001b[0m",
      "\u001b[1;31mValueError\u001b[0m                                Traceback (most recent call last)",
      "File \u001b[1;32m~\\anaconda3\\Lib\\site-packages\\scipy\\optimize\\_optimize.py:532\u001b[0m, in \u001b[0;36m_wrap_scalar_function_maxfun_validation.<locals>.function_wrapper\u001b[1;34m(x, *wrapper_args)\u001b[0m\n\u001b[0;32m    531\u001b[0m \u001b[38;5;28;01mtry\u001b[39;00m:\n\u001b[1;32m--> 532\u001b[0m     fx \u001b[38;5;241m=\u001b[39m np\u001b[38;5;241m.\u001b[39masarray(fx)\u001b[38;5;241m.\u001b[39mitem()\n\u001b[0;32m    533\u001b[0m \u001b[38;5;28;01mexcept\u001b[39;00m (\u001b[38;5;167;01mTypeError\u001b[39;00m, \u001b[38;5;167;01mValueError\u001b[39;00m) \u001b[38;5;28;01mas\u001b[39;00m e:\n",
      "\u001b[1;31mValueError\u001b[0m: can only convert an array of size 1 to a Python scalar",
      "\nThe above exception was the direct cause of the following exception:\n",
      "\u001b[1;31mValueError\u001b[0m                                Traceback (most recent call last)",
      "Cell \u001b[1;32mIn[15], line 1\u001b[0m\n\u001b[1;32m----> 1\u001b[0m opts \u001b[38;5;241m=\u001b[39m minimize(optimal_strategy, start_par, method \u001b[38;5;241m=\u001b[39m \u001b[38;5;124m\"\u001b[39m\u001b[38;5;124mPowell\u001b[39m\u001b[38;5;124m\"\u001b[39m, bounds \u001b[38;5;241m=\u001b[39m bnds)\n",
      "File \u001b[1;32m~\\anaconda3\\Lib\\site-packages\\scipy\\optimize\\_minimize.py:704\u001b[0m, in \u001b[0;36mminimize\u001b[1;34m(fun, x0, args, method, jac, hess, hessp, bounds, constraints, tol, callback, options)\u001b[0m\n\u001b[0;32m    701\u001b[0m     res \u001b[38;5;241m=\u001b[39m _minimize_neldermead(fun, x0, args, callback, bounds\u001b[38;5;241m=\u001b[39mbounds,\n\u001b[0;32m    702\u001b[0m                                \u001b[38;5;241m*\u001b[39m\u001b[38;5;241m*\u001b[39moptions)\n\u001b[0;32m    703\u001b[0m \u001b[38;5;28;01melif\u001b[39;00m meth \u001b[38;5;241m==\u001b[39m \u001b[38;5;124m'\u001b[39m\u001b[38;5;124mpowell\u001b[39m\u001b[38;5;124m'\u001b[39m:\n\u001b[1;32m--> 704\u001b[0m     res \u001b[38;5;241m=\u001b[39m _minimize_powell(fun, x0, args, callback, bounds, \u001b[38;5;241m*\u001b[39m\u001b[38;5;241m*\u001b[39moptions)\n\u001b[0;32m    705\u001b[0m \u001b[38;5;28;01melif\u001b[39;00m meth \u001b[38;5;241m==\u001b[39m \u001b[38;5;124m'\u001b[39m\u001b[38;5;124mcg\u001b[39m\u001b[38;5;124m'\u001b[39m:\n\u001b[0;32m    706\u001b[0m     res \u001b[38;5;241m=\u001b[39m _minimize_cg(fun, x0, args, jac, callback, \u001b[38;5;241m*\u001b[39m\u001b[38;5;241m*\u001b[39moptions)\n",
      "File \u001b[1;32m~\\anaconda3\\Lib\\site-packages\\scipy\\optimize\\_optimize.py:3480\u001b[0m, in \u001b[0;36m_minimize_powell\u001b[1;34m(func, x0, args, callback, bounds, xtol, ftol, maxiter, maxfev, disp, direc, return_all, **unknown_options)\u001b[0m\n\u001b[0;32m   3476\u001b[0m     \u001b[38;5;28;01mif\u001b[39;00m np\u001b[38;5;241m.\u001b[39many(lower_bound \u001b[38;5;241m>\u001b[39m x0) \u001b[38;5;129;01mor\u001b[39;00m np\u001b[38;5;241m.\u001b[39many(x0 \u001b[38;5;241m>\u001b[39m upper_bound):\n\u001b[0;32m   3477\u001b[0m         warnings\u001b[38;5;241m.\u001b[39mwarn(\u001b[38;5;124m\"\u001b[39m\u001b[38;5;124mInitial guess is not within the specified bounds\u001b[39m\u001b[38;5;124m\"\u001b[39m,\n\u001b[0;32m   3478\u001b[0m                       OptimizeWarning, stacklevel\u001b[38;5;241m=\u001b[39m\u001b[38;5;241m3\u001b[39m)\n\u001b[1;32m-> 3480\u001b[0m fval \u001b[38;5;241m=\u001b[39m squeeze(func(x))\n\u001b[0;32m   3481\u001b[0m x1 \u001b[38;5;241m=\u001b[39m x\u001b[38;5;241m.\u001b[39mcopy()\n\u001b[0;32m   3482\u001b[0m \u001b[38;5;28miter\u001b[39m \u001b[38;5;241m=\u001b[39m \u001b[38;5;241m0\u001b[39m\n",
      "File \u001b[1;32m~\\anaconda3\\Lib\\site-packages\\scipy\\optimize\\_optimize.py:534\u001b[0m, in \u001b[0;36m_wrap_scalar_function_maxfun_validation.<locals>.function_wrapper\u001b[1;34m(x, *wrapper_args)\u001b[0m\n\u001b[0;32m    532\u001b[0m         fx \u001b[38;5;241m=\u001b[39m np\u001b[38;5;241m.\u001b[39masarray(fx)\u001b[38;5;241m.\u001b[39mitem()\n\u001b[0;32m    533\u001b[0m     \u001b[38;5;28;01mexcept\u001b[39;00m (\u001b[38;5;167;01mTypeError\u001b[39;00m, \u001b[38;5;167;01mValueError\u001b[39;00m) \u001b[38;5;28;01mas\u001b[39;00m e:\n\u001b[1;32m--> 534\u001b[0m         \u001b[38;5;28;01mraise\u001b[39;00m \u001b[38;5;167;01mValueError\u001b[39;00m(\u001b[38;5;124m\"\u001b[39m\u001b[38;5;124mThe user-provided objective function \u001b[39m\u001b[38;5;124m\"\u001b[39m\n\u001b[0;32m    535\u001b[0m                          \u001b[38;5;124m\"\u001b[39m\u001b[38;5;124mmust return a scalar value.\u001b[39m\u001b[38;5;124m\"\u001b[39m) \u001b[38;5;28;01mfrom\u001b[39;00m \u001b[38;5;21;01me\u001b[39;00m\n\u001b[0;32m    536\u001b[0m \u001b[38;5;28;01mreturn\u001b[39;00m fx\n",
      "\u001b[1;31mValueError\u001b[0m: The user-provided objective function must return a scalar value."
     ]
    }
   ],
   "source": [
    "opts = minimize(optimal_strategy, start_par, method = \"Powell\", bounds = bnds)"
   ]
  },
  {
   "cell_type": "code",
   "execution_count": null,
   "id": "505e2f52-4eb8-4786-bd7d-b4ef8da34c72",
   "metadata": {},
   "outputs": [],
   "source": [
    "opts # add .x to opts to view which parameter is optimal"
   ]
  },
  {
   "cell_type": "code",
   "execution_count": 18,
   "id": "0a66176e-9e8e-4544-89d6-83b4205a8a47",
   "metadata": {},
   "outputs": [
    {
     "ename": "KeyError",
     "evalue": "\"None of [Index(['creturns', 'cstrategy'], dtype='object')] are in the [columns]\"",
     "output_type": "error",
     "traceback": [
      "\u001b[1;31m---------------------------------------------------------------------------\u001b[0m",
      "\u001b[1;31mKeyError\u001b[0m                                  Traceback (most recent call last)",
      "Cell \u001b[1;32mIn[18], line 1\u001b[0m\n\u001b[1;32m----> 1\u001b[0m df[[\u001b[38;5;124m\"\u001b[39m\u001b[38;5;124mcreturns\u001b[39m\u001b[38;5;124m\"\u001b[39m, \u001b[38;5;124m\"\u001b[39m\u001b[38;5;124mcstrategy\u001b[39m\u001b[38;5;124m\"\u001b[39m]]\u001b[38;5;241m.\u001b[39mplot(figsize \u001b[38;5;241m=\u001b[39m (\u001b[38;5;241m12\u001b[39m, \u001b[38;5;241m8\u001b[39m), fontsize \u001b[38;5;241m=\u001b[39m \u001b[38;5;241m12\u001b[39m)\n\u001b[0;32m      2\u001b[0m plt\u001b[38;5;241m.\u001b[39mlegend(fontsize \u001b[38;5;241m=\u001b[39m \u001b[38;5;241m12\u001b[39m)\n\u001b[0;32m      3\u001b[0m plt\u001b[38;5;241m.\u001b[39mshow()\n",
      "File \u001b[1;32m~\\anaconda3\\Lib\\site-packages\\pandas\\core\\frame.py:4108\u001b[0m, in \u001b[0;36mDataFrame.__getitem__\u001b[1;34m(self, key)\u001b[0m\n\u001b[0;32m   4106\u001b[0m     \u001b[38;5;28;01mif\u001b[39;00m is_iterator(key):\n\u001b[0;32m   4107\u001b[0m         key \u001b[38;5;241m=\u001b[39m \u001b[38;5;28mlist\u001b[39m(key)\n\u001b[1;32m-> 4108\u001b[0m     indexer \u001b[38;5;241m=\u001b[39m \u001b[38;5;28mself\u001b[39m\u001b[38;5;241m.\u001b[39mcolumns\u001b[38;5;241m.\u001b[39m_get_indexer_strict(key, \u001b[38;5;124m\"\u001b[39m\u001b[38;5;124mcolumns\u001b[39m\u001b[38;5;124m\"\u001b[39m)[\u001b[38;5;241m1\u001b[39m]\n\u001b[0;32m   4110\u001b[0m \u001b[38;5;66;03m# take() does not accept boolean indexers\u001b[39;00m\n\u001b[0;32m   4111\u001b[0m \u001b[38;5;28;01mif\u001b[39;00m \u001b[38;5;28mgetattr\u001b[39m(indexer, \u001b[38;5;124m\"\u001b[39m\u001b[38;5;124mdtype\u001b[39m\u001b[38;5;124m\"\u001b[39m, \u001b[38;5;28;01mNone\u001b[39;00m) \u001b[38;5;241m==\u001b[39m \u001b[38;5;28mbool\u001b[39m:\n",
      "File \u001b[1;32m~\\anaconda3\\Lib\\site-packages\\pandas\\core\\indexes\\base.py:6200\u001b[0m, in \u001b[0;36mIndex._get_indexer_strict\u001b[1;34m(self, key, axis_name)\u001b[0m\n\u001b[0;32m   6197\u001b[0m \u001b[38;5;28;01melse\u001b[39;00m:\n\u001b[0;32m   6198\u001b[0m     keyarr, indexer, new_indexer \u001b[38;5;241m=\u001b[39m \u001b[38;5;28mself\u001b[39m\u001b[38;5;241m.\u001b[39m_reindex_non_unique(keyarr)\n\u001b[1;32m-> 6200\u001b[0m \u001b[38;5;28mself\u001b[39m\u001b[38;5;241m.\u001b[39m_raise_if_missing(keyarr, indexer, axis_name)\n\u001b[0;32m   6202\u001b[0m keyarr \u001b[38;5;241m=\u001b[39m \u001b[38;5;28mself\u001b[39m\u001b[38;5;241m.\u001b[39mtake(indexer)\n\u001b[0;32m   6203\u001b[0m \u001b[38;5;28;01mif\u001b[39;00m \u001b[38;5;28misinstance\u001b[39m(key, Index):\n\u001b[0;32m   6204\u001b[0m     \u001b[38;5;66;03m# GH 42790 - Preserve name from an Index\u001b[39;00m\n",
      "File \u001b[1;32m~\\anaconda3\\Lib\\site-packages\\pandas\\core\\indexes\\base.py:6249\u001b[0m, in \u001b[0;36mIndex._raise_if_missing\u001b[1;34m(self, key, indexer, axis_name)\u001b[0m\n\u001b[0;32m   6247\u001b[0m \u001b[38;5;28;01mif\u001b[39;00m nmissing:\n\u001b[0;32m   6248\u001b[0m     \u001b[38;5;28;01mif\u001b[39;00m nmissing \u001b[38;5;241m==\u001b[39m \u001b[38;5;28mlen\u001b[39m(indexer):\n\u001b[1;32m-> 6249\u001b[0m         \u001b[38;5;28;01mraise\u001b[39;00m \u001b[38;5;167;01mKeyError\u001b[39;00m(\u001b[38;5;124mf\u001b[39m\u001b[38;5;124m\"\u001b[39m\u001b[38;5;124mNone of [\u001b[39m\u001b[38;5;132;01m{\u001b[39;00mkey\u001b[38;5;132;01m}\u001b[39;00m\u001b[38;5;124m] are in the [\u001b[39m\u001b[38;5;132;01m{\u001b[39;00maxis_name\u001b[38;5;132;01m}\u001b[39;00m\u001b[38;5;124m]\u001b[39m\u001b[38;5;124m\"\u001b[39m)\n\u001b[0;32m   6251\u001b[0m     not_found \u001b[38;5;241m=\u001b[39m \u001b[38;5;28mlist\u001b[39m(ensure_index(key)[missing_mask\u001b[38;5;241m.\u001b[39mnonzero()[\u001b[38;5;241m0\u001b[39m]]\u001b[38;5;241m.\u001b[39munique())\n\u001b[0;32m   6252\u001b[0m     \u001b[38;5;28;01mraise\u001b[39;00m \u001b[38;5;167;01mKeyError\u001b[39;00m(\u001b[38;5;124mf\u001b[39m\u001b[38;5;124m\"\u001b[39m\u001b[38;5;132;01m{\u001b[39;00mnot_found\u001b[38;5;132;01m}\u001b[39;00m\u001b[38;5;124m not in index\u001b[39m\u001b[38;5;124m\"\u001b[39m)\n",
      "\u001b[1;31mKeyError\u001b[0m: \"None of [Index(['creturns', 'cstrategy'], dtype='object')] are in the [columns]\""
     ]
    }
   ],
   "source": [
    "df[[\"creturns\", \"cstrategy\"]].plot(figsize = (12, 8), fontsize = 12)\n",
    "plt.legend(fontsize = 12)\n",
    "plt.show()"
   ]
  },
  {
   "cell_type": "code",
   "execution_count": null,
   "id": "19949daa-4910-4a61-bccb-707071fe9a9c",
   "metadata": {},
   "outputs": [],
   "source": []
  }
 ],
 "metadata": {
  "kernelspec": {
   "display_name": "Python 3 (ipykernel)",
   "language": "python",
   "name": "python3"
  },
  "language_info": {
   "codemirror_mode": {
    "name": "ipython",
    "version": 3
   },
   "file_extension": ".py",
   "mimetype": "text/x-python",
   "name": "python",
   "nbconvert_exporter": "python",
   "pygments_lexer": "ipython3",
   "version": "3.12.4"
  }
 },
 "nbformat": 4,
 "nbformat_minor": 5
}
