{
 "cells": [
  {
   "cell_type": "markdown",
   "id": "b22d07cb-22d7-454a-bd6d-53151f2dc167",
   "metadata": {},
   "source": [
    "Strategy Optimization"
   ]
  },
  {
   "cell_type": "code",
   "execution_count": 84,
   "id": "892ff26e-8737-4c28-b714-e60d410ff4e4",
   "metadata": {},
   "outputs": [],
   "source": [
    "import SMABacktester as SMA\n",
    "import MeanRevBacktester as MeanRev\n",
    "import pandas as pd\n",
    "import numpy as np"
   ]
  },
  {
   "cell_type": "code",
   "execution_count": 86,
   "id": "c15dbf52-41ec-493c-a597-9e674b8805ab",
   "metadata": {},
   "outputs": [
    {
     "data": {
      "text/plain": [
       "'EURUSD'"
      ]
     },
     "execution_count": 86,
     "metadata": {},
     "output_type": "execute_result"
    }
   ],
   "source": [
    "df = pd.read_csv(\"twenty_minutes.csv\", parse_dates=[\"time\"], index_col=\"time\")\n",
    "symbol = \"EURUSD\"\n",
    "symbol"
   ]
  },
  {
   "cell_type": "code",
   "execution_count": 88,
   "id": "6a0d915e-ecfc-48d0-a3dc-36e600f8f4d5",
   "metadata": {},
   "outputs": [],
   "source": [
    "def optimal_strategy(parameters):\n",
    "    start = \"2019-01-01\"\n",
    "    end = \"2020-08-30\"\n",
    "    symbol = \"EURUSD\"\n",
    "    tc = 0.000059\n",
    "\n",
    "    #SMA\n",
    "    tester1 = SMA.SMABacktester(symbol, int(parameters[0]), int(parameters[1]), start, end, tc)\n",
    "    tester1.test_strategy()\n",
    "\n",
    "    #Bollinger\n",
    "    tester2 = MeanRev.MeanRevBacktester(symbol, int(parameters[2]), int(parameters[3]),  start, end, tc)\n",
    "    tester2.test_strategy()\n",
    "\n",
    "    # Create Comb\n",
    "    comb = tester1.results.loc[:, [\"returns\", \"position\"]].copy()\n",
    "    comb.rename(columns = {\"position\":\"position_SMA\"}, inplace = True)\n",
    "    comb[\"position_MR\"] = tester2.results.position\n",
    "\n",
    "    # Methode 2\n",
    "    comb[\"position_comb\"] = np.sign(comb.position_MR + comb.position_SMA)\n",
    "\n",
    "    # Busy Hours\n",
    "    comb[\"NYTime\"] = comb.index.tz_convert(\"America/New_York\")\n",
    "    comb[\"hour\"] = comb.NYTime.dt.hour\n",
    "    comb.position_comb = np.where(comb.hour.between(2, 12), comb.position_comb, 0)\n",
    "\n",
    "    # Backtest\n",
    "    comb[\"strategy\"] = comb[\"position_comb\"].shift(1)*comb[\"returns\"]\n",
    "    comb.dropna(inplace = True)\n",
    "    comb[\"trades\"] = comb.position_comb.diff().fillna(0).abs()\n",
    "    comb.strategy = comb.strategy - comb.trades - tc\n",
    "    comb[\"creturns\"] = comb[\"returns\"].cumsum().apply(np.exp)\n",
    "    comb[\"cstrategy\"] = comb[\"strategy\"].cumsum().apply(np.exp)\n",
    "\n",
    "    return -comb[\"cstrategy\"].iloc[-1]"
   ]
  },
  {
   "cell_type": "code",
   "execution_count": 90,
   "id": "23a1a090-d681-4eed-b760-9b0ebbd72bcf",
   "metadata": {},
   "outputs": [
    {
     "data": {
      "text/plain": [
       "-0.0"
      ]
     },
     "execution_count": 90,
     "metadata": {},
     "output_type": "execute_result"
    }
   ],
   "source": [
    "optimal_strategy((50, 150, 75, 3))"
   ]
  },
  {
   "cell_type": "code",
   "execution_count": 92,
   "id": "76dd02d6-f982-42de-affc-e4c6b7cb890d",
   "metadata": {},
   "outputs": [],
   "source": [
    "from scipy.optimize import minimize"
   ]
  },
  {
   "cell_type": "code",
   "execution_count": 94,
   "id": "3f65b158-999b-4abc-9cb0-a92655c52bca",
   "metadata": {},
   "outputs": [
    {
     "data": {
      "text/plain": [
       "((25, 75), (100, 200), (50, 100), (1, 5))"
      ]
     },
     "execution_count": 94,
     "metadata": {},
     "output_type": "execute_result"
    }
   ],
   "source": [
    "binds = ((25, 75), (100, 200), (50, 100), (1, 5))\n",
    "binds"
   ]
  },
  {
   "cell_type": "code",
   "execution_count": 43,
   "id": "d82efa90-6653-40c8-bb2d-b12f3109e431",
   "metadata": {},
   "outputs": [],
   "source": [
    "star_par = (50, 150, 75, 3)"
   ]
  },
  {
   "cell_type": "code",
   "execution_count": null,
   "id": "80bc4d96-d66b-4786-b23f-a1d87813c4b3",
   "metadata": {},
   "outputs": [],
   "source": []
  }
 ],
 "metadata": {
  "kernelspec": {
   "display_name": "Python 3 (ipykernel)",
   "language": "python",
   "name": "python3"
  },
  "language_info": {
   "codemirror_mode": {
    "name": "ipython",
    "version": 3
   },
   "file_extension": ".py",
   "mimetype": "text/x-python",
   "name": "python",
   "nbconvert_exporter": "python",
   "pygments_lexer": "ipython3",
   "version": "3.12.4"
  }
 },
 "nbformat": 4,
 "nbformat_minor": 5
}
