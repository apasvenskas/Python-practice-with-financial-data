{
 "cells": [
  {
   "cell_type": "markdown",
   "id": "35c39d2a-3c80-4d99-b611-a200d4ddd6ee",
   "metadata": {},
   "source": [
    "Historical Data, Real-Time Data, and Orders"
   ]
  },
  {
   "cell_type": "code",
   "execution_count": 2,
   "id": "9ba8314d-76e6-4c40-8b50-700d3e8c980b",
   "metadata": {},
   "outputs": [],
   "source": [
    "import pandas as pd\n",
    "from tpqoa import tpqoa"
   ]
  },
  {
   "cell_type": "code",
   "execution_count": 4,
   "id": "f018ad64-47f7-4506-ab84-5de56871f2af",
   "metadata": {},
   "outputs": [
    {
     "name": "stdout",
     "output_type": "stream",
     "text": [
      "Collecting oandapyV20\n",
      "  Downloading oandapyV20-0.7.2.tar.gz (51 kB)\n",
      "  Preparing metadata (setup.py): started\n",
      "  Preparing metadata (setup.py): finished with status 'done'\n",
      "Building wheels for collected packages: oandapyV20\n",
      "  Building wheel for oandapyV20 (setup.py): started\n",
      "  Building wheel for oandapyV20 (setup.py): finished with status 'done'\n",
      "  Created wheel for oandapyV20: filename=oandapyV20-0.7.2-py3-none-any.whl size=69848 sha256=906ad52889ba8f1ae71fde3dd88dc3745428de648c554ea9e2b4168b326beb3a\n",
      "  Stored in directory: c:\\users\\audri\\appdata\\local\\pip\\cache\\wheels\\52\\60\\64\\15a6efd4a4408bbaf15e799879a817647c8cac5444e351a525\n",
      "Successfully built oandapyV20\n",
      "Installing collected packages: oandapyV20\n",
      "Successfully installed oandapyV20-0.7.2\n",
      "Note: you may need to restart the kernel to use updated packages.\n"
     ]
    }
   ],
   "source": [
    "pip install oandapyV20"
   ]
  },
  {
   "cell_type": "code",
   "execution_count": 5,
   "id": "67153006-830a-4555-9721-2c8bbf9850fb",
   "metadata": {},
   "outputs": [],
   "source": [
    "from oandapyV20 import API\n",
    "import oandapyV20.endpoints.accounts as accounts\n"
   ]
  },
  {
   "cell_type": "code",
   "execution_count": 6,
   "id": "0ee9bf60-74bf-4680-8e55-2de8f0d64213",
   "metadata": {},
   "outputs": [],
   "source": [
    "api = tpqoa(\"oanda.cfg\")"
   ]
  },
  {
   "cell_type": "code",
   "execution_count": 7,
   "id": "0153e4c0-a043-460f-bd44-2cfc6beefa90",
   "metadata": {},
   "outputs": [
    {
     "data": {
      "text/plain": [
       "[('AUD/CAD', 'AUD_CAD'),\n",
       " ('AUD/CHF', 'AUD_CHF'),\n",
       " ('AUD/HKD', 'AUD_HKD'),\n",
       " ('AUD/JPY', 'AUD_JPY'),\n",
       " ('AUD/NZD', 'AUD_NZD'),\n",
       " ('AUD/SGD', 'AUD_SGD'),\n",
       " ('AUD/USD', 'AUD_USD'),\n",
       " ('CAD/CHF', 'CAD_CHF'),\n",
       " ('CAD/HKD', 'CAD_HKD'),\n",
       " ('CAD/JPY', 'CAD_JPY'),\n",
       " ('CAD/SGD', 'CAD_SGD'),\n",
       " ('CHF/HKD', 'CHF_HKD'),\n",
       " ('CHF/JPY', 'CHF_JPY'),\n",
       " ('CHF/ZAR', 'CHF_ZAR'),\n",
       " ('EUR/AUD', 'EUR_AUD'),\n",
       " ('EUR/CAD', 'EUR_CAD'),\n",
       " ('EUR/CHF', 'EUR_CHF'),\n",
       " ('EUR/CZK', 'EUR_CZK'),\n",
       " ('EUR/DKK', 'EUR_DKK'),\n",
       " ('EUR/GBP', 'EUR_GBP'),\n",
       " ('EUR/HKD', 'EUR_HKD'),\n",
       " ('EUR/HUF', 'EUR_HUF'),\n",
       " ('EUR/JPY', 'EUR_JPY'),\n",
       " ('EUR/NOK', 'EUR_NOK'),\n",
       " ('EUR/NZD', 'EUR_NZD'),\n",
       " ('EUR/PLN', 'EUR_PLN'),\n",
       " ('EUR/SEK', 'EUR_SEK'),\n",
       " ('EUR/SGD', 'EUR_SGD'),\n",
       " ('EUR/TRY', 'EUR_TRY'),\n",
       " ('EUR/USD', 'EUR_USD'),\n",
       " ('EUR/ZAR', 'EUR_ZAR'),\n",
       " ('GBP/AUD', 'GBP_AUD'),\n",
       " ('GBP/CAD', 'GBP_CAD'),\n",
       " ('GBP/CHF', 'GBP_CHF'),\n",
       " ('GBP/HKD', 'GBP_HKD'),\n",
       " ('GBP/JPY', 'GBP_JPY'),\n",
       " ('GBP/NZD', 'GBP_NZD'),\n",
       " ('GBP/PLN', 'GBP_PLN'),\n",
       " ('GBP/SGD', 'GBP_SGD'),\n",
       " ('GBP/USD', 'GBP_USD'),\n",
       " ('GBP/ZAR', 'GBP_ZAR'),\n",
       " ('HKD/JPY', 'HKD_JPY'),\n",
       " ('NZD/CAD', 'NZD_CAD'),\n",
       " ('NZD/CHF', 'NZD_CHF'),\n",
       " ('NZD/HKD', 'NZD_HKD'),\n",
       " ('NZD/JPY', 'NZD_JPY'),\n",
       " ('NZD/SGD', 'NZD_SGD'),\n",
       " ('NZD/USD', 'NZD_USD'),\n",
       " ('SGD/CHF', 'SGD_CHF'),\n",
       " ('SGD/JPY', 'SGD_JPY'),\n",
       " ('TRY/JPY', 'TRY_JPY'),\n",
       " ('USD/CAD', 'USD_CAD'),\n",
       " ('USD/CHF', 'USD_CHF'),\n",
       " ('USD/CNH', 'USD_CNH'),\n",
       " ('USD/CZK', 'USD_CZK'),\n",
       " ('USD/DKK', 'USD_DKK'),\n",
       " ('USD/HKD', 'USD_HKD'),\n",
       " ('USD/HUF', 'USD_HUF'),\n",
       " ('USD/JPY', 'USD_JPY'),\n",
       " ('USD/MXN', 'USD_MXN'),\n",
       " ('USD/NOK', 'USD_NOK'),\n",
       " ('USD/PLN', 'USD_PLN'),\n",
       " ('USD/SEK', 'USD_SEK'),\n",
       " ('USD/SGD', 'USD_SGD'),\n",
       " ('USD/THB', 'USD_THB'),\n",
       " ('USD/TRY', 'USD_TRY'),\n",
       " ('USD/ZAR', 'USD_ZAR'),\n",
       " ('ZAR/JPY', 'ZAR_JPY')]"
      ]
     },
     "execution_count": 7,
     "metadata": {},
     "output_type": "execute_result"
    }
   ],
   "source": [
    "api.get_instruments()"
   ]
  },
  {
   "cell_type": "markdown",
   "id": "8d156ab4-0260-4f03-a44d-7b4bcad91a9e",
   "metadata": {},
   "source": [
    "Historic Data"
   ]
  },
  {
   "cell_type": "code",
   "execution_count": 9,
   "id": "e61bfad7-8b99-4d93-9308-7b22b3826a3d",
   "metadata": {},
   "outputs": [
    {
     "data": {
      "text/html": [
       "<div>\n",
       "<style scoped>\n",
       "    .dataframe tbody tr th:only-of-type {\n",
       "        vertical-align: middle;\n",
       "    }\n",
       "\n",
       "    .dataframe tbody tr th {\n",
       "        vertical-align: top;\n",
       "    }\n",
       "\n",
       "    .dataframe thead th {\n",
       "        text-align: right;\n",
       "    }\n",
       "</style>\n",
       "<table border=\"1\" class=\"dataframe\">\n",
       "  <thead>\n",
       "    <tr style=\"text-align: right;\">\n",
       "      <th></th>\n",
       "      <th>o</th>\n",
       "      <th>h</th>\n",
       "      <th>l</th>\n",
       "      <th>c</th>\n",
       "      <th>volume</th>\n",
       "      <th>complete</th>\n",
       "    </tr>\n",
       "    <tr>\n",
       "      <th>time</th>\n",
       "      <th></th>\n",
       "      <th></th>\n",
       "      <th></th>\n",
       "      <th></th>\n",
       "      <th></th>\n",
       "      <th></th>\n",
       "    </tr>\n",
       "  </thead>\n",
       "  <tbody>\n",
       "    <tr>\n",
       "      <th>2021-03-29 00:00:00+00:00</th>\n",
       "      <td>1.17874</td>\n",
       "      <td>1.17884</td>\n",
       "      <td>1.17870</td>\n",
       "      <td>1.17873</td>\n",
       "      <td>34</td>\n",
       "      <td>True</td>\n",
       "    </tr>\n",
       "    <tr>\n",
       "      <th>2021-03-29 00:01:00+00:00</th>\n",
       "      <td>1.17872</td>\n",
       "      <td>1.17873</td>\n",
       "      <td>1.17866</td>\n",
       "      <td>1.17869</td>\n",
       "      <td>31</td>\n",
       "      <td>True</td>\n",
       "    </tr>\n",
       "    <tr>\n",
       "      <th>2021-03-29 00:02:00+00:00</th>\n",
       "      <td>1.17868</td>\n",
       "      <td>1.17869</td>\n",
       "      <td>1.17860</td>\n",
       "      <td>1.17864</td>\n",
       "      <td>27</td>\n",
       "      <td>True</td>\n",
       "    </tr>\n",
       "    <tr>\n",
       "      <th>2021-03-29 00:03:00+00:00</th>\n",
       "      <td>1.17865</td>\n",
       "      <td>1.17874</td>\n",
       "      <td>1.17864</td>\n",
       "      <td>1.17871</td>\n",
       "      <td>14</td>\n",
       "      <td>True</td>\n",
       "    </tr>\n",
       "    <tr>\n",
       "      <th>2021-03-29 00:04:00+00:00</th>\n",
       "      <td>1.17869</td>\n",
       "      <td>1.17872</td>\n",
       "      <td>1.17867</td>\n",
       "      <td>1.17869</td>\n",
       "      <td>18</td>\n",
       "      <td>True</td>\n",
       "    </tr>\n",
       "    <tr>\n",
       "      <th>...</th>\n",
       "      <td>...</td>\n",
       "      <td>...</td>\n",
       "      <td>...</td>\n",
       "      <td>...</td>\n",
       "      <td>...</td>\n",
       "      <td>...</td>\n",
       "    </tr>\n",
       "    <tr>\n",
       "      <th>2021-03-30 23:55:00+00:00</th>\n",
       "      <td>1.17235</td>\n",
       "      <td>1.17236</td>\n",
       "      <td>1.17234</td>\n",
       "      <td>1.17234</td>\n",
       "      <td>5</td>\n",
       "      <td>True</td>\n",
       "    </tr>\n",
       "    <tr>\n",
       "      <th>2021-03-30 23:56:00+00:00</th>\n",
       "      <td>1.17233</td>\n",
       "      <td>1.17233</td>\n",
       "      <td>1.17222</td>\n",
       "      <td>1.17226</td>\n",
       "      <td>13</td>\n",
       "      <td>True</td>\n",
       "    </tr>\n",
       "    <tr>\n",
       "      <th>2021-03-30 23:57:00+00:00</th>\n",
       "      <td>1.17222</td>\n",
       "      <td>1.17231</td>\n",
       "      <td>1.17222</td>\n",
       "      <td>1.17230</td>\n",
       "      <td>25</td>\n",
       "      <td>True</td>\n",
       "    </tr>\n",
       "    <tr>\n",
       "      <th>2021-03-30 23:58:00+00:00</th>\n",
       "      <td>1.17231</td>\n",
       "      <td>1.17235</td>\n",
       "      <td>1.17228</td>\n",
       "      <td>1.17232</td>\n",
       "      <td>28</td>\n",
       "      <td>True</td>\n",
       "    </tr>\n",
       "    <tr>\n",
       "      <th>2021-03-30 23:59:00+00:00</th>\n",
       "      <td>1.17234</td>\n",
       "      <td>1.17234</td>\n",
       "      <td>1.17232</td>\n",
       "      <td>1.17232</td>\n",
       "      <td>4</td>\n",
       "      <td>True</td>\n",
       "    </tr>\n",
       "  </tbody>\n",
       "</table>\n",
       "<p>2784 rows × 6 columns</p>\n",
       "</div>"
      ],
      "text/plain": [
       "                                 o        h        l        c  volume  \\\n",
       "time                                                                    \n",
       "2021-03-29 00:00:00+00:00  1.17874  1.17884  1.17870  1.17873      34   \n",
       "2021-03-29 00:01:00+00:00  1.17872  1.17873  1.17866  1.17869      31   \n",
       "2021-03-29 00:02:00+00:00  1.17868  1.17869  1.17860  1.17864      27   \n",
       "2021-03-29 00:03:00+00:00  1.17865  1.17874  1.17864  1.17871      14   \n",
       "2021-03-29 00:04:00+00:00  1.17869  1.17872  1.17867  1.17869      18   \n",
       "...                            ...      ...      ...      ...     ...   \n",
       "2021-03-30 23:55:00+00:00  1.17235  1.17236  1.17234  1.17234       5   \n",
       "2021-03-30 23:56:00+00:00  1.17233  1.17233  1.17222  1.17226      13   \n",
       "2021-03-30 23:57:00+00:00  1.17222  1.17231  1.17222  1.17230      25   \n",
       "2021-03-30 23:58:00+00:00  1.17231  1.17235  1.17228  1.17232      28   \n",
       "2021-03-30 23:59:00+00:00  1.17234  1.17234  1.17232  1.17232       4   \n",
       "\n",
       "                           complete  \n",
       "time                                 \n",
       "2021-03-29 00:00:00+00:00      True  \n",
       "2021-03-29 00:01:00+00:00      True  \n",
       "2021-03-29 00:02:00+00:00      True  \n",
       "2021-03-29 00:03:00+00:00      True  \n",
       "2021-03-29 00:04:00+00:00      True  \n",
       "...                             ...  \n",
       "2021-03-30 23:55:00+00:00      True  \n",
       "2021-03-30 23:56:00+00:00      True  \n",
       "2021-03-30 23:57:00+00:00      True  \n",
       "2021-03-30 23:58:00+00:00      True  \n",
       "2021-03-30 23:59:00+00:00      True  \n",
       "\n",
       "[2784 rows x 6 columns]"
      ]
     },
     "execution_count": 9,
     "metadata": {},
     "output_type": "execute_result"
    }
   ],
   "source": [
    "api.get_history(instrument = \"EUR_USD\", start = \"2021-03-29\", end = \"2021-03-31\",\n",
    "               granularity = \"M1\", price = \"M\", localize = False)"
   ]
  },
  {
   "cell_type": "markdown",
   "id": "24f2595c-5ffb-4337-9535-d0111e20c8d8",
   "metadata": {},
   "source": [
    "Streaming ticks / real-time Data"
   ]
  },
  {
   "cell_type": "code",
   "execution_count": null,
   "id": "1bd65e80-4bcf-4e43-9e96-7166c08e4272",
   "metadata": {},
   "outputs": [
    {
     "name": "stdout",
     "output_type": "stream",
     "text": [
      "2024-09-27T20:59:05.221415130Z 1.11625 1.11654\n"
     ]
    }
   ],
   "source": [
    "api.stream_data(\"EUR_USD\", stop = 20)"
   ]
  },
  {
   "cell_type": "markdown",
   "id": "703b8bd9-99a9-4284-ab46-0e38a9450fb1",
   "metadata": {},
   "source": [
    "Orders & Trades"
   ]
  },
  {
   "cell_type": "code",
   "execution_count": null,
   "id": "00ffc435-d148-4b5d-a697-732ff6fdd1cf",
   "metadata": {},
   "outputs": [],
   "source": [
    "api.create_order(instrument = \"EUR_USD\", units = 100000)"
   ]
  },
  {
   "cell_type": "code",
   "execution_count": null,
   "id": "70832930-88d1-48b9-ad6c-ef0fc30a29e0",
   "metadata": {},
   "outputs": [],
   "source": [
    "api.get_position()"
   ]
  },
  {
   "cell_type": "code",
   "execution_count": null,
   "id": "735591d7-00d8-433c-b07e-d21e8918e076",
   "metadata": {},
   "outputs": [],
   "source": [
    "api.create_order(instrument = \"EUR_USD\", units = -100000)"
   ]
  },
  {
   "cell_type": "code",
   "execution_count": null,
   "id": "602d240d-8690-49f9-a658-ff9ebae136c6",
   "metadata": {},
   "outputs": [],
   "source": [
    "api.get_account_summary()"
   ]
  },
  {
   "cell_type": "code",
   "execution_count": null,
   "id": "c7f6d0a6-4e9e-4ec8-b5b7-b9be135ed7e0",
   "metadata": {},
   "outputs": [],
   "source": [
    "api.get_transactions()"
   ]
  },
  {
   "cell_type": "code",
   "execution_count": null,
   "id": "38ee75dc-977c-4b00-930e-24dc1c7f19d0",
   "metadata": {},
   "outputs": [],
   "source": [
    "api.print_transactions()"
   ]
  },
  {
   "cell_type": "code",
   "execution_count": null,
   "id": "fe85d2ee-1598-433b-aa14-2e6af9dc397f",
   "metadata": {},
   "outputs": [],
   "source": [
    "api.print_transactions()"
   ]
  },
  {
   "cell_type": "code",
   "execution_count": null,
   "id": "cda7832f-847a-45dc-a238-9a892e23865c",
   "metadata": {},
   "outputs": [],
   "source": [
    "order = order"
   ]
  },
  {
   "cell_type": "code",
   "execution_count": null,
   "id": "fe2afdb6-f597-4c1f-86c0-9c1f7592d83d",
   "metadata": {},
   "outputs": [],
   "source": []
  }
 ],
 "metadata": {
  "kernelspec": {
   "display_name": "Python 3 (ipykernel)",
   "language": "python",
   "name": "python3"
  },
  "language_info": {
   "codemirror_mode": {
    "name": "ipython",
    "version": 3
   },
   "file_extension": ".py",
   "mimetype": "text/x-python",
   "name": "python",
   "nbconvert_exporter": "python",
   "pygments_lexer": "ipython3",
   "version": "3.12.4"
  }
 },
 "nbformat": 4,
 "nbformat_minor": 5
}
