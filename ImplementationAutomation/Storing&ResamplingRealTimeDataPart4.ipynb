{
 "cells": [
  {
   "cell_type": "markdown",
   "id": "99499cca-d639-456e-b24a-031002b73be7",
   "metadata": {},
   "source": [
    "Storing and resampling real-time tick data (Part4)"
   ]
  },
  {
   "cell_type": "code",
   "execution_count": 4,
   "id": "8f887f3d-6da4-4092-859e-aef6ab09766d",
   "metadata": {},
   "outputs": [],
   "source": [
    "import pandas as pd\n",
    "import tpqoa\n",
    "from datetime import datetime"
   ]
  },
  {
   "cell_type": "code",
   "execution_count": 16,
   "id": "7c2fbec8-ad1c-4e1f-8f74-4d7d72805448",
   "metadata": {},
   "outputs": [],
   "source": [
    "class ConTrader(tpqoa.tpqoa):\n",
    "\n",
    "    def __init__(self, config_file, instrument, bar_length):\n",
    "        super().__init__(config_file)\n",
    "        self.instrument = instrument\n",
    "        self.bar_length = bar_length\n",
    "        self.tick_data = pd.DataFrame()\n",
    "\n",
    "    def on_success(self, time, bid, ask):\n",
    "        print(time, bid, ask)\n",
    "        df = pd.DataFrame({self.instrument: (ask + bid)/2}, \n",
    "                      index=[pd.to_datetime(time)])\n",
    "        self.tick_data = pd.concat([self.tick_data, df])  # To observe the DataFrame after each append\n",
    "        self.resample_and_join()\n",
    "\n",
    "    def resample_and_join(self):\n",
    "        self.data = self.tick_data.resample(self.bar_length, label = \"right\").last().ffill().iloc[:-1]"
   ]
  },
  {
   "cell_type": "code",
   "execution_count": 18,
   "id": "0478643d-b8f9-4621-97a3-4cd2f7d6051a",
   "metadata": {},
   "outputs": [
    {
     "name": "stderr",
     "output_type": "stream",
     "text": [
      "C:\\Users\\audri\\AppData\\Local\\Temp\\ipykernel_26784\\3983769260.py:1: DeprecationWarning: datetime.datetime.utcnow() is deprecated and scheduled for removal in a future version. Use timezone-aware objects to represent datetimes in UTC: datetime.datetime.now(datetime.UTC).\n",
      "  datetime.utcnow()\n"
     ]
    },
    {
     "data": {
      "text/plain": [
       "datetime.datetime(2024, 10, 10, 6, 34, 23, 103256)"
      ]
     },
     "execution_count": 18,
     "metadata": {},
     "output_type": "execute_result"
    }
   ],
   "source": [
    "datetime.utcnow()"
   ]
  },
  {
   "cell_type": "code",
   "execution_count": 20,
   "id": "b7eb44aa-d633-4600-be45-f3bef43a23c5",
   "metadata": {},
   "outputs": [
    {
     "name": "stderr",
     "output_type": "stream",
     "text": [
      "C:\\Users\\audri\\AppData\\Local\\Temp\\ipykernel_26784\\3590263073.py:1: DeprecationWarning: datetime.datetime.utcnow() is deprecated and scheduled for removal in a future version. Use timezone-aware objects to represent datetimes in UTC: datetime.datetime.now(datetime.UTC).\n",
      "  pd.to_datetime(datetime.utcnow()).tz_localize(\"UTC\")\n"
     ]
    },
    {
     "data": {
      "text/plain": [
       "Timestamp('2024-10-10 06:34:23.554615+0000', tz='UTC')"
      ]
     },
     "execution_count": 20,
     "metadata": {},
     "output_type": "execute_result"
    }
   ],
   "source": [
    "pd.to_datetime(datetime.utcnow()).tz_localize(\"UTC\")"
   ]
  },
  {
   "cell_type": "code",
   "execution_count": 22,
   "id": "30c89e23-1201-48cf-abf5-d7729c91d862",
   "metadata": {},
   "outputs": [
    {
     "data": {
      "text/plain": [
       "Timedelta('0 days 00:00:05')"
      ]
     },
     "execution_count": 22,
     "metadata": {},
     "output_type": "execute_result"
    }
   ],
   "source": [
    "pd.to_timedelta(\"5s\")"
   ]
  },
  {
   "cell_type": "code",
   "execution_count": 26,
   "id": "4f9d4675-4a57-4ee1-adad-28a7cd72460b",
   "metadata": {},
   "outputs": [
    {
     "name": "stdout",
     "output_type": "stream",
     "text": [
      "2024-10-10T06:34:58.298912760Z 1.09406 1.09422\n",
      "2024-10-10T06:35:00.262731854Z 1.09406 1.09422\n",
      "2024-10-10T06:35:00.569101930Z 1.09407 1.09423\n",
      "2024-10-10T06:35:00.724585205Z 1.09407 1.09422\n",
      "2024-10-10T06:35:01.079055610Z 1.09407 1.09423\n",
      "2024-10-10T06:35:01.557880508Z 1.09406 1.09423\n",
      "2024-10-10T06:35:02.016222390Z 1.09407 1.09423\n",
      "2024-10-10T06:35:03.126353284Z 1.09406 1.09423\n",
      "2024-10-10T06:35:03.657487376Z 1.09407 1.09423\n",
      "2024-10-10T06:35:04.042169702Z 1.09406 1.09423\n",
      "2024-10-10T06:35:04.202086002Z 1.09407 1.09423\n",
      "2024-10-10T06:35:04.383113151Z 1.09406 1.09423\n",
      "2024-10-10T06:35:05.102289331Z 1.09404 1.09421\n",
      "2024-10-10T06:35:07.594240534Z 1.09405 1.09421\n",
      "2024-10-10T06:35:09.959451383Z 1.09407 1.09422\n",
      "2024-10-10T06:35:10.244193558Z 1.09406 1.09422\n",
      "2024-10-10T06:35:10.421809657Z 1.09407 1.09422\n",
      "2024-10-10T06:35:11.022193672Z 1.09406 1.09422\n",
      "2024-10-10T06:35:11.268865764Z 1.09407 1.09422\n",
      "2024-10-10T06:35:11.497590544Z 1.09406 1.09422\n"
     ]
    }
   ],
   "source": [
    "trader = ConTrader(\"oanda.cfg\", \"EUR_USD\", \"5s\")\n",
    "trader.stream_data(trader.instrument, stop = 20)"
   ]
  },
  {
   "cell_type": "code",
   "execution_count": 28,
   "id": "0ecdf271-983f-4907-91c3-5a78640b17df",
   "metadata": {},
   "outputs": [
    {
     "data": {
      "text/html": [
       "<div>\n",
       "<style scoped>\n",
       "    .dataframe tbody tr th:only-of-type {\n",
       "        vertical-align: middle;\n",
       "    }\n",
       "\n",
       "    .dataframe tbody tr th {\n",
       "        vertical-align: top;\n",
       "    }\n",
       "\n",
       "    .dataframe thead th {\n",
       "        text-align: right;\n",
       "    }\n",
       "</style>\n",
       "<table border=\"1\" class=\"dataframe\">\n",
       "  <thead>\n",
       "    <tr style=\"text-align: right;\">\n",
       "      <th></th>\n",
       "      <th>EUR_USD</th>\n",
       "    </tr>\n",
       "  </thead>\n",
       "  <tbody>\n",
       "    <tr>\n",
       "      <th>2024-10-10 06:35:00+00:00</th>\n",
       "      <td>1.094140</td>\n",
       "    </tr>\n",
       "    <tr>\n",
       "      <th>2024-10-10 06:35:05+00:00</th>\n",
       "      <td>1.094145</td>\n",
       "    </tr>\n",
       "    <tr>\n",
       "      <th>2024-10-10 06:35:10+00:00</th>\n",
       "      <td>1.094145</td>\n",
       "    </tr>\n",
       "  </tbody>\n",
       "</table>\n",
       "</div>"
      ],
      "text/plain": [
       "                            EUR_USD\n",
       "2024-10-10 06:35:00+00:00  1.094140\n",
       "2024-10-10 06:35:05+00:00  1.094145\n",
       "2024-10-10 06:35:10+00:00  1.094145"
      ]
     },
     "execution_count": 28,
     "metadata": {},
     "output_type": "execute_result"
    }
   ],
   "source": [
    "trader.data"
   ]
  },
  {
   "cell_type": "code",
   "execution_count": 30,
   "id": "6c1e20ca-f317-4fac-b5eb-a404864487f2",
   "metadata": {},
   "outputs": [
    {
     "data": {
      "text/html": [
       "<div>\n",
       "<style scoped>\n",
       "    .dataframe tbody tr th:only-of-type {\n",
       "        vertical-align: middle;\n",
       "    }\n",
       "\n",
       "    .dataframe tbody tr th {\n",
       "        vertical-align: top;\n",
       "    }\n",
       "\n",
       "    .dataframe thead th {\n",
       "        text-align: right;\n",
       "    }\n",
       "</style>\n",
       "<table border=\"1\" class=\"dataframe\">\n",
       "  <thead>\n",
       "    <tr style=\"text-align: right;\">\n",
       "      <th></th>\n",
       "      <th>EUR_USD</th>\n",
       "    </tr>\n",
       "  </thead>\n",
       "  <tbody>\n",
       "    <tr>\n",
       "      <th>2024-10-10 06:34:58.298912760+00:00</th>\n",
       "      <td>1.094140</td>\n",
       "    </tr>\n",
       "    <tr>\n",
       "      <th>2024-10-10 06:35:00.262731854+00:00</th>\n",
       "      <td>1.094140</td>\n",
       "    </tr>\n",
       "    <tr>\n",
       "      <th>2024-10-10 06:35:00.569101930+00:00</th>\n",
       "      <td>1.094150</td>\n",
       "    </tr>\n",
       "    <tr>\n",
       "      <th>2024-10-10 06:35:00.724585205+00:00</th>\n",
       "      <td>1.094145</td>\n",
       "    </tr>\n",
       "    <tr>\n",
       "      <th>2024-10-10 06:35:01.079055610+00:00</th>\n",
       "      <td>1.094150</td>\n",
       "    </tr>\n",
       "    <tr>\n",
       "      <th>2024-10-10 06:35:01.557880508+00:00</th>\n",
       "      <td>1.094145</td>\n",
       "    </tr>\n",
       "    <tr>\n",
       "      <th>2024-10-10 06:35:02.016222390+00:00</th>\n",
       "      <td>1.094150</td>\n",
       "    </tr>\n",
       "    <tr>\n",
       "      <th>2024-10-10 06:35:03.126353284+00:00</th>\n",
       "      <td>1.094145</td>\n",
       "    </tr>\n",
       "    <tr>\n",
       "      <th>2024-10-10 06:35:03.657487376+00:00</th>\n",
       "      <td>1.094150</td>\n",
       "    </tr>\n",
       "    <tr>\n",
       "      <th>2024-10-10 06:35:04.042169702+00:00</th>\n",
       "      <td>1.094145</td>\n",
       "    </tr>\n",
       "    <tr>\n",
       "      <th>2024-10-10 06:35:04.202086002+00:00</th>\n",
       "      <td>1.094150</td>\n",
       "    </tr>\n",
       "    <tr>\n",
       "      <th>2024-10-10 06:35:04.383113151+00:00</th>\n",
       "      <td>1.094145</td>\n",
       "    </tr>\n",
       "    <tr>\n",
       "      <th>2024-10-10 06:35:05.102289331+00:00</th>\n",
       "      <td>1.094125</td>\n",
       "    </tr>\n",
       "    <tr>\n",
       "      <th>2024-10-10 06:35:07.594240534+00:00</th>\n",
       "      <td>1.094130</td>\n",
       "    </tr>\n",
       "    <tr>\n",
       "      <th>2024-10-10 06:35:09.959451383+00:00</th>\n",
       "      <td>1.094145</td>\n",
       "    </tr>\n",
       "    <tr>\n",
       "      <th>2024-10-10 06:35:10.244193558+00:00</th>\n",
       "      <td>1.094140</td>\n",
       "    </tr>\n",
       "    <tr>\n",
       "      <th>2024-10-10 06:35:10.421809657+00:00</th>\n",
       "      <td>1.094145</td>\n",
       "    </tr>\n",
       "    <tr>\n",
       "      <th>2024-10-10 06:35:11.022193672+00:00</th>\n",
       "      <td>1.094140</td>\n",
       "    </tr>\n",
       "    <tr>\n",
       "      <th>2024-10-10 06:35:11.268865764+00:00</th>\n",
       "      <td>1.094145</td>\n",
       "    </tr>\n",
       "    <tr>\n",
       "      <th>2024-10-10 06:35:11.497590544+00:00</th>\n",
       "      <td>1.094140</td>\n",
       "    </tr>\n",
       "  </tbody>\n",
       "</table>\n",
       "</div>"
      ],
      "text/plain": [
       "                                      EUR_USD\n",
       "2024-10-10 06:34:58.298912760+00:00  1.094140\n",
       "2024-10-10 06:35:00.262731854+00:00  1.094140\n",
       "2024-10-10 06:35:00.569101930+00:00  1.094150\n",
       "2024-10-10 06:35:00.724585205+00:00  1.094145\n",
       "2024-10-10 06:35:01.079055610+00:00  1.094150\n",
       "2024-10-10 06:35:01.557880508+00:00  1.094145\n",
       "2024-10-10 06:35:02.016222390+00:00  1.094150\n",
       "2024-10-10 06:35:03.126353284+00:00  1.094145\n",
       "2024-10-10 06:35:03.657487376+00:00  1.094150\n",
       "2024-10-10 06:35:04.042169702+00:00  1.094145\n",
       "2024-10-10 06:35:04.202086002+00:00  1.094150\n",
       "2024-10-10 06:35:04.383113151+00:00  1.094145\n",
       "2024-10-10 06:35:05.102289331+00:00  1.094125\n",
       "2024-10-10 06:35:07.594240534+00:00  1.094130\n",
       "2024-10-10 06:35:09.959451383+00:00  1.094145\n",
       "2024-10-10 06:35:10.244193558+00:00  1.094140\n",
       "2024-10-10 06:35:10.421809657+00:00  1.094145\n",
       "2024-10-10 06:35:11.022193672+00:00  1.094140\n",
       "2024-10-10 06:35:11.268865764+00:00  1.094145\n",
       "2024-10-10 06:35:11.497590544+00:00  1.094140"
      ]
     },
     "execution_count": 30,
     "metadata": {},
     "output_type": "execute_result"
    }
   ],
   "source": [
    "trader.tick_data"
   ]
  },
  {
   "cell_type": "code",
   "execution_count": null,
   "id": "6090e14e-f84f-423a-8827-573ffd1769ce",
   "metadata": {},
   "outputs": [],
   "source": []
  }
 ],
 "metadata": {
  "kernelspec": {
   "display_name": "Python 3 (ipykernel)",
   "language": "python",
   "name": "python3"
  },
  "language_info": {
   "codemirror_mode": {
    "name": "ipython",
    "version": 3
   },
   "file_extension": ".py",
   "mimetype": "text/x-python",
   "name": "python",
   "nbconvert_exporter": "python",
   "pygments_lexer": "ipython3",
   "version": "3.12.4"
  }
 },
 "nbformat": 4,
 "nbformat_minor": 5
}
