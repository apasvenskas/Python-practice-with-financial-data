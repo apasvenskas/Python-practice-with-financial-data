{
 "cells": [
  {
   "cell_type": "markdown",
   "id": "dfd14fcd-8568-4ced-a8bc-5dab3a64f118",
   "metadata": {},
   "source": [
    "Placing Orders and Executing Trades"
   ]
  },
  {
   "cell_type": "code",
   "execution_count": 2,
   "id": "24cf65de-b936-4c2a-9d7d-642229d6d77c",
   "metadata": {},
   "outputs": [],
   "source": [
    "import pandas as pd\n",
    "import numpy as np\n",
    "import tpqoa\n",
    "from datetime import datetime, timedelta, timezone\n",
    "import json"
   ]
  },
  {
   "cell_type": "code",
   "execution_count": 4,
   "id": "2bd0f72b-7435-4a47-b1f9-454d2d224b33",
   "metadata": {},
   "outputs": [],
   "source": [
    "# start_time = datetime.now(timezone.utc) - timedelta(days = 5)\n",
    "# end_time = datetime.now(timezone.utc)"
   ]
  },
  {
   "cell_type": "code",
   "execution_count": 6,
   "id": "79e5b8a3-30c5-4e72-a172-81f278cd2bf5",
   "metadata": {},
   "outputs": [],
   "source": [
    "df = pd.read_csv('oanda.cfg')"
   ]
  },
  {
   "cell_type": "code",
   "execution_count": 58,
   "id": "9e2bb491-f652-4258-b611-8ec22b08d193",
   "metadata": {},
   "outputs": [],
   "source": [
    "class ConTrader(tpqoa.tpqoa):\n",
    "    def __init__(self, config_file, instrument, bar_length, window, units):\n",
    "        super().__init__(config_file)\n",
    "        self.instrument = instrument\n",
    "        self.bar_length = bar_length\n",
    "        self.tick_data = pd.DataFrame()\n",
    "        self.raw_data = pd.DataFrame()\n",
    "        self.position = 0\n",
    "        self.units = units\n",
    "        self.window = window\n",
    "\n",
    "        try:\n",
    "            account_summary = self.get_account_summary()\n",
    "            print(\"Account Summary:\", account_summary)\n",
    "        except Exception as e:\n",
    "            print(\"Error retrieving account summary:\", e)\n",
    "\n",
    "        # Call the method to fetch historical data\n",
    "        self.get_historical_data()\n",
    "\n",
    "    def get_historical_data(self):\n",
    "        \"\"\"Fetch historical data from OANDA with proper error handling.\"\"\"\n",
    "        # Set the time range (last 30 minutes)\n",
    "        end_time = datetime.now(timezone.utc)\n",
    "        start_time = end_time - timedelta(minutes=30)\n",
    "\n",
    "        # Format timestamps to OANDA's requirements (YYYY-MM-DDTHH:MM:SSZ)\n",
    "        start_str = start_time.strftime('%Y-%m-%dT%H:%M:%SZ')\n",
    "        end_str = end_time.strftime('%Y-%m-%dT%H:%M:%SZ')\n",
    "\n",
    "        try:\n",
    "            params = {\n",
    "                'price': 'M',           # Midpoint price\n",
    "                'granularity': self.bar_length,\n",
    "                'from': start_str,      # Using 'from' instead of 'start'\n",
    "                'to': end_str           # Using 'to' instead of 'end'\n",
    "            }\n",
    "            \n",
    "            print(f\"Requesting data with parameters: {params}\")\n",
    "            response = self.get_history(instrument=self.instrument, **params)\n",
    "\n",
    "            if 'candles' in response:\n",
    "                print(\"Data retrieved successfully\")\n",
    "                self.tick_data = pd.DataFrame(response['candles'])\n",
    "                self.process_data()\n",
    "                return\n",
    "            else:\n",
    "                print(f\"No candles in response. Response contains: {response}\")\n",
    "\n",
    "        except Exception as e:\n",
    "            print(f\"Error retrieving data: {e}\")\n",
    "            if hasattr(e, 'response') and hasattr(e.response, 'json'):\n",
    "                try:\n",
    "                    error_details = e.response.json()\n",
    "                    print(f\"API Error Details: {error_details}\")\n",
    "                except:\n",
    "                    pass\n",
    "\n",
    "        print(\"Failed to retrieve historical data\")\n",
    "        return None\n",
    "\n",
    "    def process_data(self):\n",
    "        \"\"\"Process the fetched historical data.\"\"\"\n",
    "        try:\n",
    "            if isinstance(self.tick_data, pd.DataFrame) and self.tick_data.empty:\n",
    "                print(\"No data to process\")\n",
    "                return\n",
    "\n",
    "            # Convert to DataFrame if it's not already\n",
    "            if not isinstance(self.tick_data, pd.DataFrame):\n",
    "                self.tick_data = pd.DataFrame(self.tick_data)\n",
    "\n",
    "            # Create a copy of the data for processing\n",
    "            processed_data = self.tick_data.copy()\n",
    "\n",
    "            # Extract time and set as index\n",
    "            if 'time' in processed_data.columns:\n",
    "                processed_data['time'] = pd.to_datetime(processed_data['time'])\n",
    "                processed_data.set_index('time', inplace=True)\n",
    "\n",
    "            # Extract mid prices if available\n",
    "            if 'mid' in processed_data.columns:\n",
    "                mid_data = pd.json_normalize(processed_data['mid'])\n",
    "                processed_data[['open', 'high', 'low', 'close']] = mid_data[['o', 'h', 'l', 'c']]\n",
    "            \n",
    "            # Convert price columns to float\n",
    "            for col in ['open', 'high', 'low', 'close']:\n",
    "                if col in processed_data.columns:\n",
    "                    processed_data[col] = processed_data[col].astype(float)\n",
    "\n",
    "            self.tick_data = processed_data\n",
    "            \n",
    "            print(\"\\nProcessed Data Summary:\")\n",
    "            print(f\"Number of bars: {len(processed_data)}\")\n",
    "            if not processed_data.empty:\n",
    "                print(f\"Date range: {processed_data.index.min()} to {processed_data.index.max()}\")\n",
    "                print(\"\\nFirst few rows of processed data:\")\n",
    "                print(processed_data.head())\n",
    "\n",
    "        except Exception as e:\n",
    "            print(f\"Error processing data: {str(e)}\")\n",
    "\n",
    "    def __repr__(self):\n",
    "        return f\"ConTrader(instrument='{self.instrument}', bar_length='{self.bar_length}', units={self.units})\""
   ]
  },
  {
   "cell_type": "code",
   "execution_count": 60,
   "id": "4f8865e2-4ed5-4994-952c-10a8fae96937",
   "metadata": {},
   "outputs": [
    {
     "data": {
      "text/plain": [
       "['__class__',\n",
       " '__delattr__',\n",
       " '__dict__',\n",
       " '__dir__',\n",
       " '__doc__',\n",
       " '__eq__',\n",
       " '__format__',\n",
       " '__ge__',\n",
       " '__getattribute__',\n",
       " '__getstate__',\n",
       " '__gt__',\n",
       " '__hash__',\n",
       " '__init__',\n",
       " '__init_subclass__',\n",
       " '__le__',\n",
       " '__lt__',\n",
       " '__module__',\n",
       " '__ne__',\n",
       " '__new__',\n",
       " '__reduce__',\n",
       " '__reduce_ex__',\n",
       " '__repr__',\n",
       " '__setattr__',\n",
       " '__sizeof__',\n",
       " '__str__',\n",
       " '__subclasshook__',\n",
       " '__weakref__',\n",
       " '_stream_data_failsafe_thread',\n",
       " 'cancel_order',\n",
       " 'create_order',\n",
       " 'get_account_summary',\n",
       " 'get_history',\n",
       " 'get_instruments',\n",
       " 'get_positions',\n",
       " 'get_prices',\n",
       " 'get_transaction',\n",
       " 'get_transactions',\n",
       " 'on_success',\n",
       " 'print_transactions',\n",
       " 'retrieve_data',\n",
       " 'stream_data',\n",
       " 'stream_data_failsafe',\n",
       " 'transform_datetime']"
      ]
     },
     "execution_count": 60,
     "metadata": {},
     "output_type": "execute_result"
    }
   ],
   "source": [
    "dir(tpqoa.tpqoa)"
   ]
  },
  {
   "cell_type": "code",
   "execution_count": 64,
   "id": "77115d08-ad91-444a-8e4b-60d1b1f93600",
   "metadata": {},
   "outputs": [
    {
     "ename": "AttributeError",
     "evalue": "module 'tpqoa' has no attribute 'get_history'",
     "output_type": "error",
     "traceback": [
      "\u001b[1;31m---------------------------------------------------------------------------\u001b[0m",
      "\u001b[1;31mAttributeError\u001b[0m                            Traceback (most recent call last)",
      "Cell \u001b[1;32mIn[64], line 1\u001b[0m\n\u001b[1;32m----> 1\u001b[0m help(tpqoa\u001b[38;5;241m.\u001b[39mget_history)\n",
      "\u001b[1;31mAttributeError\u001b[0m: module 'tpqoa' has no attribute 'get_history'"
     ]
    }
   ],
   "source": [
    "help(tpqoa.get_history)"
   ]
  },
  {
   "cell_type": "code",
   "execution_count": 68,
   "id": "cfef54bb-4287-4575-91bb-279ac76487ec",
   "metadata": {},
   "outputs": [
    {
     "name": "stdout",
     "output_type": "stream",
     "text": [
      "['__class__', '__delattr__', '__dict__', '__dir__', '__doc__', '__eq__', '__format__', '__ge__', '__getattribute__', '__getstate__', '__gt__', '__hash__', '__init__', '__init_subclass__', '__le__', '__lt__', '__module__', '__ne__', '__new__', '__reduce__', '__reduce_ex__', '__repr__', '__setattr__', '__sizeof__', '__str__', '__subclasshook__', '__weakref__', '_stream_data_failsafe_thread', 'access_token', 'account_id', 'account_type', 'cancel_order', 'config', 'create_order', 'ctx', 'ctx_stream', 'get_account_summary', 'get_history', 'get_instruments', 'get_positions', 'get_prices', 'get_transaction', 'get_transactions', 'hostname', 'on_success', 'print_transactions', 'retrieve_data', 'stop_stream', 'stream_data', 'stream_data_failsafe', 'stream_hostname', 'suffix', 'transform_datetime']\n"
     ]
    }
   ],
   "source": [
    "tpqoa_instance = tpqoa.tpqoa('oanda.cfg')\n",
    "print(dir(tpqoa_instance))"
   ]
  },
  {
   "cell_type": "code",
   "execution_count": 62,
   "id": "f354ca4c-7b42-46c0-9e84-968f1f326f26",
   "metadata": {
    "scrolled": true
   },
   "outputs": [
    {
     "name": "stdout",
     "output_type": "stream",
     "text": [
      "Account Summary: {'id': '101-001-29655670-001', 'alias': 'Primary', 'currency': 'USD', 'balance': '99880.484', 'createdByUserID': 29655670, 'createdTime': '2024-08-08T00:09:15.700565792Z', 'guaranteedStopLossOrderMode': 'DISABLED', 'pl': '-52.77', 'resettablePL': '-52.77', 'resettablePLTime': '0', 'financing': '-66.746', 'commission': '0.0', 'guaranteedExecutionFees': '0.0', 'marginRate': '0.02', 'openTradeCount': 1, 'openPositionCount': 1, 'pendingOrderCount': 0, 'hedgingEnabled': False, 'unrealizedPL': '-688.37', 'NAV': '99192.114', 'marginUsed': '410.2556', 'marginAvailable': '98783.9484', 'positionValue': '20512.78', 'marginCloseoutUnrealizedPL': '-686.28', 'marginCloseoutNAV': '99194.204', 'marginCloseoutMarginUsed': '410.2556', 'marginCloseoutPercent': '0.00207', 'marginCloseoutPositionValue': '20512.78', 'withdrawalLimit': '98783.9484', 'marginCallMarginUsed': '410.2556', 'marginCallPercent': '0.00414', 'lastTransactionID': '121'}\n",
      "Requesting data with parameters: {'price': 'M', 'granularity': 'M1', 'from': '2024-10-27T02:20:57Z', 'to': '2024-10-27T02:50:57Z'}\n",
      "Error retrieving data: tpqoa.get_history() got an unexpected keyword argument 'from'\n",
      "Failed to retrieve historical data\n"
     ]
    }
   ],
   "source": [
    "trader = ConTrader(\n",
    "    config_file=\"oanda.cfg\",\n",
    "    instrument=\"EUR_USD\",\n",
    "    bar_length=\"M1\",\n",
    "    window=1,\n",
    "    units=5000\n",
    ")"
   ]
  },
  {
   "cell_type": "code",
   "execution_count": 14,
   "id": "fd676b95-684f-4f2d-b87f-71f3ea2c444b",
   "metadata": {},
   "outputs": [
    {
     "data": {
      "text/plain": [
       "0"
      ]
     },
     "execution_count": 14,
     "metadata": {},
     "output_type": "execute_result"
    }
   ],
   "source": [
    "trader.position"
   ]
  },
  {
   "cell_type": "code",
   "execution_count": 16,
   "id": "c6cec5c8-34fc-4e60-96ff-066345f45222",
   "metadata": {},
   "outputs": [
    {
     "data": {
      "text/plain": [
       "5000"
      ]
     },
     "execution_count": 16,
     "metadata": {},
     "output_type": "execute_result"
    }
   ],
   "source": [
    "trader.units"
   ]
  },
  {
   "cell_type": "code",
   "execution_count": 18,
   "id": "978c6f5c-b0e9-4e3a-90f9-c50e67ac1853",
   "metadata": {},
   "outputs": [
    {
     "data": {
      "text/plain": [
       "[{'instrument': 'EUR_USD',\n",
       "  'pl': '-52.77',\n",
       "  'unrealizedPL': '-688.37',\n",
       "  'marginUsed': '410.2556',\n",
       "  'resettablePL': '-52.77',\n",
       "  'financing': '-66.746',\n",
       "  'commission': '0.0',\n",
       "  'guaranteedExecutionFees': '0.0',\n",
       "  'long': {'units': '19000.0',\n",
       "   'averagePrice': 1.11574,\n",
       "   'tradeIDs': ['42'],\n",
       "   'pl': '-16.83',\n",
       "   'unrealizedPL': '-688.37',\n",
       "   'resettablePL': '-16.83',\n",
       "   'financing': '-66.9039',\n",
       "   'guaranteedExecutionFees': '0.0'},\n",
       "  'short': {'units': '0.0',\n",
       "   'pl': '-35.94',\n",
       "   'unrealizedPL': '0.0',\n",
       "   'resettablePL': '-35.94',\n",
       "   'financing': '0.1579',\n",
       "   'guaranteedExecutionFees': '0.0'}}]"
      ]
     },
     "execution_count": 18,
     "metadata": {},
     "output_type": "execute_result"
    }
   ],
   "source": [
    "trader.get_positions()"
   ]
  },
  {
   "cell_type": "code",
   "execution_count": null,
   "id": "8a908468-4385-4afd-a306-d09524a2a338",
   "metadata": {},
   "outputs": [],
   "source": []
  }
 ],
 "metadata": {
  "kernelspec": {
   "display_name": "Python 3 (ipykernel)",
   "language": "python",
   "name": "python3"
  },
  "language_info": {
   "codemirror_mode": {
    "name": "ipython",
    "version": 3
   },
   "file_extension": ".py",
   "mimetype": "text/x-python",
   "name": "python",
   "nbconvert_exporter": "python",
   "pygments_lexer": "ipython3",
   "version": "3.12.4"
  }
 },
 "nbformat": 4,
 "nbformat_minor": 5
}
