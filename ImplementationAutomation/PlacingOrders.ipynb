{
 "cells": [
  {
   "cell_type": "markdown",
   "id": "dfd14fcd-8568-4ced-a8bc-5dab3a64f118",
   "metadata": {},
   "source": [
    "Placing Orders and Executing Trades"
   ]
  },
  {
   "cell_type": "code",
   "execution_count": 19,
   "id": "24cf65de-b936-4c2a-9d7d-642229d6d77c",
   "metadata": {},
   "outputs": [],
   "source": [
    "import pandas as pd\n",
    "import numpy as np\n",
    "import tpqoa\n",
    "from datetime import datetime, timedelta, timezone\n",
    "import json"
   ]
  },
  {
   "cell_type": "code",
   "execution_count": 21,
   "id": "2bd0f72b-7435-4a47-b1f9-454d2d224b33",
   "metadata": {},
   "outputs": [],
   "source": [
    "# start_time = datetime.now(timezone.utc) - timedelta(days = 5)\n",
    "# end_time = datetime.now(timezone.utc)"
   ]
  },
  {
   "cell_type": "code",
   "execution_count": 23,
   "id": "79e5b8a3-30c5-4e72-a172-81f278cd2bf5",
   "metadata": {},
   "outputs": [],
   "source": [
    "df = pd.read_csv('oanda.cfg')"
   ]
  },
  {
   "cell_type": "code",
   "execution_count": 46,
   "id": "9e2bb491-f652-4258-b611-8ec22b08d193",
   "metadata": {},
   "outputs": [],
   "source": [
    "class ConTrader(tpqoa.tpqoa):\n",
    "    def __init__(self, config_file, instrument, bar_length, window, units):\n",
    "        super().__init__(config_file)\n",
    "        self.instrument = instrument\n",
    "        self.bar_length = bar_length\n",
    "        self.tick_data = pd.DataFrame()\n",
    "        self.raw_data = pd.DataFrame()\n",
    "        self.position = 0\n",
    "        self.units = units\n",
    "        self.window = window\n",
    "\n",
    "        try:\n",
    "            account_summary = self.get_account_summary()\n",
    "            print(\"Account Summary:\", account_summary)\n",
    "        except Exception as e:\n",
    "            print(\"Error retrieving account summary:\", e)\n",
    "\n",
    "        # Call the method to fetch historical data\n",
    "        self.get_historical_data()\n",
    "\n",
    "    def get_historical_data(self):\n",
    "        \"\"\"Fetch historical data from OANDA with proper error handling.\"\"\"\n",
    "        # Get the current time in UTC\n",
    "        end_time = datetime.now(timezone.utc)\n",
    "        start_time = end_time - timedelta(minutes=30)  # Reduced to 30 minutes for testing\n",
    "\n",
    "        # Format timestamps according to OANDA's requirements\n",
    "        # Remove milliseconds and timezone info\n",
    "        start_str = start_time.strftime('%Y-%m-%dT%H:%M:%S.000000Z')\n",
    "        end_str = end_time.strftime('%Y-%m-%dT%H:%M:%S.000000Z')\n",
    "\n",
    "        try:\n",
    "            # Try different parameter combinations\n",
    "            param_combinations = [\n",
    "                {'price': 'M', 'granularity': 'M1'},  # Mid price, 1-minute\n",
    "                {'price': 'B', 'granularity': 'M1'},  # Bid price, 1-minute\n",
    "                {'price': 'A', 'granularity': 'M1'},  # Ask price, 1-minute\n",
    "                {'price': 'MBA', 'granularity': 'M1'} # Mid/Bid/Ask prices, 1-minute\n",
    "            ]\n",
    "\n",
    "            for params in param_combinations:\n",
    "                print(f\"\\nTrying parameters: {params}\")\n",
    "                try:\n",
    "                    df = self.get_history(\n",
    "                        instrument=self.instrument,\n",
    "                        start=start_str,\n",
    "                        end=end_str,\n",
    "                        granularity=params['granularity'],\n",
    "                        price=params['price']\n",
    "                    )\n",
    "                    \n",
    "                    if df is not None and not df.empty:\n",
    "                        self.tick_data = df\n",
    "                        print(f\"Successfully fetched data with parameters: {params}\")\n",
    "                        print(\"\\nFirst few rows of raw data:\")\n",
    "                        print(df.head())\n",
    "                        self.process_data()\n",
    "                        return  # Exit if successful\n",
    "                    \n",
    "                except Exception as e:\n",
    "                    print(f\"Failed with parameters {params}: {str(e)}\")\n",
    "                    continue\n",
    "\n",
    "            # If we get here, none of the combinations worked\n",
    "            print(\"\\nAll parameter combinations failed. Trying to get available instruments...\")\n",
    "            \n",
    "            try:\n",
    "                # Try to get list of available instruments\n",
    "                accounts = self.get_accounts()\n",
    "                print(\"\\nAvailable accounts:\", accounts)\n",
    "                \n",
    "                # Try to get account details\n",
    "                account_details = self.get_account_summary()\n",
    "                print(\"\\nAccount details:\", account_details)\n",
    "                \n",
    "            except Exception as e:\n",
    "                print(f\"Error getting account information: {str(e)}\")\n",
    "\n",
    "        except Exception as e:\n",
    "            print(f\"Error fetching historical data: {str(e)}\")\n",
    "            print(\"\\nPlease verify:\")\n",
    "            print(\"1. Your API credentials are correct\")\n",
    "            print(\"2. The instrument symbol is valid (e.g., 'EUR_USD')\")\n",
    "            print(\"3. Your account has permissions to access this instrument\")\n",
    "            print(\"4. The requested time range is valid\")\n",
    "\n",
    "    def process_data(self):\n",
    "        \"\"\"Process the fetched historical data.\"\"\"\n",
    "        try:\n",
    "            if self.tick_data.empty:\n",
    "                print(\"No data to process\")\n",
    "                return\n",
    "\n",
    "            # Create a copy of the data for processing\n",
    "            processed_data = self.tick_data.copy()\n",
    "\n",
    "            # Rename the close price column if it exists\n",
    "            if 'c' in processed_data.columns:\n",
    "                processed_data.rename(columns={'c': self.instrument}, inplace=True)\n",
    "\n",
    "            # Resample the data according to the specified bar length\n",
    "            processed_data = processed_data.resample(\n",
    "                self.bar_length, \n",
    "                label=\"right\"\n",
    "            ).last().dropna()\n",
    "\n",
    "            self.tick_data = processed_data\n",
    "            \n",
    "            print(f\"\\nProcessed Data Summary:\")\n",
    "            print(f\"Number of bars: {len(processed_data)}\")\n",
    "            if not processed_data.empty:\n",
    "                print(f\"Date range: {processed_data.index.min()} to {processed_data.index.max()}\")\n",
    "                print(\"\\nFirst few rows of processed data:\")\n",
    "                print(processed_data.head())\n",
    "\n",
    "        except Exception as e:\n",
    "            print(f\"Error processing data: {str(e)}\")\n",
    "\n",
    "    def __repr__(self):\n",
    "        return f\"ConTrader(instrument='{self.instrument}', bar_length='{self.bar_length}', units={self.units})\""
   ]
  },
  {
   "cell_type": "code",
   "execution_count": 48,
   "id": "4f8865e2-4ed5-4994-952c-10a8fae96937",
   "metadata": {},
   "outputs": [
    {
     "data": {
      "text/plain": [
       "['__class__',\n",
       " '__delattr__',\n",
       " '__dict__',\n",
       " '__dir__',\n",
       " '__doc__',\n",
       " '__eq__',\n",
       " '__format__',\n",
       " '__ge__',\n",
       " '__getattribute__',\n",
       " '__getstate__',\n",
       " '__gt__',\n",
       " '__hash__',\n",
       " '__init__',\n",
       " '__init_subclass__',\n",
       " '__le__',\n",
       " '__lt__',\n",
       " '__module__',\n",
       " '__ne__',\n",
       " '__new__',\n",
       " '__reduce__',\n",
       " '__reduce_ex__',\n",
       " '__repr__',\n",
       " '__setattr__',\n",
       " '__sizeof__',\n",
       " '__str__',\n",
       " '__subclasshook__',\n",
       " '__weakref__',\n",
       " '_stream_data_failsafe_thread',\n",
       " 'cancel_order',\n",
       " 'create_order',\n",
       " 'get_account_summary',\n",
       " 'get_history',\n",
       " 'get_instruments',\n",
       " 'get_positions',\n",
       " 'get_prices',\n",
       " 'get_transaction',\n",
       " 'get_transactions',\n",
       " 'on_success',\n",
       " 'print_transactions',\n",
       " 'retrieve_data',\n",
       " 'stream_data',\n",
       " 'stream_data_failsafe',\n",
       " 'transform_datetime']"
      ]
     },
     "execution_count": 48,
     "metadata": {},
     "output_type": "execute_result"
    }
   ],
   "source": [
    "dir(tpqoa.tpqoa)"
   ]
  },
  {
   "cell_type": "code",
   "execution_count": 50,
   "id": "f354ca4c-7b42-46c0-9e84-968f1f326f26",
   "metadata": {},
   "outputs": [
    {
     "name": "stdout",
     "output_type": "stream",
     "text": [
      "Account Summary: {'id': '101-001-29655670-001', 'alias': 'Primary', 'currency': 'USD', 'balance': '99880.484', 'createdByUserID': 29655670, 'createdTime': '2024-08-08T00:09:15.700565792Z', 'guaranteedStopLossOrderMode': 'DISABLED', 'pl': '-52.77', 'resettablePL': '-52.77', 'resettablePLTime': '0', 'financing': '-66.746', 'commission': '0.0', 'guaranteedExecutionFees': '0.0', 'marginRate': '0.02', 'openTradeCount': 1, 'openPositionCount': 1, 'pendingOrderCount': 0, 'hedgingEnabled': False, 'unrealizedPL': '-688.37', 'NAV': '99192.114', 'marginUsed': '410.2556', 'marginAvailable': '98783.9484', 'positionValue': '20512.78', 'marginCloseoutUnrealizedPL': '-686.28', 'marginCloseoutNAV': '99194.204', 'marginCloseoutMarginUsed': '410.2556', 'marginCloseoutPercent': '0.00207', 'marginCloseoutPositionValue': '20512.78', 'withdrawalLimit': '98783.9484', 'marginCallMarginUsed': '410.2556', 'marginCallPercent': '0.00414', 'lastTransactionID': '120'}\n",
      "\n",
      "Trying parameters: {'price': 'M', 'granularity': 'M1'}\n",
      "Failed with parameters {'price': 'M', 'granularity': 'M1'}: 400 response for GET https://api-fxpractice.oanda.com:443/v3/instruments/EUR_USD/candles?price=M&granularity=M1&from=2024-10-26T06%3A24%3A26%2B00%3A00.000000000Z&to=2024-10-26T06%3A54%3A26%2B00%3A00.000000000Z does not have field 'candles' (contains 'errorMessage')\n",
      "\n",
      "Trying parameters: {'price': 'B', 'granularity': 'M1'}\n",
      "Failed with parameters {'price': 'B', 'granularity': 'M1'}: 400 response for GET https://api-fxpractice.oanda.com:443/v3/instruments/EUR_USD/candles?price=B&granularity=M1&from=2024-10-26T06%3A24%3A26%2B00%3A00.000000000Z&to=2024-10-26T06%3A54%3A26%2B00%3A00.000000000Z does not have field 'candles' (contains 'errorMessage')\n",
      "\n",
      "Trying parameters: {'price': 'A', 'granularity': 'M1'}\n",
      "Failed with parameters {'price': 'A', 'granularity': 'M1'}: 400 response for GET https://api-fxpractice.oanda.com:443/v3/instruments/EUR_USD/candles?price=A&granularity=M1&from=2024-10-26T06%3A24%3A26%2B00%3A00.000000000Z&to=2024-10-26T06%3A54%3A26%2B00%3A00.000000000Z does not have field 'candles' (contains 'errorMessage')\n",
      "\n",
      "Trying parameters: {'price': 'MBA', 'granularity': 'M1'}\n",
      "Failed with parameters {'price': 'MBA', 'granularity': 'M1'}: 400 response for GET https://api-fxpractice.oanda.com:443/v3/instruments/EUR_USD/candles?price=MBA&granularity=M1&from=2024-10-26T06%3A24%3A26%2B00%3A00.000000000Z&to=2024-10-26T06%3A54%3A26%2B00%3A00.000000000Z does not have field 'candles' (contains 'errorMessage')\n",
      "\n",
      "All parameter combinations failed. Trying to get available instruments...\n",
      "Error getting account information: 'ConTrader' object has no attribute 'get_accounts'\n"
     ]
    }
   ],
   "source": [
    "trader = ConTrader(\n",
    "    config_file=\"oanda.cfg\",\n",
    "    instrument=\"EUR_USD\",\n",
    "    bar_length=\"1min\",\n",
    "    window=1,\n",
    "    units=5000\n",
    ")"
   ]
  },
  {
   "cell_type": "code",
   "execution_count": 31,
   "id": "fd676b95-684f-4f2d-b87f-71f3ea2c444b",
   "metadata": {},
   "outputs": [
    {
     "data": {
      "text/plain": [
       "0"
      ]
     },
     "execution_count": 31,
     "metadata": {},
     "output_type": "execute_result"
    }
   ],
   "source": [
    "trader.position"
   ]
  },
  {
   "cell_type": "code",
   "execution_count": 33,
   "id": "c6cec5c8-34fc-4e60-96ff-066345f45222",
   "metadata": {},
   "outputs": [
    {
     "data": {
      "text/plain": [
       "5000"
      ]
     },
     "execution_count": 33,
     "metadata": {},
     "output_type": "execute_result"
    }
   ],
   "source": [
    "trader.units"
   ]
  },
  {
   "cell_type": "code",
   "execution_count": 35,
   "id": "978c6f5c-b0e9-4e3a-90f9-c50e67ac1853",
   "metadata": {},
   "outputs": [
    {
     "data": {
      "text/plain": [
       "[{'instrument': 'EUR_USD',\n",
       "  'pl': '-52.77',\n",
       "  'unrealizedPL': '-688.37',\n",
       "  'marginUsed': '410.2556',\n",
       "  'resettablePL': '-52.77',\n",
       "  'financing': '-66.746',\n",
       "  'commission': '0.0',\n",
       "  'guaranteedExecutionFees': '0.0',\n",
       "  'long': {'units': '19000.0',\n",
       "   'averagePrice': 1.11574,\n",
       "   'tradeIDs': ['42'],\n",
       "   'pl': '-16.83',\n",
       "   'unrealizedPL': '-688.37',\n",
       "   'resettablePL': '-16.83',\n",
       "   'financing': '-66.9039',\n",
       "   'guaranteedExecutionFees': '0.0'},\n",
       "  'short': {'units': '0.0',\n",
       "   'pl': '-35.94',\n",
       "   'unrealizedPL': '0.0',\n",
       "   'resettablePL': '-35.94',\n",
       "   'financing': '0.1579',\n",
       "   'guaranteedExecutionFees': '0.0'}}]"
      ]
     },
     "execution_count": 35,
     "metadata": {},
     "output_type": "execute_result"
    }
   ],
   "source": [
    "trader.get_positions()"
   ]
  },
  {
   "cell_type": "code",
   "execution_count": null,
   "id": "8a908468-4385-4afd-a306-d09524a2a338",
   "metadata": {},
   "outputs": [],
   "source": []
  }
 ],
 "metadata": {
  "kernelspec": {
   "display_name": "Python 3 (ipykernel)",
   "language": "python",
   "name": "python3"
  },
  "language_info": {
   "codemirror_mode": {
    "name": "ipython",
    "version": 3
   },
   "file_extension": ".py",
   "mimetype": "text/x-python",
   "name": "python",
   "nbconvert_exporter": "python",
   "pygments_lexer": "ipython3",
   "version": "3.12.4"
  }
 },
 "nbformat": 4,
 "nbformat_minor": 5
}
