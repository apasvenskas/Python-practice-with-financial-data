{
 "cells": [
  {
   "cell_type": "markdown",
   "id": "dfd14fcd-8568-4ced-a8bc-5dab3a64f118",
   "metadata": {},
   "source": [
    "Placing Orders and Executing Trades"
   ]
  },
  {
   "cell_type": "code",
   "execution_count": 11,
   "id": "24cf65de-b936-4c2a-9d7d-642229d6d77c",
   "metadata": {},
   "outputs": [],
   "source": [
    "import pandas as pd\n",
    "import numpy as np\n",
    "import tpqoa\n",
    "from datetime import datetime, timedelta\n",
    "import time"
   ]
  },
  {
   "cell_type": "code",
   "execution_count": 15,
   "id": "79e5b8a3-30c5-4e72-a172-81f278cd2bf5",
   "metadata": {},
   "outputs": [],
   "source": [
    "df = pd.read_csv('oanda.cfg')"
   ]
  },
  {
   "cell_type": "code",
   "execution_count": 2,
   "id": "9e2bb491-f652-4258-b611-8ec22b08d193",
   "metadata": {},
   "outputs": [],
   "source": [
    "class ConTrader(tpqoa.tpqoa):\n",
    "\n",
    "    def __init__(self, config_file, instrument, bar_length, window, units):\n",
    "        super().__init__(config_file)\n",
    "        self.instrument = instrument\n",
    "        self.bar_length = bar_length\n",
    "        self.tick_data = pd.DataFrame()\n",
    "        self.raw_data = pd.DataFrame()\n",
    "        self.position = 0\n",
    "        self.units = units\n",
    "        df.dataframe() # might need to rename\n",
    "        df.rename(columns = {\"C\":self.instrument}, inplace = true) \n",
    "        df = df.resample(self.bar_length, label = \"right\").last().dropna().iloc[:-1]\n",
    "        self.tick_data = df.copy()  # To observe the DataFrame after each append\n",
    "        self.last_bar = self.rae_data.index[-1]\n",
    "\n",
    "    def on_success(self, time, bid, ask):\n",
    "        print(time, bid, ask)\n",
    "        df = pd.DataFrame({self.instrument: (ask + bid)/2}, \n",
    "                      index=[pd.to_datetime(time)])\n",
    "        self.tick_data = pd.concat([self.tick_data, df])  # To observe the DataFrame after each append\n",
    "        self.resample_and_join()\n",
    "        self\n",
    "\n",
    "    def resample_and_join(self):\n",
    "        self.raw_data = self.raw_data.append(self.tick_data.resample(self.bar_length,\n",
    "                                                                     label = \"right\").lat().ffill().iloc[:-1])\n",
    "        self.data = self.tick_data.resample(self.bar_length, label = \"right\").last().ffill().iloc[:-1]\n",
    "        self.last_bar = self.raw_data.index[-1]\n",
    "\n",
    "    def define_strategy(self):\n",
    "        df = self.raw_data.copy()\n",
    "        df[\"returns\"] = np.log(df[self.instrument] / df[self.instrument].shift())\n",
    "        df[\"position\"] = -np.sign(df.returns.rolling(self.window).mean())\n",
    "        self.data = df.copy()\n",
    "\n",
    "    def execute_trades(self):\n",
    "        if self.data[\"position\"].iloc[-1] == 1:\n",
    "            if self.position == 0:\n",
    "                order = self.create_order(self.instrument, self.units, supress = True, ret = True)\n",
    "                print(\"GOING LONG\")\n",
    "            elif self.position == -1:\n",
    "                order = self.create_order(self.instrument, self.units * 2, supress = True, ret = True)\n",
    "                print(\"GOING LONG\")\n",
    "            self.position = 1\n",
    "        elif self.data[\"position\"].iloc[-1] == -1:\n",
    "            if self.position == 0:\n",
    "                order = self.create_order(self.instrument, -self.units, supress = True, ret = True)\n",
    "                print(\"GOING SHORT\")\n",
    "            elif self.position == 1:\n",
    "                order = self.create_order(self.instrument, -self.units * 2, supress = True, ret = True)\n",
    "                print(\"GOING SHORT\")\n",
    "            self.position = -1\n",
    "        elif self.data[\"position\"].iloc[-1] == 0:\n",
    "            if self.position == -1:\n",
    "                order = self.create_order(self.instrument, self.units, supress = True, ret = True)\n",
    "                print (\"GOING NEUTRAL\")\n",
    "            self.position = 0"
   ]
  },
  {
   "cell_type": "code",
   "execution_count": 27,
   "id": "501bb731-b742-45a8-90ec-ea5c2b693cc4",
   "metadata": {},
   "outputs": [
    {
     "name": "stdout",
     "output_type": "stream",
     "text": [
      "                                             [oanda]\n",
      "0                  account_id = 101-001-29655670-001\n",
      "1  access_token = 6f38e8a06b6ea8b5898714fcfc7eb78...\n",
      "2                            account_type = practice\n"
     ]
    }
   ],
   "source": [
    "print(df.head())"
   ]
  },
  {
   "cell_type": "code",
   "execution_count": 29,
   "id": "f354ca4c-7b42-46c0-9e84-968f1f326f26",
   "metadata": {},
   "outputs": [
    {
     "ename": "UnboundLocalError",
     "evalue": "cannot access local variable 'df' where it is not associated with a value",
     "output_type": "error",
     "traceback": [
      "\u001b[1;31m---------------------------------------------------------------------------\u001b[0m",
      "\u001b[1;31mUnboundLocalError\u001b[0m                         Traceback (most recent call last)",
      "Cell \u001b[1;32mIn[29], line 1\u001b[0m\n\u001b[1;32m----> 1\u001b[0m trader \u001b[38;5;241m=\u001b[39m ConTrader(\u001b[38;5;124m\"\u001b[39m\u001b[38;5;124moanda.cfg\u001b[39m\u001b[38;5;124m\"\u001b[39m, \u001b[38;5;124m\"\u001b[39m\u001b[38;5;124mEUR_USD\u001b[39m\u001b[38;5;124m\"\u001b[39m, \u001b[38;5;124m\"\u001b[39m\u001b[38;5;124m1min\u001b[39m\u001b[38;5;124m\"\u001b[39m, window \u001b[38;5;241m=\u001b[39m \u001b[38;5;241m1\u001b[39m, units \u001b[38;5;241m=\u001b[39m \u001b[38;5;241m5000\u001b[39m)\n",
      "Cell \u001b[1;32mIn[2], line 11\u001b[0m, in \u001b[0;36mConTrader.__init__\u001b[1;34m(self, config_file, instrument, bar_length, window, units)\u001b[0m\n\u001b[0;32m      9\u001b[0m \u001b[38;5;28mself\u001b[39m\u001b[38;5;241m.\u001b[39mposition \u001b[38;5;241m=\u001b[39m \u001b[38;5;241m0\u001b[39m\n\u001b[0;32m     10\u001b[0m \u001b[38;5;28mself\u001b[39m\u001b[38;5;241m.\u001b[39munits \u001b[38;5;241m=\u001b[39m units\n\u001b[1;32m---> 11\u001b[0m df\u001b[38;5;241m.\u001b[39mdataframe() \u001b[38;5;66;03m# might need to rename\u001b[39;00m\n\u001b[0;32m     12\u001b[0m df\u001b[38;5;241m.\u001b[39mrename(columns \u001b[38;5;241m=\u001b[39m {\u001b[38;5;124m\"\u001b[39m\u001b[38;5;124mC\u001b[39m\u001b[38;5;124m\"\u001b[39m:\u001b[38;5;28mself\u001b[39m\u001b[38;5;241m.\u001b[39minstrument}, inplace \u001b[38;5;241m=\u001b[39m true) \n\u001b[0;32m     13\u001b[0m df \u001b[38;5;241m=\u001b[39m df\u001b[38;5;241m.\u001b[39mresample(\u001b[38;5;28mself\u001b[39m\u001b[38;5;241m.\u001b[39mbar_length, label \u001b[38;5;241m=\u001b[39m \u001b[38;5;124m\"\u001b[39m\u001b[38;5;124mright\u001b[39m\u001b[38;5;124m\"\u001b[39m)\u001b[38;5;241m.\u001b[39mlast()\u001b[38;5;241m.\u001b[39mdropna()\u001b[38;5;241m.\u001b[39miloc[:\u001b[38;5;241m-\u001b[39m\u001b[38;5;241m1\u001b[39m]\n",
      "\u001b[1;31mUnboundLocalError\u001b[0m: cannot access local variable 'df' where it is not associated with a value"
     ]
    }
   ],
   "source": [
    "trader = ConTrader(\"oanda.cfg\", \"EUR_USD\", \"1min\", window = 1, units = 5000)"
   ]
  },
  {
   "cell_type": "code",
   "execution_count": null,
   "id": "0cd4cdc7-7425-4f57-97b6-13ac1e369035",
   "metadata": {},
   "outputs": [],
   "source": []
  }
 ],
 "metadata": {
  "kernelspec": {
   "display_name": "Python 3 (ipykernel)",
   "language": "python",
   "name": "python3"
  },
  "language_info": {
   "codemirror_mode": {
    "name": "ipython",
    "version": 3
   },
   "file_extension": ".py",
   "mimetype": "text/x-python",
   "name": "python",
   "nbconvert_exporter": "python",
   "pygments_lexer": "ipython3",
   "version": "3.12.4"
  }
 },
 "nbformat": 4,
 "nbformat_minor": 5
}
