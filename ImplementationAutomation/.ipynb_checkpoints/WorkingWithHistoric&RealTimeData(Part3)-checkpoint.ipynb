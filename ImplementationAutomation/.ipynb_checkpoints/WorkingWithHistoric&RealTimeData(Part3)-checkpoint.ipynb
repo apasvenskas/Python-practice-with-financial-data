{
 "cells": [
  {
   "cell_type": "markdown",
   "id": "e48a60bd-c9ff-4a05-b361-027c995a5251",
   "metadata": {},
   "source": [
    "Working with historic and real time data (Part 3)"
   ]
  },
  {
   "cell_type": "code",
   "execution_count": 14,
   "id": "d51d55a1-0445-4e01-93aa-975e95569ad3",
   "metadata": {},
   "outputs": [],
   "source": [
    "import pandas as pd\n",
    "import tpqoa\n",
    "from datetime import datetime, timedelta, timezone\n",
    "import time"
   ]
  },
  {
   "cell_type": "code",
   "execution_count": 25,
   "id": "88ebc5c3-ead8-4e26-87a4-3729e6c1846c",
   "metadata": {},
   "outputs": [],
   "source": [
    "class ConTrader(tpqoa.tpqoa):\n",
    "\n",
    "    def __init__(self, config_file, instrument, bar_length):\n",
    "        super().__init__(config_file)\n",
    "        self.instrument = instrument\n",
    "        self.bar_length = bar_length\n",
    "        self.tick_data = pd.DataFrame()\n",
    "\n",
    "    def on_success(self, time, bid, ask):\n",
    "        print(time, bid, ask)\n",
    "        df = pd.DataFrame({self.instrument: (ask + bid)/2}, \n",
    "                      index=[pd.to_datetime(time)])\n",
    "        self.tick_data = pd.concat([self.tick_data, df])  # To observe the DataFrame after each append\n",
    "        self.resample_and_join()\n",
    "\n",
    "    def resample_and_join(self):\n",
    "        self.data = self.tick_data.resample(self.bar_length, label = \"right\").last().ffill().iloc[:-1]"
   ]
  },
  {
   "cell_type": "code",
   "execution_count": 27,
   "id": "b0422540-57e1-464b-add9-7415ad97db25",
   "metadata": {},
   "outputs": [],
   "source": [
    "trader = ConTrader(\"oanda.cfg\", \"EUR_USD\", \"1m\")\n",
    "# trader = ConTrader(\"C:/Users/audri/Desktop/AutoTrader/oanda/oanda.cfg\", \"EUR_USD\", \"1m\")"
   ]
  },
  {
   "cell_type": "code",
   "execution_count": null,
   "id": "24e7d3f0-a9e0-4796-a169-ec6455a8f25d",
   "metadata": {},
   "outputs": [
    {
     "name": "stdout",
     "output_type": "stream",
     "text": [
      "2024-10-16 03:46:25.636109+00:00\n",
      "2024-10-16T03:46:25.507977978Z 1.08921 1.08936\n"
     ]
    },
    {
     "name": "stderr",
     "output_type": "stream",
     "text": [
      "C:\\Users\\audri\\AppData\\Local\\Temp\\ipykernel_13976\\2447650243.py:17: FutureWarning: 'm' is deprecated and will be removed in a future version, please use 'ME' instead.\n",
      "  self.data = self.tick_data.resample(self.bar_length, label = \"right\").last().ffill().iloc[:-1]\n"
     ]
    },
    {
     "name": "stdout",
     "output_type": "stream",
     "text": [
      "2024-10-16T03:46:47.218881188Z 1.08919 1.08935\n",
      "2024-10-16T03:46:56.658604686Z 1.08919 1.08935\n",
      "2024-10-16T03:47:16.741895462Z 1.08921 1.08936\n",
      "2024-10-16T03:47:18.747963976Z 1.08919 1.08934\n",
      "2024-10-16T03:47:20.508195757Z 1.08919 1.08933\n",
      "2024-10-16T03:47:32.509046297Z 1.08919 1.08934\n",
      "2024-10-16T03:47:32.800957902Z 1.08919 1.08935\n",
      "2024-10-16T03:47:42.233806634Z 1.0892 1.08935\n",
      "2024-10-16T03:47:43.052188796Z 1.0892 1.08934\n",
      "2024-10-16T03:47:47.078315125Z 1.08918 1.08933\n",
      "2024-10-16T03:47:47.267747256Z 1.08919 1.08933\n",
      "2024-10-16T03:47:49.554645006Z 1.08918 1.08933\n",
      "2024-10-16T03:47:49.727681231Z 1.08917 1.08933\n",
      "2024-10-16T03:47:50.052843246Z 1.08916 1.08931\n",
      "2024-10-16T03:47:51.239081644Z 1.08916 1.08932\n",
      "2024-10-16T03:47:51.787633905Z 1.08916 1.08931\n",
      "2024-10-16T03:47:52.043302057Z 1.08916 1.08932\n",
      "2024-10-16T03:47:53.689333861Z 1.08916 1.08931\n",
      "2024-10-16T03:47:53.799186447Z 1.08915 1.08931\n",
      "2024-10-16T03:48:00.971871549Z 1.08913 1.08929\n",
      "2024-10-16T03:48:01.003232204Z 1.08914 1.08929\n",
      "2024-10-16T03:48:02.416000207Z 1.08915 1.08931\n"
     ]
    }
   ],
   "source": [
    "print(datetime.now(timezone.utc))\n",
    "# trader.get_most_recent()\n",
    "trader.stream_data(trader.instrument, stop = 50)"
   ]
  },
  {
   "cell_type": "code",
   "execution_count": null,
   "id": "f9bffcf1-ebf7-4e99-b4d8-f9aaa65aad3f",
   "metadata": {},
   "outputs": [],
   "source": [
    "trader.count"
   ]
  },
  {
   "cell_type": "code",
   "execution_count": null,
   "id": "c8de057a-866d-42d8-a0da-496a350dd81f",
   "metadata": {},
   "outputs": [],
   "source": []
  }
 ],
 "metadata": {
  "kernelspec": {
   "display_name": "Python 3 (ipykernel)",
   "language": "python",
   "name": "python3"
  },
  "language_info": {
   "codemirror_mode": {
    "name": "ipython",
    "version": 3
   },
   "file_extension": ".py",
   "mimetype": "text/x-python",
   "name": "python",
   "nbconvert_exporter": "python",
   "pygments_lexer": "ipython3",
   "version": "3.12.4"
  }
 },
 "nbformat": 4,
 "nbformat_minor": 5
}
