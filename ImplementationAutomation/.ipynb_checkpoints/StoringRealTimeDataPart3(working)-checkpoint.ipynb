{
 "cells": [
  {
   "cell_type": "markdown",
   "id": "9f249752-3477-429b-b66c-df235bae1ada",
   "metadata": {},
   "source": [
    "Storing and Resampling Real-Time Tick Data (part3)"
   ]
  },
  {
   "cell_type": "code",
   "execution_count": 1,
   "id": "ecc110b8-47f4-46d8-85ea-c0fc85a7ca23",
   "metadata": {},
   "outputs": [],
   "source": [
    "import pandas as pd\n",
    "import tpqoa"
   ]
  },
  {
   "cell_type": "code",
   "execution_count": 2,
   "id": "2591c74f-872d-4871-a2bb-8893fed79a5c",
   "metadata": {},
   "outputs": [],
   "source": [
    "class GetTickData(tpqoa.tpqoa):\n",
    "\n",
    "    def __init__(self, config_file, instrument, bar_length):\n",
    "        super().__init__(config_file)\n",
    "        self.instrument = instrument\n",
    "        self.bar_length = bar_length\n",
    "        self.tick_data = pd.DataFrame()\n",
    "\n",
    "    def on_success(self, time, bid, ask):\n",
    "        print(time, bid, ask)\n",
    "        df = pd.DataFrame({self.instrument: (ask + bid)/2}, \n",
    "                      index=[pd.to_datetime(time)])\n",
    "        self.tick_data = pd.concat([self.tick_data, df])  # To observe the DataFrame after each append\n",
    "        self.resample_and_join()\n",
    "\n",
    "    def resample_and_join(self):\n",
    "        self.data = self.tick_data.resample(self.bar_length, label = \"right\").last().ffill().iloc[:-1]"
   ]
  },
  {
   "cell_type": "code",
   "execution_count": 5,
   "id": "dae19984-324e-4791-8fc5-7544d8f6f8d5",
   "metadata": {},
   "outputs": [
    {
     "name": "stdout",
     "output_type": "stream",
     "text": [
      "0 1 2 3 4 5 6 7 8 9 "
     ]
    }
   ],
   "source": [
    "for i in range(10):\n",
    "    print(i, end = \" \")"
   ]
  },
  {
   "cell_type": "code",
   "execution_count": 7,
   "id": "7b5d1042-d993-4c77-aba8-bb331fc31249",
   "metadata": {},
   "outputs": [
    {
     "data": {
      "text/plain": [
       "<__main__.GetTickData at 0x18db1068200>"
      ]
     },
     "execution_count": 7,
     "metadata": {},
     "output_type": "execute_result"
    }
   ],
   "source": [
    "trader = GetTickData(\"oanda.cfg\", \"EUR_USD\", \"5s\")\n",
    "trader"
   ]
  },
  {
   "cell_type": "code",
   "execution_count": 9,
   "id": "deca78f8-82fe-4748-b79e-c5d20c239b92",
   "metadata": {},
   "outputs": [
    {
     "name": "stdout",
     "output_type": "stream",
     "text": [
      "2024-10-08T06:40:04.922788529Z 1.09844 1.09861\n",
      "2024-10-08T06:40:12.083873451Z 1.09844 1.0986\n",
      "2024-10-08T06:40:12.473877121Z 1.09844 1.09861\n",
      "2024-10-08T06:40:21.788115218Z 1.09846 1.09862\n",
      "2024-10-08T06:40:22.059027257Z 1.09845 1.09862\n",
      "2024-10-08T06:40:24.234663093Z 1.09846 1.09862\n",
      "2024-10-08T06:40:24.630643094Z 1.09845 1.09862\n",
      "2024-10-08T06:40:25.824620182Z 1.09846 1.09862\n",
      "2024-10-08T06:40:28.086055816Z 1.09845 1.09862\n",
      "2024-10-08T06:40:30.263621432Z 1.09844 1.0986\n",
      "2024-10-08T06:40:30.593563293Z 1.09845 1.09862\n",
      "2024-10-08T06:40:30.853896973Z 1.09844 1.0986\n",
      "2024-10-08T06:40:42.349508271Z 1.09844 1.09861\n",
      "2024-10-08T06:40:44.255184243Z 1.09844 1.0986\n",
      "2024-10-08T06:40:45.430812740Z 1.09842 1.09858\n",
      "2024-10-08T06:40:46.913320262Z 1.0984 1.09856\n",
      "2024-10-08T06:40:46.926314328Z 1.09839 1.09856\n",
      "2024-10-08T06:40:47.354782993Z 1.09841 1.09856\n",
      "2024-10-08T06:40:47.554265973Z 1.09842 1.09856\n",
      "2024-10-08T06:40:49.177314566Z 1.09842 1.09857\n"
     ]
    }
   ],
   "source": [
    "trader.stream_data(\"EUR_USD\", stop = 20)"
   ]
  },
  {
   "cell_type": "code",
   "execution_count": 11,
   "id": "db63790f-f411-43be-8cb0-4c1e2035b4ee",
   "metadata": {},
   "outputs": [
    {
     "data": {
      "text/html": [
       "<div>\n",
       "<style scoped>\n",
       "    .dataframe tbody tr th:only-of-type {\n",
       "        vertical-align: middle;\n",
       "    }\n",
       "\n",
       "    .dataframe tbody tr th {\n",
       "        vertical-align: top;\n",
       "    }\n",
       "\n",
       "    .dataframe thead th {\n",
       "        text-align: right;\n",
       "    }\n",
       "</style>\n",
       "<table border=\"1\" class=\"dataframe\">\n",
       "  <thead>\n",
       "    <tr style=\"text-align: right;\">\n",
       "      <th></th>\n",
       "      <th>EUR_USD</th>\n",
       "    </tr>\n",
       "  </thead>\n",
       "  <tbody>\n",
       "    <tr>\n",
       "      <th>2024-10-08 06:40:05+00:00</th>\n",
       "      <td>1.098525</td>\n",
       "    </tr>\n",
       "    <tr>\n",
       "      <th>2024-10-08 06:40:10+00:00</th>\n",
       "      <td>1.098525</td>\n",
       "    </tr>\n",
       "    <tr>\n",
       "      <th>2024-10-08 06:40:15+00:00</th>\n",
       "      <td>1.098525</td>\n",
       "    </tr>\n",
       "    <tr>\n",
       "      <th>2024-10-08 06:40:20+00:00</th>\n",
       "      <td>1.098525</td>\n",
       "    </tr>\n",
       "    <tr>\n",
       "      <th>2024-10-08 06:40:25+00:00</th>\n",
       "      <td>1.098535</td>\n",
       "    </tr>\n",
       "    <tr>\n",
       "      <th>2024-10-08 06:40:30+00:00</th>\n",
       "      <td>1.098535</td>\n",
       "    </tr>\n",
       "    <tr>\n",
       "      <th>2024-10-08 06:40:35+00:00</th>\n",
       "      <td>1.098520</td>\n",
       "    </tr>\n",
       "    <tr>\n",
       "      <th>2024-10-08 06:40:40+00:00</th>\n",
       "      <td>1.098520</td>\n",
       "    </tr>\n",
       "    <tr>\n",
       "      <th>2024-10-08 06:40:45+00:00</th>\n",
       "      <td>1.098520</td>\n",
       "    </tr>\n",
       "  </tbody>\n",
       "</table>\n",
       "</div>"
      ],
      "text/plain": [
       "                            EUR_USD\n",
       "2024-10-08 06:40:05+00:00  1.098525\n",
       "2024-10-08 06:40:10+00:00  1.098525\n",
       "2024-10-08 06:40:15+00:00  1.098525\n",
       "2024-10-08 06:40:20+00:00  1.098525\n",
       "2024-10-08 06:40:25+00:00  1.098535\n",
       "2024-10-08 06:40:30+00:00  1.098535\n",
       "2024-10-08 06:40:35+00:00  1.098520\n",
       "2024-10-08 06:40:40+00:00  1.098520\n",
       "2024-10-08 06:40:45+00:00  1.098520"
      ]
     },
     "execution_count": 11,
     "metadata": {},
     "output_type": "execute_result"
    }
   ],
   "source": [
    "trader.data"
   ]
  },
  {
   "cell_type": "code",
   "execution_count": 13,
   "id": "9158d3ad-f08b-434c-81be-402e7f8e28bd",
   "metadata": {},
   "outputs": [
    {
     "data": {
      "text/html": [
       "<div>\n",
       "<style scoped>\n",
       "    .dataframe tbody tr th:only-of-type {\n",
       "        vertical-align: middle;\n",
       "    }\n",
       "\n",
       "    .dataframe tbody tr th {\n",
       "        vertical-align: top;\n",
       "    }\n",
       "\n",
       "    .dataframe thead th {\n",
       "        text-align: right;\n",
       "    }\n",
       "</style>\n",
       "<table border=\"1\" class=\"dataframe\">\n",
       "  <thead>\n",
       "    <tr style=\"text-align: right;\">\n",
       "      <th></th>\n",
       "      <th>EUR_USD</th>\n",
       "    </tr>\n",
       "  </thead>\n",
       "  <tbody>\n",
       "    <tr>\n",
       "      <th>2024-10-08 06:40:04.922788529+00:00</th>\n",
       "      <td>1.098525</td>\n",
       "    </tr>\n",
       "    <tr>\n",
       "      <th>2024-10-08 06:40:12.083873451+00:00</th>\n",
       "      <td>1.098520</td>\n",
       "    </tr>\n",
       "    <tr>\n",
       "      <th>2024-10-08 06:40:12.473877121+00:00</th>\n",
       "      <td>1.098525</td>\n",
       "    </tr>\n",
       "    <tr>\n",
       "      <th>2024-10-08 06:40:21.788115218+00:00</th>\n",
       "      <td>1.098540</td>\n",
       "    </tr>\n",
       "    <tr>\n",
       "      <th>2024-10-08 06:40:22.059027257+00:00</th>\n",
       "      <td>1.098535</td>\n",
       "    </tr>\n",
       "    <tr>\n",
       "      <th>2024-10-08 06:40:24.234663093+00:00</th>\n",
       "      <td>1.098540</td>\n",
       "    </tr>\n",
       "    <tr>\n",
       "      <th>2024-10-08 06:40:24.630643094+00:00</th>\n",
       "      <td>1.098535</td>\n",
       "    </tr>\n",
       "    <tr>\n",
       "      <th>2024-10-08 06:40:25.824620182+00:00</th>\n",
       "      <td>1.098540</td>\n",
       "    </tr>\n",
       "    <tr>\n",
       "      <th>2024-10-08 06:40:28.086055816+00:00</th>\n",
       "      <td>1.098535</td>\n",
       "    </tr>\n",
       "    <tr>\n",
       "      <th>2024-10-08 06:40:30.263621432+00:00</th>\n",
       "      <td>1.098520</td>\n",
       "    </tr>\n",
       "    <tr>\n",
       "      <th>2024-10-08 06:40:30.593563293+00:00</th>\n",
       "      <td>1.098535</td>\n",
       "    </tr>\n",
       "    <tr>\n",
       "      <th>2024-10-08 06:40:30.853896973+00:00</th>\n",
       "      <td>1.098520</td>\n",
       "    </tr>\n",
       "    <tr>\n",
       "      <th>2024-10-08 06:40:42.349508271+00:00</th>\n",
       "      <td>1.098525</td>\n",
       "    </tr>\n",
       "    <tr>\n",
       "      <th>2024-10-08 06:40:44.255184243+00:00</th>\n",
       "      <td>1.098520</td>\n",
       "    </tr>\n",
       "    <tr>\n",
       "      <th>2024-10-08 06:40:45.430812740+00:00</th>\n",
       "      <td>1.098500</td>\n",
       "    </tr>\n",
       "    <tr>\n",
       "      <th>2024-10-08 06:40:46.913320262+00:00</th>\n",
       "      <td>1.098480</td>\n",
       "    </tr>\n",
       "    <tr>\n",
       "      <th>2024-10-08 06:40:46.926314328+00:00</th>\n",
       "      <td>1.098475</td>\n",
       "    </tr>\n",
       "    <tr>\n",
       "      <th>2024-10-08 06:40:47.354782993+00:00</th>\n",
       "      <td>1.098485</td>\n",
       "    </tr>\n",
       "    <tr>\n",
       "      <th>2024-10-08 06:40:47.554265973+00:00</th>\n",
       "      <td>1.098490</td>\n",
       "    </tr>\n",
       "    <tr>\n",
       "      <th>2024-10-08 06:40:49.177314566+00:00</th>\n",
       "      <td>1.098495</td>\n",
       "    </tr>\n",
       "  </tbody>\n",
       "</table>\n",
       "</div>"
      ],
      "text/plain": [
       "                                      EUR_USD\n",
       "2024-10-08 06:40:04.922788529+00:00  1.098525\n",
       "2024-10-08 06:40:12.083873451+00:00  1.098520\n",
       "2024-10-08 06:40:12.473877121+00:00  1.098525\n",
       "2024-10-08 06:40:21.788115218+00:00  1.098540\n",
       "2024-10-08 06:40:22.059027257+00:00  1.098535\n",
       "2024-10-08 06:40:24.234663093+00:00  1.098540\n",
       "2024-10-08 06:40:24.630643094+00:00  1.098535\n",
       "2024-10-08 06:40:25.824620182+00:00  1.098540\n",
       "2024-10-08 06:40:28.086055816+00:00  1.098535\n",
       "2024-10-08 06:40:30.263621432+00:00  1.098520\n",
       "2024-10-08 06:40:30.593563293+00:00  1.098535\n",
       "2024-10-08 06:40:30.853896973+00:00  1.098520\n",
       "2024-10-08 06:40:42.349508271+00:00  1.098525\n",
       "2024-10-08 06:40:44.255184243+00:00  1.098520\n",
       "2024-10-08 06:40:45.430812740+00:00  1.098500\n",
       "2024-10-08 06:40:46.913320262+00:00  1.098480\n",
       "2024-10-08 06:40:46.926314328+00:00  1.098475\n",
       "2024-10-08 06:40:47.354782993+00:00  1.098485\n",
       "2024-10-08 06:40:47.554265973+00:00  1.098490\n",
       "2024-10-08 06:40:49.177314566+00:00  1.098495"
      ]
     },
     "execution_count": 13,
     "metadata": {},
     "output_type": "execute_result"
    }
   ],
   "source": [
    "trader.tick_data"
   ]
  },
  {
   "cell_type": "code",
   "execution_count": null,
   "id": "a9732c87-71bc-457d-9012-351708acb220",
   "metadata": {},
   "outputs": [],
   "source": []
  }
 ],
 "metadata": {
  "kernelspec": {
   "display_name": "Python 3 (ipykernel)",
   "language": "python",
   "name": "python3"
  },
  "language_info": {
   "codemirror_mode": {
    "name": "ipython",
    "version": 3
   },
   "file_extension": ".py",
   "mimetype": "text/x-python",
   "name": "python",
   "nbconvert_exporter": "python",
   "pygments_lexer": "ipython3",
   "version": "3.12.4"
  }
 },
 "nbformat": 4,
 "nbformat_minor": 5
}
