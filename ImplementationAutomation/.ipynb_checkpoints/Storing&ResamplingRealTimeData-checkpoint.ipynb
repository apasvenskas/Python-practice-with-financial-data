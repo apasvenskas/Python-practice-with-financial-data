{
 "cells": [
  {
   "cell_type": "markdown",
   "id": "415cf408-9f2d-43ab-aaf7-4f7416266006",
   "metadata": {},
   "source": [
    "Storing and Resampling Real Time Data"
   ]
  },
  {
   "cell_type": "code",
   "execution_count": null,
   "id": "de85636e-00ed-4468-8ca8-edca8e89a057",
   "metadata": {},
   "outputs": [],
   "source": [
    "import pandas as pd\n",
    "import tpqoa"
   ]
  },
  {
   "cell_type": "code",
   "execution_count": null,
   "id": "1bfc6886-93cf-44c9-a75a-3340bb20c34e",
   "metadata": {},
   "outputs": [],
   "source": [
    "class GetTickData(tpqoa.tpqoa):\n",
    "\n",
    "    def __init__(self, config_file):\n",
    "        super().__init__(config_file)\n",
    "        self.tick_data = pd.DataFrame()\n",
    "\n",
    "    def on_success(self, time, bid, ask):\n",
    "    print(time, bid, ask)\n",
    "    df = pd.DataFrame({\"bid\": bid, \"ask\": ask, \"mid\": (ask + bid)/2}, \n",
    "                      index=[pd.to_datetime(time)])\n",
    "    self.tick_data = pd.concat([self.tick_data, df])\n",
    "    print(self.tick_data)  # To observe the DataFrame after each append"
   ]
  },
  {
   "cell_type": "code",
   "execution_count": null,
   "id": "220c2fa4-a4fe-47bf-8178-0b7164fa83a3",
   "metadata": {},
   "outputs": [],
   "source": [
    "td = GetTickData(\"oanda.cfg\")"
   ]
  },
  {
   "cell_type": "code",
   "execution_count": null,
   "id": "ccec9a79-ca24-4a26-b5c8-8e07ae8fbd7f",
   "metadata": {},
   "outputs": [],
   "source": [
    "td.stream_data(\"EUR_USD\")  # Stream without a stop to check continuous data\n"
   ]
  },
  {
   "cell_type": "code",
   "execution_count": null,
   "id": "54ceb6ad-de2e-416f-a78a-d3795595e18a",
   "metadata": {},
   "outputs": [],
   "source": [
    "td.tick_data"
   ]
  },
  {
   "cell_type": "code",
   "execution_count": null,
   "id": "3c80ec3b-3cbc-4599-9b21-38f14fce39d4",
   "metadata": {},
   "outputs": [],
   "source": [
    "td.tick_data.resample(\"1s\", label = \"right\").last()"
   ]
  },
  {
   "cell_type": "code",
   "execution_count": null,
   "id": "3c9b88a8-73dd-4b01-ac1a-bd0b9330f69e",
   "metadata": {},
   "outputs": [],
   "source": [
    "td = GetTickData(\"oanda.cfg\")"
   ]
  },
  {
   "cell_type": "code",
   "execution_count": null,
   "id": "174713f6-0de0-4ca9-9325-9d075acc0497",
   "metadata": {},
   "outputs": [],
   "source": []
  }
 ],
 "metadata": {
  "kernelspec": {
   "display_name": "Python 3 (ipykernel)",
   "language": "python",
   "name": "python3"
  },
  "language_info": {
   "codemirror_mode": {
    "name": "ipython",
    "version": 3
   },
   "file_extension": ".py",
   "mimetype": "text/x-python",
   "name": "python",
   "nbconvert_exporter": "python",
   "pygments_lexer": "ipython3",
   "version": "3.12.4"
  }
 },
 "nbformat": 4,
 "nbformat_minor": 5
}
