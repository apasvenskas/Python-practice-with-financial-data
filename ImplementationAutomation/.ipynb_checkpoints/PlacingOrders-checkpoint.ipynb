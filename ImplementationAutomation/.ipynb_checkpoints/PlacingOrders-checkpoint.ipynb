{
 "cells": [
  {
   "cell_type": "markdown",
   "id": "dfd14fcd-8568-4ced-a8bc-5dab3a64f118",
   "metadata": {},
   "source": [
    "Placing Orders and Executing Trades"
   ]
  },
  {
   "cell_type": "code",
   "execution_count": 1,
   "id": "24cf65de-b936-4c2a-9d7d-642229d6d77c",
   "metadata": {},
   "outputs": [],
   "source": [
    "import pandas as pd\n",
    "import numpy as np\n",
    "import tpqoa\n",
    "from datetime import datetime, timedelta, timezone\n",
    "import json"
   ]
  },
  {
   "cell_type": "code",
   "execution_count": 3,
   "id": "2bd0f72b-7435-4a47-b1f9-454d2d224b33",
   "metadata": {},
   "outputs": [],
   "source": [
    "# start_time = datetime.now(timezone.utc) - timedelta(days = 5)\n",
    "# end_time = datetime.now(timezone.utc)"
   ]
  },
  {
   "cell_type": "code",
   "execution_count": 5,
   "id": "79e5b8a3-30c5-4e72-a172-81f278cd2bf5",
   "metadata": {},
   "outputs": [],
   "source": [
    "df = pd.read_csv('oanda.cfg')"
   ]
  },
  {
   "cell_type": "code",
   "execution_count": 7,
   "id": "9e2bb491-f652-4258-b611-8ec22b08d193",
   "metadata": {},
   "outputs": [],
   "source": [
    "class ConTrader(tpqoa.tpqoa):\n",
    "    def __init__(self, config_file, instrument, bar_length, window, units):\n",
    "        super().__init__(config_file)\n",
    "        self.instrument = instrument\n",
    "        self.bar_length = bar_length\n",
    "        self.tick_data = pd.DataFrame()\n",
    "        self.raw_data = pd.DataFrame()\n",
    "        self.position = 0\n",
    "        self.units = units\n",
    "        self.window = window\n",
    "\n",
    "        # Call the method to fetch historical data\n",
    "        self.get_historical_data()\n",
    "\n",
    "    def get_historical_data(self):\n",
    "        \"\"\"Fetch historical data from OANDA with proper error handling.\"\"\"\n",
    "        # Get the current time in UTC\n",
    "        end_time = datetime.now(timezone.utc)\n",
    "        start_time = end_time - timedelta(hours=1)  # Reduced to 1 hour for testing\n",
    "\n",
    "        # Format timestamps according to OANDA's requirements\n",
    "        start_str = start_time.strftime('%Y-%m-%dT%H:%M:%SZ')\n",
    "        end_str = end_time.strftime('%Y-%m-%dT%H:%M:%SZ')\n",
    "\n",
    "        try:\n",
    "            # First, try to get raw response for debugging\n",
    "            raw_response = self.oanda.get_instrument_candles(\n",
    "                self.instrument,\n",
    "                params={\n",
    "                    \"from\": start_str,\n",
    "                    \"to\": end_str,\n",
    "                    \"granularity\": \"M1\",\n",
    "                    \"price\": \"M\"\n",
    "                }\n",
    "            )\n",
    "            \n",
    "            print(\"Raw API Response:\")\n",
    "            print(json.dumps(raw_response, indent=2))\n",
    "\n",
    "            # Check if we have a valid response with candles\n",
    "            if 'candles' in raw_response:\n",
    "                candles = raw_response['candles']\n",
    "                \n",
    "                # Convert candles to DataFrame\n",
    "                df = pd.DataFrame([{\n",
    "                    'time': candle['time'],\n",
    "                    'o': float(candle['mid']['o']),\n",
    "                    'h': float(candle['mid']['h']),\n",
    "                    'l': float(candle['mid']['l']),\n",
    "                    'c': float(candle['mid']['c']),\n",
    "                    'volume': int(candle['volume'])\n",
    "                } for candle in candles])\n",
    "                \n",
    "                if not df.empty:\n",
    "                    df.set_index('time', inplace=True)\n",
    "                    df.index = pd.to_datetime(df.index)\n",
    "                    self.tick_data = df\n",
    "                    print(f\"Successfully fetched {len(df)} candles\")\n",
    "                    self.process_data()\n",
    "                else:\n",
    "                    print(\"No candles data in the response\")\n",
    "            else:\n",
    "                print(\"Response does not contain 'candles' field\")\n",
    "                if 'errorMessage' in raw_response:\n",
    "                    print(f\"Error message from API: {raw_response['errorMessage']}\")\n",
    "\n",
    "        except Exception as e:\n",
    "            print(f\"Error fetching historical data: {str(e)}\")\n",
    "            print(\"\\nPlease verify:\")\n",
    "            print(\"1. Your API credentials are correct\")\n",
    "            print(\"2. The instrument symbol is valid (e.g., 'EUR_USD')\")\n",
    "            print(\"3. Your account has permissions to access this instrument\")\n",
    "            print(\"4. The requested time range is valid\")\n",
    "            print(\"\\nAPI Response Structure:\", raw_response if 'raw_response' in locals() else \"No response available\")\n",
    "\n",
    "    def process_data(self):\n",
    "        \"\"\"Process the fetched historical data.\"\"\"\n",
    "        try:\n",
    "            if self.tick_data.empty:\n",
    "                print(\"No data to process\")\n",
    "                return\n",
    "\n",
    "            # Create a copy of the data for processing\n",
    "            processed_data = self.tick_data.copy()\n",
    "\n",
    "            # Resample the data according to the specified bar length\n",
    "            processed_data = processed_data.resample(\n",
    "                self.bar_length, \n",
    "                label=\"right\"\n",
    "            ).agg({\n",
    "                'o': 'first',\n",
    "                'h': 'max',\n",
    "                'l': 'min',\n",
    "                'c': 'last',\n",
    "                'volume': 'sum'\n",
    "            }).dropna()\n",
    "\n",
    "            self.tick_data = processed_data\n",
    "            \n",
    "            print(f\"\\nProcessed Data Summary:\")\n",
    "            print(f\"Number of bars: {len(processed_data)}\")\n",
    "            print(f\"Date range: {processed_data.index.min()} to {processed_data.index.max()}\")\n",
    "            print(\"\\nFirst few rows of processed data:\")\n",
    "            print(processed_data.head())\n",
    "\n",
    "        except Exception as e:\n",
    "            print(f\"Error processing data: {str(e)}\")\n",
    "\n",
    "    def __repr__(self):\n",
    "        return f\"ConTrader(instrument='{self.instrument}', bar_length='{self.bar_length}', units={self.units})\""
   ]
  },
  {
   "cell_type": "code",
   "execution_count": 9,
   "id": "501bb731-b742-45a8-90ec-ea5c2b693cc4",
   "metadata": {},
   "outputs": [
    {
     "name": "stdout",
     "output_type": "stream",
     "text": [
      "                                             [oanda]\n",
      "0                  account_id = 101-001-29655670-001\n",
      "1  access_token = 6f38e8a06b6ea8b5898714fcfc7eb78...\n",
      "2                            account_type = practice\n"
     ]
    }
   ],
   "source": [
    "print(df.head())"
   ]
  },
  {
   "cell_type": "code",
   "execution_count": 11,
   "id": "f354ca4c-7b42-46c0-9e84-968f1f326f26",
   "metadata": {},
   "outputs": [
    {
     "name": "stdout",
     "output_type": "stream",
     "text": [
      "Error fetching historical data: 'ConTrader' object has no attribute 'oanda'\n",
      "\n",
      "Please verify:\n",
      "1. Your API credentials are correct\n",
      "2. The instrument symbol is valid (e.g., 'EUR_USD')\n",
      "3. Your account has permissions to access this instrument\n",
      "4. The requested time range is valid\n",
      "\n",
      "API Response Structure: No response available\n"
     ]
    }
   ],
   "source": [
    "trader = ConTrader(\n",
    "    config_file=\"oanda.cfg\",\n",
    "    instrument=\"EUR_USD\",\n",
    "    bar_length=\"1min\",\n",
    "    window=1,\n",
    "    units=5000\n",
    ")"
   ]
  },
  {
   "cell_type": "code",
   "execution_count": null,
   "id": "fd676b95-684f-4f2d-b87f-71f3ea2c444b",
   "metadata": {},
   "outputs": [],
   "source": []
  }
 ],
 "metadata": {
  "kernelspec": {
   "display_name": "Python 3 (ipykernel)",
   "language": "python",
   "name": "python3"
  },
  "language_info": {
   "codemirror_mode": {
    "name": "ipython",
    "version": 3
   },
   "file_extension": ".py",
   "mimetype": "text/x-python",
   "name": "python",
   "nbconvert_exporter": "python",
   "pygments_lexer": "ipython3",
   "version": "3.12.4"
  }
 },
 "nbformat": 4,
 "nbformat_minor": 5
}
