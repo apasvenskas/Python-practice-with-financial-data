{
 "cells": [
  {
   "cell_type": "markdown",
   "id": "dfd14fcd-8568-4ced-a8bc-5dab3a64f118",
   "metadata": {},
   "source": [
    "Placing Orders and Executing Trades"
   ]
  },
  {
   "cell_type": "code",
   "execution_count": 17,
   "id": "24cf65de-b936-4c2a-9d7d-642229d6d77c",
   "metadata": {},
   "outputs": [],
   "source": [
    "import pandas as pd\n",
    "import numpy as np\n",
    "import tpqoa\n",
    "from datetime import datetime, timedelta, timezone"
   ]
  },
  {
   "cell_type": "code",
   "execution_count": 19,
   "id": "2bd0f72b-7435-4a47-b1f9-454d2d224b33",
   "metadata": {},
   "outputs": [],
   "source": [
    "# start_time = datetime.now(timezone.utc) - timedelta(days = 5)\n",
    "# end_time = datetime.now(timezone.utc)"
   ]
  },
  {
   "cell_type": "code",
   "execution_count": 21,
   "id": "79e5b8a3-30c5-4e72-a172-81f278cd2bf5",
   "metadata": {},
   "outputs": [],
   "source": [
    "df = pd.read_csv('oanda.cfg')"
   ]
  },
  {
   "cell_type": "code",
   "execution_count": 23,
   "id": "9e2bb491-f652-4258-b611-8ec22b08d193",
   "metadata": {},
   "outputs": [],
   "source": [
    "class ConTrader(tpqoa.tpqoa):\n",
    "\n",
    "    def __init__(self, config_file, instrument, bar_length, window, units):\n",
    "        # Initialize with OANDA API\n",
    "        super().__init__(config_file)\n",
    "        self.instrument = instrument\n",
    "        self.bar_length = bar_length\n",
    "        self.tick_data = pd.DataFrame()\n",
    "        self.raw_data = pd.DataFrame()\n",
    "        self.position = 0\n",
    "        self.units = units\n",
    "\n",
    "        # Call the method to fetch historical data\n",
    "        self.get_historical_data()\n",
    "\n",
    "    def get_historical_data(self):\n",
    "        \"\"\"Fetch historical data from OANDA and handle errors properly.\"\"\"\n",
    "        # Get the current time in UTC\n",
    "        start_time = datetime.now(timezone.utc) - timedelta(days=5)\n",
    "        end_time = datetime.now(timezone.utc)\n",
    "\n",
    "        try:\n",
    "            # Fetch historical data\n",
    "            df = self.get_history(\n",
    "                instrument=self.instrument,\n",
    "                start=start_time.isoformat(),\n",
    "                end=end_time.isoformat(),\n",
    "                granularity='M1',  # 1-minute bars\n",
    "                price='M'\n",
    "            )\n",
    "        except Exception as e:\n",
    "            print(f\"Error fetching historical data: {e}\")\n",
    "            return  # This will exit the method on error\n",
    "\n",
    "        # Check if there is an error message in the response\n",
    "        if 'errorMessage' in df:\n",
    "            print(f\"OANDA API Error: {df['errorMessage']}\")\n",
    "        else:\n",
    "            print(\"Data fetched successfully\")\n",
    "            self.tick_data = df.copy()  # Store the data for further use\n",
    "\n",
    "        # Proceed with any further operations on the df, like renaming columns\n",
    "        if not self.tick_data.empty:\n",
    "            self.process_data()\n",
    "\n",
    "    def process_data(self):\n",
    "        \"\"\"Process the fetched historical data.\"\"\"\n",
    "        # Perform resampling or any other data operations here\n",
    "        self.tick_data.rename(columns={\"C\": self.instrument}, inplace=True)\n",
    "        self.tick_data = self.tick_data.resample(self.bar_length, label=\"right\").last().dropna().iloc[:-1]\n",
    "\n",
    "        # Log the processed data if needed\n",
    "        print(\"Data processing complete:\", self.tick_data)\n"
   ]
  },
  {
   "cell_type": "code",
   "execution_count": 25,
   "id": "501bb731-b742-45a8-90ec-ea5c2b693cc4",
   "metadata": {},
   "outputs": [
    {
     "name": "stdout",
     "output_type": "stream",
     "text": [
      "                                             [oanda]\n",
      "0                  account_id = 101-001-29655670-001\n",
      "1  access_token = 6f38e8a06b6ea8b5898714fcfc7eb78...\n",
      "2                            account_type = practice\n"
     ]
    }
   ],
   "source": [
    "print(df.head())"
   ]
  },
  {
   "cell_type": "code",
   "execution_count": 27,
   "id": "f354ca4c-7b42-46c0-9e84-968f1f326f26",
   "metadata": {},
   "outputs": [
    {
     "name": "stdout",
     "output_type": "stream",
     "text": [
      "Starting tick data stream...\n"
     ]
    }
   ],
   "source": [
    "trader = ConTrader(\"oanda.cfg\", \"EUR_USD\", \"H1\", window = 1, units = 5000)    "
   ]
  },
  {
   "cell_type": "code",
   "execution_count": null,
   "id": "fd676b95-684f-4f2d-b87f-71f3ea2c444b",
   "metadata": {},
   "outputs": [],
   "source": []
  }
 ],
 "metadata": {
  "kernelspec": {
   "display_name": "Python 3 (ipykernel)",
   "language": "python",
   "name": "python3"
  },
  "language_info": {
   "codemirror_mode": {
    "name": "ipython",
    "version": 3
   },
   "file_extension": ".py",
   "mimetype": "text/x-python",
   "name": "python",
   "nbconvert_exporter": "python",
   "pygments_lexer": "ipython3",
   "version": "3.12.4"
  }
 },
 "nbformat": 4,
 "nbformat_minor": 5
}
