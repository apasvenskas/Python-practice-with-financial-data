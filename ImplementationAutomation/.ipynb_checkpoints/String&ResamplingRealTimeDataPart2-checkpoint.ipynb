{
 "cells": [
  {
   "cell_type": "markdown",
   "id": "f5785acb-db58-4932-90fd-d7781e07c2b9",
   "metadata": {},
   "source": [
    "Storing and Resampling Real Time Data (Part2)"
   ]
  },
  {
   "cell_type": "code",
   "execution_count": null,
   "id": "3f0bb64e-2c26-4a58-8fb3-df0591f145a1",
   "metadata": {},
   "outputs": [],
   "source": [
    "import pandas as pd\n",
    "import tpqoa"
   ]
  },
  {
   "cell_type": "code",
   "execution_count": null,
   "id": "551562e0-f40f-45c1-8e4b-2abefc1a2a6d",
   "metadata": {},
   "outputs": [],
   "source": [
    "class GetTickData(tpqoa.tpqoa):\n",
    "    def __init__(self, config_file, bar_length):\n",
    "        super().__init__(config_file)\n",
    "        self.bar_length = bar_length\n",
    "        self.tick_data = pd.DataFrame()\n",
    "\n",
    "    def on_success(self, time, bid, ask):\n",
    "        print(time, bid, ask)\n",
    "        df = pd.DataFrame({\n",
    "            \"bid\": bid, \n",
    "            \"ask\": ask, \n",
    "            \"mid\": (ask + bid)/2\n",
    "        }, index=[pd.to_datetime(time)])\n",
    "        \n",
    "        self.tick_data = pd.concat([self.tick_data, df])\n",
    "        # Updated line: Changed fillna(method='ffill') to ffill()\n",
    "        self.data = self.tick_data.resample(self.bar_length, label=\"right\").last().ffill()"
   ]
  },
  {
   "cell_type": "code",
   "execution_count": null,
   "id": "7ba9dfa9-8d03-4cb9-a4e2-254f010fb4cf",
   "metadata": {},
   "outputs": [],
   "source": [
    "td = GetTickData(\"oanda.cfg\", \"5s\")"
   ]
  },
  {
   "cell_type": "code",
   "execution_count": null,
   "id": "8389d7b1-c095-42bd-821c-25cecb5a1007",
   "metadata": {},
   "outputs": [],
   "source": [
    "td.stream_data(\"EUR_USD\", stop=20)"
   ]
  },
  {
   "cell_type": "code",
   "execution_count": null,
   "id": "9285f4c1-b2bb-4b4c-b238-4c83d9a256f6",
   "metadata": {},
   "outputs": [],
   "source": [
    "td.data"
   ]
  },
  {
   "cell_type": "code",
   "execution_count": null,
   "id": "a4b52234-e194-4c7a-b47a-f8084965eda0",
   "metadata": {},
   "outputs": [],
   "source": []
  }
 ],
 "metadata": {
  "kernelspec": {
   "display_name": "Python 3 (ipykernel)",
   "language": "python",
   "name": "python3"
  },
  "language_info": {
   "codemirror_mode": {
    "name": "ipython",
    "version": 3
   },
   "file_extension": ".py",
   "mimetype": "text/x-python",
   "name": "python",
   "nbconvert_exporter": "python",
   "pygments_lexer": "ipython3",
   "version": "3.12.4"
  }
 },
 "nbformat": 4,
 "nbformat_minor": 5
}
