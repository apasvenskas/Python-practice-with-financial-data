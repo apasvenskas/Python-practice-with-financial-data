{
 "cells": [
  {
   "cell_type": "markdown",
   "id": "880ed075-fa92-44fc-aef3-87b77aae08ed",
   "metadata": {},
   "source": [
    "Working with Historic and real time data"
   ]
  },
  {
   "cell_type": "code",
   "execution_count": 1,
   "id": "c058ba8f-35e3-44e3-97d0-e2163266b9b0",
   "metadata": {},
   "outputs": [],
   "source": [
    "import pandas as pd\n",
    "import tpqoa\n",
    "from datetime import datetime, timedelta"
   ]
  },
  {
   "cell_type": "code",
   "execution_count": 2,
   "id": "da45d4ef-cc9f-4269-b534-a346c36154dc",
   "metadata": {},
   "outputs": [
    {
     "name": "stderr",
     "output_type": "stream",
     "text": [
      "C:\\Users\\audri\\AppData\\Local\\Temp\\ipykernel_22788\\2862061042.py:1: DeprecationWarning: datetime.datetime.utcnow() is deprecated and scheduled for removal in a future version. Use timezone-aware objects to represent datetimes in UTC: datetime.datetime.now(datetime.UTC).\n",
      "  now = datetime.utcnow()\n"
     ]
    },
    {
     "data": {
      "text/plain": [
       "datetime.datetime(2024, 10, 13, 2, 0, 18, 959540)"
      ]
     },
     "execution_count": 2,
     "metadata": {},
     "output_type": "execute_result"
    }
   ],
   "source": [
    "now = datetime.utcnow()\n",
    "now"
   ]
  },
  {
   "cell_type": "code",
   "execution_count": 5,
   "id": "b151bf20-e1ad-4aaa-aafe-c4bd2a46e0b6",
   "metadata": {},
   "outputs": [
    {
     "data": {
      "text/plain": [
       "datetime.datetime(2024, 10, 11, 2, 0, 18, 959540)"
      ]
     },
     "execution_count": 5,
     "metadata": {},
     "output_type": "execute_result"
    }
   ],
   "source": [
    "yesterday = now - timedelta(days = 2)\n",
    "yesterday"
   ]
  },
  {
   "cell_type": "code",
   "execution_count": 7,
   "id": "c508cb18-2f85-4d3f-9aac-118f4b369281",
   "metadata": {},
   "outputs": [
    {
     "data": {
      "text/plain": [
       "<tpqoa.tpqoa.tpqoa at 0x1bfef5401a0>"
      ]
     },
     "execution_count": 7,
     "metadata": {},
     "output_type": "execute_result"
    }
   ],
   "source": [
    "api = tpqoa.tpqoa(\"oanda.cfg\")\n",
    "api"
   ]
  },
  {
   "cell_type": "code",
   "execution_count": 9,
   "id": "a52ee8d6-a187-468b-b642-28619aab0d96",
   "metadata": {},
   "outputs": [],
   "source": [
    "instrument = \"EUR_USD\""
   ]
  },
  {
   "cell_type": "code",
   "execution_count": 11,
   "id": "3d0eec1e-b1a4-42f5-9184-b0e8d87dfc61",
   "metadata": {},
   "outputs": [
    {
     "name": "stdout",
     "output_type": "stream",
     "text": [
      "Instrument: EUR_USD, Start: 2024-10-11 02:00:18.959540, End: 2024-10-13 02:00:18.959540\n"
     ]
    }
   ],
   "source": [
    "print(f\"Instrument: {instrument}, Start: {yesterday}, End: {now}\")"
   ]
  },
  {
   "cell_type": "code",
   "execution_count": 13,
   "id": "fab54c00-9764-434b-b45e-efb3736f3ee0",
   "metadata": {},
   "outputs": [],
   "source": [
    "import pytz"
   ]
  },
  {
   "cell_type": "code",
   "execution_count": 15,
   "id": "61f15646-79dc-4dd2-9505-8c3a44407b04",
   "metadata": {},
   "outputs": [],
   "source": [
    "utc = pytz.UTC\n",
    "now = utc.localize(datetime.now())\n",
    "yesterday = utc.localize(datetime.now() - timedelta(days=1))"
   ]
  },
  {
   "cell_type": "code",
   "execution_count": 17,
   "id": "f7174c35-aa4c-4492-a0d4-66cfa7e18b22",
   "metadata": {},
   "outputs": [],
   "source": [
    "#Checking for an error message:\n",
    "def retrieve_data(self, instrument, start, end, granularity, price):\n",
    "    try:\n",
    "        raw = self.ctx.instrument.candles(\n",
    "            instrument=instrument,\n",
    "            fromTime=start, toTime=end,\n",
    "            granularity=granularity, price=price\n",
    "        )\n",
    "        raw = raw.get('candles')\n",
    "        if raw is None:\n",
    "            print(f\"Error message: {self.ctx.instrument.candles}\")\n",
    "        raw = [cs.dict() for cs in raw]\n",
    "        if price == 'A':\n",
    "            return pd.DataFrame([{'time': c['time'],\n",
    "                                  'ask_o': c['ask']['o'],\n",
    "                                  'ask_h': c['ask']['h'],\n",
    "                                  'ask_l': c['ask']['l'],\n",
    "                                  'ask_c': c['ask']['c']} for c in raw])\n",
    "        else:\n",
    "            return pd.DataFrame([{'time': c['time'],\n",
    "                                  'mid_o': c['mid']['o'],\n",
    "                                  'mid_h': c['mid']['h'],\n",
    "                                  'mid_l': c['mid']['l'],\n",
    "                                  'mid_c': c['mid']['c']} for c in raw])\n",
    "    except Exception as e:\n",
    "        print(f\"Error: {e}\")\n",
    "        raise\n"
   ]
  },
  {
   "cell_type": "code",
   "execution_count": 19,
   "id": "ba817c34-566a-4db4-8c90-9f00230690f9",
   "metadata": {},
   "outputs": [
    {
     "name": "stdout",
     "output_type": "stream",
     "text": [
      "2024-10-11T19:00:22Z 2024-10-12T19:00:22Z\n"
     ]
    }
   ],
   "source": [
    "from datetime import datetime\n",
    "\n",
    "start = yesterday.isoformat(timespec='seconds').replace('+00:00', 'Z')\n",
    "end = now.isoformat(timespec='seconds').replace('+00:00', 'Z')\n",
    "\n",
    "print(start, end)  # Ensure the format is correct"
   ]
  },
  {
   "cell_type": "code",
   "execution_count": 29,
   "id": "4e0117dc-4cdd-4615-836c-a4430f85573d",
   "metadata": {},
   "outputs": [
    {
     "name": "stdout",
     "output_type": "stream",
     "text": [
      "Full error response: 400 response for GET https://api-fxpractice.oanda.com:443/v3/instruments/EUR_USD/candles?price=M&granularity=M1&from=2024-10-11T19%3A00%3A22%2B00%3A00.000000000Z&to=2024-10-12T19%3A00%3A22%2B00%3A00.000000000Z does not have field 'candles' (contains 'errorMessage')\n"
     ]
    }
   ],
   "source": [
    "try:\n",
    "    df = api.get_history(instrument=instrument, start=start, end=end,\n",
    "                         granularity=\"M1\", price=\"M\", localize=False)\n",
    "except Exception as e:\n",
    "    # Print the entire error message for deeper insight\n",
    "    print(f\"Full error response: {e}\")"
   ]
  },
  {
   "cell_type": "code",
   "execution_count": null,
   "id": "f60b636c-d044-45ae-aebc-4845e99de9ce",
   "metadata": {},
   "outputs": [],
   "source": []
  }
 ],
 "metadata": {
  "kernelspec": {
   "display_name": "Python 3 (ipykernel)",
   "language": "python",
   "name": "python3"
  },
  "language_info": {
   "codemirror_mode": {
    "name": "ipython",
    "version": 3
   },
   "file_extension": ".py",
   "mimetype": "text/x-python",
   "name": "python",
   "nbconvert_exporter": "python",
   "pygments_lexer": "ipython3",
   "version": "3.12.4"
  }
 },
 "nbformat": 4,
 "nbformat_minor": 5
}
