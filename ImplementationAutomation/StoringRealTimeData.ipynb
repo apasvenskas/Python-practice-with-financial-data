{
 "cells": [
  {
   "cell_type": "markdown",
   "id": "b8df1b70-eb63-40b0-92cf-57291584bcbf",
   "metadata": {},
   "source": [
    "Collecting and storing Real Time Data"
   ]
  },
  {
   "cell_type": "code",
   "execution_count": 2,
   "id": "d19b4f16-6063-4c8d-aea6-842ce33928ef",
   "metadata": {},
   "outputs": [],
   "source": [
    "import pandas as pd\n",
    "import tpqoa"
   ]
  },
  {
   "cell_type": "code",
   "execution_count": 4,
   "id": "d2e09b58-14f4-4cb8-b12c-591a3eca288f",
   "metadata": {},
   "outputs": [],
   "source": [
    "api = tpqoa.tpqoa(\"oanda.cfg\")"
   ]
  },
  {
   "cell_type": "code",
   "execution_count": 6,
   "id": "47ff26e4-3c64-4bb8-9a88-37deb60ee621",
   "metadata": {},
   "outputs": [
    {
     "name": "stdout",
     "output_type": "stream",
     "text": [
      "2024-10-04T03:12:06.788956770Z 1.10285 1.10301\n",
      "2024-10-04T03:12:16.250388969Z 1.10281 1.10297\n",
      "2024-10-04T03:12:16.714637794Z 1.10281 1.10296\n",
      "2024-10-04T03:12:18.732272807Z 1.10281 1.10297\n",
      "2024-10-04T03:12:19.764364732Z 1.1028 1.10296\n",
      "2024-10-04T03:12:19.935161319Z 1.10281 1.10296\n",
      "2024-10-04T03:12:20.727307148Z 1.10281 1.10296\n",
      "2024-10-04T03:12:20.892257314Z 1.1028 1.10296\n",
      "2024-10-04T03:12:21.175761611Z 1.10281 1.10296\n",
      "2024-10-04T03:12:22.070657081Z 1.1028 1.10296\n"
     ]
    }
   ],
   "source": [
    "api.stream_data(\"EUR_USD\", stop = 10)"
   ]
  },
  {
   "cell_type": "code",
   "execution_count": 12,
   "id": "5d2c34ee-e38a-4a78-b248-4e9c89efd44f",
   "metadata": {},
   "outputs": [
    {
     "name": "stdout",
     "output_type": "stream",
     "text": [
      "2024-10-04T03:20:08.319916768Z 1.10262 1.10277\n",
      "2024-10-04T03:20:14.386521948Z 1.10262 1.10278\n",
      "2024-10-04T03:20:16.600996260Z 1.10262 1.10277\n",
      "2024-10-04T03:20:17.342106422Z 1.10262 1.10278\n",
      "2024-10-04T03:20:17.609610984Z 1.10262 1.10278\n",
      "2024-10-04T03:20:17.725622894Z 1.10262 1.10277\n",
      "2024-10-04T03:20:19.198719552Z 1.10262 1.10278\n",
      "2024-10-04T03:20:19.586514812Z 1.10262 1.10277\n",
      "2024-10-04T03:20:21.521876357Z 1.10262 1.10277\n",
      "2024-10-04T03:20:24.059097734Z 1.10263 1.10277\n"
     ]
    }
   ],
   "source": [
    "api.stream_data(\"EUR_USD\", stop=10)"
   ]
  },
  {
   "cell_type": "code",
   "execution_count": 28,
   "id": "1765ff93-6270-4aad-b2e7-0c98240b7a61",
   "metadata": {},
   "outputs": [
    {
     "data": {
      "text/plain": [
       "\u001b[1;31mSignature:\u001b[0m \u001b[0mapi\u001b[0m\u001b[1;33m.\u001b[0m\u001b[0mon_success\u001b[0m\u001b[1;33m(\u001b[0m\u001b[0mtime\u001b[0m\u001b[1;33m,\u001b[0m \u001b[0mbid\u001b[0m\u001b[1;33m,\u001b[0m \u001b[0mask\u001b[0m\u001b[1;33m)\u001b[0m\u001b[1;33m\u001b[0m\u001b[1;33m\u001b[0m\u001b[0m\n",
       "\u001b[1;31mSource:\u001b[0m   \n",
       "    \u001b[1;32mdef\u001b[0m \u001b[0mon_success\u001b[0m\u001b[1;33m(\u001b[0m\u001b[0mself\u001b[0m\u001b[1;33m,\u001b[0m \u001b[0mtime\u001b[0m\u001b[1;33m,\u001b[0m \u001b[0mbid\u001b[0m\u001b[1;33m,\u001b[0m \u001b[0mask\u001b[0m\u001b[1;33m)\u001b[0m\u001b[1;33m:\u001b[0m\u001b[1;33m\n",
       "\u001b[0m        \u001b[1;34m''' Method called when new data is retrieved. '''\u001b[0m\u001b[1;33m\n",
       "\u001b[0m        \u001b[0mprint\u001b[0m\u001b[1;33m(\u001b[0m\u001b[0mtime\u001b[0m\u001b[1;33m,\u001b[0m \u001b[0mbid\u001b[0m\u001b[1;33m,\u001b[0m \u001b[0mask\u001b[0m\u001b[1;33m)\u001b[0m\u001b[1;33m\u001b[0m\u001b[1;33m\u001b[0m\u001b[0m\n",
       "\u001b[1;31mFile:\u001b[0m      c:\\users\\audri\\anaconda3\\lib\\site-packages\\tpqoa\\tpqoa.py\n",
       "\u001b[1;31mType:\u001b[0m      method"
      ]
     },
     "metadata": {},
     "output_type": "display_data"
    }
   ],
   "source": [
    "api.on_success??"
   ]
  },
  {
   "cell_type": "code",
   "execution_count": 32,
   "id": "7d5b6b53-600e-41b8-bb53-fd3c1ff0c71c",
   "metadata": {},
   "outputs": [],
   "source": [
    "class CloneClass(tpqoa.tpqoa):\n",
    "    def on_success(self, time, bid, ask):\n",
    "        print(\"Time: {} | Bid: {} | Ask:{}\".format(time, bid, ask))"
   ]
  },
  {
   "cell_type": "code",
   "execution_count": 34,
   "id": "df753494-6bcf-43f3-94f7-8aa93e7057b2",
   "metadata": {},
   "outputs": [],
   "source": [
    "api = CloneClass(\"oanda.cfg\")"
   ]
  },
  {
   "cell_type": "code",
   "execution_count": 36,
   "id": "833f21d1-7989-46bd-a827-fb8d939e7e06",
   "metadata": {},
   "outputs": [
    {
     "data": {
      "text/plain": [
       "[('AUD/CAD', 'AUD_CAD'),\n",
       " ('AUD/CHF', 'AUD_CHF'),\n",
       " ('AUD/HKD', 'AUD_HKD'),\n",
       " ('AUD/JPY', 'AUD_JPY'),\n",
       " ('AUD/NZD', 'AUD_NZD')]"
      ]
     },
     "execution_count": 36,
     "metadata": {},
     "output_type": "execute_result"
    }
   ],
   "source": [
    "api.get_instruments()[:5]"
   ]
  },
  {
   "cell_type": "code",
   "execution_count": 38,
   "id": "b3adea53-825f-45cd-95c0-e28f794f7b49",
   "metadata": {},
   "outputs": [
    {
     "name": "stdout",
     "output_type": "stream",
     "text": [
      "Time: 2024-10-04T03:30:49.736128579Z | Bid: 1.10258 | Ask:1.10273\n",
      "Time: 2024-10-04T03:30:51.334922895Z | Bid: 1.10257 | Ask:1.10274\n",
      "Time: 2024-10-04T03:30:51.506299354Z | Bid: 1.10254 | Ask:1.1027\n",
      "Time: 2024-10-04T03:30:52.035227472Z | Bid: 1.10253 | Ask:1.10268\n",
      "Time: 2024-10-04T03:30:53.137924846Z | Bid: 1.10257 | Ask:1.10272\n"
     ]
    }
   ],
   "source": [
    "api.stream_data(\"EUR_USD\", stop = 5)"
   ]
  },
  {
   "cell_type": "code",
   "execution_count": null,
   "id": "355449bd-5b4b-4a98-92ad-052995299f6e",
   "metadata": {},
   "outputs": [],
   "source": []
  }
 ],
 "metadata": {
  "kernelspec": {
   "display_name": "Python 3 (ipykernel)",
   "language": "python",
   "name": "python3"
  },
  "language_info": {
   "codemirror_mode": {
    "name": "ipython",
    "version": 3
   },
   "file_extension": ".py",
   "mimetype": "text/x-python",
   "name": "python",
   "nbconvert_exporter": "python",
   "pygments_lexer": "ipython3",
   "version": "3.12.4"
  }
 },
 "nbformat": 4,
 "nbformat_minor": 5
}
