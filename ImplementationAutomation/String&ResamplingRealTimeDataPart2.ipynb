{
 "cells": [
  {
   "cell_type": "markdown",
   "id": "f5785acb-db58-4932-90fd-d7781e07c2b9",
   "metadata": {},
   "source": [
    "Storing and Resampling Real Time Data (Part2)"
   ]
  },
  {
   "cell_type": "code",
   "execution_count": 1,
   "id": "3f0bb64e-2c26-4a58-8fb3-df0591f145a1",
   "metadata": {},
   "outputs": [],
   "source": [
    "import pandas as pd\n",
    "import tpqoa\n",
    "import time"
   ]
  },
  {
   "cell_type": "code",
   "execution_count": 2,
   "id": "551562e0-f40f-45c1-8e4b-2abefc1a2a6d",
   "metadata": {},
   "outputs": [],
   "source": [
    "class GetTickData(tpqoa.tpqoa):\n",
    "    def __init__(self, config_file, bar_length):\n",
    "        super().__init__(config_file)\n",
    "        self.bar_length = bar_length\n",
    "        self.tick_data = pd.DataFrame()\n",
    "        self.tick_count = 0\n",
    "        self.target_ticks = None\n",
    "        self.should_continue = True\n",
    "\n",
    "    def on_success(self, time, bid, ask):\n",
    "        self.tick_count += 1\n",
    "        print(f\"Tick {self.tick_count}/{self.target_ticks}: {time}, Bid: {bid}, Ask: {ask}\")\n",
    "        \n",
    "        df = pd.DataFrame({\n",
    "            \"bid\": bid, \n",
    "            \"ask\": ask, \n",
    "            \"mid\": (ask + bid)/2\n",
    "        }, index=[pd.to_datetime(time)])\n",
    "        \n",
    "        self.tick_data = pd.concat([self.tick_data, df])\n",
    "        self.data = self.tick_data.resample(self.bar_length, label=\"right\").last().ffill()\n",
    "        \n",
    "        if self.tick_count >= self.target_ticks:\n",
    "            self.should_continue = False\n",
    "\n",
    "    def stream_data(self, instrument, stop=None, ret=False):\n",
    "        self.tick_count = 0\n",
    "        self.target_ticks = stop\n",
    "        self.should_continue = True\n",
    "        \n",
    "        response = self.ctx.pricing.stream(\n",
    "            self.account_id,\n",
    "            snapshot=True,\n",
    "            instruments=instrument\n",
    "        )\n",
    "        \n",
    "        try:\n",
    "            for msg_type, msg in response.parts():\n",
    "                if not self.should_continue:\n",
    "                    break\n",
    "                    \n",
    "                if msg_type == \"pricing.ClientPrice\":\n",
    "                    self.on_success(msg.time,\n",
    "                                  float(msg.bids[0].dict()['price']),\n",
    "                                  float(msg.asks[0].dict()['price']))\n",
    "                    \n",
    "                    if not self.should_continue:\n",
    "                        break\n",
    "        finally:\n",
    "            response.close()"
   ]
  },
  {
   "cell_type": "code",
   "execution_count": 3,
   "id": "7ba9dfa9-8d03-4cb9-a4e2-254f010fb4cf",
   "metadata": {},
   "outputs": [],
   "source": [
    "td = GetTickData(\"oanda.cfg\", \"5s\")"
   ]
  },
  {
   "cell_type": "code",
   "execution_count": 6,
   "id": "8389d7b1-c095-42bd-821c-25cecb5a1007",
   "metadata": {},
   "outputs": [
    {
     "ename": "AttributeError",
     "evalue": "'Response' object has no attribute 'close'",
     "output_type": "error",
     "traceback": [
      "\u001b[1;31m---------------------------------------------------------------------------\u001b[0m",
      "\u001b[1;31mTypeError\u001b[0m                                 Traceback (most recent call last)",
      "Cell \u001b[1;32mIn[2], line 44\u001b[0m, in \u001b[0;36mGetTickData.stream_data\u001b[1;34m(self, instrument, stop, ret)\u001b[0m\n\u001b[0;32m     42\u001b[0m \u001b[38;5;28;01mif\u001b[39;00m msg_type \u001b[38;5;241m==\u001b[39m \u001b[38;5;124m\"\u001b[39m\u001b[38;5;124mpricing.ClientPrice\u001b[39m\u001b[38;5;124m\"\u001b[39m:\n\u001b[0;32m     43\u001b[0m     \u001b[38;5;28mself\u001b[39m\u001b[38;5;241m.\u001b[39mon_success(msg\u001b[38;5;241m.\u001b[39mtime,\n\u001b[1;32m---> 44\u001b[0m                   \u001b[38;5;28mfloat\u001b[39m(msg\u001b[38;5;241m.\u001b[39mbids[\u001b[38;5;241m0\u001b[39m]\u001b[38;5;241m.\u001b[39mdict()[\u001b[38;5;124m'\u001b[39m\u001b[38;5;124mprice\u001b[39m\u001b[38;5;124m'\u001b[39m]),\n\u001b[0;32m     45\u001b[0m                   \u001b[38;5;28mfloat\u001b[39m(msg\u001b[38;5;241m.\u001b[39masks[\u001b[38;5;241m0\u001b[39m]\u001b[38;5;241m.\u001b[39mdict()[\u001b[38;5;124m'\u001b[39m\u001b[38;5;124mprice\u001b[39m\u001b[38;5;124m'\u001b[39m]))\n\u001b[0;32m     47\u001b[0m     \u001b[38;5;28;01mif\u001b[39;00m \u001b[38;5;129;01mnot\u001b[39;00m \u001b[38;5;28mself\u001b[39m\u001b[38;5;241m.\u001b[39mshould_continue:\n",
      "\u001b[1;31mTypeError\u001b[0m: 'NoneType' object is not subscriptable",
      "\nDuring handling of the above exception, another exception occurred:\n",
      "\u001b[1;31mAttributeError\u001b[0m                            Traceback (most recent call last)",
      "Cell \u001b[1;32mIn[6], line 1\u001b[0m\n\u001b[1;32m----> 1\u001b[0m td\u001b[38;5;241m.\u001b[39mstream_data(\u001b[38;5;124m\"\u001b[39m\u001b[38;5;124mEUR_USD\u001b[39m\u001b[38;5;124m\"\u001b[39m, stop\u001b[38;5;241m=\u001b[39m\u001b[38;5;241m20\u001b[39m)\n",
      "Cell \u001b[1;32mIn[2], line 50\u001b[0m, in \u001b[0;36mGetTickData.stream_data\u001b[1;34m(self, instrument, stop, ret)\u001b[0m\n\u001b[0;32m     48\u001b[0m                 \u001b[38;5;28;01mbreak\u001b[39;00m\n\u001b[0;32m     49\u001b[0m \u001b[38;5;28;01mfinally\u001b[39;00m:\n\u001b[1;32m---> 50\u001b[0m     response\u001b[38;5;241m.\u001b[39mclose()\n",
      "\u001b[1;31mAttributeError\u001b[0m: 'Response' object has no attribute 'close'"
     ]
    }
   ],
   "source": [
    "td.stream_data(\"EUR_USD\", stop=20)"
   ]
  },
  {
   "cell_type": "code",
   "execution_count": 8,
   "id": "9285f4c1-b2bb-4b4c-b238-4c83d9a256f6",
   "metadata": {},
   "outputs": [
    {
     "name": "stdout",
     "output_type": "stream",
     "text": [
      "\n",
      "Final resampled data:\n"
     ]
    },
    {
     "ename": "AttributeError",
     "evalue": "'GetTickData' object has no attribute 'data'",
     "output_type": "error",
     "traceback": [
      "\u001b[1;31m---------------------------------------------------------------------------\u001b[0m",
      "\u001b[1;31mAttributeError\u001b[0m                            Traceback (most recent call last)",
      "Cell \u001b[1;32mIn[8], line 2\u001b[0m\n\u001b[0;32m      1\u001b[0m \u001b[38;5;28mprint\u001b[39m(\u001b[38;5;124m\"\u001b[39m\u001b[38;5;130;01m\\n\u001b[39;00m\u001b[38;5;124mFinal resampled data:\u001b[39m\u001b[38;5;124m\"\u001b[39m)\n\u001b[1;32m----> 2\u001b[0m \u001b[38;5;28mprint\u001b[39m(td\u001b[38;5;241m.\u001b[39mdata)\n",
      "\u001b[1;31mAttributeError\u001b[0m: 'GetTickData' object has no attribute 'data'"
     ]
    }
   ],
   "source": [
    "print(\"\\nFinal resampled data:\")\n",
    "print(td.data)"
   ]
  },
  {
   "cell_type": "code",
   "execution_count": null,
   "id": "a4b52234-e194-4c7a-b47a-f8084965eda0",
   "metadata": {},
   "outputs": [],
   "source": []
  },
  {
   "cell_type": "code",
   "execution_count": null,
   "id": "dd44fadc-ca6d-4b70-be05-f4858485c9dd",
   "metadata": {},
   "outputs": [],
   "source": []
  },
  {
   "cell_type": "code",
   "execution_count": null,
   "id": "db8577e8-441c-4d28-a07f-8c08569e69f3",
   "metadata": {},
   "outputs": [],
   "source": []
  }
 ],
 "metadata": {
  "kernelspec": {
   "display_name": "Python 3 (ipykernel)",
   "language": "python",
   "name": "python3"
  },
  "language_info": {
   "codemirror_mode": {
    "name": "ipython",
    "version": 3
   },
   "file_extension": ".py",
   "mimetype": "text/x-python",
   "name": "python",
   "nbconvert_exporter": "python",
   "pygments_lexer": "ipython3",
   "version": "3.12.4"
  }
 },
 "nbformat": 4,
 "nbformat_minor": 5
}
