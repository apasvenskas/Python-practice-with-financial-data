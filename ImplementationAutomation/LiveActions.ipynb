{
 "cells": [
  {
   "cell_type": "markdown",
   "id": "bc27bc7e-d90e-4441-adfb-e702ccb66288",
   "metadata": {},
   "source": [
    "Class Life Actions"
   ]
  },
  {
   "cell_type": "code",
   "execution_count": 3,
   "id": "5e923dc2-7386-44e5-8b59-b27dcd8c1c10",
   "metadata": {},
   "outputs": [],
   "source": [
    "import pandas as pd\n",
    "import numpy as np\n",
    "import tpqoa\n",
    "from datetime import datetime, timedelta\n",
    "import time"
   ]
  },
  {
   "cell_type": "code",
   "execution_count": null,
   "id": "b9bddf5e-0a7d-46c2-ba58-5569d788e5d9",
   "metadata": {},
   "outputs": [],
   "source": [
    "class ConTrader(tpqoa.tpqoa):\n",
    "    def _init_(self, conf_file, instrument, bar_length, window, units):\n",
    "        super()._init_(conf_file)\n",
    "        self.instrument = instrument\n",
    "        self.bar_length = pd.to_timedelta(bar_length)\n",
    "        self.tick_data = pd.DataFrame()\n",
    "        self.raw_data = None\n",
    "        self.data = None\n",
    "        self.last_bar = None\n",
    "        self.units = units\n",
    "        self.position = 0\n",
    "        self.profits = []\n",
    "\n",
    "        self.window = window\n",
    "    \n",
    "    def get_most_recent(self,days = 5):\n",
    "        while True:\n",
    "            time.sleep(2)\n",
    "            now = datetime.utcnow()\n",
    "            now = now timedelta(microseconds = now.microsecond)\n",
    "            past = now - timedelta(days = days)\n",
    "            "
   ]
  }
 ],
 "metadata": {
  "kernelspec": {
   "display_name": "Python 3 (ipykernel)",
   "language": "python",
   "name": "python3"
  },
  "language_info": {
   "codemirror_mode": {
    "name": "ipython",
    "version": 3
   },
   "file_extension": ".py",
   "mimetype": "text/x-python",
   "name": "python",
   "nbconvert_exporter": "python",
   "pygments_lexer": "ipython3",
   "version": "3.12.4"
  }
 },
 "nbformat": 4,
 "nbformat_minor": 5
}
