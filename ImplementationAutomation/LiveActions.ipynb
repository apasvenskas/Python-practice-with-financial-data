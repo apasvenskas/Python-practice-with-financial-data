{
 "cells": [
  {
   "cell_type": "markdown",
   "id": "bc27bc7e-d90e-4441-adfb-e702ccb66288",
   "metadata": {},
   "source": [
    "Class Life Actions"
   ]
  },
  {
   "cell_type": "code",
   "execution_count": 2,
   "id": "5e923dc2-7386-44e5-8b59-b27dcd8c1c10",
   "metadata": {},
   "outputs": [],
   "source": [
    "import pandas as pd\n",
    "import numpy as np\n",
    "import tpqoa\n",
    "from datetime import datetime, timezone, timedelta\n",
    "import time"
   ]
  },
  {
   "cell_type": "code",
   "execution_count": null,
   "id": "b9bddf5e-0a7d-46c2-ba58-5569d788e5d9",
   "metadata": {},
   "outputs": [],
   "source": [
    " class ConTrader(tpqoa.tpqoa):\n",
    "    def __init__(self, conf_file, instrument, bar_length, window, units):\n",
    "        super().__init__(conf_file)\n",
    "        self.instrument = instrument\n",
    "        self.bar_length = pd.to_timedelta(bar_length)\n",
    "        self.tick_data = pd.DataFrame()\n",
    "        self.raw_data = None\n",
    "        self.data = None\n",
    "        self.last_bar = None\n",
    "        self.units = units\n",
    "        self.position = 0\n",
    "        self.profits = []\n",
    "        self.window = window\n",
    "    \n",
    "    def get_most_recent(self, days=1):\n",
    "        while True:\n",
    "            try:\n",
    "                time.sleep(2)\n",
    "                now = datetime.now(timezone.utc)\n",
    "                now = now.replace(microsecond=0)\n",
    "                past = now - timedelta(days=days)\n",
    "                \n",
    "                start = past.strftime('%Y-%m-%dT%H:%M:%SZ')\n",
    "                end = now.strftime('%Y-%m-%dT%H:%M:%SZ')\n",
    "                \n",
    "                print(f\"Requesting data from {start} to {end}\")\n",
    "                \n",
    "                response = self.ctx.instrument.candles(\n",
    "                    instrument=self.instrument,\n",
    "                    fromTime=start,\n",
    "                    toTime=end,\n",
    "                    granularity=\"M1\",\n",
    "                    price=\"M\"\n",
    "                )\n",
    "                \n",
    "                candles = response.get('candles', [])\n",
    "                if not candles:\n",
    "                    print(\"No candles received from OANDA. Retrying...\")\n",
    "                    time.sleep(5)\n",
    "                    continue\n",
    "                \n",
    "                data = []\n",
    "                for candle in candles:\n",
    "                    if candle.complete:\n",
    "                        data.append({\n",
    "                            'time': pd.to_datetime(candle.time),\n",
    "                            self.instrument: float(candle.mid.c)\n",
    "                        })\n",
    "                \n",
    "                if not data:\n",
    "                    print(\"No complete candles found. Retrying...\")\n",
    "                    time.sleep(5)\n",
    "                    continue\n",
    "                \n",
    "                df = pd.DataFrame(data)\n",
    "                df.set_index('time', inplace=True)\n",
    "                \n",
    "                df = df.resample(self.bar_length, label=\"right\").last().dropna().iloc[:-1]\n",
    "                self.raw_data = df.copy()\n",
    "                \n",
    "                if len(self.raw_data) == 0:\n",
    "                    print(\"No data after resampling. Retrying...\")\n",
    "                    time.sleep(5)\n",
    "                    continue\n",
    "                \n",
    "                self.last_bar = self.raw_data.index[-1]\n",
    "                print(f\"Successfully retrieved {len(self.raw_data)} bars of data\")\n",
    "                \n",
    "                if pd.to_datetime(datetime.now(timezone.utc)) - self.last_bar < self.bar_length:\n",
    "                    break\n",
    "                    \n",
    "            except Exception as e:\n",
    "                print(f\"Error in get_most_recent: {str(e)}\")\n",
    "                print(\"Retrying in 5 seconds...\")\n",
    "                time.sleep(5)\n",
    "\n",
    "    def on_success(self, time, bid, ask):\n",
    "        try:\n",
    "            print(self.ticks, end=\" \")\n",
    "            recent_tick = pd.to_datetime(time)\n",
    "            df = pd.DataFrame({self.instrument: (ask + bid) / 2}, index=[recent_tick])\n",
    "            self.tick_data = pd.concat([self.tick_data, df])\n",
    "\n",
    "            if recent_tick - self.last_bar > self.bar_length:\n",
    "                self.resample_and_join()\n",
    "                self.define_strategy()\n",
    "                self.execute_trades()\n",
    "        except Exception as e:\n",
    "            print(f\"Error in on_success: {str(e)}\")\n",
    "\n",
    "    def resample_and_join(self):\n",
    "        self.raw_data = pd.concat([self.raw_data, self.tick_data.resample(self.bar_length,\n",
    "                                                                    label=\"right\").last().ffill().iloc[:-1]])\n",
    "        self.tick_data = self.tick_data.iloc[-1:]\n",
    "        self.last_bar = self.raw_data.index[-1]\n",
    "\n",
    "    def define_strategy(self):\n",
    "        df = self.raw_data.copy()\n",
    "        df[\"returns\"] = np.log(df[self.instrument] / df[self.instrument].shift())\n",
    "        df[\"position\"] = -np.sign(df.returns.rolling(self.window).mean())\n",
    "        self.data = df.copy()\n",
    "\n",
    "    def execute_trades(self):\n",
    "        if self.data[\"position\"].iloc[-1] == 1:\n",
    "            if self.position == 0:\n",
    "                order = self.create_order(self.instrument, self.units, suppress=True, ret=True)\n",
    "                self.report_trade(order, \"GOING LONG\")\n",
    "            elif self.position == -1:\n",
    "                order = self.create_order(self.instrument, self.units * 2, suppress=True, ret=True)\n",
    "                self.report_trade(order, \"GOING LONG\")\n",
    "            self.position = 1\n",
    "        elif self.data[\"position\"].iloc[-1] == -1:\n",
    "            if self.position == 0:\n",
    "                order = self.create_order(self.instrument, -self.units, suppress=True, ret=True)\n",
    "                self.report_trade(order, \"GOING SHORT\")\n",
    "            elif self.position == 1:\n",
    "                order = self.create_order(self.instrument, -self.units * 2, suppress=True, ret=True)\n",
    "                self.report_trade(order, \"GOING SHORT\")\n",
    "            self.position = -1\n",
    "        elif self.data[\"position\"].iloc[-1] == 0:\n",
    "            if self.position == -1:\n",
    "                order = self.create_order(self.instrument, self.units, suppress=True, ret=True)\n",
    "                self.report_trade(order, \"GOING NEUTRAL\")\n",
    "            elif self.position == 1:\n",
    "                order = self.create_order(self.instrument, -self.units, suppress=True, ret=True)\n",
    "                self.report_trade(order, \"GOING NEUTRAL\")\n",
    "            self.position = 0\n",
    "\n",
    "    def report_trade(self, order, going):\n",
    "        time = order[\"time\"]\n",
    "        units = order[\"units\"]\n",
    "        price = order[\"price\"]\n",
    "        pl = float(order[\"pl\"])\n",
    "        self.profits.append(pl)\n",
    "        cumpl = sum(self.profits)\n",
    "        print(\"\\n\" + 100 * \"-\")\n",
    "        print(\"{} | {}\".format(time, going))\n",
    "        print(\"{} | units = {} | price = {} | P&L = {} | Cum P&L = {}\".format(time, units, price, pl, cumpl))\n",
    "        print(100 * \"-\" + \"\\n\")         "
   ]
  },
  {
   "cell_type": "markdown",
   "id": "64d973c6-2c1d-4cb7-a660-bbfdd7189591",
   "metadata": {},
   "source": [
    "Testing connection to Oanda"
   ]
  },
  {
   "cell_type": "code",
   "execution_count": 7,
   "id": "866c425b-0b1d-4b7d-bee9-d71fdd02559f",
   "metadata": {},
   "outputs": [
    {
     "name": "stdout",
     "output_type": "stream",
     "text": [
      "Account ID: 101-001-29655670-001\n"
     ]
    }
   ],
   "source": [
    "trader = ConTrader(\"oanda.cfg\", \"EUR_USD\", bar_length=\"1min\", window=1, units=10000)\n",
    "account = trader.ctx.account.get(trader.account_id)\n",
    "print(f\"Account ID: {trader.account_id}\")"
   ]
  },
  {
   "cell_type": "code",
   "execution_count": 9,
   "id": "92fb10a9-4786-4b4e-996c-c86a98cdc233",
   "metadata": {},
   "outputs": [
    {
     "name": "stdout",
     "output_type": "stream",
     "text": [
      "{'instrument': 'EUR_USD', 'granularity': 'M1', 'candles': [<v20.instrument.Candlestick object at 0x000002015A5554F0>, <v20.instrument.Candlestick object at 0x000002015A555550>, <v20.instrument.Candlestick object at 0x000002015A5555B0>, <v20.instrument.Candlestick object at 0x000002015A555610>, <v20.instrument.Candlestick object at 0x000002015A555670>, <v20.instrument.Candlestick object at 0x000002015A5556D0>, <v20.instrument.Candlestick object at 0x000002015A555730>, <v20.instrument.Candlestick object at 0x000002015A555790>, <v20.instrument.Candlestick object at 0x000002015A5557F0>, <v20.instrument.Candlestick object at 0x000002015A555850>, <v20.instrument.Candlestick object at 0x000002015A5558B0>, <v20.instrument.Candlestick object at 0x000002015A555910>, <v20.instrument.Candlestick object at 0x000002015A555970>, <v20.instrument.Candlestick object at 0x000002015A5559D0>, <v20.instrument.Candlestick object at 0x000002015A555A30>, <v20.instrument.Candlestick object at 0x000002015A555A90>, <v20.instrument.Candlestick object at 0x000002015A555AF0>, <v20.instrument.Candlestick object at 0x000002015A555B50>, <v20.instrument.Candlestick object at 0x000002015A555BB0>, <v20.instrument.Candlestick object at 0x000002015A555C10>, <v20.instrument.Candlestick object at 0x000002015A555C70>, <v20.instrument.Candlestick object at 0x000002015A555CD0>, <v20.instrument.Candlestick object at 0x000002015A555D30>, <v20.instrument.Candlestick object at 0x000002015A555D90>, <v20.instrument.Candlestick object at 0x000002015A555E20>, <v20.instrument.Candlestick object at 0x000002015A555EB0>, <v20.instrument.Candlestick object at 0x000002015A555F40>, <v20.instrument.Candlestick object at 0x000002015A555FD0>, <v20.instrument.Candlestick object at 0x000002015A556060>, <v20.instrument.Candlestick object at 0x000002015A5560F0>, <v20.instrument.Candlestick object at 0x000002015A556180>, <v20.instrument.Candlestick object at 0x000002015A556210>, <v20.instrument.Candlestick object at 0x000002015A5562A0>, <v20.instrument.Candlestick object at 0x000002015A556330>, <v20.instrument.Candlestick object at 0x000002015A5563C0>, <v20.instrument.Candlestick object at 0x000002015A556450>, <v20.instrument.Candlestick object at 0x000002015A5564E0>, <v20.instrument.Candlestick object at 0x000002015A556570>, <v20.instrument.Candlestick object at 0x000002015A556600>, <v20.instrument.Candlestick object at 0x000002015A556690>, <v20.instrument.Candlestick object at 0x000002015A556720>, <v20.instrument.Candlestick object at 0x000002015A5567B0>, <v20.instrument.Candlestick object at 0x000002015A556840>, <v20.instrument.Candlestick object at 0x000002015A5568D0>, <v20.instrument.Candlestick object at 0x000002015A556960>, <v20.instrument.Candlestick object at 0x000002015A5569F0>, <v20.instrument.Candlestick object at 0x000002015A556A80>, <v20.instrument.Candlestick object at 0x000002015A556B10>, <v20.instrument.Candlestick object at 0x000002015A556BA0>, <v20.instrument.Candlestick object at 0x000002015A556C30>, <v20.instrument.Candlestick object at 0x000002015A556CC0>, <v20.instrument.Candlestick object at 0x000002015A556D50>, <v20.instrument.Candlestick object at 0x000002015A556DE0>, <v20.instrument.Candlestick object at 0x000002015A556E70>, <v20.instrument.Candlestick object at 0x000002015A556F00>, <v20.instrument.Candlestick object at 0x000002015A556F90>, <v20.instrument.Candlestick object at 0x000002015A557020>, <v20.instrument.Candlestick object at 0x000002015A5570B0>, <v20.instrument.Candlestick object at 0x000002015A557140>, <v20.instrument.Candlestick object at 0x000002015A5571D0>, <v20.instrument.Candlestick object at 0x000002015A557260>]}\n"
     ]
    }
   ],
   "source": [
    "# Test with just 1 hour of data\n",
    "now = datetime.now(timezone.utc)\n",
    "past = now - timedelta(hours=1)\n",
    "response = trader.ctx.instrument.candles(\n",
    "    instrument=\"EUR_USD\",\n",
    "    fromTime=past.strftime('%Y-%m-%dT%H:%M:%SZ'),\n",
    "    toTime=now.strftime('%Y-%m-%dT%H:%M:%SZ'),\n",
    "    granularity=\"M1\",\n",
    "    price=\"M\"\n",
    ")\n",
    "print(response.body)"
   ]
  },
  {
   "cell_type": "markdown",
   "id": "f3a4ed8e-8798-42a3-bdd9-6a07d96bd76f",
   "metadata": {},
   "source": [
    "Class exacution"
   ]
  },
  {
   "cell_type": "code",
   "execution_count": null,
   "id": "6f7a1684-2f2d-4198-b5eb-8aae2963b189",
   "metadata": {},
   "outputs": [],
   "source": [
    "try:\n",
    "    # Create trader instance\n",
    "    trader = ConTrader(\"oanda.cfg\", \"EUR_USD\", bar_length=\"1min\", window=1, units=10000)\n",
    "    \n",
    "    print(\"Getting most recent data...\")\n",
    "    trader.get_most_recent()\n",
    "    \n",
    "    print(\"Starting data stream...\")\n",
    "    trader.stream_data(trader.instrument, stop=200)\n",
    "    \n",
    "    if trader.position != 0:\n",
    "        close_order = trader.create_order(\n",
    "            trader.instrument,\n",
    "            units=-trader.position * trader.units,\n",
    "            suppress=True,\n",
    "            ret=True\n",
    "        )\n",
    "        trader.report_trade(close_order, \"GOING NEUTRAL\")\n",
    "        trader.position = 0\n",
    "        \n",
    "except Exception as e:\n",
    "    print(f\"Error in main execution: {str(e)}\")"
   ]
  },
  {
   "cell_type": "code",
   "execution_count": null,
   "id": "3dd97825-1bac-407a-9469-2232b6b07ccd",
   "metadata": {},
   "outputs": [],
   "source": []
  }
 ],
 "metadata": {
  "kernelspec": {
   "display_name": "Python 3 (ipykernel)",
   "language": "python",
   "name": "python3"
  },
  "language_info": {
   "codemirror_mode": {
    "name": "ipython",
    "version": 3
   },
   "file_extension": ".py",
   "mimetype": "text/x-python",
   "name": "python",
   "nbconvert_exporter": "python",
   "pygments_lexer": "ipython3",
   "version": "3.12.4"
  }
 },
 "nbformat": 4,
 "nbformat_minor": 5
}
