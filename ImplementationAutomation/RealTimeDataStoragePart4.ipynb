{
 "cells": [
  {
   "cell_type": "markdown",
   "id": "a7187d9c-e540-45df-af16-f3b3de9bc3b0",
   "metadata": {},
   "source": [
    "Storing and resampling real-time tick data (Part4)"
   ]
  },
  {
   "cell_type": "code",
   "execution_count": 4,
   "id": "da41249b-2b60-4da6-97b5-35b560bb8d28",
   "metadata": {},
   "outputs": [],
   "source": [
    "import pandas as pd\n",
    "import tpqoa\n",
    "from datetime import datetime"
   ]
  },
  {
   "cell_type": "code",
   "execution_count": 8,
   "id": "b0dd43f6-0f44-4791-b9d4-6e85d25bd302",
   "metadata": {},
   "outputs": [],
   "source": [
    "class ConTrader(tpqoa.tpqoa):\n",
    "\n",
    "    def __init__(self, config_file, instrument, bar_length):\n",
    "        super().__init__(config_file)\n",
    "        self.instrument = instrument\n",
    "        self.bar_length = bar_length\n",
    "        self.tick_data = pd.DataFrame()\n",
    "\n",
    "    def on_success(self, time, bid, ask):\n",
    "        print(self.ticks, end = \" \")\n",
    "        df = pd.DataFrame({self.instrument: (ask + bid)/2}, \n",
    "                      index=[pd.to_datetime(time)])\n",
    "        self.tick_data = pd.concat([self.tick_data, df])  # To observe the DataFrame after each append\n",
    "        self.resample_and_join()\n",
    "\n",
    "    def resample_and_join(self):\n",
    "        self.data = self.tick_data.resample(self.bar_length, label = \"right\").last().ffill().iloc[:-1]"
   ]
  },
  {
   "cell_type": "code",
   "execution_count": null,
   "id": "a3bc8cb9-cee0-4199-8ba4-3ee872e8885f",
   "metadata": {},
   "outputs": [],
   "source": []
  }
 ],
 "metadata": {
  "kernelspec": {
   "display_name": "Python 3 (ipykernel)",
   "language": "python",
   "name": "python3"
  },
  "language_info": {
   "codemirror_mode": {
    "name": "ipython",
    "version": 3
   },
   "file_extension": ".py",
   "mimetype": "text/x-python",
   "name": "python",
   "nbconvert_exporter": "python",
   "pygments_lexer": "ipython3",
   "version": "3.12.4"
  }
 },
 "nbformat": 4,
 "nbformat_minor": 5
}
