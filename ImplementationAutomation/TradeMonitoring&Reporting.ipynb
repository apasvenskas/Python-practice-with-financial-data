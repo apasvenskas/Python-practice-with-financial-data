{
 "cells": [
  {
   "cell_type": "markdown",
   "id": "58b09495-adb8-4cc2-9ec0-1c6a80e51b8d",
   "metadata": {},
   "source": [
    "Trade Monitoring & Reporting"
   ]
  },
  {
   "cell_type": "code",
   "execution_count": 26,
   "id": "19916c4e-d742-4a34-b37b-bdb4533cbde1",
   "metadata": {},
   "outputs": [],
   "source": [
    "import pandas as pd\n",
    "import numpy as np\n",
    "import tpqoa\n",
    "from datetime import datetime, timedelta\n",
    "import time"
   ]
  },
  {
   "cell_type": "code",
   "execution_count": 28,
   "id": "528a09b1-e6be-4c0f-8897-7413b6149511",
   "metadata": {},
   "outputs": [],
   "source": [
    "class ConTrader(tpqoa.tpqoa):\n",
    "    def __init__(self, config_file, instrument, bar_length, window, units):\n",
    "        super().__init__(config_file)\n",
    "        self.instrument = instrument\n",
    "        self.bar_length = pd.to_timedelta(bar_length)\n",
    "        self.tick_data = pd.DataFrame()\n",
    "        self.raw_data = None\n",
    "        self.position = None\n",
    "        self.units = units\n",
    "        self.window = window\n",
    "        self.profits = [] \n",
    "\n",
    "    def get_most_recent(self, days=5):\n",
    "        while True:\n",
    "            time.sleep(2)\n",
    "            now = datetime.utcnow()\n",
    "            now = now - timedelta(microseconds=now.microsecond)\n",
    "            past = now - timedelta(days=days)\n",
    "            df = self.get_history(instrument=self.instrument, start=past, end=now,\n",
    "                                  granularity='s5', price=\"M\", localize=False).c.dropna().to_frame()\n",
    "            df.rename(columns={\"c\": self.instrument}, inplace=True)\n",
    "            df = df.resample(self.bar_length, label=\"right\").last().dropna().iloc[:-1]\n",
    "            self.raw_data = df.copy()\n",
    "            self.last_bar = self.raw_data.index[-1]\n",
    "            if pd.to_datetime(datetime.utcnow()).tz_localize(\"UTC\") - self.last_bar < self.bar_length:\n",
    "                break\n",
    "\n",
    "    def on_success(self, time, bid, ask):\n",
    "        print(self.ticks, end=\" \")\n",
    "        recent_tick = pd.to_datetime(time)\n",
    "        df = pd.DataFrame({self.instrument: (ask + bid) / 2}, index=[recent_tick])\n",
    "        self.tick_data = self.tick_data.append(df)\n",
    "        if recent_tick - self.last_bar >= self.bar_length:\n",
    "            self.resample_and_join()\n",
    "            self.define_strategy()\n",
    "            self.execute_trades()\n",
    "\n",
    "    def resample_and_join(self):\n",
    "        self.raw_data = self.raw_data.append(self.tick_data.resample(self.bar_length,\n",
    "                                                                     label=\"right\").last().ffill().iloc[:-1])\n",
    "        self.tick_data = self.tick_data.iloc[-1:]\n",
    "        self.last_bar = self.raw_data.index[-1]\n",
    "\n",
    "    def define_strategy(self):\n",
    "        if self.data[\"position\"].iloc[-1] == 1:\n",
    "            if self.position == 0:\n",
    "                order = self.create_order(self.instrument, self.units, suppress=True, ret=True)\n",
    "                self.report_trade(order, \"GOING LONG\")\n",
    "            elif self.position == -1:\n",
    "                order = self.create_order(self.instrument, self.units * 2, suppress=True, ret=True)\n",
    "                self.report_trade(order, \"GOING LONG\")\n",
    "            self.position = 1\n",
    "        elif self.data[\"position\"].iloc[-1] == -1:\n",
    "            if self.position == 0:\n",
    "                order = self.create_order(self.instrument, -self.units, suppress=True, ret=True)\n",
    "                self.report_trade(order, \"GOING SHORT\")\n",
    "            elif self.position == 1:\n",
    "                order = self.create_order(self.instrument, -self.units * 2, suppress=True, ret=True)\n",
    "                self.report_trade(order, \"GOING SHORT\")\n",
    "            self.position = -1\n",
    "        elif self.data[\"position\"].iloc[-1] == 0:\n",
    "            if self.position == -1:\n",
    "                order = self.create_order(self.instrument, self.units, suppress=True, ret=True)\n",
    "                self.report_trade(order, \"GOING NEUTRAL\")\n",
    "            elif self.position == 1:\n",
    "                order = self.create_order(self.instrument, -self.units, suppress=True, ret=True)\n",
    "                self.report_trade(order, \"GOING NEUTRAL\")\n",
    "            self.position = 0\n",
    "\n",
    "    def report_trade(self, order, going):\n",
    "        time = order[\"time\"]\n",
    "        units = order[\"units\"]\n",
    "        price = order[\"price\"]\n",
    "        pl = float(order[\"pl\"])\n",
    "        self.profits.append(pl)\n",
    "        cumpl = sum(self.profits)\n",
    "        print(\"\\n\" + 100 * \"-\")\n",
    "        print(\"{} | {}\".format(time, going))\n",
    "        print(\"{} | units = {} | price = {} | P&L = {} | Cum P&L = {}\".format(time, units, price, pl, cumpl))\n",
    "        print(100 * \"-\" + \"\\n\")"
   ]
  },
  {
   "cell_type": "code",
   "execution_count": 30,
   "id": "7ed077ef-00c9-4508-a40d-e13e68f1e141",
   "metadata": {},
   "outputs": [],
   "source": [
    "trader = ConTrader(\"oanda.cfg\", \"EUR_USD\", \"1min\", window = 1, units = 80000)"
   ]
  },
  {
   "cell_type": "code",
   "execution_count": 32,
   "id": "2ebf58f2-0daa-4963-9641-3f2464b550f2",
   "metadata": {},
   "outputs": [
    {
     "data": {
      "text/plain": [
       "<__main__.ConTrader at 0x298aacf2930>"
      ]
     },
     "execution_count": 32,
     "metadata": {},
     "output_type": "execute_result"
    }
   ],
   "source": [
    "trader"
   ]
  },
  {
   "cell_type": "code",
   "execution_count": 37,
   "id": "09411ddb-ce2f-4869-8062-903d03ae04cd",
   "metadata": {},
   "outputs": [
    {
     "name": "stderr",
     "output_type": "stream",
     "text": [
      "C:\\Users\\audri\\AppData\\Local\\Temp\\ipykernel_18548\\225413916.py:16: DeprecationWarning: datetime.datetime.utcnow() is deprecated and scheduled for removal in a future version. Use timezone-aware objects to represent datetimes in UTC: datetime.datetime.now(datetime.UTC).\n",
      "  now = datetime.utcnow()\n"
     ]
    },
    {
     "ename": "ResponseNoField",
     "evalue": "400 response for GET https://api-fxpractice.oanda.com:443/v3/instruments/EUR_USD/candles?price=M&granularity=s5&from=2024-10-25T02%3A57%3A02.000000000Z&to=2024-10-30T02%3A57%3A02.000000000Z does not have field 'candles' (contains 'errorMessage')",
     "output_type": "error",
     "traceback": [
      "\u001b[1;31m---------------------------------------------------------------------------\u001b[0m",
      "\u001b[1;31mResponseNoField\u001b[0m                           Traceback (most recent call last)",
      "Cell \u001b[1;32mIn[37], line 1\u001b[0m\n\u001b[1;32m----> 1\u001b[0m trader\u001b[38;5;241m.\u001b[39mget_most_recent()\n\u001b[0;32m      2\u001b[0m trader\u001b[38;5;241m.\u001b[39mstream_data(trader\u001b[38;5;241m.\u001b[39minstrument, stop \u001b[38;5;241m=\u001b[39m \u001b[38;5;241m150\u001b[39m)\n\u001b[0;32m      3\u001b[0m \u001b[38;5;28;01mif\u001b[39;00m trader\u001b[38;5;241m.\u001b[39mposition \u001b[38;5;241m!=\u001b[39m \u001b[38;5;241m0\u001b[39m:\n",
      "Cell \u001b[1;32mIn[28], line 19\u001b[0m, in \u001b[0;36mConTrader.get_most_recent\u001b[1;34m(self, days)\u001b[0m\n\u001b[0;32m     17\u001b[0m now \u001b[38;5;241m=\u001b[39m now \u001b[38;5;241m-\u001b[39m timedelta(microseconds\u001b[38;5;241m=\u001b[39mnow\u001b[38;5;241m.\u001b[39mmicrosecond)\n\u001b[0;32m     18\u001b[0m past \u001b[38;5;241m=\u001b[39m now \u001b[38;5;241m-\u001b[39m timedelta(days\u001b[38;5;241m=\u001b[39mdays)\n\u001b[1;32m---> 19\u001b[0m df \u001b[38;5;241m=\u001b[39m \u001b[38;5;28mself\u001b[39m\u001b[38;5;241m.\u001b[39mget_history(instrument\u001b[38;5;241m=\u001b[39m\u001b[38;5;28mself\u001b[39m\u001b[38;5;241m.\u001b[39minstrument, start\u001b[38;5;241m=\u001b[39mpast, end\u001b[38;5;241m=\u001b[39mnow,\n\u001b[0;32m     20\u001b[0m                       granularity\u001b[38;5;241m=\u001b[39m\u001b[38;5;124m'\u001b[39m\u001b[38;5;124ms5\u001b[39m\u001b[38;5;124m'\u001b[39m, price\u001b[38;5;241m=\u001b[39m\u001b[38;5;124m\"\u001b[39m\u001b[38;5;124mM\u001b[39m\u001b[38;5;124m\"\u001b[39m, localize\u001b[38;5;241m=\u001b[39m\u001b[38;5;28;01mFalse\u001b[39;00m)\u001b[38;5;241m.\u001b[39mc\u001b[38;5;241m.\u001b[39mdropna()\u001b[38;5;241m.\u001b[39mto_frame()\n\u001b[0;32m     21\u001b[0m df\u001b[38;5;241m.\u001b[39mrename(columns\u001b[38;5;241m=\u001b[39m{\u001b[38;5;124m\"\u001b[39m\u001b[38;5;124mc\u001b[39m\u001b[38;5;124m\"\u001b[39m: \u001b[38;5;28mself\u001b[39m\u001b[38;5;241m.\u001b[39minstrument}, inplace\u001b[38;5;241m=\u001b[39m\u001b[38;5;28;01mTrue\u001b[39;00m)\n\u001b[0;32m     22\u001b[0m df \u001b[38;5;241m=\u001b[39m df\u001b[38;5;241m.\u001b[39mresample(\u001b[38;5;28mself\u001b[39m\u001b[38;5;241m.\u001b[39mbar_length, label\u001b[38;5;241m=\u001b[39m\u001b[38;5;124m\"\u001b[39m\u001b[38;5;124mright\u001b[39m\u001b[38;5;124m\"\u001b[39m)\u001b[38;5;241m.\u001b[39mlast()\u001b[38;5;241m.\u001b[39mdropna()\u001b[38;5;241m.\u001b[39miloc[:\u001b[38;5;241m-\u001b[39m\u001b[38;5;241m1\u001b[39m]\n",
      "File \u001b[1;32m~\\anaconda3\\Lib\\site-packages\\tpqoa\\tpqoa.py:238\u001b[0m, in \u001b[0;36mtpqoa.get_history\u001b[1;34m(self, instrument, start, end, granularity, price, localize)\u001b[0m\n\u001b[0;32m    236\u001b[0m     start \u001b[38;5;241m=\u001b[39m \u001b[38;5;28mself\u001b[39m\u001b[38;5;241m.\u001b[39mtransform_datetime(start)\n\u001b[0;32m    237\u001b[0m     end \u001b[38;5;241m=\u001b[39m \u001b[38;5;28mself\u001b[39m\u001b[38;5;241m.\u001b[39mtransform_datetime(end)\n\u001b[1;32m--> 238\u001b[0m     data \u001b[38;5;241m=\u001b[39m \u001b[38;5;28mself\u001b[39m\u001b[38;5;241m.\u001b[39mretrieve_data(instrument, start, end,\n\u001b[0;32m    239\u001b[0m                               granularity, price)\n\u001b[0;32m    240\u001b[0m \u001b[38;5;28;01mif\u001b[39;00m localize:\n\u001b[0;32m    241\u001b[0m     data\u001b[38;5;241m.\u001b[39mindex \u001b[38;5;241m=\u001b[39m data\u001b[38;5;241m.\u001b[39mindex\u001b[38;5;241m.\u001b[39mtz_localize(\u001b[38;5;28;01mNone\u001b[39;00m)\n",
      "File \u001b[1;32m~\\anaconda3\\Lib\\site-packages\\tpqoa\\tpqoa.py:167\u001b[0m, in \u001b[0;36mtpqoa.retrieve_data\u001b[1;34m(self, instrument, start, end, granularity, price)\u001b[0m\n\u001b[0;32m    162\u001b[0m \u001b[38;5;28;01mdef\u001b[39;00m \u001b[38;5;21mretrieve_data\u001b[39m(\u001b[38;5;28mself\u001b[39m, instrument, start, end, granularity, price):\n\u001b[0;32m    163\u001b[0m     raw \u001b[38;5;241m=\u001b[39m \u001b[38;5;28mself\u001b[39m\u001b[38;5;241m.\u001b[39mctx\u001b[38;5;241m.\u001b[39minstrument\u001b[38;5;241m.\u001b[39mcandles(\n\u001b[0;32m    164\u001b[0m         instrument\u001b[38;5;241m=\u001b[39minstrument,\n\u001b[0;32m    165\u001b[0m         fromTime\u001b[38;5;241m=\u001b[39mstart, toTime\u001b[38;5;241m=\u001b[39mend,\n\u001b[0;32m    166\u001b[0m         granularity\u001b[38;5;241m=\u001b[39mgranularity, price\u001b[38;5;241m=\u001b[39mprice)\n\u001b[1;32m--> 167\u001b[0m     raw \u001b[38;5;241m=\u001b[39m raw\u001b[38;5;241m.\u001b[39mget(\u001b[38;5;124m'\u001b[39m\u001b[38;5;124mcandles\u001b[39m\u001b[38;5;124m'\u001b[39m)\n\u001b[0;32m    168\u001b[0m     raw \u001b[38;5;241m=\u001b[39m [cs\u001b[38;5;241m.\u001b[39mdict() \u001b[38;5;28;01mfor\u001b[39;00m cs \u001b[38;5;129;01min\u001b[39;00m raw]\n\u001b[0;32m    169\u001b[0m     \u001b[38;5;28;01mif\u001b[39;00m price \u001b[38;5;241m==\u001b[39m \u001b[38;5;124m'\u001b[39m\u001b[38;5;124mA\u001b[39m\u001b[38;5;124m'\u001b[39m:\n",
      "File \u001b[1;32m~\\anaconda3\\Lib\\site-packages\\v20\\response.py:35\u001b[0m, in \u001b[0;36mResponse.get\u001b[1;34m(self, field, status)\u001b[0m\n\u001b[0;32m     32\u001b[0m value \u001b[38;5;241m=\u001b[39m \u001b[38;5;28mself\u001b[39m\u001b[38;5;241m.\u001b[39mbody\u001b[38;5;241m.\u001b[39mget(field)\n\u001b[0;32m     34\u001b[0m \u001b[38;5;28;01mif\u001b[39;00m value \u001b[38;5;129;01mis\u001b[39;00m \u001b[38;5;28;01mNone\u001b[39;00m:\n\u001b[1;32m---> 35\u001b[0m     \u001b[38;5;28;01mraise\u001b[39;00m ResponseNoField(\u001b[38;5;28mself\u001b[39m, field)\n\u001b[0;32m     37\u001b[0m \u001b[38;5;28;01mreturn\u001b[39;00m value\n",
      "\u001b[1;31mResponseNoField\u001b[0m: 400 response for GET https://api-fxpractice.oanda.com:443/v3/instruments/EUR_USD/candles?price=M&granularity=s5&from=2024-10-25T02%3A57%3A02.000000000Z&to=2024-10-30T02%3A57%3A02.000000000Z does not have field 'candles' (contains 'errorMessage')"
     ]
    }
   ],
   "source": [
    "trader.get_most_recent()\n",
    "trader.stream_data(trader.instrument, stop = 150)\n",
    "if trader.position != 0:\n",
    "    close_order = trader.create_order(trader.instrument, units = -trader.position * trader.units,\n",
    "                                      suppress = True, ret = True)\n",
    "    trader.report_trader(close_order, \"GOING NEUTRAL\")\n",
    "    trader.position = 0"
   ]
  },
  {
   "cell_type": "code",
   "execution_count": null,
   "id": "92f5e202-2ccf-4401-85b2-12e8c19bb6b2",
   "metadata": {},
   "outputs": [],
   "source": [
    "trader.get_positions()"
   ]
  },
  {
   "cell_type": "code",
   "execution_count": 22,
   "id": "a9c28b7d-c851-43d2-ad13-cb99acc991ec",
   "metadata": {},
   "outputs": [
    {
     "data": {
      "text/plain": [
       "[]"
      ]
     },
     "execution_count": 22,
     "metadata": {},
     "output_type": "execute_result"
    }
   ],
   "source": [
    "trader.profits"
   ]
  },
  {
   "cell_type": "code",
   "execution_count": null,
   "id": "175aac2a-aa77-4450-8d44-b6691154af1f",
   "metadata": {},
   "outputs": [],
   "source": []
  }
 ],
 "metadata": {
  "kernelspec": {
   "display_name": "Python 3 (ipykernel)",
   "language": "python",
   "name": "python3"
  },
  "language_info": {
   "codemirror_mode": {
    "name": "ipython",
    "version": 3
   },
   "file_extension": ".py",
   "mimetype": "text/x-python",
   "name": "python",
   "nbconvert_exporter": "python",
   "pygments_lexer": "ipython3",
   "version": "3.12.4"
  }
 },
 "nbformat": 4,
 "nbformat_minor": 5
}
