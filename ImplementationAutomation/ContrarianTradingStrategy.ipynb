{
 "cells": [
  {
   "cell_type": "markdown",
   "id": "68a96c24-d132-4c20-9ac1-6e276bee3d2e",
   "metadata": {},
   "source": [
    "Defining a Simple Contrarian Trading Strrategy "
   ]
  },
  {
   "cell_type": "code",
   "execution_count": 1,
   "id": "14921290-e5c1-4aee-995c-95b3cf412220",
   "metadata": {},
   "outputs": [],
   "source": [
    "import pandas as pd\n",
    "import numpy as np\n",
    "import tpqoa\n",
    "from datetime import datetime, timedelta\n",
    "import time"
   ]
  },
  {
   "cell_type": "code",
   "execution_count": 4,
   "id": "a7b21b06-4e2b-4eb7-a145-30b12304ac88",
   "metadata": {},
   "outputs": [],
   "source": [
    "class ConTrader(tpqoa.tpqoa):\n",
    "\n",
    "    def __init__(self, config_file, instrument, bar_length, window):\n",
    "        super().__init__(config_file)\n",
    "        self.instrument = instrument\n",
    "        self.bar_length = bar_length\n",
    "        self.tick_data = pd.DataFrame()\n",
    "        df.rename(columns = {\"C\":self.instrument}, inplace = true) \n",
    "        df = df.resample(self.bar_length, label = \"right\").last().dropna().iloc[:-1]\n",
    "        self.tick_data = df.copy()  # To observe the DataFrame after each append\n",
    "        self.last_bar = self.rae_data.index[-1]\n",
    "\n",
    "    def on_success(self, time, bid, ask):\n",
    "        print(time, bid, ask)\n",
    "        df = pd.DataFrame({self.instrument: (ask + bid)/2}, \n",
    "                      index=[pd.to_datetime(time)])\n",
    "        self.tick_data = pd.concat([self.tick_data, df])  # To observe the DataFrame after each append\n",
    "        self.resample_and_join()\n",
    "        self\n",
    "\n",
    "    def resample_and_join(self):\n",
    "        self.raw_data = self.raw_data.append(self.tick_data.resample(self.bar_length,\n",
    "                                                                     label = \"right\").lat().ffill().iloc[:-1])\n",
    "        self.data = self.tick_data.resample(self.bar_length, label = \"right\").last().ffill().iloc[:-1]\n",
    "        self.last_bar = self.raw_data.index[-1]\n",
    "\n",
    "    def define_strategy(self):\n",
    "        df = self.raw_data.copy()\n",
    "        df[\"returns\"] = np.log(df[self.instrument] / df[self.instrument].shift())\n",
    "        df[\"position\"] = -np.sign(df.returns.rolling(self.window).mean())\n",
    "        self.data = df.copy()"
   ]
  },
  {
   "cell_type": "code",
   "execution_count": 6,
   "id": "a433b14e-710e-4494-a135-e15780069007",
   "metadata": {},
   "outputs": [
    {
     "ename": "UnboundLocalError",
     "evalue": "cannot access local variable 'df' where it is not associated with a value",
     "output_type": "error",
     "traceback": [
      "\u001b[1;31m---------------------------------------------------------------------------\u001b[0m",
      "\u001b[1;31mUnboundLocalError\u001b[0m                         Traceback (most recent call last)",
      "Cell \u001b[1;32mIn[6], line 1\u001b[0m\n\u001b[1;32m----> 1\u001b[0m trader \u001b[38;5;241m=\u001b[39m ConTrader(\u001b[38;5;124m\"\u001b[39m\u001b[38;5;124moanda.cfg\u001b[39m\u001b[38;5;124m\"\u001b[39m, \u001b[38;5;124m\"\u001b[39m\u001b[38;5;124mEUR_USD\u001b[39m\u001b[38;5;124m\"\u001b[39m, \u001b[38;5;124m\"\u001b[39m\u001b[38;5;124m1min\u001b[39m\u001b[38;5;124m\"\u001b[39m, window \u001b[38;5;241m=\u001b[39m \u001b[38;5;241m1\u001b[39m)\n",
      "Cell \u001b[1;32mIn[4], line 8\u001b[0m, in \u001b[0;36mConTrader.__init__\u001b[1;34m(self, config_file, instrument, bar_length, window)\u001b[0m\n\u001b[0;32m      6\u001b[0m \u001b[38;5;28mself\u001b[39m\u001b[38;5;241m.\u001b[39mbar_length \u001b[38;5;241m=\u001b[39m bar_length\n\u001b[0;32m      7\u001b[0m \u001b[38;5;28mself\u001b[39m\u001b[38;5;241m.\u001b[39mtick_data \u001b[38;5;241m=\u001b[39m pd\u001b[38;5;241m.\u001b[39mDataFrame()\n\u001b[1;32m----> 8\u001b[0m df\u001b[38;5;241m.\u001b[39mrename(columns \u001b[38;5;241m=\u001b[39m {\u001b[38;5;124m\"\u001b[39m\u001b[38;5;124mC\u001b[39m\u001b[38;5;124m\"\u001b[39m:\u001b[38;5;28mself\u001b[39m\u001b[38;5;241m.\u001b[39minstrument}, inplace \u001b[38;5;241m=\u001b[39m true) \n\u001b[0;32m      9\u001b[0m df \u001b[38;5;241m=\u001b[39m df\u001b[38;5;241m.\u001b[39mresample(\u001b[38;5;28mself\u001b[39m\u001b[38;5;241m.\u001b[39mbar_length, label \u001b[38;5;241m=\u001b[39m \u001b[38;5;124m\"\u001b[39m\u001b[38;5;124mright\u001b[39m\u001b[38;5;124m\"\u001b[39m)\u001b[38;5;241m.\u001b[39mlast()\u001b[38;5;241m.\u001b[39mdropna()\u001b[38;5;241m.\u001b[39miloc[:\u001b[38;5;241m-\u001b[39m\u001b[38;5;241m1\u001b[39m]\n\u001b[0;32m     10\u001b[0m \u001b[38;5;28mself\u001b[39m\u001b[38;5;241m.\u001b[39mtick_data \u001b[38;5;241m=\u001b[39m df\u001b[38;5;241m.\u001b[39mcopy()  \u001b[38;5;66;03m# To observe the DataFrame after each append\u001b[39;00m\n",
      "\u001b[1;31mUnboundLocalError\u001b[0m: cannot access local variable 'df' where it is not associated with a value"
     ]
    }
   ],
   "source": [
    "trader = ConTrader(\"oanda.cfg\", \"EUR_USD\", \"1min\", window = 1)"
   ]
  },
  {
   "cell_type": "code",
   "execution_count": 8,
   "id": "bc5aabb6-64fe-4cf0-ab8d-385184203bfa",
   "metadata": {},
   "outputs": [
    {
     "name": "stdout",
     "output_type": "stream",
     "text": [
      "2024-10-19 06:52:33.438936\n"
     ]
    },
    {
     "name": "stderr",
     "output_type": "stream",
     "text": [
      "C:\\Users\\audri\\AppData\\Local\\Temp\\ipykernel_26048\\1839743944.py:1: DeprecationWarning: datetime.datetime.utcnow() is deprecated and scheduled for removal in a future version. Use timezone-aware objects to represent datetimes in UTC: datetime.datetime.now(datetime.UTC).\n",
      "  print(datetime.utcnow())\n"
     ]
    },
    {
     "ename": "NameError",
     "evalue": "name 'trader' is not defined",
     "output_type": "error",
     "traceback": [
      "\u001b[1;31m---------------------------------------------------------------------------\u001b[0m",
      "\u001b[1;31mNameError\u001b[0m                                 Traceback (most recent call last)",
      "Cell \u001b[1;32mIn[8], line 2\u001b[0m\n\u001b[0;32m      1\u001b[0m \u001b[38;5;28mprint\u001b[39m(datetime\u001b[38;5;241m.\u001b[39mutcnow())\n\u001b[1;32m----> 2\u001b[0m trader\u001b[38;5;241m.\u001b[39mstream_data(trader\u001b[38;5;241m.\u001b[39minstrument, stop \u001b[38;5;241m=\u001b[39m \u001b[38;5;241m100\u001b[39m)\n",
      "\u001b[1;31mNameError\u001b[0m: name 'trader' is not defined"
     ]
    }
   ],
   "source": [
    "print(datetime.utcnow())\n",
    "trader.stream_data(trader.instrument, stop = 100)"
   ]
  },
  {
   "cell_type": "code",
   "execution_count": 10,
   "id": "3bde38fd-557c-460c-b9c4-04c685b5ba9e",
   "metadata": {},
   "outputs": [
    {
     "ename": "NameError",
     "evalue": "name 'trader' is not defined",
     "output_type": "error",
     "traceback": [
      "\u001b[1;31m---------------------------------------------------------------------------\u001b[0m",
      "\u001b[1;31mNameError\u001b[0m                                 Traceback (most recent call last)",
      "Cell \u001b[1;32mIn[10], line 1\u001b[0m\n\u001b[1;32m----> 1\u001b[0m trader\u001b[38;5;241m.\u001b[39mraw_data\n",
      "\u001b[1;31mNameError\u001b[0m: name 'trader' is not defined"
     ]
    }
   ],
   "source": [
    "trader.raw_data"
   ]
  },
  {
   "cell_type": "code",
   "execution_count": 12,
   "id": "3f2d91e5-00fb-4793-9d1c-242d13f499d8",
   "metadata": {},
   "outputs": [
    {
     "ename": "NameError",
     "evalue": "name 'trader' is not defined",
     "output_type": "error",
     "traceback": [
      "\u001b[1;31m---------------------------------------------------------------------------\u001b[0m",
      "\u001b[1;31mNameError\u001b[0m                                 Traceback (most recent call last)",
      "Cell \u001b[1;32mIn[12], line 1\u001b[0m\n\u001b[1;32m----> 1\u001b[0m trader\u001b[38;5;241m.\u001b[39mdata\n",
      "\u001b[1;31mNameError\u001b[0m: name 'trader' is not defined"
     ]
    }
   ],
   "source": [
    "trader.data"
   ]
  },
  {
   "cell_type": "code",
   "execution_count": null,
   "id": "f422fa9d-aa9e-4774-ae54-bd80db370db7",
   "metadata": {},
   "outputs": [],
   "source": []
  }
 ],
 "metadata": {
  "kernelspec": {
   "display_name": "Python 3 (ipykernel)",
   "language": "python",
   "name": "python3"
  },
  "language_info": {
   "codemirror_mode": {
    "name": "ipython",
    "version": 3
   },
   "file_extension": ".py",
   "mimetype": "text/x-python",
   "name": "python",
   "nbconvert_exporter": "python",
   "pygments_lexer": "ipython3",
   "version": "3.12.4"
  }
 },
 "nbformat": 4,
 "nbformat_minor": 5
}
