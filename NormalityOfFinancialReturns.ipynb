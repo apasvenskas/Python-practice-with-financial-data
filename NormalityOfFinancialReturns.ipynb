{
 "cells": [
  {
   "cell_type": "markdown",
   "id": "93071415-2814-47df-8e10-c39532aa8fb2",
   "metadata": {},
   "source": [
    "Normality of Finiancial Returns"
   ]
  },
  {
   "cell_type": "code",
   "execution_count": 6,
   "id": "4a6dedc8-7cee-40e4-afdc-c4771de064a1",
   "metadata": {},
   "outputs": [],
   "source": [
    "import pandas as pd\n",
    "import numpy as np\n",
    "import matplotlib.pyplot as plt"
   ]
  },
  {
   "cell_type": "code",
   "execution_count": 14,
   "id": "83d3b925-f680-4e39-bff8-bb006231c5ea",
   "metadata": {},
   "outputs": [
    {
     "data": {
      "text/html": [
       "<div>\n",
       "<style scoped>\n",
       "    .dataframe tbody tr th:only-of-type {\n",
       "        vertical-align: middle;\n",
       "    }\n",
       "\n",
       "    .dataframe tbody tr th {\n",
       "        vertical-align: top;\n",
       "    }\n",
       "\n",
       "    .dataframe thead th {\n",
       "        text-align: right;\n",
       "    }\n",
       "</style>\n",
       "<table border=\"1\" class=\"dataframe\">\n",
       "  <thead>\n",
       "    <tr style=\"text-align: right;\">\n",
       "      <th></th>\n",
       "      <th>Price</th>\n",
       "      <th>Returns</th>\n",
       "    </tr>\n",
       "    <tr>\n",
       "      <th>Date</th>\n",
       "      <th></th>\n",
       "      <th></th>\n",
       "    </tr>\n",
       "  </thead>\n",
       "  <tbody>\n",
       "    <tr>\n",
       "      <th>2014-10-01 00:00:00+00:00</th>\n",
       "      <td>45.900002</td>\n",
       "      <td>NaN</td>\n",
       "    </tr>\n",
       "    <tr>\n",
       "      <th>2014-10-02 00:00:00+00:00</th>\n",
       "      <td>45.759998</td>\n",
       "      <td>-0.003050</td>\n",
       "    </tr>\n",
       "    <tr>\n",
       "      <th>2014-10-03 00:00:00+00:00</th>\n",
       "      <td>46.090000</td>\n",
       "      <td>0.007212</td>\n",
       "    </tr>\n",
       "    <tr>\n",
       "      <th>2014-10-06 00:00:00+00:00</th>\n",
       "      <td>46.090000</td>\n",
       "      <td>0.000000</td>\n",
       "    </tr>\n",
       "    <tr>\n",
       "      <th>2014-10-07 00:00:00+00:00</th>\n",
       "      <td>45.529999</td>\n",
       "      <td>-0.012150</td>\n",
       "    </tr>\n",
       "    <tr>\n",
       "      <th>...</th>\n",
       "      <td>...</td>\n",
       "      <td>...</td>\n",
       "    </tr>\n",
       "    <tr>\n",
       "      <th>2021-05-24 00:00:00+00:00</th>\n",
       "      <td>250.779999</td>\n",
       "      <td>0.022882</td>\n",
       "    </tr>\n",
       "    <tr>\n",
       "      <th>2021-05-25 00:00:00+00:00</th>\n",
       "      <td>251.720001</td>\n",
       "      <td>0.003748</td>\n",
       "    </tr>\n",
       "    <tr>\n",
       "      <th>2021-05-26 00:00:00+00:00</th>\n",
       "      <td>251.490005</td>\n",
       "      <td>-0.000914</td>\n",
       "    </tr>\n",
       "    <tr>\n",
       "      <th>2021-05-27 00:00:00+00:00</th>\n",
       "      <td>249.309998</td>\n",
       "      <td>-0.008668</td>\n",
       "    </tr>\n",
       "    <tr>\n",
       "      <th>2021-05-28 00:00:00+00:00</th>\n",
       "      <td>249.679993</td>\n",
       "      <td>0.001484</td>\n",
       "    </tr>\n",
       "  </tbody>\n",
       "</table>\n",
       "<p>1677 rows × 2 columns</p>\n",
       "</div>"
      ],
      "text/plain": [
       "                                Price   Returns\n",
       "Date                                           \n",
       "2014-10-01 00:00:00+00:00   45.900002       NaN\n",
       "2014-10-02 00:00:00+00:00   45.759998 -0.003050\n",
       "2014-10-03 00:00:00+00:00   46.090000  0.007212\n",
       "2014-10-06 00:00:00+00:00   46.090000  0.000000\n",
       "2014-10-07 00:00:00+00:00   45.529999 -0.012150\n",
       "...                               ...       ...\n",
       "2021-05-24 00:00:00+00:00  250.779999  0.022882\n",
       "2021-05-25 00:00:00+00:00  251.720001  0.003748\n",
       "2021-05-26 00:00:00+00:00  251.490005 -0.000914\n",
       "2021-05-27 00:00:00+00:00  249.309998 -0.008668\n",
       "2021-05-28 00:00:00+00:00  249.679993  0.001484\n",
       "\n",
       "[1677 rows x 2 columns]"
      ]
     },
     "execution_count": 14,
     "metadata": {},
     "output_type": "execute_result"
    }
   ],
   "source": [
    "msft = pd.read_csv(\"msft.csv\", index_col = \"Date\", parse_dates = [\"Date\"])\n",
    "msft"
   ]
  },
  {
   "cell_type": "code",
   "execution_count": 16,
   "id": "e88bd2fd-278d-4673-be82-90b3e8175307",
   "metadata": {},
   "outputs": [
    {
     "data": {
      "text/html": [
       "<div>\n",
       "<style scoped>\n",
       "    .dataframe tbody tr th:only-of-type {\n",
       "        vertical-align: middle;\n",
       "    }\n",
       "\n",
       "    .dataframe tbody tr th {\n",
       "        vertical-align: top;\n",
       "    }\n",
       "\n",
       "    .dataframe thead th {\n",
       "        text-align: right;\n",
       "    }\n",
       "</style>\n",
       "<table border=\"1\" class=\"dataframe\">\n",
       "  <thead>\n",
       "    <tr style=\"text-align: right;\">\n",
       "      <th></th>\n",
       "      <th>Price</th>\n",
       "      <th>Returns</th>\n",
       "      <th>log_ret</th>\n",
       "    </tr>\n",
       "    <tr>\n",
       "      <th>Date</th>\n",
       "      <th></th>\n",
       "      <th></th>\n",
       "      <th></th>\n",
       "    </tr>\n",
       "  </thead>\n",
       "  <tbody>\n",
       "    <tr>\n",
       "      <th>2014-10-01 00:00:00+00:00</th>\n",
       "      <td>45.900002</td>\n",
       "      <td>NaN</td>\n",
       "      <td>NaN</td>\n",
       "    </tr>\n",
       "    <tr>\n",
       "      <th>2014-10-02 00:00:00+00:00</th>\n",
       "      <td>45.759998</td>\n",
       "      <td>-0.003050</td>\n",
       "      <td>-0.003055</td>\n",
       "    </tr>\n",
       "    <tr>\n",
       "      <th>2014-10-03 00:00:00+00:00</th>\n",
       "      <td>46.090000</td>\n",
       "      <td>0.007212</td>\n",
       "      <td>0.007186</td>\n",
       "    </tr>\n",
       "    <tr>\n",
       "      <th>2014-10-06 00:00:00+00:00</th>\n",
       "      <td>46.090000</td>\n",
       "      <td>0.000000</td>\n",
       "      <td>0.000000</td>\n",
       "    </tr>\n",
       "    <tr>\n",
       "      <th>2014-10-07 00:00:00+00:00</th>\n",
       "      <td>45.529999</td>\n",
       "      <td>-0.012150</td>\n",
       "      <td>-0.012225</td>\n",
       "    </tr>\n",
       "    <tr>\n",
       "      <th>...</th>\n",
       "      <td>...</td>\n",
       "      <td>...</td>\n",
       "      <td>...</td>\n",
       "    </tr>\n",
       "    <tr>\n",
       "      <th>2021-05-24 00:00:00+00:00</th>\n",
       "      <td>250.779999</td>\n",
       "      <td>0.022882</td>\n",
       "      <td>0.022624</td>\n",
       "    </tr>\n",
       "    <tr>\n",
       "      <th>2021-05-25 00:00:00+00:00</th>\n",
       "      <td>251.720001</td>\n",
       "      <td>0.003748</td>\n",
       "      <td>0.003741</td>\n",
       "    </tr>\n",
       "    <tr>\n",
       "      <th>2021-05-26 00:00:00+00:00</th>\n",
       "      <td>251.490005</td>\n",
       "      <td>-0.000914</td>\n",
       "      <td>-0.000914</td>\n",
       "    </tr>\n",
       "    <tr>\n",
       "      <th>2021-05-27 00:00:00+00:00</th>\n",
       "      <td>249.309998</td>\n",
       "      <td>-0.008668</td>\n",
       "      <td>-0.008706</td>\n",
       "    </tr>\n",
       "    <tr>\n",
       "      <th>2021-05-28 00:00:00+00:00</th>\n",
       "      <td>249.679993</td>\n",
       "      <td>0.001484</td>\n",
       "      <td>0.001483</td>\n",
       "    </tr>\n",
       "  </tbody>\n",
       "</table>\n",
       "<p>1677 rows × 3 columns</p>\n",
       "</div>"
      ],
      "text/plain": [
       "                                Price   Returns   log_ret\n",
       "Date                                                     \n",
       "2014-10-01 00:00:00+00:00   45.900002       NaN       NaN\n",
       "2014-10-02 00:00:00+00:00   45.759998 -0.003050 -0.003055\n",
       "2014-10-03 00:00:00+00:00   46.090000  0.007212  0.007186\n",
       "2014-10-06 00:00:00+00:00   46.090000  0.000000  0.000000\n",
       "2014-10-07 00:00:00+00:00   45.529999 -0.012150 -0.012225\n",
       "...                               ...       ...       ...\n",
       "2021-05-24 00:00:00+00:00  250.779999  0.022882  0.022624\n",
       "2021-05-25 00:00:00+00:00  251.720001  0.003748  0.003741\n",
       "2021-05-26 00:00:00+00:00  251.490005 -0.000914 -0.000914\n",
       "2021-05-27 00:00:00+00:00  249.309998 -0.008668 -0.008706\n",
       "2021-05-28 00:00:00+00:00  249.679993  0.001484  0.001483\n",
       "\n",
       "[1677 rows x 3 columns]"
      ]
     },
     "execution_count": 16,
     "metadata": {},
     "output_type": "execute_result"
    }
   ],
   "source": [
    "msft[\"log_ret\"] = np.log(msft.Price / msft.Price.shift())\n",
    "msft"
   ]
  },
  {
   "cell_type": "code",
   "execution_count": 18,
   "id": "473ccec4-2eee-4dd1-b5a3-b3e22cb15f5b",
   "metadata": {},
   "outputs": [
    {
     "data": {
      "text/html": [
       "<div>\n",
       "<style scoped>\n",
       "    .dataframe tbody tr th:only-of-type {\n",
       "        vertical-align: middle;\n",
       "    }\n",
       "\n",
       "    .dataframe tbody tr th {\n",
       "        vertical-align: top;\n",
       "    }\n",
       "\n",
       "    .dataframe thead th {\n",
       "        text-align: right;\n",
       "    }\n",
       "</style>\n",
       "<table border=\"1\" class=\"dataframe\">\n",
       "  <thead>\n",
       "    <tr style=\"text-align: right;\">\n",
       "      <th></th>\n",
       "      <th>Price</th>\n",
       "      <th>Returns</th>\n",
       "      <th>log_ret</th>\n",
       "    </tr>\n",
       "  </thead>\n",
       "  <tbody>\n",
       "    <tr>\n",
       "      <th>count</th>\n",
       "      <td>1677.000000</td>\n",
       "      <td>1676.000000</td>\n",
       "      <td>1676.000000</td>\n",
       "    </tr>\n",
       "    <tr>\n",
       "      <th>mean</th>\n",
       "      <td>106.314377</td>\n",
       "      <td>0.001160</td>\n",
       "      <td>0.001011</td>\n",
       "    </tr>\n",
       "    <tr>\n",
       "      <th>std</th>\n",
       "      <td>60.772246</td>\n",
       "      <td>0.017256</td>\n",
       "      <td>0.017249</td>\n",
       "    </tr>\n",
       "    <tr>\n",
       "      <th>min</th>\n",
       "      <td>40.290001</td>\n",
       "      <td>-0.147390</td>\n",
       "      <td>-0.159453</td>\n",
       "    </tr>\n",
       "    <tr>\n",
       "      <th>25%</th>\n",
       "      <td>54.830002</td>\n",
       "      <td>-0.006177</td>\n",
       "      <td>-0.006196</td>\n",
       "    </tr>\n",
       "    <tr>\n",
       "      <th>50%</th>\n",
       "      <td>89.709999</td>\n",
       "      <td>0.000918</td>\n",
       "      <td>0.000918</td>\n",
       "    </tr>\n",
       "    <tr>\n",
       "      <th>75%</th>\n",
       "      <td>138.899994</td>\n",
       "      <td>0.009110</td>\n",
       "      <td>0.009069</td>\n",
       "    </tr>\n",
       "    <tr>\n",
       "      <th>max</th>\n",
       "      <td>261.970001</td>\n",
       "      <td>0.142169</td>\n",
       "      <td>0.132929</td>\n",
       "    </tr>\n",
       "  </tbody>\n",
       "</table>\n",
       "</div>"
      ],
      "text/plain": [
       "             Price      Returns      log_ret\n",
       "count  1677.000000  1676.000000  1676.000000\n",
       "mean    106.314377     0.001160     0.001011\n",
       "std      60.772246     0.017256     0.017249\n",
       "min      40.290001    -0.147390    -0.159453\n",
       "25%      54.830002    -0.006177    -0.006196\n",
       "50%      89.709999     0.000918     0.000918\n",
       "75%     138.899994     0.009110     0.009069\n",
       "max     261.970001     0.142169     0.132929"
      ]
     },
     "execution_count": 18,
     "metadata": {},
     "output_type": "execute_result"
    }
   ],
   "source": [
    "msft.describe()"
   ]
  },
  {
   "cell_type": "code",
   "execution_count": 22,
   "id": "6a0b7913-63f3-4243-8694-70f6cbb7a1c6",
   "metadata": {},
   "outputs": [
    {
     "data": {
      "image/png": "[encoded data removed]",
      "text/plain": [
       "<Figure size 1500x800 with 1 Axes>"
      ]
     },
     "metadata": {},
     "output_type": "display_data"
    }
   ],
   "source": [
    "msft.log_ret.plot(kind = \"hist\", figsize = (15, 8), bins = 100, fontsize = 15, density = True)\n",
    "plt.xlabel(\"Daily Returns\", fontsize = 15)\n",
    "plt.ylabel(\"Frequency\", fontsize = 15)\n",
    "plt.title(\"Frequency Destribution of Returns\", fontsize = 20)\n",
    "plt.show()"
   ]
  },
  {
   "cell_type": "code",
   "execution_count": 24,
   "id": "2ba05c9a-f42c-4898-b605-9ee63a98c890",
   "metadata": {},
   "outputs": [
    {
     "data": {
      "text/plain": [
       "0.0010105697603329652"
      ]
     },
     "execution_count": 24,
     "metadata": {},
     "output_type": "execute_result"
    }
   ],
   "source": [
    "mu = msft.log_ret.mean()\n",
    "mu"
   ]
  },
  {
   "cell_type": "code",
   "execution_count": 26,
   "id": "300d9907-1f56-44aa-a313-dd41c66ee142",
   "metadata": {},
   "outputs": [
    {
     "data": {
      "text/plain": [
       "0.01724882682847896"
      ]
     },
     "execution_count": 26,
     "metadata": {},
     "output_type": "execute_result"
    }
   ],
   "source": [
    "sigma = msft.log_ret.std()\n",
    "sigma"
   ]
  },
  {
   "cell_type": "code",
   "execution_count": 28,
   "id": "019fdb01-5bb9-40bd-a360-be5857869f67",
   "metadata": {},
   "outputs": [],
   "source": [
    "import scipy.stats as stats"
   ]
  },
  {
   "cell_type": "code",
   "execution_count": 32,
   "id": "d2175e8b-b6df-46e9-9a12-3c1ab2c0631d",
   "metadata": {},
   "outputs": [
    {
     "data": {
      "text/plain": [
       "-0.20070528675208313"
      ]
     },
     "execution_count": 32,
     "metadata": {},
     "output_type": "execute_result"
    }
   ],
   "source": [
    "stats.skew(msft.log_ret.dropna())"
   ]
  },
  {
   "cell_type": "code",
   "execution_count": 36,
   "id": "e8ef7fcd-f634-4ebc-970a-96e76bc38adf",
   "metadata": {},
   "outputs": [
    {
     "data": {
      "text/plain": [
       "10.733092631202133"
      ]
     },
     "execution_count": 36,
     "metadata": {},
     "output_type": "execute_result"
    }
   ],
   "source": [
    "stats.kurtosis(msft.log_ret.dropna(), fisher = True)"
   ]
  },
  {
   "cell_type": "code",
   "execution_count": null,
   "id": "fed57824-b0cb-40e0-9696-cd980cc69474",
   "metadata": {},
   "outputs": [],
   "source": []
  }
 ],
 "metadata": {
  "kernelspec": {
   "display_name": "Python 3 (ipykernel)",
   "language": "python",
   "name": "python3"
  },
  "language_info": {
   "codemirror_mode": {
    "name": "ipython",
    "version": 3
   },
   "file_extension": ".py",
   "mimetype": "text/x-python",
   "name": "python",
   "nbconvert_exporter": "python",
   "pygments_lexer": "ipython3",
   "version": "3.12.4"
  }
 },
 "nbformat": 4,
 "nbformat_minor": 5
}
