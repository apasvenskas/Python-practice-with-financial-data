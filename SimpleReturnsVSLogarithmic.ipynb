{
 "cells": [
  {
   "cell_type": "markdown",
   "id": "54e32a25-4c51-4063-a374-32272fefe284",
   "metadata": {},
   "source": [
    "Preview: Simple Returns vs. Logarithmic Returns"
   ]
  },
  {
   "cell_type": "markdown",
   "id": "0d0f5659-c642-46fa-b2ee-c79c82fc7c4e",
   "metadata": {},
   "source": [
    "Discrete Compunding"
   ]
  },
  {
   "cell_type": "markdown",
   "id": "c36e088b-9ddc-4c97-a2f3-0c8a19680e0f",
   "metadata": {},
   "source": [
    "Annual Compunding -> ontrest accrue once a year at the end of the year."
   ]
  },
  {
   "cell_type": "code",
   "execution_count": 7,
   "id": "d7319963-ebd7-46dd-b39c-bf6e8d2e5600",
   "metadata": {},
   "outputs": [],
   "source": [
    "PV = 100\n",
    "r = 0.08\n",
    "n = 1"
   ]
  },
  {
   "cell_type": "code",
   "execution_count": 9,
   "id": "4e43d39e-cf00-4270-ad03-4888ed8f4849",
   "metadata": {},
   "outputs": [
    {
     "data": {
      "text/plain": [
       "108.0"
      ]
     },
     "execution_count": 9,
     "metadata": {},
     "output_type": "execute_result"
    }
   ],
   "source": [
    "100 * 1.08"
   ]
  },
  {
   "cell_type": "code",
   "execution_count": 11,
   "id": "52c6f0b7-a495-4d1b-a4fc-2d4c14a1e08d",
   "metadata": {},
   "outputs": [
    {
     "data": {
      "text/plain": [
       "108.0"
      ]
     },
     "execution_count": 11,
     "metadata": {},
     "output_type": "execute_result"
    }
   ],
   "source": [
    "FV = PV * (1 + r)**n\n",
    "FV"
   ]
  },
  {
   "cell_type": "code",
   "execution_count": 13,
   "id": "5daf35fb-bfe4-4a4d-ba93-aaac3afc1435",
   "metadata": {},
   "outputs": [
    {
     "data": {
      "text/plain": [
       "0.08000000000000007"
      ]
     },
     "execution_count": 13,
     "metadata": {},
     "output_type": "execute_result"
    }
   ],
   "source": [
    "effective_annual_rate = (FV / PV)**(1/n)-1\n",
    "effective_annual_rate"
   ]
  },
  {
   "cell_type": "markdown",
   "id": "8c09b666-9b68-4f70-8aeb-853314df84e9",
   "metadata": {},
   "source": [
    "Quartely Compounding -> Intrest accrue once a quarter at the end of the quarter"
   ]
  },
  {
   "cell_type": "code",
   "execution_count": 18,
   "id": "13733380-a658-4a17-8aa9-bc8b564c1598",
   "metadata": {},
   "outputs": [],
   "source": [
    "PV = 100\n",
    "r = 0.08\n",
    "n = 1\n",
    "m = 4"
   ]
  },
  {
   "cell_type": "code",
   "execution_count": 20,
   "id": "34af41a7-3dc6-4b2d-8bce-d4b2714b505d",
   "metadata": {},
   "outputs": [
    {
     "data": {
      "text/plain": [
       "108.243216"
      ]
     },
     "execution_count": 20,
     "metadata": {},
     "output_type": "execute_result"
    }
   ],
   "source": [
    "100 * 1.02 * 1.02 * 1.02 * 1.02 "
   ]
  },
  {
   "cell_type": "code",
   "execution_count": 22,
   "id": "48e70430-d442-4dbc-ac37-c98b2739ba0b",
   "metadata": {},
   "outputs": [
    {
     "data": {
      "text/plain": [
       "108.243216"
      ]
     },
     "execution_count": 22,
     "metadata": {},
     "output_type": "execute_result"
    }
   ],
   "source": [
    "FV = PV * (1 + r/m)**(n*m)\n",
    "FV"
   ]
  },
  {
   "cell_type": "code",
   "execution_count": 24,
   "id": "5913ac62-373b-49e0-a0ab-f9dd804c35d6",
   "metadata": {},
   "outputs": [
    {
     "data": {
      "text/plain": [
       "0.08243215999999998"
      ]
     },
     "execution_count": 24,
     "metadata": {},
     "output_type": "execute_result"
    }
   ],
   "source": [
    "effective_annual_rate = (FV / PV)**(1/n)-1\n",
    "effective_annual_rate"
   ]
  },
  {
   "cell_type": "markdown",
   "id": "be0dff89-6426-4be9-baf1-141131f9ab7a",
   "metadata": {},
   "source": [
    "Continues Compounding"
   ]
  },
  {
   "cell_type": "code",
   "execution_count": 27,
   "id": "73c4d699-92e0-4e54-a937-d5156af8b37a",
   "metadata": {},
   "outputs": [],
   "source": [
    "import numpy as np"
   ]
  },
  {
   "cell_type": "markdown",
   "id": "8b18b570-0bcf-41d7-8765-d405b8cac87c",
   "metadata": {},
   "source": [
    "Your savings Bank offers intrest rate of 8% p.a. (state rate) with continues compounding on your savings (USD 100)"
   ]
  },
  {
   "cell_type": "markdown",
   "id": "0f9acd01-ba3e-4525-ba98-3d48c81b90a0",
   "metadata": {},
   "source": [
    "Calculate the value of the savings account after one year and the coresponding annual rate"
   ]
  },
  {
   "cell_type": "code",
   "execution_count": 37,
   "id": "661c0c76-c2d0-4b8e-98e0-5bb0ed81531a",
   "metadata": {},
   "outputs": [],
   "source": [
    "PV = 100\n",
    "r = 0.08\n",
    "n = 1\n",
    "m = 100000"
   ]
  },
  {
   "cell_type": "code",
   "execution_count": 39,
   "id": "232a2e9c-3114-41b2-bc65-eb27f8372373",
   "metadata": {},
   "outputs": [
    {
     "data": {
      "text/plain": [
       "108.32870330122834"
      ]
     },
     "execution_count": 39,
     "metadata": {},
     "output_type": "execute_result"
    }
   ],
   "source": [
    "FV = PV * (1 + r/m)**(n*m)\n",
    "FV"
   ]
  },
  {
   "cell_type": "code",
   "execution_count": 45,
   "id": "b2acfc89-4465-418e-a28d-d41d2e12b6ce",
   "metadata": {},
   "outputs": [
    {
     "data": {
      "text/plain": [
       "108.32870676749586"
      ]
     },
     "execution_count": 45,
     "metadata": {},
     "output_type": "execute_result"
    }
   ],
   "source": [
    "FV = PV * np.exp(n*r)\n",
    "FV"
   ]
  },
  {
   "cell_type": "code",
   "execution_count": 35,
   "id": "e8567ae2-625b-43ae-89cc-f6cc989c66cf",
   "metadata": {},
   "outputs": [
    {
     "data": {
      "text/plain": [
       "2.718281828459045"
      ]
     },
     "execution_count": 35,
     "metadata": {},
     "output_type": "execute_result"
    }
   ],
   "source": [
    "euler = np.exp(1)\n",
    "euler"
   ]
  },
  {
   "cell_type": "code",
   "execution_count": 47,
   "id": "db7aa8d5-6aa5-4734-af05-59e5eb9ce6e0",
   "metadata": {},
   "outputs": [
    {
     "data": {
      "text/plain": [
       "0.08328706767495864"
      ]
     },
     "execution_count": 47,
     "metadata": {},
     "output_type": "execute_result"
    }
   ],
   "source": [
    "effective_annual_rate = ((FV / PV)**(1/n) - 1)\n",
    "effective_annual_rate"
   ]
  },
  {
   "cell_type": "code",
   "execution_count": 49,
   "id": "b0363a03-49e5-44ea-b4a9-be53866058b5",
   "metadata": {},
   "outputs": [
    {
     "data": {
      "text/plain": [
       "0.08328706767495864"
      ]
     },
     "execution_count": 49,
     "metadata": {},
     "output_type": "execute_result"
    }
   ],
   "source": [
    "effective_annual_rate = np.exp(r) - 1\n",
    "effective_annual_rate"
   ]
  },
  {
   "cell_type": "code",
   "execution_count": 53,
   "id": "6fa2000f-937c-41a2-be57-a1361d680952",
   "metadata": {},
   "outputs": [
    {
     "data": {
      "text/plain": [
       "0.08000000000000007"
      ]
     },
     "execution_count": 53,
     "metadata": {},
     "output_type": "execute_result"
    }
   ],
   "source": [
    "r = np.log(FV / PV)\n",
    "r"
   ]
  },
  {
   "cell_type": "markdown",
   "id": "b4833bbd-6372-41f3-9630-c37b2b7974e1",
   "metadata": {},
   "source": [
    "Log returns from Microsoft"
   ]
  },
  {
   "cell_type": "code",
   "execution_count": 56,
   "id": "5bc1cc9d-814f-462b-b649-ddad4535a4a5",
   "metadata": {},
   "outputs": [],
   "source": [
    "import pandas as pd\n",
    "import numpy as np\n",
    "pd.options.display.float_format = '{:.6f}'.format"
   ]
  },
  {
   "cell_type": "code",
   "execution_count": 58,
   "id": "86486e4c-d06d-47be-ab02-ace9a7261c6d",
   "metadata": {},
   "outputs": [
    {
     "data": {
      "text/html": [
       "<div>\n",
       "<style scoped>\n",
       "    .dataframe tbody tr th:only-of-type {\n",
       "        vertical-align: middle;\n",
       "    }\n",
       "\n",
       "    .dataframe tbody tr th {\n",
       "        vertical-align: top;\n",
       "    }\n",
       "\n",
       "    .dataframe thead th {\n",
       "        text-align: right;\n",
       "    }\n",
       "</style>\n",
       "<table border=\"1\" class=\"dataframe\">\n",
       "  <thead>\n",
       "    <tr style=\"text-align: right;\">\n",
       "      <th></th>\n",
       "      <th>Price</th>\n",
       "      <th>Returns</th>\n",
       "    </tr>\n",
       "    <tr>\n",
       "      <th>Date</th>\n",
       "      <th></th>\n",
       "      <th></th>\n",
       "    </tr>\n",
       "  </thead>\n",
       "  <tbody>\n",
       "    <tr>\n",
       "      <th>2014-10-01 00:00:00+00:00</th>\n",
       "      <td>45.900002</td>\n",
       "      <td>NaN</td>\n",
       "    </tr>\n",
       "    <tr>\n",
       "      <th>2014-10-02 00:00:00+00:00</th>\n",
       "      <td>45.759998</td>\n",
       "      <td>-0.003050</td>\n",
       "    </tr>\n",
       "    <tr>\n",
       "      <th>2014-10-03 00:00:00+00:00</th>\n",
       "      <td>46.090000</td>\n",
       "      <td>0.007212</td>\n",
       "    </tr>\n",
       "    <tr>\n",
       "      <th>2014-10-06 00:00:00+00:00</th>\n",
       "      <td>46.090000</td>\n",
       "      <td>0.000000</td>\n",
       "    </tr>\n",
       "    <tr>\n",
       "      <th>2014-10-07 00:00:00+00:00</th>\n",
       "      <td>45.529999</td>\n",
       "      <td>-0.012150</td>\n",
       "    </tr>\n",
       "    <tr>\n",
       "      <th>...</th>\n",
       "      <td>...</td>\n",
       "      <td>...</td>\n",
       "    </tr>\n",
       "    <tr>\n",
       "      <th>2021-05-24 00:00:00+00:00</th>\n",
       "      <td>250.779999</td>\n",
       "      <td>0.022882</td>\n",
       "    </tr>\n",
       "    <tr>\n",
       "      <th>2021-05-25 00:00:00+00:00</th>\n",
       "      <td>251.720001</td>\n",
       "      <td>0.003748</td>\n",
       "    </tr>\n",
       "    <tr>\n",
       "      <th>2021-05-26 00:00:00+00:00</th>\n",
       "      <td>251.490005</td>\n",
       "      <td>-0.000914</td>\n",
       "    </tr>\n",
       "    <tr>\n",
       "      <th>2021-05-27 00:00:00+00:00</th>\n",
       "      <td>249.309998</td>\n",
       "      <td>-0.008668</td>\n",
       "    </tr>\n",
       "    <tr>\n",
       "      <th>2021-05-28 00:00:00+00:00</th>\n",
       "      <td>249.679993</td>\n",
       "      <td>0.001484</td>\n",
       "    </tr>\n",
       "  </tbody>\n",
       "</table>\n",
       "<p>1677 rows × 2 columns</p>\n",
       "</div>"
      ],
      "text/plain": [
       "                               Price   Returns\n",
       "Date                                          \n",
       "2014-10-01 00:00:00+00:00  45.900002       NaN\n",
       "2014-10-02 00:00:00+00:00  45.759998 -0.003050\n",
       "2014-10-03 00:00:00+00:00  46.090000  0.007212\n",
       "2014-10-06 00:00:00+00:00  46.090000  0.000000\n",
       "2014-10-07 00:00:00+00:00  45.529999 -0.012150\n",
       "...                              ...       ...\n",
       "2021-05-24 00:00:00+00:00 250.779999  0.022882\n",
       "2021-05-25 00:00:00+00:00 251.720001  0.003748\n",
       "2021-05-26 00:00:00+00:00 251.490005 -0.000914\n",
       "2021-05-27 00:00:00+00:00 249.309998 -0.008668\n",
       "2021-05-28 00:00:00+00:00 249.679993  0.001484\n",
       "\n",
       "[1677 rows x 2 columns]"
      ]
     },
     "execution_count": 58,
     "metadata": {},
     "output_type": "execute_result"
    }
   ],
   "source": [
    "msft = pd.read_csv(\"msft.csv\", index_col = \"Date\", parse_dates = [\"Date\"])\n",
    "msft"
   ]
  },
  {
   "cell_type": "code",
   "execution_count": 62,
   "id": "e7c26a32-baf2-4f9e-8316-f73516a218c0",
   "metadata": {},
   "outputs": [],
   "source": [
    "msft[\"log_ret\"] = np.log(msft.Price / msft.Price.shift())"
   ]
  },
  {
   "cell_type": "code",
   "execution_count": 64,
   "id": "546c4df9-53b7-406a-8c81-e3af1f887823",
   "metadata": {},
   "outputs": [
    {
     "data": {
      "text/html": [
       "<div>\n",
       "<style scoped>\n",
       "    .dataframe tbody tr th:only-of-type {\n",
       "        vertical-align: middle;\n",
       "    }\n",
       "\n",
       "    .dataframe tbody tr th {\n",
       "        vertical-align: top;\n",
       "    }\n",
       "\n",
       "    .dataframe thead th {\n",
       "        text-align: right;\n",
       "    }\n",
       "</style>\n",
       "<table border=\"1\" class=\"dataframe\">\n",
       "  <thead>\n",
       "    <tr style=\"text-align: right;\">\n",
       "      <th></th>\n",
       "      <th>Price</th>\n",
       "      <th>Returns</th>\n",
       "      <th>log_ret</th>\n",
       "    </tr>\n",
       "    <tr>\n",
       "      <th>Date</th>\n",
       "      <th></th>\n",
       "      <th></th>\n",
       "      <th></th>\n",
       "    </tr>\n",
       "  </thead>\n",
       "  <tbody>\n",
       "    <tr>\n",
       "      <th>2014-10-01 00:00:00+00:00</th>\n",
       "      <td>45.900002</td>\n",
       "      <td>NaN</td>\n",
       "      <td>NaN</td>\n",
       "    </tr>\n",
       "    <tr>\n",
       "      <th>2014-10-02 00:00:00+00:00</th>\n",
       "      <td>45.759998</td>\n",
       "      <td>-0.003050</td>\n",
       "      <td>-0.003055</td>\n",
       "    </tr>\n",
       "    <tr>\n",
       "      <th>2014-10-03 00:00:00+00:00</th>\n",
       "      <td>46.090000</td>\n",
       "      <td>0.007212</td>\n",
       "      <td>0.007186</td>\n",
       "    </tr>\n",
       "    <tr>\n",
       "      <th>2014-10-06 00:00:00+00:00</th>\n",
       "      <td>46.090000</td>\n",
       "      <td>0.000000</td>\n",
       "      <td>0.000000</td>\n",
       "    </tr>\n",
       "    <tr>\n",
       "      <th>2014-10-07 00:00:00+00:00</th>\n",
       "      <td>45.529999</td>\n",
       "      <td>-0.012150</td>\n",
       "      <td>-0.012225</td>\n",
       "    </tr>\n",
       "    <tr>\n",
       "      <th>...</th>\n",
       "      <td>...</td>\n",
       "      <td>...</td>\n",
       "      <td>...</td>\n",
       "    </tr>\n",
       "    <tr>\n",
       "      <th>2021-05-24 00:00:00+00:00</th>\n",
       "      <td>250.779999</td>\n",
       "      <td>0.022882</td>\n",
       "      <td>0.022624</td>\n",
       "    </tr>\n",
       "    <tr>\n",
       "      <th>2021-05-25 00:00:00+00:00</th>\n",
       "      <td>251.720001</td>\n",
       "      <td>0.003748</td>\n",
       "      <td>0.003741</td>\n",
       "    </tr>\n",
       "    <tr>\n",
       "      <th>2021-05-26 00:00:00+00:00</th>\n",
       "      <td>251.490005</td>\n",
       "      <td>-0.000914</td>\n",
       "      <td>-0.000914</td>\n",
       "    </tr>\n",
       "    <tr>\n",
       "      <th>2021-05-27 00:00:00+00:00</th>\n",
       "      <td>249.309998</td>\n",
       "      <td>-0.008668</td>\n",
       "      <td>-0.008706</td>\n",
       "    </tr>\n",
       "    <tr>\n",
       "      <th>2021-05-28 00:00:00+00:00</th>\n",
       "      <td>249.679993</td>\n",
       "      <td>0.001484</td>\n",
       "      <td>0.001483</td>\n",
       "    </tr>\n",
       "  </tbody>\n",
       "</table>\n",
       "<p>1677 rows × 3 columns</p>\n",
       "</div>"
      ],
      "text/plain": [
       "                               Price   Returns   log_ret\n",
       "Date                                                    \n",
       "2014-10-01 00:00:00+00:00  45.900002       NaN       NaN\n",
       "2014-10-02 00:00:00+00:00  45.759998 -0.003050 -0.003055\n",
       "2014-10-03 00:00:00+00:00  46.090000  0.007212  0.007186\n",
       "2014-10-06 00:00:00+00:00  46.090000  0.000000  0.000000\n",
       "2014-10-07 00:00:00+00:00  45.529999 -0.012150 -0.012225\n",
       "...                              ...       ...       ...\n",
       "2021-05-24 00:00:00+00:00 250.779999  0.022882  0.022624\n",
       "2021-05-25 00:00:00+00:00 251.720001  0.003748  0.003741\n",
       "2021-05-26 00:00:00+00:00 251.490005 -0.000914 -0.000914\n",
       "2021-05-27 00:00:00+00:00 249.309998 -0.008668 -0.008706\n",
       "2021-05-28 00:00:00+00:00 249.679993  0.001484  0.001483\n",
       "\n",
       "[1677 rows x 3 columns]"
      ]
     },
     "execution_count": 64,
     "metadata": {},
     "output_type": "execute_result"
    }
   ],
   "source": [
    "msft"
   ]
  },
  {
   "cell_type": "code",
   "execution_count": 66,
   "id": "cc11e961-5f64-4aac-8cf7-c210e8642d67",
   "metadata": {},
   "outputs": [
    {
     "data": {
      "text/html": [
       "<div>\n",
       "<style scoped>\n",
       "    .dataframe tbody tr th:only-of-type {\n",
       "        vertical-align: middle;\n",
       "    }\n",
       "\n",
       "    .dataframe tbody tr th {\n",
       "        vertical-align: top;\n",
       "    }\n",
       "\n",
       "    .dataframe thead th {\n",
       "        text-align: right;\n",
       "    }\n",
       "</style>\n",
       "<table border=\"1\" class=\"dataframe\">\n",
       "  <thead>\n",
       "    <tr style=\"text-align: right;\">\n",
       "      <th></th>\n",
       "      <th>Price</th>\n",
       "      <th>Returns</th>\n",
       "      <th>log_ret</th>\n",
       "    </tr>\n",
       "  </thead>\n",
       "  <tbody>\n",
       "    <tr>\n",
       "      <th>count</th>\n",
       "      <td>1677.000000</td>\n",
       "      <td>1676.000000</td>\n",
       "      <td>1676.000000</td>\n",
       "    </tr>\n",
       "    <tr>\n",
       "      <th>mean</th>\n",
       "      <td>106.314377</td>\n",
       "      <td>0.001160</td>\n",
       "      <td>0.001011</td>\n",
       "    </tr>\n",
       "    <tr>\n",
       "      <th>std</th>\n",
       "      <td>60.772246</td>\n",
       "      <td>0.017256</td>\n",
       "      <td>0.017249</td>\n",
       "    </tr>\n",
       "    <tr>\n",
       "      <th>min</th>\n",
       "      <td>40.290001</td>\n",
       "      <td>-0.147390</td>\n",
       "      <td>-0.159453</td>\n",
       "    </tr>\n",
       "    <tr>\n",
       "      <th>25%</th>\n",
       "      <td>54.830002</td>\n",
       "      <td>-0.006177</td>\n",
       "      <td>-0.006196</td>\n",
       "    </tr>\n",
       "    <tr>\n",
       "      <th>50%</th>\n",
       "      <td>89.709999</td>\n",
       "      <td>0.000918</td>\n",
       "      <td>0.000918</td>\n",
       "    </tr>\n",
       "    <tr>\n",
       "      <th>75%</th>\n",
       "      <td>138.899994</td>\n",
       "      <td>0.009110</td>\n",
       "      <td>0.009069</td>\n",
       "    </tr>\n",
       "    <tr>\n",
       "      <th>max</th>\n",
       "      <td>261.970001</td>\n",
       "      <td>0.142169</td>\n",
       "      <td>0.132929</td>\n",
       "    </tr>\n",
       "  </tbody>\n",
       "</table>\n",
       "</div>"
      ],
      "text/plain": [
       "            Price     Returns     log_ret\n",
       "count 1677.000000 1676.000000 1676.000000\n",
       "mean   106.314377    0.001160    0.001011\n",
       "std     60.772246    0.017256    0.017249\n",
       "min     40.290001   -0.147390   -0.159453\n",
       "25%     54.830002   -0.006177   -0.006196\n",
       "50%     89.709999    0.000918    0.000918\n",
       "75%    138.899994    0.009110    0.009069\n",
       "max    261.970001    0.142169    0.132929"
      ]
     },
     "execution_count": 66,
     "metadata": {},
     "output_type": "execute_result"
    }
   ],
   "source": [
    "msft.describe()"
   ]
  },
  {
   "cell_type": "code",
   "execution_count": 68,
   "id": "1b37b8e0-5807-41d0-89d5-c63e86b07247",
   "metadata": {},
   "outputs": [
    {
     "data": {
      "text/plain": [
       "0.0010105697603329652"
      ]
     },
     "execution_count": 68,
     "metadata": {},
     "output_type": "execute_result"
    }
   ],
   "source": [
    "mu = msft.log_ret.mean()\n",
    "mu"
   ]
  },
  {
   "cell_type": "markdown",
   "id": "d1870632-4e7e-4070-96b8-85759c178e0b",
   "metadata": {},
   "source": [
    "Part1"
   ]
  },
  {
   "cell_type": "code",
   "execution_count": 71,
   "id": "f16a5154-c5b1-45ce-a7f7-973430ddc690",
   "metadata": {},
   "outputs": [
    {
     "data": {
      "text/html": [
       "<div>\n",
       "<style scoped>\n",
       "    .dataframe tbody tr th:only-of-type {\n",
       "        vertical-align: middle;\n",
       "    }\n",
       "\n",
       "    .dataframe tbody tr th {\n",
       "        vertical-align: top;\n",
       "    }\n",
       "\n",
       "    .dataframe thead th {\n",
       "        text-align: right;\n",
       "    }\n",
       "</style>\n",
       "<table border=\"1\" class=\"dataframe\">\n",
       "  <thead>\n",
       "    <tr style=\"text-align: right;\">\n",
       "      <th></th>\n",
       "      <th>Price</th>\n",
       "    </tr>\n",
       "  </thead>\n",
       "  <tbody>\n",
       "    <tr>\n",
       "      <th>0</th>\n",
       "      <td>100</td>\n",
       "    </tr>\n",
       "    <tr>\n",
       "      <th>1</th>\n",
       "      <td>50</td>\n",
       "    </tr>\n",
       "    <tr>\n",
       "      <th>2</th>\n",
       "      <td>90</td>\n",
       "    </tr>\n",
       "  </tbody>\n",
       "</table>\n",
       "</div>"
      ],
      "text/plain": [
       "   Price\n",
       "0    100\n",
       "1     50\n",
       "2     90"
      ]
     },
     "execution_count": 71,
     "metadata": {},
     "output_type": "execute_result"
    }
   ],
   "source": [
    "df = pd.DataFrame(data = [100, 50, 90], columns = [\"Price\"])\n",
    "df"
   ]
  },
  {
   "cell_type": "code",
   "execution_count": 73,
   "id": "86925035-780d-49cd-bbda-cdc4bb1aa621",
   "metadata": {},
   "outputs": [],
   "source": [
    "df[\"SR\"] = df.Price.pct_change()"
   ]
  },
  {
   "cell_type": "code",
   "execution_count": 81,
   "id": "b2258b2f-5da2-4bb2-a0fc-4f2d0a4313e2",
   "metadata": {},
   "outputs": [],
   "source": [
    "df[\"LR\"] = np.log(df.Price / df.Price.shift())"
   ]
  },
  {
   "cell_type": "code",
   "execution_count": 83,
   "id": "e885eb96-e669-4c5f-98fb-73155349e60e",
   "metadata": {},
   "outputs": [
    {
     "data": {
      "text/html": [
       "<div>\n",
       "<style scoped>\n",
       "    .dataframe tbody tr th:only-of-type {\n",
       "        vertical-align: middle;\n",
       "    }\n",
       "\n",
       "    .dataframe tbody tr th {\n",
       "        vertical-align: top;\n",
       "    }\n",
       "\n",
       "    .dataframe thead th {\n",
       "        text-align: right;\n",
       "    }\n",
       "</style>\n",
       "<table border=\"1\" class=\"dataframe\">\n",
       "  <thead>\n",
       "    <tr style=\"text-align: right;\">\n",
       "      <th></th>\n",
       "      <th>Price</th>\n",
       "      <th>SR</th>\n",
       "      <th>FR</th>\n",
       "      <th>LR</th>\n",
       "    </tr>\n",
       "  </thead>\n",
       "  <tbody>\n",
       "    <tr>\n",
       "      <th>0</th>\n",
       "      <td>100</td>\n",
       "      <td>NaN</td>\n",
       "      <td>NaN</td>\n",
       "      <td>NaN</td>\n",
       "    </tr>\n",
       "    <tr>\n",
       "      <th>1</th>\n",
       "      <td>50</td>\n",
       "      <td>-0.500000</td>\n",
       "      <td>-0.693147</td>\n",
       "      <td>-0.693147</td>\n",
       "    </tr>\n",
       "    <tr>\n",
       "      <th>2</th>\n",
       "      <td>90</td>\n",
       "      <td>0.800000</td>\n",
       "      <td>0.587787</td>\n",
       "      <td>0.587787</td>\n",
       "    </tr>\n",
       "  </tbody>\n",
       "</table>\n",
       "</div>"
      ],
      "text/plain": [
       "   Price        SR        FR        LR\n",
       "0    100       NaN       NaN       NaN\n",
       "1     50 -0.500000 -0.693147 -0.693147\n",
       "2     90  0.800000  0.587787  0.587787"
      ]
     },
     "execution_count": 83,
     "metadata": {},
     "output_type": "execute_result"
    }
   ],
   "source": [
    "df"
   ]
  },
  {
   "cell_type": "code",
   "execution_count": 104,
   "id": "ee05710a-0427-4bf9-9eba-490a0246723b",
   "metadata": {},
   "outputs": [
    {
     "data": {
      "text/plain": [
       "2.0"
      ]
     },
     "execution_count": 104,
     "metadata": {},
     "output_type": "execute_result"
    }
   ],
   "source": [
    "num_periods = df.SR.count()\n",
    "periods = float(num_periods)\n",
    "periods"
   ]
  },
  {
   "cell_type": "markdown",
   "id": "522eddf8-e5d8-413e-aa03-42ae03871ba3",
   "metadata": {},
   "source": [
    "Arithmetic mean of returns can be misleading!"
   ]
  },
  {
   "cell_type": "code",
   "execution_count": 90,
   "id": "f4c162b4-9f18-4c56-b96c-ac34edae982a",
   "metadata": {},
   "outputs": [
    {
     "data": {
      "text/plain": [
       "0.15000000000000002"
      ]
     },
     "execution_count": 90,
     "metadata": {},
     "output_type": "execute_result"
    }
   ],
   "source": [
    "mean_sr = df.SR.mean()\n",
    "mean_sr"
   ]
  },
  {
   "cell_type": "markdown",
   "id": "3ea0cdf5-5f78-4cb4-9813-018ad70a5834",
   "metadata": {},
   "source": [
    "Should use Compund simple returns"
   ]
  },
  {
   "cell_type": "code",
   "execution_count": 106,
   "id": "f55949f9-fcb7-4705-b575-d09fd1c4d042",
   "metadata": {},
   "outputs": [
    {
     "name": "stdout",
     "output_type": "stream",
     "text": [
      "-0.05131670194948623\n"
     ]
    }
   ],
   "source": [
    "geo_mean = ((1 + df.SR).prod()**(1/float(periods))) - 1\n",
    "print(geo_mean)"
   ]
  },
  {
   "cell_type": "code",
   "execution_count": 108,
   "id": "62b674fa-b526-49b5-9761-06ad1c17647f",
   "metadata": {},
   "outputs": [
    {
     "data": {
      "text/plain": [
       "89.99999999999999"
      ]
     },
     "execution_count": 108,
     "metadata": {},
     "output_type": "execute_result"
    }
   ],
   "source": [
    "100 * (1 + geo_mean)**periods"
   ]
  },
  {
   "cell_type": "markdown",
   "id": "a55e6a8e-be8b-498b-a869-6a661d7127cb",
   "metadata": {},
   "source": [
    "..Log Returns which are additive ove time"
   ]
  },
  {
   "cell_type": "code",
   "execution_count": 113,
   "id": "e52118a2-42df-4a34-809f-32f0fd49080d",
   "metadata": {},
   "outputs": [
    {
     "data": {
      "text/plain": [
       "-0.05268025782891311"
      ]
     },
     "execution_count": 113,
     "metadata": {},
     "output_type": "execute_result"
    }
   ],
   "source": [
    "mean_lr = df.LR.mean()\n",
    "mean_lr"
   ]
  },
  {
   "cell_type": "code",
   "execution_count": 115,
   "id": "f2407023-a524-47ac-a0d6-c59c286706ad",
   "metadata": {},
   "outputs": [
    {
     "data": {
      "text/plain": [
       "90.0"
      ]
     },
     "execution_count": 115,
     "metadata": {},
     "output_type": "execute_result"
    }
   ],
   "source": [
    "100 * np.exp(mean_lr * periods)"
   ]
  },
  {
   "cell_type": "code",
   "execution_count": null,
   "id": "0cc5d1ba-96e8-4f6c-a2ff-d8a6a3a8734e",
   "metadata": {},
   "outputs": [],
   "source": []
  }
 ],
 "metadata": {
  "kernelspec": {
   "display_name": "Python 3 (ipykernel)",
   "language": "python",
   "name": "python3"
  },
  "language_info": {
   "codemirror_mode": {
    "name": "ipython",
    "version": 3
   },
   "file_extension": ".py",
   "mimetype": "text/x-python",
   "name": "python",
   "nbconvert_exporter": "python",
   "pygments_lexer": "ipython3",
   "version": "3.12.4"
  }
 },
 "nbformat": 4,
 "nbformat_minor": 5
}
