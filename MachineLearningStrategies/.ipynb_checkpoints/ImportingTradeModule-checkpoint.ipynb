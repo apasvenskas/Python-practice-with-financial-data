{
 "cells": [
  {
   "cell_type": "markdown",
   "id": "45b0c251-1af4-47ab-b956-9f7ea59689f7",
   "metadata": {},
   "source": [
    "Import a Trade Module / Class"
   ]
  },
  {
   "cell_type": "code",
   "execution_count": 2,
   "id": "d9a28e33-2c51-4edb-afa3-aa25a25d4347",
   "metadata": {},
   "outputs": [],
   "source": [
    "import trader as tr"
   ]
  },
  {
   "cell_type": "code",
   "execution_count": 10,
   "id": "084d742b-3003-4777-9cb7-eed8ac54af8c",
   "metadata": {},
   "outputs": [
    {
     "name": "stderr",
     "output_type": "stream",
     "text": [
      "C:\\Users\\audri\\anaconda3\\Lib\\site-packages\\tpqoa\\tpqoa.py:223: FutureWarning: 'H' is deprecated and will be removed in a future version, please use 'h' instead.\n",
      "  dr = pd.date_range(start, end, freq=freq)\n"
     ]
    },
    {
     "ename": "ResponseNoField",
     "evalue": "401 response for GET https://api-fxpractice.oanda.com:443/v3/instruments/EUR_USD/candles?price=M&granularity=S5&from=2024-10-29T21%3A21%3A49.000000000Z&to=2024-10-30T03%3A21%3A49.000000000Z does not have field 'candles' (contains 'errorMessage')",
     "output_type": "error",
     "traceback": [
      "\u001b[1;31m---------------------------------------------------------------------------\u001b[0m",
      "\u001b[1;31mResponseNoField\u001b[0m                           Traceback (most recent call last)",
      "Cell \u001b[1;32mIn[10], line 2\u001b[0m\n\u001b[0;32m      1\u001b[0m trader \u001b[38;5;241m=\u001b[39m tr\u001b[38;5;241m.\u001b[39mConTrader(\u001b[38;5;124m\"\u001b[39m\u001b[38;5;124moanda.cfg\u001b[39m\u001b[38;5;124m\"\u001b[39m, \u001b[38;5;124m\"\u001b[39m\u001b[38;5;124mEUR_USD\u001b[39m\u001b[38;5;124m\"\u001b[39m, \u001b[38;5;124m\"\u001b[39m\u001b[38;5;124m1min\u001b[39m\u001b[38;5;124m\"\u001b[39m, window \u001b[38;5;241m=\u001b[39m \u001b[38;5;241m1\u001b[39m, units \u001b[38;5;241m=\u001b[39m \u001b[38;5;241m10000\u001b[39m)\n\u001b[1;32m----> 2\u001b[0m trader\u001b[38;5;241m.\u001b[39mget_most_recent()\n\u001b[0;32m      3\u001b[0m trader\u001b[38;5;241m.\u001b[39mstream_data(trader\u001b[38;5;241m.\u001b[39minstrument, stop \u001b[38;5;241m=\u001b[39m \u001b[38;5;241m50\u001b[39m)\n\u001b[0;32m      4\u001b[0m \u001b[38;5;28;01mif\u001b[39;00m trader\u001b[38;5;241m.\u001b[39mposition \u001b[38;5;241m!=\u001b[39m \u001b[38;5;241m0\u001b[39m:\n",
      "File \u001b[1;32m~\\Desktop\\AutoTrader\\finiacialDataAnalysis\\MachineLearningStrategies\\trader.py:37\u001b[0m, in \u001b[0;36mConTrader.get_most_recent\u001b[1;34m(self, days)\u001b[0m\n\u001b[0;32m     35\u001b[0m now \u001b[38;5;241m=\u001b[39m now \u001b[38;5;241m-\u001b[39m timedelta(microseconds \u001b[38;5;241m=\u001b[39m now\u001b[38;5;241m.\u001b[39mmicrosecond)\n\u001b[0;32m     36\u001b[0m past \u001b[38;5;241m=\u001b[39m now \u001b[38;5;241m-\u001b[39m timedelta(days \u001b[38;5;241m=\u001b[39m days)\n\u001b[1;32m---> 37\u001b[0m df \u001b[38;5;241m=\u001b[39m \u001b[38;5;28mself\u001b[39m\u001b[38;5;241m.\u001b[39mget_history(instrument \u001b[38;5;241m=\u001b[39m \u001b[38;5;28mself\u001b[39m\u001b[38;5;241m.\u001b[39minstrument, start \u001b[38;5;241m=\u001b[39m past, end \u001b[38;5;241m=\u001b[39m now,\n\u001b[0;32m     38\u001b[0m                        granularity \u001b[38;5;241m=\u001b[39m \u001b[38;5;124m\"\u001b[39m\u001b[38;5;124mS5\u001b[39m\u001b[38;5;124m\"\u001b[39m, price \u001b[38;5;241m=\u001b[39m \u001b[38;5;124m\"\u001b[39m\u001b[38;5;124mM\u001b[39m\u001b[38;5;124m\"\u001b[39m, localize \u001b[38;5;241m=\u001b[39m \u001b[38;5;28;01mFalse\u001b[39;00m)\u001b[38;5;241m.\u001b[39mc\u001b[38;5;241m.\u001b[39mdropna()\u001b[38;5;241m.\u001b[39mto_frame()\n\u001b[0;32m     39\u001b[0m df\u001b[38;5;241m.\u001b[39mrename(columns \u001b[38;5;241m=\u001b[39m {\u001b[38;5;124m\"\u001b[39m\u001b[38;5;124mc\u001b[39m\u001b[38;5;124m\"\u001b[39m:\u001b[38;5;28mself\u001b[39m\u001b[38;5;241m.\u001b[39minstrument}, inplace \u001b[38;5;241m=\u001b[39m \u001b[38;5;28;01mTrue\u001b[39;00m)\n\u001b[0;32m     40\u001b[0m df \u001b[38;5;241m=\u001b[39m df\u001b[38;5;241m.\u001b[39mresample(\u001b[38;5;28mself\u001b[39m\u001b[38;5;241m.\u001b[39mbar_length, label \u001b[38;5;241m=\u001b[39m \u001b[38;5;124m\"\u001b[39m\u001b[38;5;124mright\u001b[39m\u001b[38;5;124m\"\u001b[39m)\u001b[38;5;241m.\u001b[39mlast()\u001b[38;5;241m.\u001b[39mdropna()\u001b[38;5;241m.\u001b[39miloc[:\u001b[38;5;241m-\u001b[39m\u001b[38;5;241m1\u001b[39m]\n",
      "File \u001b[1;32m~\\anaconda3\\Lib\\site-packages\\tpqoa\\tpqoa.py:232\u001b[0m, in \u001b[0;36mtpqoa.get_history\u001b[1;34m(self, instrument, start, end, granularity, price, localize)\u001b[0m\n\u001b[0;32m    229\u001b[0m         \u001b[38;5;28;01melse\u001b[39;00m:\n\u001b[0;32m    230\u001b[0m             batch_end \u001b[38;5;241m=\u001b[39m \u001b[38;5;28mself\u001b[39m\u001b[38;5;241m.\u001b[39mtransform_datetime(end)\n\u001b[1;32m--> 232\u001b[0m         batch \u001b[38;5;241m=\u001b[39m \u001b[38;5;28mself\u001b[39m\u001b[38;5;241m.\u001b[39mretrieve_data(instrument, batch_start, batch_end,\n\u001b[0;32m    233\u001b[0m                                    granularity, price)\n\u001b[0;32m    234\u001b[0m         data \u001b[38;5;241m=\u001b[39m pd\u001b[38;5;241m.\u001b[39mconcat([data, batch])\n\u001b[0;32m    235\u001b[0m \u001b[38;5;28;01melse\u001b[39;00m:\n",
      "File \u001b[1;32m~\\anaconda3\\Lib\\site-packages\\tpqoa\\tpqoa.py:167\u001b[0m, in \u001b[0;36mtpqoa.retrieve_data\u001b[1;34m(self, instrument, start, end, granularity, price)\u001b[0m\n\u001b[0;32m    162\u001b[0m \u001b[38;5;28;01mdef\u001b[39;00m \u001b[38;5;21mretrieve_data\u001b[39m(\u001b[38;5;28mself\u001b[39m, instrument, start, end, granularity, price):\n\u001b[0;32m    163\u001b[0m     raw \u001b[38;5;241m=\u001b[39m \u001b[38;5;28mself\u001b[39m\u001b[38;5;241m.\u001b[39mctx\u001b[38;5;241m.\u001b[39minstrument\u001b[38;5;241m.\u001b[39mcandles(\n\u001b[0;32m    164\u001b[0m         instrument\u001b[38;5;241m=\u001b[39minstrument,\n\u001b[0;32m    165\u001b[0m         fromTime\u001b[38;5;241m=\u001b[39mstart, toTime\u001b[38;5;241m=\u001b[39mend,\n\u001b[0;32m    166\u001b[0m         granularity\u001b[38;5;241m=\u001b[39mgranularity, price\u001b[38;5;241m=\u001b[39mprice)\n\u001b[1;32m--> 167\u001b[0m     raw \u001b[38;5;241m=\u001b[39m raw\u001b[38;5;241m.\u001b[39mget(\u001b[38;5;124m'\u001b[39m\u001b[38;5;124mcandles\u001b[39m\u001b[38;5;124m'\u001b[39m)\n\u001b[0;32m    168\u001b[0m     raw \u001b[38;5;241m=\u001b[39m [cs\u001b[38;5;241m.\u001b[39mdict() \u001b[38;5;28;01mfor\u001b[39;00m cs \u001b[38;5;129;01min\u001b[39;00m raw]\n\u001b[0;32m    169\u001b[0m     \u001b[38;5;28;01mif\u001b[39;00m price \u001b[38;5;241m==\u001b[39m \u001b[38;5;124m'\u001b[39m\u001b[38;5;124mA\u001b[39m\u001b[38;5;124m'\u001b[39m:\n",
      "File \u001b[1;32m~\\anaconda3\\Lib\\site-packages\\v20\\response.py:35\u001b[0m, in \u001b[0;36mResponse.get\u001b[1;34m(self, field, status)\u001b[0m\n\u001b[0;32m     32\u001b[0m value \u001b[38;5;241m=\u001b[39m \u001b[38;5;28mself\u001b[39m\u001b[38;5;241m.\u001b[39mbody\u001b[38;5;241m.\u001b[39mget(field)\n\u001b[0;32m     34\u001b[0m \u001b[38;5;28;01mif\u001b[39;00m value \u001b[38;5;129;01mis\u001b[39;00m \u001b[38;5;28;01mNone\u001b[39;00m:\n\u001b[1;32m---> 35\u001b[0m     \u001b[38;5;28;01mraise\u001b[39;00m ResponseNoField(\u001b[38;5;28mself\u001b[39m, field)\n\u001b[0;32m     37\u001b[0m \u001b[38;5;28;01mreturn\u001b[39;00m value\n",
      "\u001b[1;31mResponseNoField\u001b[0m: 401 response for GET https://api-fxpractice.oanda.com:443/v3/instruments/EUR_USD/candles?price=M&granularity=S5&from=2024-10-29T21%3A21%3A49.000000000Z&to=2024-10-30T03%3A21%3A49.000000000Z does not have field 'candles' (contains 'errorMessage')"
     ]
    }
   ],
   "source": [
    "trader = tr.ConTrader(\"oanda.cfg\", \"EUR_USD\", \"1min\", window = 1, units = 10000)\n",
    "trader.get_most_recent()\n",
    "trader.stream_data(trader.instrument, stop = 50)\n",
    "if trader.position != 0:\n",
    "    close_order = trader.create_order(trader.instrument, units = -trader.position * trader.units,\n",
    "                                     supress = True, ret = True)\n",
    "    trader.report_trade(close_order, \"GOING NEUTRAL\")\n",
    "    trader.position = 0"
   ]
  },
  {
   "cell_type": "code",
   "execution_count": null,
   "id": "366f1656-76e4-46d3-b3ea-b953b4cde702",
   "metadata": {},
   "outputs": [],
   "source": [
    "trader.data.tail(10)"
   ]
  }
 ],
 "metadata": {
  "kernelspec": {
   "display_name": "Python 3 (ipykernel)",
   "language": "python",
   "name": "python3"
  },
  "language_info": {
   "codemirror_mode": {
    "name": "ipython",
    "version": 3
   },
   "file_extension": ".py",
   "mimetype": "text/x-python",
   "name": "python",
   "nbconvert_exporter": "python",
   "pygments_lexer": "ipython3",
   "version": "3.12.4"
  }
 },
 "nbformat": 4,
 "nbformat_minor": 5
}
