{
 "cells": [
  {
   "cell_type": "markdown",
   "id": "45b0c251-1af4-47ab-b956-9f7ea59689f7",
   "metadata": {},
   "source": [
    "Import a Trade Module / Class"
   ]
  },
  {
   "cell_type": "code",
   "execution_count": 24,
   "id": "d9a28e33-2c51-4edb-afa3-aa25a25d4347",
   "metadata": {},
   "outputs": [],
   "source": [
    "import trader as tr"
   ]
  },
  {
   "cell_type": "code",
   "execution_count": 26,
   "id": "084d742b-3003-4777-9cb7-eed8ac54af8c",
   "metadata": {},
   "outputs": [
    {
     "ename": "TypeError",
     "evalue": "ConTrader.__init__() missing 1 required positional argument: 'bar_length'",
     "output_type": "error",
     "traceback": [
      "\u001b[1;31m---------------------------------------------------------------------------\u001b[0m",
      "\u001b[1;31mTypeError\u001b[0m                                 Traceback (most recent call last)",
      "Cell \u001b[1;32mIn[26], line 1\u001b[0m\n\u001b[1;32m----> 1\u001b[0m trader \u001b[38;5;241m=\u001b[39m tr\u001b[38;5;241m.\u001b[39mConTrader(\u001b[38;5;124mr\u001b[39m\u001b[38;5;124m\"\u001b[39m\u001b[38;5;124mC:\u001b[39m\u001b[38;5;124m\\\u001b[39m\u001b[38;5;124mUsers\u001b[39m\u001b[38;5;124m\\\u001b[39m\u001b[38;5;124maudri\u001b[39m\u001b[38;5;124m\\\u001b[39m\u001b[38;5;124mDesktop\u001b[39m\u001b[38;5;124m\\\u001b[39m\u001b[38;5;124mAutoTrader\u001b[39m\u001b[38;5;124m\\\u001b[39m\u001b[38;5;124moanda\u001b[39m\u001b[38;5;124m\\\u001b[39m\u001b[38;5;124moanda.cfg\u001b[39m\u001b[38;5;124m\"\u001b[39m, \u001b[38;5;124m\"\u001b[39m\u001b[38;5;124m1min\u001b[39m\u001b[38;5;124m\"\u001b[39m, window \u001b[38;5;241m=\u001b[39m \u001b[38;5;241m1\u001b[39m, units \u001b[38;5;241m=\u001b[39m \u001b[38;5;241m10000\u001b[39m)\n\u001b[0;32m      2\u001b[0m trader\u001b[38;5;241m.\u001b[39mget_most_recent()\n\u001b[0;32m      3\u001b[0m trader\u001b[38;5;241m.\u001b[39mstream_data(trader\u001b[38;5;241m.\u001b[39minstrument, stop \u001b[38;5;241m=\u001b[39m \u001b[38;5;241m50\u001b[39m)\n",
      "\u001b[1;31mTypeError\u001b[0m: ConTrader.__init__() missing 1 required positional argument: 'bar_length'"
     ]
    }
   ],
   "source": [
    "trader = tr.ConTrader(r\"C:\\Users\\audri\\Desktop\\AutoTrader\\oanda\\oanda.cfg\", \"1min\", window = 1, units = 10000)\n",
    "trader.get_most_recent()\n",
    "trader.stream_data(trader.instrument, stop = 50)\n",
    "if trader.position != 0:\n",
    "    close_order = trader.create_order(trader.instrument, units = -trader.position * trader.units,\n",
    "                                     supress = True, ret = True)\n",
    "    trader.report_trade(close_order, \"GOING NEUTRAL\")\n",
    "    trader.position = 0"
   ]
  },
  {
   "cell_type": "code",
   "execution_count": 28,
   "id": "366f1656-76e4-46d3-b3ea-b953b4cde702",
   "metadata": {},
   "outputs": [
    {
     "ename": "AttributeError",
     "evalue": "'NoneType' object has no attribute 'tail'",
     "output_type": "error",
     "traceback": [
      "\u001b[1;31m---------------------------------------------------------------------------\u001b[0m",
      "\u001b[1;31mAttributeError\u001b[0m                            Traceback (most recent call last)",
      "Cell \u001b[1;32mIn[28], line 1\u001b[0m\n\u001b[1;32m----> 1\u001b[0m trader\u001b[38;5;241m.\u001b[39mdata\u001b[38;5;241m.\u001b[39mtail(\u001b[38;5;241m10\u001b[39m)\n",
      "\u001b[1;31mAttributeError\u001b[0m: 'NoneType' object has no attribute 'tail'"
     ]
    }
   ],
   "source": [
    "trader.data.tail(10)"
   ]
  },
  {
   "cell_type": "code",
   "execution_count": null,
   "id": "37aeb8de-a94d-4c3d-bb4d-240fbc7d0fe5",
   "metadata": {},
   "outputs": [],
   "source": []
  }
 ],
 "metadata": {
  "kernelspec": {
   "display_name": "Python 3 (ipykernel)",
   "language": "python",
   "name": "python3"
  },
  "language_info": {
   "codemirror_mode": {
    "name": "ipython",
    "version": 3
   },
   "file_extension": ".py",
   "mimetype": "text/x-python",
   "name": "python",
   "nbconvert_exporter": "python",
   "pygments_lexer": "ipython3",
   "version": "3.12.4"
  }
 },
 "nbformat": 4,
 "nbformat_minor": 5
}
