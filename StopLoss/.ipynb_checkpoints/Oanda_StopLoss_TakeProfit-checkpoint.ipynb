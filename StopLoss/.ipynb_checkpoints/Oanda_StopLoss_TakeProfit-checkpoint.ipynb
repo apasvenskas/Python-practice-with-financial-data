{
 "cells": [
  {
   "cell_type": "markdown",
   "id": "009cf9af-0b5c-4d6b-a1e1-fef20b64004b",
   "metadata": {},
   "source": [
    "# Oanda: How to create a stop loss & take profit"
   ]
  },
  {
   "cell_type": "code",
   "execution_count": 14,
   "id": "620d8254-f543-472d-a79a-ab2e2dfd205a",
   "metadata": {},
   "outputs": [],
   "source": [
    "import trader as trader"
   ]
  },
  {
   "cell_type": "code",
   "execution_count": 16,
   "id": "b1af7157-0505-4ffa-be72-371652556259",
   "metadata": {},
   "outputs": [
    {
     "data": {
      "text/plain": [
       "<module 'trader' from 'C:\\\\Users\\\\audri\\\\Desktop\\\\AutoTrader\\\\finiacialDataAnalysis\\\\StopLoss\\\\trader.py'>"
      ]
     },
     "execution_count": 16,
     "metadata": {},
     "output_type": "execute_result"
    }
   ],
   "source": [
    "trader"
   ]
  },
  {
   "cell_type": "code",
   "execution_count": 20,
   "id": "d30282c8-e806-488b-9a95-36707135ed60",
   "metadata": {},
   "outputs": [
    {
     "ename": "AttributeError",
     "evalue": "module 'trader' has no attribute 'raw_data'",
     "output_type": "error",
     "traceback": [
      "\u001b[1;31m---------------------------------------------------------------------------\u001b[0m",
      "\u001b[1;31mAttributeError\u001b[0m                            Traceback (most recent call last)",
      "Cell \u001b[1;32mIn[20], line 1\u001b[0m\n\u001b[1;32m----> 1\u001b[0m current_price \u001b[38;5;241m=\u001b[39m trader\u001b[38;5;241m.\u001b[39mraw_data[trader\u001b[38;5;241m.\u001b[39minstrument]\u001b[38;5;241m.\u001b[39miloc[\u001b[38;5;241m-\u001b[39m\u001b[38;5;241m1\u001b[39m]\n\u001b[0;32m      2\u001b[0m current_price\n",
      "\u001b[1;31mAttributeError\u001b[0m: module 'trader' has no attribute 'raw_data'"
     ]
    }
   ],
   "source": [
    "current_price = trader.data[trader.instrument].iloc[-1]\n",
    "current_price"
   ]
  },
  {
   "cell_type": "code",
   "execution_count": null,
   "id": "72e2afb1-8af4-40cd-b9ab-6f5818efc978",
   "metadata": {},
   "outputs": [],
   "source": []
  }
 ],
 "metadata": {
  "kernelspec": {
   "display_name": "Python 3 (ipykernel)",
   "language": "python",
   "name": "python3"
  },
  "language_info": {
   "codemirror_mode": {
    "name": "ipython",
    "version": 3
   },
   "file_extension": ".py",
   "mimetype": "text/x-python",
   "name": "python",
   "nbconvert_exporter": "python",
   "pygments_lexer": "ipython3",
   "version": "3.12.4"
  }
 },
 "nbformat": 4,
 "nbformat_minor": 5
}
