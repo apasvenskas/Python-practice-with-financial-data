{
 "cells": [
  {
   "cell_type": "markdown",
   "id": "009cf9af-0b5c-4d6b-a1e1-fef20b64004b",
   "metadata": {},
   "source": [
    "# Oanda: How to create a stop loss & take profit"
   ]
  },
  {
   "cell_type": "code",
   "execution_count": 3,
   "id": "620d8254-f543-472d-a79a-ab2e2dfd205a",
   "metadata": {},
   "outputs": [],
   "source": [
    "from trader import ConTrader"
   ]
  },
  {
   "cell_type": "code",
   "execution_count": 5,
   "id": "7049f0d7-327a-4dd4-938d-5693496de611",
   "metadata": {},
   "outputs": [],
   "source": [
    "trader = ConTrader(\"Oanda.cfg\", \"EUR_USD\", \"1min\", window = 1, units = 100)"
   ]
  },
  {
   "cell_type": "code",
   "execution_count": 7,
   "id": "e6e1649f-1e21-45f2-94f0-ccdafae15474",
   "metadata": {},
   "outputs": [],
   "source": [
    "trader.get_most_recent()"
   ]
  },
  {
   "cell_type": "code",
   "execution_count": 9,
   "id": "34ff2ca8-0dd8-4b56-b465-3325c361914b",
   "metadata": {},
   "outputs": [],
   "source": [
    "trader.define_strategy()"
   ]
  },
  {
   "cell_type": "code",
   "execution_count": 11,
   "id": "d30282c8-e806-488b-9a95-36707135ed60",
   "metadata": {},
   "outputs": [
    {
     "data": {
      "text/plain": [
       "1.13099"
      ]
     },
     "execution_count": 11,
     "metadata": {},
     "output_type": "execute_result"
    }
   ],
   "source": [
    "current_price = trader.data[trader.instrument].iloc[-1]\n",
    "current_price"
   ]
  },
  {
   "cell_type": "code",
   "execution_count": 13,
   "id": "72e2afb1-8af4-40cd-b9ab-6f5818efc978",
   "metadata": {},
   "outputs": [
    {
     "data": {
      "text/plain": [
       "{'id': '441',\n",
       " 'time': '2025-05-02T05:30:00.251134235Z',\n",
       " 'userID': 29655670,\n",
       " 'accountID': '101-001-29655670-001',\n",
       " 'batchID': '440',\n",
       " 'requestID': '61367137339635026',\n",
       " 'type': 'ORDER_FILL',\n",
       " 'orderID': '440',\n",
       " 'instrument': 'EUR_USD',\n",
       " 'units': '100.0',\n",
       " 'gainQuoteHomeConversionFactor': '1.0',\n",
       " 'lossQuoteHomeConversionFactor': '1.0',\n",
       " 'price': 1.13117,\n",
       " 'fullVWAP': 1.13117,\n",
       " 'fullPrice': {'type': 'PRICE',\n",
       "  'bids': [{'price': 1.13102, 'liquidity': '500000'},\n",
       "   {'price': 1.13101, 'liquidity': '2500000'},\n",
       "   {'price': 1.131, 'liquidity': '2000000'},\n",
       "   {'price': 1.13099, 'liquidity': '5000000'},\n",
       "   {'price': 1.13096, 'liquidity': '10000000'},\n",
       "   {'price': 1.13093, 'liquidity': '10000000'}],\n",
       "  'asks': [{'price': 1.13117, 'liquidity': '500000'},\n",
       "   {'price': 1.13118, 'liquidity': '500000'},\n",
       "   {'price': 1.13119, 'liquidity': '2000000'},\n",
       "   {'price': 1.1312, 'liquidity': '2000000'},\n",
       "   {'price': 1.13121, 'liquidity': '5000000'},\n",
       "   {'price': 1.13123, 'liquidity': '10000000'},\n",
       "   {'price': 1.13126, 'liquidity': '10000000'}],\n",
       "  'closeoutBid': 1.13093,\n",
       "  'closeoutAsk': 1.13126},\n",
       " 'reason': 'MARKET_ORDER',\n",
       " 'pl': '0.659',\n",
       " 'financing': '0.0',\n",
       " 'commission': '0.0',\n",
       " 'guaranteedExecutionFee': '0.0',\n",
       " 'accountBalance': '109970.1601',\n",
       " 'tradesClosed': [{'tradeID': '437',\n",
       "   'units': '100.0',\n",
       "   'price': 1.13117,\n",
       "   'realizedPL': '0.659',\n",
       "   'financing': '0.0',\n",
       "   'guaranteedExecutionFee': '0.0',\n",
       "   'halfSpreadCost': '0.0075'}],\n",
       " 'halfSpreadCost': '0.0075'}"
      ]
     },
     "execution_count": 13,
     "metadata": {},
     "output_type": "execute_result"
    }
   ],
   "source": [
    "order = trader.create_order(trader.instrument, trader.units, suppress = True, ret = True,\n",
    "                           sl_distance = 0.01)\n",
    "order"
   ]
  },
  {
   "cell_type": "code",
   "execution_count": 15,
   "id": "86a6e682-b5ae-4074-a48a-ec185db14c6a",
   "metadata": {},
   "outputs": [
    {
     "data": {
      "text/plain": [
       "{'id': '443',\n",
       " 'time': '2025-05-02T05:30:01.242384767Z',\n",
       " 'userID': 29655670,\n",
       " 'accountID': '101-001-29655670-001',\n",
       " 'batchID': '442',\n",
       " 'requestID': '115410332872789430',\n",
       " 'type': 'ORDER_FILL',\n",
       " 'orderID': '442',\n",
       " 'instrument': 'EUR_USD',\n",
       " 'units': '-100.0',\n",
       " 'gainQuoteHomeConversionFactor': '1.0',\n",
       " 'lossQuoteHomeConversionFactor': '1.0',\n",
       " 'price': 1.13106,\n",
       " 'fullVWAP': 1.13106,\n",
       " 'fullPrice': {'type': 'PRICE',\n",
       "  'bids': [{'price': 1.13106, 'liquidity': '500000'},\n",
       "   {'price': 1.13105, 'liquidity': '2500000'},\n",
       "   {'price': 1.13104, 'liquidity': '2000000'},\n",
       "   {'price': 1.13103, 'liquidity': '5000000'},\n",
       "   {'price': 1.131, 'liquidity': '10000000'},\n",
       "   {'price': 1.13097, 'liquidity': '10000000'}],\n",
       "  'asks': [{'price': 1.1312, 'liquidity': '499900'},\n",
       "   {'price': 1.13121, 'liquidity': '500000'},\n",
       "   {'price': 1.13122, 'liquidity': '2000000'},\n",
       "   {'price': 1.13123, 'liquidity': '2000000'},\n",
       "   {'price': 1.13124, 'liquidity': '5000000'},\n",
       "   {'price': 1.13126, 'liquidity': '10000000'},\n",
       "   {'price': 1.13129, 'liquidity': '10000000'}],\n",
       "  'closeoutBid': 1.13097,\n",
       "  'closeoutAsk': 1.13129},\n",
       " 'reason': 'MARKET_ORDER',\n",
       " 'pl': '0.0',\n",
       " 'financing': '0.0',\n",
       " 'commission': '0.0',\n",
       " 'guaranteedExecutionFee': '0.0',\n",
       " 'accountBalance': '109970.1601',\n",
       " 'tradeOpened': {'tradeID': '443',\n",
       "  'units': '-100.0',\n",
       "  'price': 1.13106,\n",
       "  'guaranteedExecutionFee': '0.0',\n",
       "  'halfSpreadCost': '0.007',\n",
       "  'initialMarginRequired': '2.2623'},\n",
       " 'halfSpreadCost': '0.007'}"
      ]
     },
     "execution_count": 15,
     "metadata": {},
     "output_type": "execute_result"
    }
   ],
   "source": [
    "order = trader.create_order(trader.instrument, -trader.units, suppress = True, ret = True)\n",
    "order"
   ]
  },
  {
   "cell_type": "markdown",
   "id": "98c2f795-399d-4786-a38f-0f72dd383d5f",
   "metadata": {},
   "source": [
    "# Adding Limit Orders to Trading Bot (Take profit & Stop Loss)"
   ]
  },
  {
   "cell_type": "markdown",
   "id": "e0f6bf7b-fbbb-46d9-92ef-96308f1d9cd0",
   "metadata": {},
   "source": [
    "### Oanda: Contrader Class without Trake Profits & Stop Loss"
   ]
  },
  {
   "cell_type": "code",
   "execution_count": 19,
   "id": "63c85053-fa92-4fd0-99f5-32a3838e1bb5",
   "metadata": {},
   "outputs": [],
   "source": [
    "import pandas as pd\n",
    "import numpy as np\n",
    "import tpqoa\n",
    "from datetime import datetime, timedelta, timezone # Need to import timezone seperatly\n",
    "import time"
   ]
  },
  {
   "cell_type": "code",
   "execution_count": 21,
   "id": "9e494dab-749c-4aab-b249-0ba899c34502",
   "metadata": {},
   "outputs": [],
   "source": [
    "class ConTrader(tpqoa.tpqoa):\n",
    "    def __init__(self, conf_file, instrument, bar_length, window, units):\n",
    "        super().__init__(conf_file)\n",
    "        self.instrument = instrument\n",
    "        self.bar_length = pd.to_timedelta(bar_length)\n",
    "        self.tick_data = pd.DataFrame()\n",
    "        self.raw_data = None\n",
    "        self.data = None \n",
    "        self.last_bar = None\n",
    "        self.units = units\n",
    "        self.position = 0\n",
    "        self.profits = [] \n",
    "        \n",
    "        #*****************add strategy-specific attributes here******************\n",
    "        self.window = window\n",
    "        #************************************************************************\n",
    "    \n",
    "    def get_most_recent(self, days = 5):\n",
    "        while True:\n",
    "            time.sleep(2)\n",
    "            now = datetime.now(timezone.utc).replace(tzinfo=None) # new (Python 3.12)\n",
    "            now = now - timedelta(microseconds = now.microsecond)\n",
    "            past = now - timedelta(days = days)\n",
    "            df = self.get_history(instrument = self.instrument, start = past, end = now,\n",
    "                                   granularity = \"S5\", price = \"M\", localize = False).c.dropna().to_frame()\n",
    "            df.rename(columns = {\"c\":self.instrument}, inplace = True)\n",
    "            df = df.resample(self.bar_length, label = \"right\").last().dropna().iloc[:-1]\n",
    "            self.raw_data = df.copy()\n",
    "            self.last_bar = self.raw_data.index[-1]\n",
    "            if pd.to_datetime(datetime.now(timezone.utc)) - self.last_bar < self.bar_length: # new (Python 3.12)\n",
    "                break\n",
    "            \n",
    "    def start_trading(self, days, max_attempts = 5, wait = 20, wait_increase = 0): # NEW, erroe handling\n",
    "        attempt = 0\n",
    "        success = False \n",
    "        while True:\n",
    "            try:\n",
    "                self.get_most_recent(days)\n",
    "                self.stream_data(self.instrument)\n",
    "            except Exception as e:\n",
    "                print(e, end = \" | \")\n",
    "            else:\n",
    "                success = True\n",
    "                break\n",
    "            finally:\n",
    "                attempt += 1\n",
    "                print(\"Attempt: {}\".format(attempt), end = 'n/')\n",
    "                if success == False:\n",
    "                    if attempt >= max_attempts:\n",
    "                        print(\"Max_attempts reached!\")\n",
    "                        try: # for termination \n",
    "                            time.sleep(wait)\n",
    "                            self.terminate_session(cause = \"Unexpected Session Stop (too many errors).\")\n",
    "                        except Exception as e:\n",
    "                            print(e, end = \" | \")\n",
    "                            print(\"Could not terminate the session.\")\n",
    "                        finally:\n",
    "                            break\n",
    "                    else:\n",
    "                        time.sleep(wait)\n",
    "                        wait += wait_increase\n",
    "                        self.tick_data = pd.DataFrame()\n",
    "                     \n",
    "    def on_success(self, time, bid, ask):\n",
    "        print(self.ticks, end = \"\\r\", flush = True)\n",
    "        \n",
    "        recent_tick = pd.to_datetime(time)\n",
    "        \n",
    "        # define stop\n",
    "        if self.ticks >= 100:\n",
    "            self.terminate_session(cause = \"Scheduled Session End.\")\n",
    "            return\n",
    "        \n",
    "        # collect and store tick data\n",
    "        df = pd.DataFrame({self.instrument:(ask + bid)/2}, \n",
    "                          index = [recent_tick])\n",
    "        self.tick_data = pd.concat([self.tick_data, df]) \n",
    "        \n",
    "        # if a time longer than the bar_lenght has elapsed between last full bar and the most recent tick\n",
    "        if recent_tick - self.last_bar >= self.bar_length:\n",
    "            self.resample_and_join()\n",
    "            self.define_strategy()\n",
    "            self.execute_trades()\n",
    "            \n",
    "    def resample_and_join(self):\n",
    "        self.raw_data = pd.concat([self.raw_data, self.tick_data.resample(self.bar_length, \n",
    "                                                                          label=\"right\").last().ffill().iloc[:-1]])\n",
    "        self.tick_data = self.tick_data.iloc[-1:]\n",
    "        self.last_bar = self.raw_data.index[-1]\n",
    "        \n",
    "    def define_strategy(self): # \"strategy-specific\"\n",
    "        df = self.raw_data.copy()\n",
    "        \n",
    "        #******************** define your strategy here ************************\n",
    "        df[\"returns\"] = np.log(df[self.instrument] / df[self.instrument].shift())\n",
    "        df[\"position\"] = -np.sign(df.returns.rolling(self.window).mean())\n",
    "        #***********************************************************************\n",
    "        \n",
    "        self.data = df.copy()\n",
    "        \n",
    "    def execute_trades(self):\n",
    "        if self.data[\"position\"].iloc[-1] == 1:\n",
    "            if self.position == 0:\n",
    "                order = self.create_order(self.instrument, self.units, suppress = True, ret = True)\n",
    "                self.report_trade(order, \"GOING LONG\")  \n",
    "            elif self.position == -1:\n",
    "                order = self.create_order(self.instrument, self.units * 2, suppress = True, ret = True) \n",
    "                self.report_trade(order, \"GOING LONG\")  \n",
    "            self.position = 1\n",
    "        elif self.data[\"position\"].iloc[-1] == -1: \n",
    "            if self.position == 0:\n",
    "                order = self.create_order(self.instrument, -self.units, suppress = True, ret = True)\n",
    "                self.report_trade(order, \"GOING SHORT\")  \n",
    "            elif self.position == 1:\n",
    "                order = self.create_order(self.instrument, -self.units * 2, suppress = True, ret = True)\n",
    "                self.report_trade(order, \"GOING SHORT\")  \n",
    "            self.position = -1\n",
    "        elif self.data[\"position\"].iloc[-1] == 0: \n",
    "            if self.position == -1:\n",
    "                order = self.create_order(self.instrument, self.units, suppress = True, ret = True) \n",
    "                self.report_trade(order, \"GOING NEUTRAL\")  \n",
    "            elif self.position == 1:\n",
    "                order = self.create_order(self.instrument, -self.units, suppress = True, ret = True)\n",
    "                self.report_trade(order, \"GOING NEUTRAL\")  \n",
    "            self.position = 0\n",
    "    \n",
    "    def report_trade(self, order, going):  \n",
    "        time = order[\"time\"]\n",
    "        units = order[\"units\"]\n",
    "        price = order[\"price\"]\n",
    "        pl = float(order[\"pl\"])\n",
    "        self.profits.append(pl)\n",
    "        cumpl = sum(self.profits)\n",
    "        print(\"\\n\" + 100* \"-\")\n",
    "        print(\"{} | {}\".format(time, going))\n",
    "        print(\"{} | units = {} | price = {} | P&L = {} | Cum P&L = {}\".format(time, units, price, pl, cumpl))\n",
    "        print(100 * \"-\" + \"\\n\")  \n",
    "        \n",
    "    def terminate_session(self, cause): # NEW\n",
    "        self.stop_stream = True\n",
    "        if self.position != 0:\n",
    "            close_order = self.create_order(self.instrument, units = -self.position * self.units,\n",
    "                                            suppress = True, ret = True) \n",
    "            self.report_trade(close_order, \"GOING NEUTRAL\")\n",
    "            self.position = 0\n",
    "        print(cause)"
   ]
  },
  {
   "cell_type": "code",
   "execution_count": 23,
   "id": "f67cd89c-ed4d-4fa2-a33b-f30ea2d5f4e3",
   "metadata": {},
   "outputs": [],
   "source": [
    "trader = ConTrader(\"oanda.cfg\", \"EUR_USD\", \"1min\", window = 1, units = 100)"
   ]
  },
  {
   "cell_type": "code",
   "execution_count": 25,
   "id": "89190c47-33b6-4f85-8509-4e0a83863d82",
   "metadata": {},
   "outputs": [
    {
     "name": "stdout",
     "output_type": "stream",
     "text": [
      "1\n",
      "----------------------------------------------------------------------------------------------------\n",
      "2025-05-02T05:30:21.457284454Z | GOING SHORT\n",
      "2025-05-02T05:30:21.457284454Z | units = -100.0 | price = 1.13106 | P&L = 0.0 | Cum P&L = 0.0\n",
      "----------------------------------------------------------------------------------------------------\n",
      "\n",
      "43\n",
      "----------------------------------------------------------------------------------------------------\n",
      "2025-05-02T05:31:00.995345152Z | GOING LONG\n",
      "2025-05-02T05:31:00.995345152Z | units = 200.0 | price = 1.13104 | P&L = 0.004 | Cum P&L = 0.004\n",
      "----------------------------------------------------------------------------------------------------\n",
      "\n",
      "86\n",
      "----------------------------------------------------------------------------------------------------\n",
      "2025-05-02T05:32:00.619659446Z | GOING SHORT\n",
      "2025-05-02T05:32:00.619659446Z | units = -200.0 | price = 1.13099 | P&L = 0.0 | Cum P&L = 0.004\n",
      "----------------------------------------------------------------------------------------------------\n",
      "\n",
      "100\n",
      "----------------------------------------------------------------------------------------------------\n",
      "2025-05-02T05:32:13.446278561Z | GOING NEUTRAL\n",
      "2025-05-02T05:32:13.446278561Z | units = 100.0 | price = 1.13123 | P&L = -0.024 | Cum P&L = -0.02\n",
      "----------------------------------------------------------------------------------------------------\n",
      "\n",
      "Scheduled Session End.\n",
      "Attempt: 1n/"
     ]
    }
   ],
   "source": [
    "trader.start_trading(days = 5, max_attempts = 3, wait = 20, wait_increase = 0)"
   ]
  },
  {
   "cell_type": "code",
   "execution_count": 26,
   "id": "0ce70d93-80ae-42db-bee4-4366452288a1",
   "metadata": {},
   "outputs": [
    {
     "data": {
      "text/html": [
       "<div>\n",
       "<style scoped>\n",
       "    .dataframe tbody tr th:only-of-type {\n",
       "        vertical-align: middle;\n",
       "    }\n",
       "\n",
       "    .dataframe tbody tr th {\n",
       "        vertical-align: top;\n",
       "    }\n",
       "\n",
       "    .dataframe thead th {\n",
       "        text-align: right;\n",
       "    }\n",
       "</style>\n",
       "<table border=\"1\" class=\"dataframe\">\n",
       "  <thead>\n",
       "    <tr style=\"text-align: right;\">\n",
       "      <th></th>\n",
       "      <th>EUR_USD</th>\n",
       "      <th>returns</th>\n",
       "      <th>position</th>\n",
       "    </tr>\n",
       "  </thead>\n",
       "  <tbody>\n",
       "    <tr>\n",
       "      <th>2025-04-27 21:05:00+00:00</th>\n",
       "      <td>1.13658</td>\n",
       "      <td>NaN</td>\n",
       "      <td>NaN</td>\n",
       "    </tr>\n",
       "    <tr>\n",
       "      <th>2025-04-27 21:06:00+00:00</th>\n",
       "      <td>1.13658</td>\n",
       "      <td>0.000000</td>\n",
       "      <td>-0.0</td>\n",
       "    </tr>\n",
       "    <tr>\n",
       "      <th>2025-04-27 21:07:00+00:00</th>\n",
       "      <td>1.13673</td>\n",
       "      <td>0.000132</td>\n",
       "      <td>-1.0</td>\n",
       "    </tr>\n",
       "    <tr>\n",
       "      <th>2025-04-27 21:08:00+00:00</th>\n",
       "      <td>1.13658</td>\n",
       "      <td>-0.000132</td>\n",
       "      <td>1.0</td>\n",
       "    </tr>\n",
       "    <tr>\n",
       "      <th>2025-04-27 21:11:00+00:00</th>\n",
       "      <td>1.13658</td>\n",
       "      <td>0.000000</td>\n",
       "      <td>-0.0</td>\n",
       "    </tr>\n",
       "    <tr>\n",
       "      <th>...</th>\n",
       "      <td>...</td>\n",
       "      <td>...</td>\n",
       "      <td>...</td>\n",
       "    </tr>\n",
       "    <tr>\n",
       "      <th>2025-05-02 05:27:00+00:00</th>\n",
       "      <td>1.13078</td>\n",
       "      <td>0.000088</td>\n",
       "      <td>-1.0</td>\n",
       "    </tr>\n",
       "    <tr>\n",
       "      <th>2025-05-02 05:28:00+00:00</th>\n",
       "      <td>1.13099</td>\n",
       "      <td>0.000186</td>\n",
       "      <td>-1.0</td>\n",
       "    </tr>\n",
       "    <tr>\n",
       "      <th>2025-05-02 05:29:00+00:00</th>\n",
       "      <td>1.13110</td>\n",
       "      <td>0.000097</td>\n",
       "      <td>-1.0</td>\n",
       "    </tr>\n",
       "    <tr>\n",
       "      <th>2025-05-02 05:31:00+00:00</th>\n",
       "      <td>1.13095</td>\n",
       "      <td>-0.000133</td>\n",
       "      <td>1.0</td>\n",
       "    </tr>\n",
       "    <tr>\n",
       "      <th>2025-05-02 05:32:00+00:00</th>\n",
       "      <td>1.13105</td>\n",
       "      <td>0.000088</td>\n",
       "      <td>-1.0</td>\n",
       "    </tr>\n",
       "  </tbody>\n",
       "</table>\n",
       "<p>6215 rows × 3 columns</p>\n",
       "</div>"
      ],
      "text/plain": [
       "                           EUR_USD   returns  position\n",
       "2025-04-27 21:05:00+00:00  1.13658       NaN       NaN\n",
       "2025-04-27 21:06:00+00:00  1.13658  0.000000      -0.0\n",
       "2025-04-27 21:07:00+00:00  1.13673  0.000132      -1.0\n",
       "2025-04-27 21:08:00+00:00  1.13658 -0.000132       1.0\n",
       "2025-04-27 21:11:00+00:00  1.13658  0.000000      -0.0\n",
       "...                            ...       ...       ...\n",
       "2025-05-02 05:27:00+00:00  1.13078  0.000088      -1.0\n",
       "2025-05-02 05:28:00+00:00  1.13099  0.000186      -1.0\n",
       "2025-05-02 05:29:00+00:00  1.13110  0.000097      -1.0\n",
       "2025-05-02 05:31:00+00:00  1.13095 -0.000133       1.0\n",
       "2025-05-02 05:32:00+00:00  1.13105  0.000088      -1.0\n",
       "\n",
       "[6215 rows x 3 columns]"
      ]
     },
     "execution_count": 26,
     "metadata": {},
     "output_type": "execute_result"
    }
   ],
   "source": [
    "trader.data"
   ]
  },
  {
   "cell_type": "code",
   "execution_count": 29,
   "id": "52af238e-226d-43a2-bb70-a464b80a0e63",
   "metadata": {},
   "outputs": [
    {
     "data": {
      "text/plain": [
       "0"
      ]
     },
     "execution_count": 29,
     "metadata": {},
     "output_type": "execute_result"
    }
   ],
   "source": [
    "trader.position"
   ]
  },
  {
   "cell_type": "markdown",
   "id": "1943ce1c-16df-4b6c-ae33-073fb5ed4963",
   "metadata": {},
   "source": [
    "## Stop loss and take profit"
   ]
  },
  {
   "cell_type": "code",
   "execution_count": 32,
   "id": "59cde778-0c75-4820-9951-17f2bd640856",
   "metadata": {},
   "outputs": [
    {
     "data": {
      "text/plain": [
       "<__main__.ConTrader at 0x234b924c080>"
      ]
     },
     "execution_count": 32,
     "metadata": {},
     "output_type": "execute_result"
    }
   ],
   "source": [
    "trader"
   ]
  },
  {
   "cell_type": "code",
   "execution_count": 34,
   "id": "a2aef11d-bd1b-47a8-961b-d72fe6f3da5a",
   "metadata": {},
   "outputs": [
    {
     "data": {
      "text/plain": [
       "1.13105"
      ]
     },
     "execution_count": 34,
     "metadata": {},
     "output_type": "execute_result"
    }
   ],
   "source": [
    "current_price = trader.data[trader.instrument].iloc[-1]\n",
    "current_price"
   ]
  },
  {
   "cell_type": "code",
   "execution_count": 36,
   "id": "f1ec7713-2ad1-43e9-954d-300bdce4875e",
   "metadata": {},
   "outputs": [
    {
     "data": {
      "text/plain": [
       "{'id': '453',\n",
       " 'time': '2025-05-02T05:32:25.738896056Z',\n",
       " 'userID': 29655670,\n",
       " 'accountID': '101-001-29655670-001',\n",
       " 'batchID': '452',\n",
       " 'requestID': '61367137947916630',\n",
       " 'type': 'ORDER_FILL',\n",
       " 'orderID': '452',\n",
       " 'instrument': 'EUR_USD',\n",
       " 'units': '100.0',\n",
       " 'gainQuoteHomeConversionFactor': '1.0',\n",
       " 'lossQuoteHomeConversionFactor': '1.0',\n",
       " 'price': 1.13119,\n",
       " 'fullVWAP': 1.13119,\n",
       " 'fullPrice': {'type': 'PRICE',\n",
       "  'bids': [{'price': 1.13103, 'liquidity': '500000'},\n",
       "   {'price': 1.13102, 'liquidity': '2500000'},\n",
       "   {'price': 1.13101, 'liquidity': '2000000'},\n",
       "   {'price': 1.131, 'liquidity': '5000000'},\n",
       "   {'price': 1.13097, 'liquidity': '10000000'},\n",
       "   {'price': 1.13094, 'liquidity': '10000000'}],\n",
       "  'asks': [{'price': 1.13119, 'liquidity': '500000'},\n",
       "   {'price': 1.1312, 'liquidity': '500000'},\n",
       "   {'price': 1.13121, 'liquidity': '2000000'},\n",
       "   {'price': 1.13122, 'liquidity': '2000000'},\n",
       "   {'price': 1.13123, 'liquidity': '5000000'},\n",
       "   {'price': 1.13125, 'liquidity': '10000000'},\n",
       "   {'price': 1.13128, 'liquidity': '10000000'}],\n",
       "  'closeoutBid': 1.13094,\n",
       "  'closeoutAsk': 1.13128},\n",
       " 'reason': 'MARKET_ORDER',\n",
       " 'pl': '-0.02',\n",
       " 'financing': '0.0',\n",
       " 'commission': '0.0',\n",
       " 'guaranteedExecutionFee': '0.0',\n",
       " 'accountBalance': '109970.1201',\n",
       " 'tradesClosed': [{'tradeID': '449',\n",
       "   'units': '100.0',\n",
       "   'price': 1.13119,\n",
       "   'realizedPL': '-0.02',\n",
       "   'financing': '0.0',\n",
       "   'guaranteedExecutionFee': '0.0',\n",
       "   'halfSpreadCost': '0.008'}],\n",
       " 'halfSpreadCost': '0.008'}"
      ]
     },
     "execution_count": 36,
     "metadata": {},
     "output_type": "execute_result"
    }
   ],
   "source": [
    "order = trader.create_order(trader.instrument, trader.units, suppress = True, ret = True, # open a long position\n",
    "                           sl_distance = 0.01)\n",
    "order"
   ]
  },
  {
   "cell_type": "code",
   "execution_count": 38,
   "id": "1819c913-f565-4a1f-a7ba-8974f5b6b009",
   "metadata": {},
   "outputs": [
    {
     "data": {
      "text/plain": [
       "{'id': '455',\n",
       " 'time': '2025-05-02T05:32:26.816728296Z',\n",
       " 'userID': 29655670,\n",
       " 'accountID': '101-001-29655670-001',\n",
       " 'batchID': '454',\n",
       " 'requestID': '61367137952111462',\n",
       " 'type': 'ORDER_FILL',\n",
       " 'orderID': '454',\n",
       " 'instrument': 'EUR_USD',\n",
       " 'units': '-100.0',\n",
       " 'gainQuoteHomeConversionFactor': '1.0',\n",
       " 'lossQuoteHomeConversionFactor': '1.0',\n",
       " 'price': 1.13103,\n",
       " 'fullVWAP': 1.13103,\n",
       " 'fullPrice': {'type': 'PRICE',\n",
       "  'bids': [{'price': 1.13103, 'liquidity': '500000'},\n",
       "   {'price': 1.13102, 'liquidity': '2500000'},\n",
       "   {'price': 1.13101, 'liquidity': '2000000'},\n",
       "   {'price': 1.131, 'liquidity': '5000000'},\n",
       "   {'price': 1.13097, 'liquidity': '10000000'},\n",
       "   {'price': 1.13094, 'liquidity': '10000000'}],\n",
       "  'asks': [{'price': 1.13119, 'liquidity': '499900'},\n",
       "   {'price': 1.1312, 'liquidity': '500000'},\n",
       "   {'price': 1.13121, 'liquidity': '2000000'},\n",
       "   {'price': 1.13122, 'liquidity': '2000000'},\n",
       "   {'price': 1.13123, 'liquidity': '5000000'},\n",
       "   {'price': 1.13125, 'liquidity': '10000000'},\n",
       "   {'price': 1.13128, 'liquidity': '10000000'}],\n",
       "  'closeoutBid': 1.13094,\n",
       "  'closeoutAsk': 1.13128},\n",
       " 'reason': 'MARKET_ORDER',\n",
       " 'pl': '0.0',\n",
       " 'financing': '0.0',\n",
       " 'commission': '0.0',\n",
       " 'guaranteedExecutionFee': '0.0',\n",
       " 'accountBalance': '109970.1201',\n",
       " 'tradeOpened': {'tradeID': '455',\n",
       "  'units': '-100.0',\n",
       "  'price': 1.13103,\n",
       "  'guaranteedExecutionFee': '0.0',\n",
       "  'halfSpreadCost': '0.008',\n",
       "  'initialMarginRequired': '2.2622'},\n",
       " 'halfSpreadCost': '0.008'}"
      ]
     },
     "execution_count": 38,
     "metadata": {},
     "output_type": "execute_result"
    }
   ],
   "source": [
    "order = trader.create_order(trader.instrument, -trader.units, suppress = True, ret = True) # Closing position manually\n",
    "order"
   ]
  },
  {
   "cell_type": "markdown",
   "id": "57076a1d-bec5-42ea-b663-32ea2aec7791",
   "metadata": {},
   "source": [
    "#### Take Profit"
   ]
  },
  {
   "cell_type": "code",
   "execution_count": 41,
   "id": "638ab144-e0c1-4695-836b-f4bf56a625f0",
   "metadata": {},
   "outputs": [
    {
     "data": {
      "text/plain": [
       "{'id': '456',\n",
       " 'time': '2025-05-02T05:32:28.337866280Z',\n",
       " 'userID': 29655670,\n",
       " 'accountID': '101-001-29655670-001',\n",
       " 'batchID': '456',\n",
       " 'requestID': '97395934979344924',\n",
       " 'type': 'MARKET_ORDER_REJECT',\n",
       " 'instrument': 'EUR_USD',\n",
       " 'units': '100.0',\n",
       " 'timeInForce': 'FOK',\n",
       " 'positionFill': 'DEFAULT',\n",
       " 'reason': 'CLIENT_ORDER',\n",
       " 'takeProfitOnFill': {'price': 1.13999999999999, 'timeInForce': 'GTC'},\n",
       " 'rejectReason': 'TAKE_PROFIT_ON_FILL_PRICE_PRECISION_EXCEEDED'}"
      ]
     },
     "execution_count": 41,
     "metadata": {},
     "output_type": "execute_result"
    }
   ],
   "source": [
    "order = trader.create_order(trader.instrument, trader.units, suppress = True, ret = True,\n",
    "                            tp_price = 1.14) # Adjust price as needed.\n",
    "order"
   ]
  },
  {
   "cell_type": "code",
   "execution_count": 43,
   "id": "28101660-df82-4b6c-af1f-5e9d490e3394",
   "metadata": {},
   "outputs": [
    {
     "data": {
      "text/plain": [
       "{'id': '458',\n",
       " 'time': '2025-05-02T05:32:29.508728603Z',\n",
       " 'userID': 29655670,\n",
       " 'accountID': '101-001-29655670-001',\n",
       " 'batchID': '457',\n",
       " 'requestID': '61367137964696189',\n",
       " 'type': 'ORDER_FILL',\n",
       " 'orderID': '457',\n",
       " 'instrument': 'EUR_USD',\n",
       " 'units': '-100.0',\n",
       " 'gainQuoteHomeConversionFactor': '1.0',\n",
       " 'lossQuoteHomeConversionFactor': '1.0',\n",
       " 'price': 1.13107,\n",
       " 'fullVWAP': 1.13107,\n",
       " 'fullPrice': {'type': 'PRICE',\n",
       "  'bids': [{'price': 1.13107, 'liquidity': '499900'},\n",
       "   {'price': 1.13106, 'liquidity': '2500000'},\n",
       "   {'price': 1.13105, 'liquidity': '2000000'},\n",
       "   {'price': 1.13104, 'liquidity': '5000000'},\n",
       "   {'price': 1.13101, 'liquidity': '10000000'},\n",
       "   {'price': 1.13098, 'liquidity': '10000000'}],\n",
       "  'asks': [{'price': 1.13121, 'liquidity': '499900'},\n",
       "   {'price': 1.13122, 'liquidity': '500000'},\n",
       "   {'price': 1.13123, 'liquidity': '2000000'},\n",
       "   {'price': 1.13124, 'liquidity': '2000000'},\n",
       "   {'price': 1.13125, 'liquidity': '5000000'},\n",
       "   {'price': 1.13127, 'liquidity': '10000000'},\n",
       "   {'price': 1.1313, 'liquidity': '10000000'}],\n",
       "  'closeoutBid': 1.13098,\n",
       "  'closeoutAsk': 1.1313},\n",
       " 'reason': 'MARKET_ORDER',\n",
       " 'pl': '0.0',\n",
       " 'financing': '0.0',\n",
       " 'commission': '0.0',\n",
       " 'guaranteedExecutionFee': '0.0',\n",
       " 'accountBalance': '109970.1201',\n",
       " 'tradeOpened': {'tradeID': '458',\n",
       "  'units': '-100.0',\n",
       "  'price': 1.13107,\n",
       "  'guaranteedExecutionFee': '0.0',\n",
       "  'halfSpreadCost': '0.007',\n",
       "  'initialMarginRequired': '2.2623'},\n",
       " 'halfSpreadCost': '0.007'}"
      ]
     },
     "execution_count": 43,
     "metadata": {},
     "output_type": "execute_result"
    }
   ],
   "source": [
    "order = trader.create_order(trader.instrument, -trader.units, suppress = True, ret = True)\n",
    "order"
   ]
  },
  {
   "cell_type": "markdown",
   "id": "4d032bfc-e718-4cb0-816f-5ca9ec7de29b",
   "metadata": {},
   "source": [
    "#### Combining SL and TP (Stop Loss and Take Profit)"
   ]
  },
  {
   "cell_type": "code",
   "execution_count": 46,
   "id": "9a5905f1-3c9c-4053-8c01-783fbe551219",
   "metadata": {},
   "outputs": [
    {
     "data": {
      "text/plain": [
       "{'id': '460',\n",
       " 'time': '2025-05-02T05:32:31.539331719Z',\n",
       " 'userID': 29655670,\n",
       " 'accountID': '101-001-29655670-001',\n",
       " 'batchID': '459',\n",
       " 'requestID': '79381536483894294',\n",
       " 'type': 'ORDER_FILL',\n",
       " 'orderID': '459',\n",
       " 'instrument': 'EUR_USD',\n",
       " 'units': '100.0',\n",
       " 'gainQuoteHomeConversionFactor': '1.0',\n",
       " 'lossQuoteHomeConversionFactor': '1.0',\n",
       " 'price': 1.13121,\n",
       " 'fullVWAP': 1.13121,\n",
       " 'fullPrice': {'type': 'PRICE',\n",
       "  'bids': [{'price': 1.13107, 'liquidity': '499800'},\n",
       "   {'price': 1.13106, 'liquidity': '2500000'},\n",
       "   {'price': 1.13105, 'liquidity': '2000000'},\n",
       "   {'price': 1.13104, 'liquidity': '5000000'},\n",
       "   {'price': 1.13101, 'liquidity': '10000000'},\n",
       "   {'price': 1.13098, 'liquidity': '10000000'}],\n",
       "  'asks': [{'price': 1.13121, 'liquidity': '499900'},\n",
       "   {'price': 1.13122, 'liquidity': '500000'},\n",
       "   {'price': 1.13123, 'liquidity': '2000000'},\n",
       "   {'price': 1.13124, 'liquidity': '2000000'},\n",
       "   {'price': 1.13125, 'liquidity': '5000000'},\n",
       "   {'price': 1.13127, 'liquidity': '10000000'},\n",
       "   {'price': 1.1313, 'liquidity': '10000000'}],\n",
       "  'closeoutBid': 1.13098,\n",
       "  'closeoutAsk': 1.1313},\n",
       " 'reason': 'MARKET_ORDER',\n",
       " 'pl': '-0.018',\n",
       " 'financing': '0.0',\n",
       " 'commission': '0.0',\n",
       " 'guaranteedExecutionFee': '0.0',\n",
       " 'accountBalance': '109970.1021',\n",
       " 'tradesClosed': [{'tradeID': '455',\n",
       "   'units': '100.0',\n",
       "   'price': 1.13121,\n",
       "   'realizedPL': '-0.018',\n",
       "   'financing': '0.0',\n",
       "   'guaranteedExecutionFee': '0.0',\n",
       "   'halfSpreadCost': '0.007'}],\n",
       " 'halfSpreadCost': '0.007'}"
      ]
     },
     "execution_count": 46,
     "metadata": {},
     "output_type": "execute_result"
    }
   ],
   "source": [
    "order = trader.create_order(trader.instrument, trader.units, suppress = True, ret = True,\n",
    "                            sl_distance = 0.01, tp_price = 1.11)\n",
    "order"
   ]
  },
  {
   "cell_type": "code",
   "execution_count": 48,
   "id": "f91cd982-9b9e-4c84-9d4d-6c007d1dd9e2",
   "metadata": {},
   "outputs": [
    {
     "data": {
      "text/plain": [
       "{'id': '462',\n",
       " 'time': '2025-05-02T05:32:33.246771943Z',\n",
       " 'userID': 29655670,\n",
       " 'accountID': '101-001-29655670-001',\n",
       " 'batchID': '461',\n",
       " 'requestID': '115410333510425921',\n",
       " 'type': 'ORDER_FILL',\n",
       " 'orderID': '461',\n",
       " 'instrument': 'EUR_USD',\n",
       " 'units': '-100.0',\n",
       " 'gainQuoteHomeConversionFactor': '1.0',\n",
       " 'lossQuoteHomeConversionFactor': '1.0',\n",
       " 'price': 1.13107,\n",
       " 'fullVWAP': 1.13107,\n",
       " 'fullPrice': {'type': 'PRICE',\n",
       "  'bids': [{'price': 1.13107, 'liquidity': '499800'},\n",
       "   {'price': 1.13106, 'liquidity': '2500000'},\n",
       "   {'price': 1.13105, 'liquidity': '2000000'},\n",
       "   {'price': 1.13104, 'liquidity': '5000000'},\n",
       "   {'price': 1.13101, 'liquidity': '10000000'},\n",
       "   {'price': 1.13098, 'liquidity': '10000000'}],\n",
       "  'asks': [{'price': 1.13121, 'liquidity': '499800'},\n",
       "   {'price': 1.13122, 'liquidity': '500000'},\n",
       "   {'price': 1.13123, 'liquidity': '2000000'},\n",
       "   {'price': 1.13124, 'liquidity': '2000000'},\n",
       "   {'price': 1.13125, 'liquidity': '5000000'},\n",
       "   {'price': 1.13127, 'liquidity': '10000000'},\n",
       "   {'price': 1.1313, 'liquidity': '10000000'}],\n",
       "  'closeoutBid': 1.13098,\n",
       "  'closeoutAsk': 1.1313},\n",
       " 'reason': 'MARKET_ORDER',\n",
       " 'pl': '0.0',\n",
       " 'financing': '0.0',\n",
       " 'commission': '0.0',\n",
       " 'guaranteedExecutionFee': '0.0',\n",
       " 'accountBalance': '109970.1021',\n",
       " 'tradeOpened': {'tradeID': '462',\n",
       "  'units': '-100.0',\n",
       "  'price': 1.13107,\n",
       "  'guaranteedExecutionFee': '0.0',\n",
       "  'halfSpreadCost': '0.007',\n",
       "  'initialMarginRequired': '2.2623'},\n",
       " 'halfSpreadCost': '0.007'}"
      ]
     },
     "execution_count": 48,
     "metadata": {},
     "output_type": "execute_result"
    }
   ],
   "source": [
    "order = trader.create_order(trader.instrument, -trader.units, suppress = True, ret = True)\n",
    "order"
   ]
  },
  {
   "cell_type": "markdown",
   "id": "d41379d2-f0be-4bd3-aaa5-e824147b3852",
   "metadata": {},
   "source": [
    "#### Trailing Stop Loss"
   ]
  },
  {
   "cell_type": "markdown",
   "id": "c638fc59-a570-4497-8ce5-babe46015e8f",
   "metadata": {},
   "source": [
    "Trails the price takes a stop loss based on tsl_distance"
   ]
  },
  {
   "cell_type": "code",
   "execution_count": 52,
   "id": "624a7397-1490-4b8a-967a-f694cf11d7d3",
   "metadata": {},
   "outputs": [
    {
     "data": {
      "text/plain": [
       "{'id': '464',\n",
       " 'time': '2025-05-02T05:32:35.113512162Z',\n",
       " 'userID': 29655670,\n",
       " 'accountID': '101-001-29655670-001',\n",
       " 'batchID': '463',\n",
       " 'requestID': '97395935008709809',\n",
       " 'type': 'ORDER_FILL',\n",
       " 'orderID': '463',\n",
       " 'instrument': 'EUR_USD',\n",
       " 'units': '100.0',\n",
       " 'gainQuoteHomeConversionFactor': '1.0',\n",
       " 'lossQuoteHomeConversionFactor': '1.0',\n",
       " 'price': 1.13127,\n",
       " 'fullVWAP': 1.13127,\n",
       " 'fullPrice': {'type': 'PRICE',\n",
       "  'bids': [{'price': 1.13111, 'liquidity': '499700'},\n",
       "   {'price': 1.1311, 'liquidity': '2500000'},\n",
       "   {'price': 1.13109, 'liquidity': '2000000'},\n",
       "   {'price': 1.13108, 'liquidity': '5000000'},\n",
       "   {'price': 1.13105, 'liquidity': '10000000'},\n",
       "   {'price': 1.13102, 'liquidity': '10000000'}],\n",
       "  'asks': [{'price': 1.13127, 'liquidity': '499800'},\n",
       "   {'price': 1.13128, 'liquidity': '500000'},\n",
       "   {'price': 1.13129, 'liquidity': '2000000'},\n",
       "   {'price': 1.1313, 'liquidity': '2000000'},\n",
       "   {'price': 1.13131, 'liquidity': '5000000'},\n",
       "   {'price': 1.13133, 'liquidity': '10000000'},\n",
       "   {'price': 1.13136, 'liquidity': '10000000'}],\n",
       "  'closeoutBid': 1.13102,\n",
       "  'closeoutAsk': 1.13136},\n",
       " 'reason': 'MARKET_ORDER',\n",
       " 'pl': '-0.02',\n",
       " 'financing': '0.0',\n",
       " 'commission': '0.0',\n",
       " 'guaranteedExecutionFee': '0.0',\n",
       " 'accountBalance': '109970.0821',\n",
       " 'tradesClosed': [{'tradeID': '458',\n",
       "   'units': '100.0',\n",
       "   'price': 1.13127,\n",
       "   'realizedPL': '-0.02',\n",
       "   'financing': '0.0',\n",
       "   'guaranteedExecutionFee': '0.0',\n",
       "   'halfSpreadCost': '0.008'}],\n",
       " 'halfSpreadCost': '0.008'}"
      ]
     },
     "execution_count": 52,
     "metadata": {},
     "output_type": "execute_result"
    }
   ],
   "source": [
    "order = trader.create_order(trader.instrument, trader.units, suppress = True, ret = True,\n",
    "                            tsl_distance = 0.01)\n",
    "order"
   ]
  },
  {
   "cell_type": "code",
   "execution_count": 54,
   "id": "cd465c11-1555-4d13-9995-e5a71b8a03db",
   "metadata": {},
   "outputs": [
    {
     "data": {
      "text/plain": [
       "{'id': '466',\n",
       " 'time': '2025-05-02T05:32:35.644603210Z',\n",
       " 'userID': 29655670,\n",
       " 'accountID': '101-001-29655670-001',\n",
       " 'batchID': '465',\n",
       " 'requestID': '97395935008710367',\n",
       " 'type': 'ORDER_FILL',\n",
       " 'orderID': '465',\n",
       " 'instrument': 'EUR_USD',\n",
       " 'units': '-100.0',\n",
       " 'gainQuoteHomeConversionFactor': '1.0',\n",
       " 'lossQuoteHomeConversionFactor': '1.0',\n",
       " 'price': 1.13111,\n",
       " 'fullVWAP': 1.13111,\n",
       " 'fullPrice': {'type': 'PRICE',\n",
       "  'bids': [{'price': 1.13111, 'liquidity': '499700'},\n",
       "   {'price': 1.1311, 'liquidity': '2500000'},\n",
       "   {'price': 1.13109, 'liquidity': '2000000'},\n",
       "   {'price': 1.13108, 'liquidity': '5000000'},\n",
       "   {'price': 1.13105, 'liquidity': '10000000'},\n",
       "   {'price': 1.13102, 'liquidity': '10000000'}],\n",
       "  'asks': [{'price': 1.13127, 'liquidity': '499700'},\n",
       "   {'price': 1.13128, 'liquidity': '500000'},\n",
       "   {'price': 1.13129, 'liquidity': '2000000'},\n",
       "   {'price': 1.1313, 'liquidity': '2000000'},\n",
       "   {'price': 1.13131, 'liquidity': '5000000'},\n",
       "   {'price': 1.13133, 'liquidity': '10000000'},\n",
       "   {'price': 1.13136, 'liquidity': '10000000'}],\n",
       "  'closeoutBid': 1.13102,\n",
       "  'closeoutAsk': 1.13136},\n",
       " 'reason': 'MARKET_ORDER',\n",
       " 'pl': '0.0',\n",
       " 'financing': '0.0',\n",
       " 'commission': '0.0',\n",
       " 'guaranteedExecutionFee': '0.0',\n",
       " 'accountBalance': '109970.0821',\n",
       " 'tradeOpened': {'tradeID': '466',\n",
       "  'units': '-100.0',\n",
       "  'price': 1.13111,\n",
       "  'guaranteedExecutionFee': '0.0',\n",
       "  'halfSpreadCost': '0.008',\n",
       "  'initialMarginRequired': '2.2624'},\n",
       " 'halfSpreadCost': '0.008'}"
      ]
     },
     "execution_count": 54,
     "metadata": {},
     "output_type": "execute_result"
    }
   ],
   "source": [
    "order = trader.create_order(trader.instrument, -trader.units, suppress = True, ret = True)\n",
    "order"
   ]
  },
  {
   "cell_type": "markdown",
   "id": "e0da4245-5208-4eb9-a753-d00655d301a7",
   "metadata": {},
   "source": [
    "# Stop loss and Take Profit Orders - Pitfalls"
   ]
  },
  {
   "cell_type": "code",
   "execution_count": 59,
   "id": "530b5278-260c-456a-b6ff-16d937399c4e",
   "metadata": {},
   "outputs": [
    {
     "data": {
      "text/plain": [
       "<__main__.ConTrader at 0x234b924c080>"
      ]
     },
     "execution_count": 59,
     "metadata": {},
     "output_type": "execute_result"
    }
   ],
   "source": [
    "trader"
   ]
  },
  {
   "cell_type": "code",
   "execution_count": 67,
   "id": "ea5f1fc5-1a5a-486e-9b1f-86d07f7bc4de",
   "metadata": {},
   "outputs": [
    {
     "data": {
      "text/plain": [
       "{'id': '471',\n",
       " 'time': '2025-05-02T05:39:27.030563101Z',\n",
       " 'userID': 29655670,\n",
       " 'accountID': '101-001-29655670-001',\n",
       " 'batchID': '471',\n",
       " 'requestID': '79381538229009684',\n",
       " 'type': 'MARKET_ORDER',\n",
       " 'instrument': 'EUR_USD',\n",
       " 'units': '100.0',\n",
       " 'timeInForce': 'FOK',\n",
       " 'positionFill': 'DEFAULT',\n",
       " 'reason': 'CLIENT_ORDER',\n",
       " 'stopLossOnFill': {'distance': '0.0001', 'timeInForce': 'GTC'}}"
      ]
     },
     "execution_count": 67,
     "metadata": {},
     "output_type": "execute_result"
    }
   ],
   "source": [
    "order = trader.create_order(trader.instrument, trader.units, suppress = True, ret = True, # Order Cancelled example, distance is to small do to the pip.\n",
    "                            sl_distance = 0.0001)\n",
    "order"
   ]
  },
  {
   "cell_type": "code",
   "execution_count": 71,
   "id": "163a8091-1407-42f4-9ce8-c23240efae8f",
   "metadata": {},
   "outputs": [
    {
     "ename": "KeyError",
     "evalue": "'price'",
     "output_type": "error",
     "traceback": [
      "\u001b[1;31m---------------------------------------------------------------------------\u001b[0m",
      "\u001b[1;31mKeyError\u001b[0m                                  Traceback (most recent call last)",
      "Cell \u001b[1;32mIn[71], line 1\u001b[0m\n\u001b[1;32m----> 1\u001b[0m order[\u001b[38;5;124m\"\u001b[39m\u001b[38;5;124mprice\u001b[39m\u001b[38;5;124m\"\u001b[39m]\n",
      "\u001b[1;31mKeyError\u001b[0m: 'price'"
     ]
    }
   ],
   "source": [
    "order[\"price\"] # order is incorrect the sl_distance was to small."
   ]
  },
  {
   "cell_type": "markdown",
   "id": "dc098d76-4e61-41a3-b521-0f888961a3f4",
   "metadata": {},
   "source": [
    "Another example of common mistakes when setting stop or limit orders is to many decimals. Below is an example of it."
   ]
  },
  {
   "cell_type": "code",
   "execution_count": 74,
   "id": "a0de0d3a-ad86-4f05-82f0-a5692ab6046c",
   "metadata": {},
   "outputs": [
    {
     "data": {
      "text/plain": [
       "{'id': '473',\n",
       " 'time': '2025-05-02T05:42:18.407449478Z',\n",
       " 'userID': 29655670,\n",
       " 'accountID': '101-001-29655670-001',\n",
       " 'batchID': '473',\n",
       " 'requestID': '79381538946354093',\n",
       " 'type': 'MARKET_ORDER_REJECT',\n",
       " 'instrument': 'EUR_USD',\n",
       " 'units': '100.0',\n",
       " 'timeInForce': 'FOK',\n",
       " 'positionFill': 'DEFAULT',\n",
       " 'reason': 'CLIENT_ORDER',\n",
       " 'stopLossOnFill': {'distance': '0.00014962', 'timeInForce': 'GTC'},\n",
       " 'rejectReason': 'STOP_LOSS_ON_FILL_DISTANCE_PRECISION_EXCEEDED'}"
      ]
     },
     "execution_count": 74,
     "metadata": {},
     "output_type": "execute_result"
    }
   ],
   "source": [
    "order = trader.create_order(trader.instrument, trader.units, suppress = True, ret = True, # Order Cancelled example, distance is to small do to the pip.\n",
    "                            sl_distance = 0.00014962)\n",
    "order"
   ]
  },
  {
   "cell_type": "markdown",
   "id": "582b55ea-1ed1-4eca-9501-003709685e0e",
   "metadata": {},
   "source": [
    "Another common mistakes is setting the stop or limit orders to small or great based on price. "
   ]
  },
  {
   "cell_type": "markdown",
   "id": "e478d022-6d59-4bdc-91bb-c11d106086e2",
   "metadata": {},
   "source": [
    "# Setting SL Distance and TP Price in real-time"
   ]
  },
  {
   "cell_type": "code",
   "execution_count": 80,
   "id": "4c512aa5-0aa6-4764-80a5-9ef0d95bd75f",
   "metadata": {},
   "outputs": [
    {
     "data": {
      "text/plain": [
       "<__main__.ConTrader at 0x234b924c080>"
      ]
     },
     "execution_count": 80,
     "metadata": {},
     "output_type": "execute_result"
    }
   ],
   "source": [
    "trader"
   ]
  },
  {
   "cell_type": "code",
   "execution_count": 82,
   "id": "eecf0401-62d5-4239-8dac-a2626273f200",
   "metadata": {},
   "outputs": [
    {
     "data": {
      "text/plain": [
       "1.13056"
      ]
     },
     "execution_count": 82,
     "metadata": {},
     "output_type": "execute_result"
    }
   ],
   "source": [
    "current_price = trader.get_prices(trader.instrument)[2]\n",
    "current_price"
   ]
  },
  {
   "cell_type": "code",
   "execution_count": 90,
   "id": "310b26b2-9a6f-46b9-8ef4-736041229679",
   "metadata": {},
   "outputs": [],
   "source": [
    "sl_perc = 0.01 # Stop loss if price moves in wrong direction, stop at 1%"
   ]
  },
  {
   "cell_type": "code",
   "execution_count": 92,
   "id": "6eaaf312-06cb-4172-b242-16a13b7e9bef",
   "metadata": {},
   "outputs": [
    {
     "data": {
      "text/plain": [
       "0.0113"
      ]
     },
     "execution_count": 92,
     "metadata": {},
     "output_type": "execute_result"
    }
   ],
   "source": [
    "sl_dist = round(current_price * sl_perc, 4) # remember rouding to 4 decimal places\n",
    "sl_dist"
   ]
  },
  {
   "cell_type": "code",
   "execution_count": 94,
   "id": "b8ac78b3-0617-497d-b576-79a29b5de94e",
   "metadata": {},
   "outputs": [
    {
     "data": {
      "text/plain": [
       "1.11926"
      ]
     },
     "execution_count": 94,
     "metadata": {},
     "output_type": "execute_result"
    }
   ],
   "source": [
    "current_price - sl_dist # stop price for long(buy)"
   ]
  },
  {
   "cell_type": "code",
   "execution_count": 96,
   "id": "41fa1b52-099d-4969-959e-4e62ce240d7e",
   "metadata": {},
   "outputs": [
    {
     "data": {
      "text/plain": [
       "1.14186"
      ]
     },
     "execution_count": 96,
     "metadata": {},
     "output_type": "execute_result"
    }
   ],
   "source": [
    "current_price + sl_dist # stop price for a short"
   ]
  },
  {
   "cell_type": "markdown",
   "id": "6975ccd6-b823-49ef-91e0-12dcd7219861",
   "metadata": {},
   "source": [
    "#### Setting take profit price"
   ]
  },
  {
   "cell_type": "code",
   "execution_count": 177,
   "id": "7df831fa-1226-412b-8d97-d88acb267ef0",
   "metadata": {},
   "outputs": [],
   "source": [
    "from decimal import Decimal, ROUND_HALF_UP, getcontext"
   ]
  },
  {
   "cell_type": "code",
   "execution_count": 179,
   "id": "f33bf9eb-94e3-4e23-be13-0b97d91857b6",
   "metadata": {},
   "outputs": [],
   "source": [
    "getcontext().prec = 6"
   ]
  },
  {
   "cell_type": "code",
   "execution_count": 181,
   "id": "aee556c5-4cbb-4209-9107-499a64a17df7",
   "metadata": {},
   "outputs": [],
   "source": [
    "target_position = 1 "
   ]
  },
  {
   "cell_type": "code",
   "execution_count": 183,
   "id": "42a666a7-9c04-48ee-9c5a-da1517fc7631",
   "metadata": {},
   "outputs": [],
   "source": [
    "tp_perc = Decimal(\"0.03\") # 3% in price difference"
   ]
  },
  {
   "cell_type": "code",
   "execution_count": 185,
   "id": "bd414583-7786-4316-893f-bb5ed7b2a6fa",
   "metadata": {},
   "outputs": [],
   "source": [
    "current_price_decimal = Decimal(str(current_price))"
   ]
  },
  {
   "cell_type": "code",
   "execution_count": 187,
   "id": "44f81b93-d1e9-48d0-8d5b-f281b019ef08",
   "metadata": {},
   "outputs": [],
   "source": [
    "if target_position == 1:\n",
    "    tp_price = current_price_decimal * (Decimal(\"1.0\") + tp_perc)\n",
    "elif target_position == -1:\n",
    "    tp_price = current_price_decimal * (Decimal(\"1.0\") - tp_perc)"
   ]
  },
  {
   "cell_type": "code",
   "execution_count": 189,
   "id": "1c8fc3d6-1f84-4840-b85f-c78cc6e113a8",
   "metadata": {},
   "outputs": [],
   "source": [
    "tp_price = Decimal(tp_price).quantize(Decimal(\"0.0001\"), rounding=ROUND_HALF_UP)"
   ]
  },
  {
   "cell_type": "code",
   "execution_count": 191,
   "id": "3b528ffe-3b70-495c-a9ac-b271c7f171ce",
   "metadata": {},
   "outputs": [],
   "source": [
    "tp_price = float(tp_price)"
   ]
  },
  {
   "cell_type": "code",
   "execution_count": 195,
   "id": "fbd33374-0af4-4e2e-97db-95004fdab5d9",
   "metadata": {},
   "outputs": [
    {
     "data": {
      "text/plain": [
       "{'id': '482',\n",
       " 'time': '2025-05-02T06:18:41.384340925Z',\n",
       " 'userID': 29655670,\n",
       " 'accountID': '101-001-29655670-001',\n",
       " 'batchID': '482',\n",
       " 'requestID': '97395946612504071',\n",
       " 'type': 'MARKET_ORDER_REJECT',\n",
       " 'instrument': 'EUR_USD',\n",
       " 'units': '100.0',\n",
       " 'timeInForce': 'FOK',\n",
       " 'positionFill': 'DEFAULT',\n",
       " 'reason': 'CLIENT_ORDER',\n",
       " 'takeProfitOnFill': {'price': 1.16447999999999, 'timeInForce': 'GTC'},\n",
       " 'stopLossOnFill': {'distance': '0.0113', 'timeInForce': 'GTC'},\n",
       " 'rejectReason': 'TAKE_PROFIT_ON_FILL_PRICE_PRECISION_EXCEEDED'}"
      ]
     },
     "execution_count": 195,
     "metadata": {},
     "output_type": "execute_result"
    }
   ],
   "source": [
    "order = trader.create_order(\n",
    "    trader.instrument,\n",
    "    trader.units,\n",
    "    suppress=True,\n",
    "    ret=True,\n",
    "    sl_distance=sl_dist,\n",
    "    tp_price=tp_price\n",
    ")\n",
    "\n",
    "order"
   ]
  },
  {
   "cell_type": "code",
   "execution_count": null,
   "id": "1c69651f-d59b-4154-8134-1e136d7e8b39",
   "metadata": {},
   "outputs": [],
   "source": []
  }
 ],
 "metadata": {
  "kernelspec": {
   "display_name": "Python 3 (ipykernel)",
   "language": "python",
   "name": "python3"
  },
  "language_info": {
   "codemirror_mode": {
    "name": "ipython",
    "version": 3
   },
   "file_extension": ".py",
   "mimetype": "text/x-python",
   "name": "python",
   "nbconvert_exporter": "python",
   "pygments_lexer": "ipython3",
   "version": "3.12.4"
  }
 },
 "nbformat": 4,
 "nbformat_minor": 5
}
