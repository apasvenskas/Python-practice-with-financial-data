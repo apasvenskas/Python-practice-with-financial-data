{
 "cells": [
  {
   "cell_type": "markdown",
   "id": "009cf9af-0b5c-4d6b-a1e1-fef20b64004b",
   "metadata": {},
   "source": [
    "# Oanda: How to create a stop loss & take profit"
   ]
  },
  {
   "cell_type": "code",
   "execution_count": 2,
   "id": "620d8254-f543-472d-a79a-ab2e2dfd205a",
   "metadata": {},
   "outputs": [],
   "source": [
    "from trader import ConTrader"
   ]
  },
  {
   "cell_type": "code",
   "execution_count": 4,
   "id": "7049f0d7-327a-4dd4-938d-5693496de611",
   "metadata": {},
   "outputs": [],
   "source": [
    "trader = ConTrader(\"Oanda.cfg\", \"EUR_USD\", \"1min\", window = 1, units = 100)"
   ]
  },
  {
   "cell_type": "code",
   "execution_count": 6,
   "id": "e6e1649f-1e21-45f2-94f0-ccdafae15474",
   "metadata": {},
   "outputs": [],
   "source": [
    "trader.get_most_recent()"
   ]
  },
  {
   "cell_type": "code",
   "execution_count": 8,
   "id": "34ff2ca8-0dd8-4b56-b465-3325c361914b",
   "metadata": {},
   "outputs": [],
   "source": [
    "trader.define_strategy()"
   ]
  },
  {
   "cell_type": "code",
   "execution_count": 10,
   "id": "d30282c8-e806-488b-9a95-36707135ed60",
   "metadata": {},
   "outputs": [
    {
     "data": {
      "text/plain": [
       "1.139"
      ]
     },
     "execution_count": 10,
     "metadata": {},
     "output_type": "execute_result"
    }
   ],
   "source": [
    "current_price = trader.data[trader.instrument].iloc[-1]\n",
    "current_price"
   ]
  },
  {
   "cell_type": "code",
   "execution_count": 12,
   "id": "72e2afb1-8af4-40cd-b9ab-6f5818efc978",
   "metadata": {},
   "outputs": [
    {
     "data": {
      "text/plain": [
       "{'id': '361',\n",
       " 'time': '2025-04-23T05:01:41.795266458Z',\n",
       " 'userID': 29655670,\n",
       " 'accountID': '101-001-29655670-001',\n",
       " 'batchID': '361',\n",
       " 'requestID': '115407064253933145',\n",
       " 'type': 'MARKET_ORDER',\n",
       " 'instrument': 'EUR_USD',\n",
       " 'units': '100.0',\n",
       " 'timeInForce': 'FOK',\n",
       " 'positionFill': 'DEFAULT',\n",
       " 'reason': 'CLIENT_ORDER',\n",
       " 'stopLossOnFill': {'distance': '0.01', 'timeInForce': 'GTC'}}"
      ]
     },
     "execution_count": 12,
     "metadata": {},
     "output_type": "execute_result"
    }
   ],
   "source": [
    "order = trader.create_order(trader.instrument, trader.units, suppress = True, ret = True,\n",
    "                           sl_distance = 0.01)\n",
    "order"
   ]
  },
  {
   "cell_type": "code",
   "execution_count": 14,
   "id": "86a6e682-b5ae-4074-a48a-ec185db14c6a",
   "metadata": {},
   "outputs": [
    {
     "data": {
      "text/plain": [
       "{'id': '364',\n",
       " 'time': '2025-04-23T05:01:42.529780859Z',\n",
       " 'userID': 29655670,\n",
       " 'accountID': '101-001-29655670-001',\n",
       " 'batchID': '363',\n",
       " 'requestID': '97392665747565864',\n",
       " 'type': 'ORDER_FILL',\n",
       " 'orderID': '363',\n",
       " 'instrument': 'EUR_USD',\n",
       " 'units': '-100.0',\n",
       " 'gainQuoteHomeConversionFactor': '1.0',\n",
       " 'lossQuoteHomeConversionFactor': '1.0',\n",
       " 'price': 1.1389,\n",
       " 'fullVWAP': 1.1389,\n",
       " 'fullPrice': {'type': 'PRICE',\n",
       "  'bids': [{'price': 1.1389, 'liquidity': '500000'},\n",
       "   {'price': 1.13889, 'liquidity': '2500000'},\n",
       "   {'price': 1.13888, 'liquidity': '2000000'},\n",
       "   {'price': 1.13887, 'liquidity': '5000000'},\n",
       "   {'price': 1.13884, 'liquidity': '10000000'},\n",
       "   {'price': 1.13881, 'liquidity': '10000000'}],\n",
       "  'asks': [{'price': 1.13906, 'liquidity': '500000'},\n",
       "   {'price': 1.13907, 'liquidity': '500000'},\n",
       "   {'price': 1.13908, 'liquidity': '2000000'},\n",
       "   {'price': 1.13909, 'liquidity': '2000000'},\n",
       "   {'price': 1.1391, 'liquidity': '5000000'},\n",
       "   {'price': 1.13912, 'liquidity': '10000000'},\n",
       "   {'price': 1.13915, 'liquidity': '10000000'}],\n",
       "  'closeoutBid': 1.13881,\n",
       "  'closeoutAsk': 1.13915},\n",
       " 'reason': 'MARKET_ORDER',\n",
       " 'pl': '10.131',\n",
       " 'financing': '0.0',\n",
       " 'commission': '0.0',\n",
       " 'guaranteedExecutionFee': '0.0',\n",
       " 'accountBalance': '108164.5216',\n",
       " 'tradeReduced': {'tradeID': '254',\n",
       "  'units': '-100.0',\n",
       "  'price': 1.1389,\n",
       "  'realizedPL': '10.131',\n",
       "  'financing': '0.0',\n",
       "  'guaranteedExecutionFee': '0.0',\n",
       "  'halfSpreadCost': '0.008'},\n",
       " 'halfSpreadCost': '0.008'}"
      ]
     },
     "execution_count": 14,
     "metadata": {},
     "output_type": "execute_result"
    }
   ],
   "source": [
    "order = trader.create_order(trader.instrument, -trader.units, suppress = True, ret = True)\n",
    "order"
   ]
  },
  {
   "cell_type": "markdown",
   "id": "98c2f795-399d-4786-a38f-0f72dd383d5f",
   "metadata": {},
   "source": [
    "# Adding Limit Orders to Trading Bot (Take profit & Stop Loss)"
   ]
  },
  {
   "cell_type": "markdown",
   "id": "e0f6bf7b-fbbb-46d9-92ef-96308f1d9cd0",
   "metadata": {},
   "source": [
    "### Oanda: Contrader Class without Trake Profits & Stop Loss"
   ]
  },
  {
   "cell_type": "code",
   "execution_count": 66,
   "id": "63c85053-fa92-4fd0-99f5-32a3838e1bb5",
   "metadata": {},
   "outputs": [],
   "source": [
    "import pandas as pd\n",
    "import numpy as np\n",
    "import tpqoa\n",
    "from datetime import datetime, timedelta, timezone # Need to import timezone seperatly\n",
    "import time"
   ]
  },
  {
   "cell_type": "code",
   "execution_count": 68,
   "id": "9e494dab-749c-4aab-b249-0ba899c34502",
   "metadata": {},
   "outputs": [],
   "source": [
    "class ConTrader(tpqoa.tpqoa):\n",
    "    def __init__(self, conf_file, instrument, bar_length, window, units):\n",
    "        super().__init__(conf_file)\n",
    "        self.instrument = instrument\n",
    "        self.bar_length = pd.to_timedelta(bar_length)\n",
    "        self.tick_data = pd.DataFrame()\n",
    "        self.raw_data = None\n",
    "        self.data = None \n",
    "        self.last_bar = None\n",
    "        self.units = units\n",
    "        self.position = 0\n",
    "        self.profits = [] \n",
    "        \n",
    "        #*****************add strategy-specific attributes here******************\n",
    "        self.window = window\n",
    "        #************************************************************************\n",
    "    \n",
    "    def get_most_recent(self, days = 5):\n",
    "        while True:\n",
    "            time.sleep(2)\n",
    "            now = datetime.now(timezone.utc).replace(tzinfo=None) # new (Python 3.12)\n",
    "            now = now - timedelta(microseconds = now.microsecond)\n",
    "            past = now - timedelta(days = days)\n",
    "            df = self.get_history(instrument = self.instrument, start = past, end = now,\n",
    "                                   granularity = \"S5\", price = \"M\", localize = False).c.dropna().to_frame()\n",
    "            df.rename(columns = {\"c\":self.instrument}, inplace = True)\n",
    "            df = df.resample(self.bar_length, label = \"right\").last().dropna().iloc[:-1]\n",
    "            self.raw_data = df.copy()\n",
    "            self.last_bar = self.raw_data.index[-1]\n",
    "            if pd.to_datetime(datetime.now(timezone.utc)) - self.last_bar < self.bar_length: # new (Python 3.12)\n",
    "                break\n",
    "            \n",
    "    def start_trading(self, days, max_attempts = 5, wait = 20, wait_increase = 0): # NEW, erroe handling\n",
    "        attempt = 0\n",
    "        success = False \n",
    "        while True:\n",
    "            try:\n",
    "                self.get_most_recent(days)\n",
    "                self.stream_data(self.instrument)\n",
    "            except Exception as e:\n",
    "                print(e, end = \" | \")\n",
    "            else:\n",
    "                success = True\n",
    "                break\n",
    "            finally:\n",
    "                attempt += 1\n",
    "                print(\"Attempt: {}\".format(attempt), end = 'n/')\n",
    "                if success == False:\n",
    "                    if attempt >= max_attempts:\n",
    "                        print(\"Max_attempts reached!\")\n",
    "                        try: # for termination \n",
    "                            time.sleep(wait)\n",
    "                            self.terminate_session(cause = \"Unexpected Session Stop (too many errors).\")\n",
    "                        except Exception as e:\n",
    "                            print(e, end = \" | \")\n",
    "                            print(\"Could not terminate the session.\")\n",
    "                        finally:\n",
    "                            break\n",
    "                    else:\n",
    "                        time.sleep(wait)\n",
    "                        wait += wait_increase\n",
    "                        self.tick_data = pd.DataFrame()\n",
    "                     \n",
    "    def on_success(self, time, bid, ask):\n",
    "        print(self.ticks, end = \"\\r\", flush = True)\n",
    "        \n",
    "        recent_tick = pd.to_datetime(time)\n",
    "        \n",
    "        # define stop\n",
    "        if self.ticks >= 100:\n",
    "            self.terminate_session(cause = \"Scheduled Session End.\")\n",
    "            return\n",
    "        \n",
    "        # collect and store tick data\n",
    "        df = pd.DataFrame({self.instrument:(ask + bid)/2}, \n",
    "                          index = [recent_tick])\n",
    "        self.tick_data = pd.concat([self.tick_data, df]) \n",
    "        \n",
    "        # if a time longer than the bar_lenght has elapsed between last full bar and the most recent tick\n",
    "        if recent_tick - self.last_bar >= self.bar_length:\n",
    "            self.resample_and_join()\n",
    "            self.define_strategy()\n",
    "            self.execute_trades()\n",
    "            \n",
    "    def resample_and_join(self):\n",
    "        self.raw_data = pd.concat([self.raw_data, self.tick_data.resample(self.bar_length, \n",
    "                                                                          label=\"right\").last().ffill().iloc[:-1]])\n",
    "        self.tick_data = self.tick_data.iloc[-1:]\n",
    "        self.last_bar = self.raw_data.index[-1]\n",
    "        \n",
    "    def define_strategy(self): # \"strategy-specific\"\n",
    "        df = self.raw_data.copy()\n",
    "        \n",
    "        #******************** define your strategy here ************************\n",
    "        df[\"returns\"] = np.log(df[self.instrument] / df[self.instrument].shift())\n",
    "        df[\"position\"] = -np.sign(df.returns.rolling(self.window).mean())\n",
    "        #***********************************************************************\n",
    "        \n",
    "        self.data = df.copy()\n",
    "        \n",
    "    def execute_trades(self):\n",
    "        if self.data[\"position\"].iloc[-1] == 1:\n",
    "            if self.position == 0:\n",
    "                order = self.create_order(self.instrument, self.units, suppress = True, ret = True)\n",
    "                self.report_trade(order, \"GOING LONG\")  \n",
    "            elif self.position == -1:\n",
    "                order = self.create_order(self.instrument, self.units * 2, suppress = True, ret = True) \n",
    "                self.report_trade(order, \"GOING LONG\")  \n",
    "            self.position = 1\n",
    "        elif self.data[\"position\"].iloc[-1] == -1: \n",
    "            if self.position == 0:\n",
    "                order = self.create_order(self.instrument, -self.units, suppress = True, ret = True)\n",
    "                self.report_trade(order, \"GOING SHORT\")  \n",
    "            elif self.position == 1:\n",
    "                order = self.create_order(self.instrument, -self.units * 2, suppress = True, ret = True)\n",
    "                self.report_trade(order, \"GOING SHORT\")  \n",
    "            self.position = -1\n",
    "        elif self.data[\"position\"].iloc[-1] == 0: \n",
    "            if self.position == -1:\n",
    "                order = self.create_order(self.instrument, self.units, suppress = True, ret = True) \n",
    "                self.report_trade(order, \"GOING NEUTRAL\")  \n",
    "            elif self.position == 1:\n",
    "                order = self.create_order(self.instrument, -self.units, suppress = True, ret = True)\n",
    "                self.report_trade(order, \"GOING NEUTRAL\")  \n",
    "            self.position = 0\n",
    "    \n",
    "    def report_trade(self, order, going):  \n",
    "        time = order[\"time\"]\n",
    "        units = order[\"units\"]\n",
    "        price = order[\"price\"]\n",
    "        pl = float(order[\"pl\"])\n",
    "        self.profits.append(pl)\n",
    "        cumpl = sum(self.profits)\n",
    "        print(\"\\n\" + 100* \"-\")\n",
    "        print(\"{} | {}\".format(time, going))\n",
    "        print(\"{} | units = {} | price = {} | P&L = {} | Cum P&L = {}\".format(time, units, price, pl, cumpl))\n",
    "        print(100 * \"-\" + \"\\n\")  \n",
    "        \n",
    "    def terminate_session(self, cause): # NEW\n",
    "        self.stop_stream = True\n",
    "        if self.position != 0:\n",
    "            close_order = self.create_order(self.instrument, units = -self.position * self.units,\n",
    "                                            suppress = True, ret = True) \n",
    "            self.report_trade(close_order, \"GOING NEUTRAL\")\n",
    "            self.position = 0\n",
    "        print(cause)"
   ]
  },
  {
   "cell_type": "code",
   "execution_count": 70,
   "id": "f67cd89c-ed4d-4fa2-a33b-f30ea2d5f4e3",
   "metadata": {},
   "outputs": [],
   "source": [
    "trader = ConTrader(\"oanda.cfg\", \"EUR_USD\", \"1min\", window = 1, units = 100)"
   ]
  },
  {
   "cell_type": "code",
   "execution_count": 72,
   "id": "89190c47-33b6-4f85-8509-4e0a83863d82",
   "metadata": {},
   "outputs": [
    {
     "name": "stdout",
     "output_type": "stream",
     "text": [
      "1\n",
      "----------------------------------------------------------------------------------------------------\n",
      "2025-04-23T06:00:32.514316516Z | GOING LONG\n",
      "2025-04-23T06:00:32.514316516Z | units = 100.0 | price = 1.13786 | P&L = 0.0 | Cum P&L = 0.0\n",
      "----------------------------------------------------------------------------------------------------\n",
      "\n",
      "56\n",
      "----------------------------------------------------------------------------------------------------\n",
      "2025-04-23T06:01:00.174874433Z | GOING SHORT\n",
      "2025-04-23T06:01:00.174874433Z | units = -200.0 | price = 1.13776 | P&L = 20.034 | Cum P&L = 20.034\n",
      "----------------------------------------------------------------------------------------------------\n",
      "\n",
      "100\n",
      "----------------------------------------------------------------------------------------------------\n",
      "2025-04-23T06:01:36.544854372Z | GOING NEUTRAL\n",
      "2025-04-23T06:01:36.544854372Z | units = 100.0 | price = 1.138 | P&L = 0.0 | Cum P&L = 20.034\n",
      "----------------------------------------------------------------------------------------------------\n",
      "\n",
      "Scheduled Session End.\n",
      "Attempt: 1n/"
     ]
    }
   ],
   "source": [
    "trader.start_trading(days = 5, max_attempts = 3, wait = 20, wait_increase = 0)"
   ]
  },
  {
   "cell_type": "code",
   "execution_count": 74,
   "id": "0ce70d93-80ae-42db-bee4-4366452288a1",
   "metadata": {},
   "outputs": [
    {
     "data": {
      "text/html": [
       "<div>\n",
       "<style scoped>\n",
       "    .dataframe tbody tr th:only-of-type {\n",
       "        vertical-align: middle;\n",
       "    }\n",
       "\n",
       "    .dataframe tbody tr th {\n",
       "        vertical-align: top;\n",
       "    }\n",
       "\n",
       "    .dataframe thead th {\n",
       "        text-align: right;\n",
       "    }\n",
       "</style>\n",
       "<table border=\"1\" class=\"dataframe\">\n",
       "  <thead>\n",
       "    <tr style=\"text-align: right;\">\n",
       "      <th></th>\n",
       "      <th>EUR_USD</th>\n",
       "      <th>returns</th>\n",
       "      <th>position</th>\n",
       "    </tr>\n",
       "  </thead>\n",
       "  <tbody>\n",
       "    <tr>\n",
       "      <th>2025-04-18 06:00:00+00:00</th>\n",
       "      <td>1.13706</td>\n",
       "      <td>NaN</td>\n",
       "      <td>NaN</td>\n",
       "    </tr>\n",
       "    <tr>\n",
       "      <th>2025-04-18 06:01:00+00:00</th>\n",
       "      <td>1.13714</td>\n",
       "      <td>0.000070</td>\n",
       "      <td>-1.0</td>\n",
       "    </tr>\n",
       "    <tr>\n",
       "      <th>2025-04-18 06:02:00+00:00</th>\n",
       "      <td>1.13706</td>\n",
       "      <td>-0.000070</td>\n",
       "      <td>1.0</td>\n",
       "    </tr>\n",
       "    <tr>\n",
       "      <th>2025-04-18 06:03:00+00:00</th>\n",
       "      <td>1.13708</td>\n",
       "      <td>0.000018</td>\n",
       "      <td>-1.0</td>\n",
       "    </tr>\n",
       "    <tr>\n",
       "      <th>2025-04-18 06:04:00+00:00</th>\n",
       "      <td>1.13706</td>\n",
       "      <td>-0.000018</td>\n",
       "      <td>1.0</td>\n",
       "    </tr>\n",
       "    <tr>\n",
       "      <th>...</th>\n",
       "      <td>...</td>\n",
       "      <td>...</td>\n",
       "      <td>...</td>\n",
       "    </tr>\n",
       "    <tr>\n",
       "      <th>2025-04-23 05:56:00+00:00</th>\n",
       "      <td>1.13798</td>\n",
       "      <td>0.000000</td>\n",
       "      <td>-0.0</td>\n",
       "    </tr>\n",
       "    <tr>\n",
       "      <th>2025-04-23 05:57:00+00:00</th>\n",
       "      <td>1.13808</td>\n",
       "      <td>0.000088</td>\n",
       "      <td>-1.0</td>\n",
       "    </tr>\n",
       "    <tr>\n",
       "      <th>2025-04-23 05:58:00+00:00</th>\n",
       "      <td>1.13798</td>\n",
       "      <td>-0.000088</td>\n",
       "      <td>1.0</td>\n",
       "    </tr>\n",
       "    <tr>\n",
       "      <th>2025-04-23 05:59:00+00:00</th>\n",
       "      <td>1.13766</td>\n",
       "      <td>-0.000281</td>\n",
       "      <td>1.0</td>\n",
       "    </tr>\n",
       "    <tr>\n",
       "      <th>2025-04-23 06:01:00+00:00</th>\n",
       "      <td>1.13784</td>\n",
       "      <td>0.000158</td>\n",
       "      <td>-1.0</td>\n",
       "    </tr>\n",
       "  </tbody>\n",
       "</table>\n",
       "<p>4293 rows × 3 columns</p>\n",
       "</div>"
      ],
      "text/plain": [
       "                           EUR_USD   returns  position\n",
       "2025-04-18 06:00:00+00:00  1.13706       NaN       NaN\n",
       "2025-04-18 06:01:00+00:00  1.13714  0.000070      -1.0\n",
       "2025-04-18 06:02:00+00:00  1.13706 -0.000070       1.0\n",
       "2025-04-18 06:03:00+00:00  1.13708  0.000018      -1.0\n",
       "2025-04-18 06:04:00+00:00  1.13706 -0.000018       1.0\n",
       "...                            ...       ...       ...\n",
       "2025-04-23 05:56:00+00:00  1.13798  0.000000      -0.0\n",
       "2025-04-23 05:57:00+00:00  1.13808  0.000088      -1.0\n",
       "2025-04-23 05:58:00+00:00  1.13798 -0.000088       1.0\n",
       "2025-04-23 05:59:00+00:00  1.13766 -0.000281       1.0\n",
       "2025-04-23 06:01:00+00:00  1.13784  0.000158      -1.0\n",
       "\n",
       "[4293 rows x 3 columns]"
      ]
     },
     "execution_count": 74,
     "metadata": {},
     "output_type": "execute_result"
    }
   ],
   "source": [
    "trader.data"
   ]
  },
  {
   "cell_type": "code",
   "execution_count": 76,
   "id": "52af238e-226d-43a2-bb70-a464b80a0e63",
   "metadata": {},
   "outputs": [
    {
     "data": {
      "text/plain": [
       "0"
      ]
     },
     "execution_count": 76,
     "metadata": {},
     "output_type": "execute_result"
    }
   ],
   "source": [
    "trader.position"
   ]
  },
  {
   "cell_type": "code",
   "execution_count": null,
   "id": "c4f0e70c-dc87-40eb-8fd7-010413f3395d",
   "metadata": {},
   "outputs": [],
   "source": []
  }
 ],
 "metadata": {
  "kernelspec": {
   "display_name": "Python 3 (ipykernel)",
   "language": "python",
   "name": "python3"
  },
  "language_info": {
   "codemirror_mode": {
    "name": "ipython",
    "version": 3
   },
   "file_extension": ".py",
   "mimetype": "text/x-python",
   "name": "python",
   "nbconvert_exporter": "python",
   "pygments_lexer": "ipython3",
   "version": "3.12.4"
  }
 },
 "nbformat": 4,
 "nbformat_minor": 5
}
