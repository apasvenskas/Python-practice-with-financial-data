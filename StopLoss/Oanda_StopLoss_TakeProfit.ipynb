{
 "cells": [
  {
   "cell_type": "markdown",
   "id": "009cf9af-0b5c-4d6b-a1e1-fef20b64004b",
   "metadata": {},
   "source": [
    "# Oanda: How to create a stop loss & take profit"
   ]
  },
  {
   "cell_type": "code",
   "execution_count": 26,
   "id": "620d8254-f543-472d-a79a-ab2e2dfd205a",
   "metadata": {},
   "outputs": [],
   "source": [
    "from trader import ConTrader"
   ]
  },
  {
   "cell_type": "code",
   "execution_count": 28,
   "id": "b1af7157-0505-4ffa-be72-371652556259",
   "metadata": {},
   "outputs": [
    {
     "data": {
      "text/plain": [
       "<module 'trader' from 'C:\\\\Users\\\\audri\\\\Desktop\\\\AutoTrader\\\\finiacialDataAnalysis\\\\StopLoss\\\\trader.py'>"
      ]
     },
     "execution_count": 28,
     "metadata": {},
     "output_type": "execute_result"
    }
   ],
   "source": [
    "trader"
   ]
  },
  {
   "cell_type": "code",
   "execution_count": 38,
   "id": "7049f0d7-327a-4dd4-938d-5693496de611",
   "metadata": {},
   "outputs": [],
   "source": [
    "trader = ConTrader(\"Oanda.cfg\", \"EUR_USD\", \"1min\", window = 1, units = 100)"
   ]
  },
  {
   "cell_type": "code",
   "execution_count": 44,
   "id": "e6e1649f-1e21-45f2-94f0-ccdafae15474",
   "metadata": {},
   "outputs": [],
   "source": [
    "trader.get_most_recent()"
   ]
  },
  {
   "cell_type": "code",
   "execution_count": 46,
   "id": "34ff2ca8-0dd8-4b56-b465-3325c361914b",
   "metadata": {},
   "outputs": [],
   "source": [
    "trader.define_strategy()"
   ]
  },
  {
   "cell_type": "code",
   "execution_count": 52,
   "id": "d30282c8-e806-488b-9a95-36707135ed60",
   "metadata": {},
   "outputs": [
    {
     "data": {
      "text/plain": [
       "1.13668"
      ]
     },
     "execution_count": 52,
     "metadata": {},
     "output_type": "execute_result"
    }
   ],
   "source": [
    "current_price = trader.data[trader.instrument].iloc[-1]\n",
    "current_price"
   ]
  },
  {
   "cell_type": "code",
   "execution_count": 56,
   "id": "72e2afb1-8af4-40cd-b9ab-6f5818efc978",
   "metadata": {},
   "outputs": [
    {
     "data": {
      "text/plain": [
       "{'id': '351',\n",
       " 'time': '2025-04-17T03:53:59.546613963Z',\n",
       " 'userID': 29655670,\n",
       " 'accountID': '101-001-29655670-001',\n",
       " 'batchID': '351',\n",
       " 'requestID': '61361677361058542',\n",
       " 'type': 'MARKET_ORDER',\n",
       " 'instrument': 'EUR_USD',\n",
       " 'units': '100.0',\n",
       " 'timeInForce': 'FOK',\n",
       " 'positionFill': 'DEFAULT',\n",
       " 'reason': 'CLIENT_ORDER',\n",
       " 'stopLossOnFill': {'distance': '0.01', 'timeInForce': 'GTC'}}"
      ]
     },
     "execution_count": 56,
     "metadata": {},
     "output_type": "execute_result"
    }
   ],
   "source": [
    "order = trader.create_order(trader.instrument, trader.units, suppress = True, ret = True,\n",
    "                           sl_distance = 0.01)\n",
    "order"
   ]
  },
  {
   "cell_type": "code",
   "execution_count": 58,
   "id": "86a6e682-b5ae-4074-a48a-ec185db14c6a",
   "metadata": {},
   "outputs": [
    {
     "data": {
      "text/plain": [
       "{'id': '354',\n",
       " 'time': '2025-04-17T03:56:18.626449965Z',\n",
       " 'userID': 29655670,\n",
       " 'accountID': '101-001-29655670-001',\n",
       " 'batchID': '353',\n",
       " 'requestID': '115404873470446073',\n",
       " 'type': 'ORDER_FILL',\n",
       " 'orderID': '353',\n",
       " 'instrument': 'EUR_USD',\n",
       " 'units': '-100.0',\n",
       " 'gainQuoteHomeConversionFactor': '1.0',\n",
       " 'lossQuoteHomeConversionFactor': '1.0',\n",
       " 'price': 1.13648,\n",
       " 'fullVWAP': 1.13648,\n",
       " 'fullPrice': {'type': 'PRICE',\n",
       "  'bids': [{'price': 1.13648, 'liquidity': '500000'},\n",
       "   {'price': 1.13647, 'liquidity': '2500000'},\n",
       "   {'price': 1.13646, 'liquidity': '2000000'},\n",
       "   {'price': 1.13645, 'liquidity': '5000000'},\n",
       "   {'price': 1.13642, 'liquidity': '10000000'},\n",
       "   {'price': 1.13639, 'liquidity': '10000000'}],\n",
       "  'asks': [{'price': 1.13662, 'liquidity': '500000'},\n",
       "   {'price': 1.13663, 'liquidity': '500000'},\n",
       "   {'price': 1.13664, 'liquidity': '2000000'},\n",
       "   {'price': 1.13665, 'liquidity': '2000000'},\n",
       "   {'price': 1.13666, 'liquidity': '5000000'},\n",
       "   {'price': 1.13668, 'liquidity': '10000000'},\n",
       "   {'price': 1.13671, 'liquidity': '10000000'}],\n",
       "  'closeoutBid': 1.13639,\n",
       "  'closeoutAsk': 1.13671},\n",
       " 'reason': 'MARKET_ORDER',\n",
       " 'pl': '9.889',\n",
       " 'financing': '0.0',\n",
       " 'commission': '0.0',\n",
       " 'guaranteedExecutionFee': '0.0',\n",
       " 'accountBalance': '108158.2393',\n",
       " 'tradeReduced': {'tradeID': '254',\n",
       "  'units': '-100.0',\n",
       "  'price': 1.13648,\n",
       "  'realizedPL': '9.889',\n",
       "  'financing': '0.0',\n",
       "  'guaranteedExecutionFee': '0.0',\n",
       "  'halfSpreadCost': '0.007'},\n",
       " 'halfSpreadCost': '0.007'}"
      ]
     },
     "execution_count": 58,
     "metadata": {},
     "output_type": "execute_result"
    }
   ],
   "source": [
    "order = trader.create_order(trader.instrument, -trader.units, suppress = True, ret = True)\n",
    "order"
   ]
  },
  {
   "cell_type": "code",
   "execution_count": null,
   "id": "bcaacaf6-7ef1-4673-8921-ffab8494af2d",
   "metadata": {},
   "outputs": [],
   "source": []
  }
 ],
 "metadata": {
  "kernelspec": {
   "display_name": "Python 3 (ipykernel)",
   "language": "python",
   "name": "python3"
  },
  "language_info": {
   "codemirror_mode": {
    "name": "ipython",
    "version": 3
   },
   "file_extension": ".py",
   "mimetype": "text/x-python",
   "name": "python",
   "nbconvert_exporter": "python",
   "pygments_lexer": "ipython3",
   "version": "3.12.4"
  }
 },
 "nbformat": 4,
 "nbformat_minor": 5
}
