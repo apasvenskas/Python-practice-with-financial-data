{
 "cells": [
  {
   "cell_type": "markdown",
   "id": "009cf9af-0b5c-4d6b-a1e1-fef20b64004b",
   "metadata": {},
   "source": [
    "# Oanda: How to create a stop loss & take profit"
   ]
  },
  {
   "cell_type": "code",
   "execution_count": 12,
   "id": "620d8254-f543-472d-a79a-ab2e2dfd205a",
   "metadata": {},
   "outputs": [],
   "source": [
    "from trader import ConTrader"
   ]
  },
  {
   "cell_type": "code",
   "execution_count": 14,
   "id": "7049f0d7-327a-4dd4-938d-5693496de611",
   "metadata": {},
   "outputs": [],
   "source": [
    "trader = ConTrader(\"Oanda.cfg\", \"EUR_USD\", \"1min\", window = 1, units = 100)"
   ]
  },
  {
   "cell_type": "code",
   "execution_count": 16,
   "id": "e6e1649f-1e21-45f2-94f0-ccdafae15474",
   "metadata": {},
   "outputs": [],
   "source": [
    "trader.get_most_recent()"
   ]
  },
  {
   "cell_type": "code",
   "execution_count": 18,
   "id": "34ff2ca8-0dd8-4b56-b465-3325c361914b",
   "metadata": {},
   "outputs": [],
   "source": [
    "trader.define_strategy()"
   ]
  },
  {
   "cell_type": "code",
   "execution_count": 20,
   "id": "d30282c8-e806-488b-9a95-36707135ed60",
   "metadata": {},
   "outputs": [
    {
     "data": {
      "text/plain": [
       "1.13716"
      ]
     },
     "execution_count": 20,
     "metadata": {},
     "output_type": "execute_result"
    }
   ],
   "source": [
    "current_price = trader.data[trader.instrument].iloc[-1]\n",
    "current_price"
   ]
  },
  {
   "cell_type": "code",
   "execution_count": 22,
   "id": "72e2afb1-8af4-40cd-b9ab-6f5818efc978",
   "metadata": {},
   "outputs": [
    {
     "data": {
      "text/plain": [
       "{'id': '492',\n",
       " 'time': '2025-05-06T21:36:55.302633018Z',\n",
       " 'userID': 29655670,\n",
       " 'accountID': '101-001-29655670-001',\n",
       " 'batchID': '491',\n",
       " 'requestID': '97397627246140012',\n",
       " 'type': 'ORDER_FILL',\n",
       " 'orderID': '491',\n",
       " 'instrument': 'EUR_USD',\n",
       " 'units': '100.0',\n",
       " 'gainQuoteHomeConversionFactor': '1.0',\n",
       " 'lossQuoteHomeConversionFactor': '1.0',\n",
       " 'price': 1.1373,\n",
       " 'fullVWAP': 1.1373,\n",
       " 'fullPrice': {'type': 'PRICE',\n",
       "  'bids': [{'price': 1.13687, 'liquidity': '500000'},\n",
       "   {'price': 1.13686, 'liquidity': '2500000'},\n",
       "   {'price': 1.13685, 'liquidity': '2000000'},\n",
       "   {'price': 1.13684, 'liquidity': '5000000'},\n",
       "   {'price': 1.13681, 'liquidity': '10000000'},\n",
       "   {'price': 1.13678, 'liquidity': '10000000'}],\n",
       "  'asks': [{'price': 1.1373, 'liquidity': '500000'},\n",
       "   {'price': 1.13731, 'liquidity': '500000'},\n",
       "   {'price': 1.13732, 'liquidity': '2000000'},\n",
       "   {'price': 1.13733, 'liquidity': '2000000'},\n",
       "   {'price': 1.13734, 'liquidity': '5000000'},\n",
       "   {'price': 1.13736, 'liquidity': '10000000'},\n",
       "   {'price': 1.13739, 'liquidity': '10000000'}],\n",
       "  'closeoutBid': 1.13678,\n",
       "  'closeoutAsk': 1.13739},\n",
       " 'reason': 'MARKET_ORDER',\n",
       " 'pl': '0.0',\n",
       " 'financing': '0.0',\n",
       " 'commission': '0.0',\n",
       " 'guaranteedExecutionFee': '0.0',\n",
       " 'accountBalance': '109970.0881',\n",
       " 'tradeOpened': {'tradeID': '492',\n",
       "  'units': '100.0',\n",
       "  'price': 1.1373,\n",
       "  'guaranteedExecutionFee': '0.0',\n",
       "  'halfSpreadCost': '0.0215',\n",
       "  'initialMarginRequired': '2.2742'},\n",
       " 'halfSpreadCost': '0.0215'}"
      ]
     },
     "execution_count": 22,
     "metadata": {},
     "output_type": "execute_result"
    }
   ],
   "source": [
    "order = trader.create_order(trader.instrument, trader.units, suppress = True, ret = True,\n",
    "                           sl_distance = 0.01)\n",
    "order"
   ]
  },
  {
   "cell_type": "code",
   "execution_count": 24,
   "id": "86a6e682-b5ae-4074-a48a-ec185db14c6a",
   "metadata": {},
   "outputs": [
    {
     "data": {
      "text/plain": [
       "{'id': '495',\n",
       " 'time': '2025-05-06T21:36:56.721374895Z',\n",
       " 'userID': 29655670,\n",
       " 'accountID': '101-001-29655670-001',\n",
       " 'batchID': '494',\n",
       " 'requestID': '61368830231612256',\n",
       " 'type': 'ORDER_FILL',\n",
       " 'orderID': '494',\n",
       " 'instrument': 'EUR_USD',\n",
       " 'units': '-100.0',\n",
       " 'gainQuoteHomeConversionFactor': '1.0',\n",
       " 'lossQuoteHomeConversionFactor': '1.0',\n",
       " 'price': 1.13687,\n",
       " 'fullVWAP': 1.13687,\n",
       " 'fullPrice': {'type': 'PRICE',\n",
       "  'bids': [{'price': 1.13687, 'liquidity': '500000'},\n",
       "   {'price': 1.13686, 'liquidity': '2500000'},\n",
       "   {'price': 1.13685, 'liquidity': '2000000'},\n",
       "   {'price': 1.13684, 'liquidity': '5000000'},\n",
       "   {'price': 1.13681, 'liquidity': '10000000'},\n",
       "   {'price': 1.13678, 'liquidity': '10000000'}],\n",
       "  'asks': [{'price': 1.13728, 'liquidity': '499900'},\n",
       "   {'price': 1.13729, 'liquidity': '500000'},\n",
       "   {'price': 1.1373, 'liquidity': '2000000'},\n",
       "   {'price': 1.13731, 'liquidity': '2000000'},\n",
       "   {'price': 1.13732, 'liquidity': '5000000'},\n",
       "   {'price': 1.13734, 'liquidity': '10000000'},\n",
       "   {'price': 1.13737, 'liquidity': '10000000'}],\n",
       "  'closeoutBid': 1.13678,\n",
       "  'closeoutAsk': 1.13737},\n",
       " 'reason': 'MARKET_ORDER',\n",
       " 'pl': '-0.043',\n",
       " 'financing': '0.0',\n",
       " 'commission': '0.0',\n",
       " 'guaranteedExecutionFee': '0.0',\n",
       " 'accountBalance': '109970.0451',\n",
       " 'tradesClosed': [{'tradeID': '492',\n",
       "   'units': '-100.0',\n",
       "   'price': 1.13687,\n",
       "   'realizedPL': '-0.043',\n",
       "   'financing': '0.0',\n",
       "   'guaranteedExecutionFee': '0.0',\n",
       "   'halfSpreadCost': '0.0205'}],\n",
       " 'halfSpreadCost': '0.0205'}"
      ]
     },
     "execution_count": 24,
     "metadata": {},
     "output_type": "execute_result"
    }
   ],
   "source": [
    "order = trader.create_order(trader.instrument, -trader.units, suppress = True, ret = True)\n",
    "order"
   ]
  },
  {
   "cell_type": "markdown",
   "id": "98c2f795-399d-4786-a38f-0f72dd383d5f",
   "metadata": {},
   "source": [
    "# Adding Limit Orders to Trading Bot (Take profit & Stop Loss)"
   ]
  },
  {
   "cell_type": "markdown",
   "id": "e0f6bf7b-fbbb-46d9-92ef-96308f1d9cd0",
   "metadata": {},
   "source": [
    "### Oanda: Contrader Class without Trake Profits & Stop Loss"
   ]
  },
  {
   "cell_type": "code",
   "execution_count": 28,
   "id": "63c85053-fa92-4fd0-99f5-32a3838e1bb5",
   "metadata": {},
   "outputs": [],
   "source": [
    "import pandas as pd\n",
    "import numpy as np\n",
    "import tpqoa\n",
    "from datetime import datetime, timedelta, timezone # Need to import timezone seperatly\n",
    "import time"
   ]
  },
  {
   "cell_type": "code",
   "execution_count": 30,
   "id": "9e494dab-749c-4aab-b249-0ba899c34502",
   "metadata": {},
   "outputs": [],
   "source": [
    "class ConTrader(tpqoa.tpqoa):\n",
    "    def __init__(self, conf_file, instrument, bar_length, window, units):\n",
    "        super().__init__(conf_file)\n",
    "        self.instrument = instrument\n",
    "        self.bar_length = pd.to_timedelta(bar_length)\n",
    "        self.tick_data = pd.DataFrame()\n",
    "        self.raw_data = None\n",
    "        self.data = None \n",
    "        self.last_bar = None\n",
    "        self.units = units\n",
    "        self.position = 0\n",
    "        self.profits = [] \n",
    "        \n",
    "        #*****************add strategy-specific attributes here******************\n",
    "        self.window = window\n",
    "        #************************************************************************\n",
    "    \n",
    "    def get_most_recent(self, days = 5):\n",
    "        while True:\n",
    "            time.sleep(2)\n",
    "            now = datetime.now(timezone.utc).replace(tzinfo=None) # new (Python 3.12)\n",
    "            now = now - timedelta(microseconds = now.microsecond)\n",
    "            past = now - timedelta(days = days)\n",
    "            df = self.get_history(instrument = self.instrument, start = past, end = now,\n",
    "                                   granularity = \"S5\", price = \"M\", localize = False).c.dropna().to_frame()\n",
    "            df.rename(columns = {\"c\":self.instrument}, inplace = True)\n",
    "            df = df.resample(self.bar_length, label = \"right\").last().dropna().iloc[:-1]\n",
    "            self.raw_data = df.copy()\n",
    "            self.last_bar = self.raw_data.index[-1]\n",
    "            if pd.to_datetime(datetime.now(timezone.utc)) - self.last_bar < self.bar_length: # new (Python 3.12)\n",
    "                break\n",
    "            \n",
    "    def start_trading(self, days, max_attempts = 5, wait = 20, wait_increase = 0): # NEW, erroe handling\n",
    "        attempt = 0\n",
    "        success = False \n",
    "        while True:\n",
    "            try:\n",
    "                self.get_most_recent(days)\n",
    "                self.stream_data(self.instrument)\n",
    "            except Exception as e:\n",
    "                print(e, end = \" | \")\n",
    "            else:\n",
    "                success = True\n",
    "                break\n",
    "            finally:\n",
    "                attempt += 1\n",
    "                print(\"Attempt: {}\".format(attempt), end = 'n/')\n",
    "                if success == False:\n",
    "                    if attempt >= max_attempts:\n",
    "                        print(\"Max_attempts reached!\")\n",
    "                        try: # for termination \n",
    "                            time.sleep(wait)\n",
    "                            self.terminate_session(cause = \"Unexpected Session Stop (too many errors).\")\n",
    "                        except Exception as e:\n",
    "                            print(e, end = \" | \")\n",
    "                            print(\"Could not terminate the session.\")\n",
    "                        finally:\n",
    "                            break\n",
    "                    else:\n",
    "                        time.sleep(wait)\n",
    "                        wait += wait_increase\n",
    "                        self.tick_data = pd.DataFrame()\n",
    "                     \n",
    "    def on_success(self, time, bid, ask):\n",
    "        print(self.ticks, end = \"\\r\", flush = True)\n",
    "        \n",
    "        recent_tick = pd.to_datetime(time)\n",
    "        \n",
    "        # define stop\n",
    "        if self.ticks >= 100:\n",
    "            self.terminate_session(cause = \"Scheduled Session End.\")\n",
    "            return\n",
    "        \n",
    "        # collect and store tick data\n",
    "        df = pd.DataFrame({self.instrument:(ask + bid)/2}, \n",
    "                          index = [recent_tick])\n",
    "        self.tick_data = pd.concat([self.tick_data, df]) \n",
    "        \n",
    "        # if a time longer than the bar_lenght has elapsed between last full bar and the most recent tick\n",
    "        if recent_tick - self.last_bar >= self.bar_length:\n",
    "            self.resample_and_join()\n",
    "            self.define_strategy()\n",
    "            self.execute_trades()\n",
    "            \n",
    "    def resample_and_join(self):\n",
    "        self.raw_data = pd.concat([self.raw_data, self.tick_data.resample(self.bar_length, \n",
    "                                                                          label=\"right\").last().ffill().iloc[:-1]])\n",
    "        self.tick_data = self.tick_data.iloc[-1:]\n",
    "        self.last_bar = self.raw_data.index[-1]\n",
    "        \n",
    "    def define_strategy(self): # \"strategy-specific\"\n",
    "        df = self.raw_data.copy()\n",
    "        \n",
    "        #******************** define your strategy here ************************\n",
    "        df[\"returns\"] = np.log(df[self.instrument] / df[self.instrument].shift())\n",
    "        df[\"position\"] = -np.sign(df.returns.rolling(self.window).mean())\n",
    "        #***********************************************************************\n",
    "        \n",
    "        self.data = df.copy()\n",
    "        \n",
    "    def execute_trades(self):\n",
    "        if self.data[\"position\"].iloc[-1] == 1:\n",
    "            if self.position == 0:\n",
    "                order = self.create_order(self.instrument, self.units, suppress = True, ret = True)\n",
    "                self.report_trade(order, \"GOING LONG\")  \n",
    "            elif self.position == -1:\n",
    "                order = self.create_order(self.instrument, self.units * 2, suppress = True, ret = True) \n",
    "                self.report_trade(order, \"GOING LONG\")  \n",
    "            self.position = 1\n",
    "        elif self.data[\"position\"].iloc[-1] == -1: \n",
    "            if self.position == 0:\n",
    "                order = self.create_order(self.instrument, -self.units, suppress = True, ret = True)\n",
    "                self.report_trade(order, \"GOING SHORT\")  \n",
    "            elif self.position == 1:\n",
    "                order = self.create_order(self.instrument, -self.units * 2, suppress = True, ret = True)\n",
    "                self.report_trade(order, \"GOING SHORT\")  \n",
    "            self.position = -1\n",
    "        elif self.data[\"position\"].iloc[-1] == 0: \n",
    "            if self.position == -1:\n",
    "                order = self.create_order(self.instrument, self.units, suppress = True, ret = True) \n",
    "                self.report_trade(order, \"GOING NEUTRAL\")  \n",
    "            elif self.position == 1:\n",
    "                order = self.create_order(self.instrument, -self.units, suppress = True, ret = True)\n",
    "                self.report_trade(order, \"GOING NEUTRAL\")  \n",
    "            self.position = 0\n",
    "    \n",
    "    def report_trade(self, order, going):  \n",
    "        time = order[\"time\"]\n",
    "        units = order[\"units\"]\n",
    "        price = order[\"price\"]\n",
    "        pl = float(order[\"pl\"])\n",
    "        self.profits.append(pl)\n",
    "        cumpl = sum(self.profits)\n",
    "        print(\"\\n\" + 100* \"-\")\n",
    "        print(\"{} | {}\".format(time, going))\n",
    "        print(\"{} | units = {} | price = {} | P&L = {} | Cum P&L = {}\".format(time, units, price, pl, cumpl))\n",
    "        print(100 * \"-\" + \"\\n\")  \n",
    "        \n",
    "    def terminate_session(self, cause): # NEW\n",
    "        self.stop_stream = True\n",
    "        if self.position != 0:\n",
    "            close_order = self.create_order(self.instrument, units = -self.position * self.units,\n",
    "                                            suppress = True, ret = True) \n",
    "            self.report_trade(close_order, \"GOING NEUTRAL\")\n",
    "            self.position = 0\n",
    "        print(cause)"
   ]
  },
  {
   "cell_type": "code",
   "execution_count": 32,
   "id": "f67cd89c-ed4d-4fa2-a33b-f30ea2d5f4e3",
   "metadata": {},
   "outputs": [],
   "source": [
    "trader = ConTrader(\"oanda.cfg\", \"EUR_USD\", \"1min\", window = 1, units = 100)"
   ]
  },
  {
   "cell_type": "code",
   "execution_count": 34,
   "id": "89190c47-33b6-4f85-8509-4e0a83863d82",
   "metadata": {},
   "outputs": [
    {
     "name": "stdout",
     "output_type": "stream",
     "text": [
      "1\n",
      "----------------------------------------------------------------------------------------------------\n",
      "2025-05-06T21:37:07.810741195Z | GOING SHORT\n",
      "2025-05-06T21:37:07.810741195Z | units = -100.0 | price = 1.13687 | P&L = 0.0 | Cum P&L = 0.0\n",
      "----------------------------------------------------------------------------------------------------\n",
      "\n",
      "20\n",
      "----------------------------------------------------------------------------------------------------\n",
      "2025-05-06T21:38:03.910268138Z | GOING LONG\n",
      "2025-05-06T21:38:03.910268138Z | units = 200.0 | price = 1.13724 | P&L = -0.037 | Cum P&L = -0.037\n",
      "----------------------------------------------------------------------------------------------------\n",
      "\n",
      "38\n",
      "----------------------------------------------------------------------------------------------------\n",
      "2025-05-06T21:40:47.122050808Z | GOING SHORT\n",
      "2025-05-06T21:40:47.122050808Z | units = -200.0 | price = 1.13693 | P&L = -0.031 | Cum P&L = -0.068\n",
      "----------------------------------------------------------------------------------------------------\n",
      "\n",
      "45\n",
      "----------------------------------------------------------------------------------------------------\n",
      "2025-05-06T21:42:02.071297991Z | GOING LONG\n",
      "2025-05-06T21:42:02.071297991Z | units = 200.0 | price = 1.13725 | P&L = -0.032 | Cum P&L = -0.1\n",
      "----------------------------------------------------------------------------------------------------\n",
      "\n",
      "49\n",
      "----------------------------------------------------------------------------------------------------\n",
      "2025-05-06T21:44:42.138039408Z | GOING NEUTRAL\n",
      "2025-05-06T21:44:42.138039408Z | units = -100.0 | price = 1.13696 | P&L = -0.029 | Cum P&L = -0.129\n",
      "----------------------------------------------------------------------------------------------------\n",
      "\n",
      "58\n",
      "----------------------------------------------------------------------------------------------------\n",
      "2025-05-06T21:47:05.643985873Z | GOING LONG\n",
      "2025-05-06T21:47:05.643985873Z | units = 100.0 | price = 1.13726 | P&L = 0.0 | Cum P&L = -0.129\n",
      "----------------------------------------------------------------------------------------------------\n",
      "\n",
      "82\n",
      "----------------------------------------------------------------------------------------------------\n",
      "2025-05-06T21:50:02.249914645Z | GOING SHORT\n",
      "2025-05-06T21:50:02.249914645Z | units = -200.0 | price = 1.13702 | P&L = -0.024 | Cum P&L = -0.153\n",
      "----------------------------------------------------------------------------------------------------\n",
      "\n",
      "96\n",
      "----------------------------------------------------------------------------------------------------\n",
      "2025-05-06T21:53:07.678541463Z | GOING NEUTRAL\n",
      "2025-05-06T21:53:07.678541463Z | units = 100.0 | price = 1.13742 | P&L = -0.04 | Cum P&L = -0.193\n",
      "----------------------------------------------------------------------------------------------------\n",
      "\n",
      "Scheduled Session End.\n",
      "Attempt: 1n/"
     ]
    }
   ],
   "source": [
    "trader.start_trading(days = 5, max_attempts = 3, wait = 20, wait_increase = 0)"
   ]
  },
  {
   "cell_type": "code",
   "execution_count": 38,
   "id": "0ce70d93-80ae-42db-bee4-4366452288a1",
   "metadata": {},
   "outputs": [
    {
     "data": {
      "text/html": [
       "<div>\n",
       "<style scoped>\n",
       "    .dataframe tbody tr th:only-of-type {\n",
       "        vertical-align: middle;\n",
       "    }\n",
       "\n",
       "    .dataframe tbody tr th {\n",
       "        vertical-align: top;\n",
       "    }\n",
       "\n",
       "    .dataframe thead th {\n",
       "        text-align: right;\n",
       "    }\n",
       "</style>\n",
       "<table border=\"1\" class=\"dataframe\">\n",
       "  <thead>\n",
       "    <tr style=\"text-align: right;\">\n",
       "      <th></th>\n",
       "      <th>EUR_USD</th>\n",
       "      <th>returns</th>\n",
       "      <th>position</th>\n",
       "    </tr>\n",
       "  </thead>\n",
       "  <tbody>\n",
       "    <tr>\n",
       "      <th>2025-05-01 21:36:00+00:00</th>\n",
       "      <td>1.128920</td>\n",
       "      <td>NaN</td>\n",
       "      <td>NaN</td>\n",
       "    </tr>\n",
       "    <tr>\n",
       "      <th>2025-05-01 21:37:00+00:00</th>\n",
       "      <td>1.128880</td>\n",
       "      <td>-0.000035</td>\n",
       "      <td>1.0</td>\n",
       "    </tr>\n",
       "    <tr>\n",
       "      <th>2025-05-01 21:38:00+00:00</th>\n",
       "      <td>1.128880</td>\n",
       "      <td>0.000000</td>\n",
       "      <td>-0.0</td>\n",
       "    </tr>\n",
       "    <tr>\n",
       "      <th>2025-05-01 21:39:00+00:00</th>\n",
       "      <td>1.128880</td>\n",
       "      <td>0.000000</td>\n",
       "      <td>-0.0</td>\n",
       "    </tr>\n",
       "    <tr>\n",
       "      <th>2025-05-01 21:40:00+00:00</th>\n",
       "      <td>1.128900</td>\n",
       "      <td>0.000018</td>\n",
       "      <td>-1.0</td>\n",
       "    </tr>\n",
       "    <tr>\n",
       "      <th>...</th>\n",
       "      <td>...</td>\n",
       "      <td>...</td>\n",
       "      <td>...</td>\n",
       "    </tr>\n",
       "    <tr>\n",
       "      <th>2025-05-06 21:51:00+00:00</th>\n",
       "      <td>1.137300</td>\n",
       "      <td>0.000084</td>\n",
       "      <td>-1.0</td>\n",
       "    </tr>\n",
       "    <tr>\n",
       "      <th>2025-05-06 21:52:00+00:00</th>\n",
       "      <td>1.137325</td>\n",
       "      <td>0.000022</td>\n",
       "      <td>-1.0</td>\n",
       "    </tr>\n",
       "    <tr>\n",
       "      <th>2025-05-06 21:53:00+00:00</th>\n",
       "      <td>1.137325</td>\n",
       "      <td>0.000000</td>\n",
       "      <td>-0.0</td>\n",
       "    </tr>\n",
       "    <tr>\n",
       "      <th>2025-05-06 21:54:00+00:00</th>\n",
       "      <td>1.137300</td>\n",
       "      <td>-0.000022</td>\n",
       "      <td>1.0</td>\n",
       "    </tr>\n",
       "    <tr>\n",
       "      <th>2025-05-06 21:55:00+00:00</th>\n",
       "      <td>1.137300</td>\n",
       "      <td>0.000000</td>\n",
       "      <td>-0.0</td>\n",
       "    </tr>\n",
       "  </tbody>\n",
       "</table>\n",
       "<p>4309 rows × 3 columns</p>\n",
       "</div>"
      ],
      "text/plain": [
       "                            EUR_USD   returns  position\n",
       "2025-05-01 21:36:00+00:00  1.128920       NaN       NaN\n",
       "2025-05-01 21:37:00+00:00  1.128880 -0.000035       1.0\n",
       "2025-05-01 21:38:00+00:00  1.128880  0.000000      -0.0\n",
       "2025-05-01 21:39:00+00:00  1.128880  0.000000      -0.0\n",
       "2025-05-01 21:40:00+00:00  1.128900  0.000018      -1.0\n",
       "...                             ...       ...       ...\n",
       "2025-05-06 21:51:00+00:00  1.137300  0.000084      -1.0\n",
       "2025-05-06 21:52:00+00:00  1.137325  0.000022      -1.0\n",
       "2025-05-06 21:53:00+00:00  1.137325  0.000000      -0.0\n",
       "2025-05-06 21:54:00+00:00  1.137300 -0.000022       1.0\n",
       "2025-05-06 21:55:00+00:00  1.137300  0.000000      -0.0\n",
       "\n",
       "[4309 rows x 3 columns]"
      ]
     },
     "execution_count": 38,
     "metadata": {},
     "output_type": "execute_result"
    }
   ],
   "source": [
    "trader.data"
   ]
  },
  {
   "cell_type": "code",
   "execution_count": 40,
   "id": "52af238e-226d-43a2-bb70-a464b80a0e63",
   "metadata": {},
   "outputs": [
    {
     "data": {
      "text/plain": [
       "0"
      ]
     },
     "execution_count": 40,
     "metadata": {},
     "output_type": "execute_result"
    }
   ],
   "source": [
    "trader.position"
   ]
  },
  {
   "cell_type": "markdown",
   "id": "1943ce1c-16df-4b6c-ae33-073fb5ed4963",
   "metadata": {},
   "source": [
    "## Stop loss and take profit"
   ]
  },
  {
   "cell_type": "code",
   "execution_count": 43,
   "id": "59cde778-0c75-4820-9951-17f2bd640856",
   "metadata": {},
   "outputs": [
    {
     "data": {
      "text/plain": [
       "<__main__.ConTrader at 0x1738cb75730>"
      ]
     },
     "execution_count": 43,
     "metadata": {},
     "output_type": "execute_result"
    }
   ],
   "source": [
    "trader"
   ]
  },
  {
   "cell_type": "code",
   "execution_count": 45,
   "id": "a2aef11d-bd1b-47a8-961b-d72fe6f3da5a",
   "metadata": {},
   "outputs": [
    {
     "data": {
      "text/plain": [
       "1.1373000000000002"
      ]
     },
     "execution_count": 45,
     "metadata": {},
     "output_type": "execute_result"
    }
   ],
   "source": [
    "current_price = trader.data[trader.instrument].iloc[-1]\n",
    "current_price"
   ]
  },
  {
   "cell_type": "code",
   "execution_count": 47,
   "id": "f1ec7713-2ad1-43e9-954d-300bdce4875e",
   "metadata": {},
   "outputs": [
    {
     "data": {
      "text/plain": [
       "{'id': '514',\n",
       " 'time': '2025-05-06T21:56:40.326554657Z',\n",
       " 'userID': 29655670,\n",
       " 'accountID': '101-001-29655670-001',\n",
       " 'batchID': '513',\n",
       " 'requestID': '97397632212750961',\n",
       " 'type': 'ORDER_FILL',\n",
       " 'orderID': '513',\n",
       " 'instrument': 'EUR_USD',\n",
       " 'units': '100.0',\n",
       " 'gainQuoteHomeConversionFactor': '1.0',\n",
       " 'lossQuoteHomeConversionFactor': '1.0',\n",
       " 'price': 1.13743,\n",
       " 'fullVWAP': 1.13743,\n",
       " 'fullPrice': {'type': 'PRICE',\n",
       "  'bids': [{'price': 1.13711, 'liquidity': '500000'},\n",
       "   {'price': 1.1371, 'liquidity': '2500000'},\n",
       "   {'price': 1.13709, 'liquidity': '2000000'},\n",
       "   {'price': 1.13708, 'liquidity': '5000000'},\n",
       "   {'price': 1.13705, 'liquidity': '10000000'},\n",
       "   {'price': 1.13702, 'liquidity': '10000000'}],\n",
       "  'asks': [{'price': 1.13743, 'liquidity': '500000'},\n",
       "   {'price': 1.13744, 'liquidity': '500000'},\n",
       "   {'price': 1.13745, 'liquidity': '2000000'},\n",
       "   {'price': 1.13746, 'liquidity': '2000000'},\n",
       "   {'price': 1.13747, 'liquidity': '5000000'},\n",
       "   {'price': 1.13749, 'liquidity': '10000000'},\n",
       "   {'price': 1.13752, 'liquidity': '10000000'}],\n",
       "  'closeoutBid': 1.13702,\n",
       "  'closeoutAsk': 1.13752},\n",
       " 'reason': 'MARKET_ORDER',\n",
       " 'pl': '0.0',\n",
       " 'financing': '0.0',\n",
       " 'commission': '0.0',\n",
       " 'guaranteedExecutionFee': '0.0',\n",
       " 'accountBalance': '109969.8521',\n",
       " 'tradeOpened': {'tradeID': '514',\n",
       "  'units': '100.0',\n",
       "  'price': 1.13743,\n",
       "  'guaranteedExecutionFee': '0.0',\n",
       "  'halfSpreadCost': '0.016',\n",
       "  'initialMarginRequired': '2.2745'},\n",
       " 'halfSpreadCost': '0.016'}"
      ]
     },
     "execution_count": 47,
     "metadata": {},
     "output_type": "execute_result"
    }
   ],
   "source": [
    "order = trader.create_order(trader.instrument, trader.units, suppress = True, ret = True, # open a long position\n",
    "                           sl_distance = 0.01)\n",
    "order"
   ]
  },
  {
   "cell_type": "code",
   "execution_count": 49,
   "id": "1819c913-f565-4a1f-a7ba-8974f5b6b009",
   "metadata": {},
   "outputs": [
    {
     "data": {
      "text/plain": [
       "{'id': '517',\n",
       " 'time': '2025-05-06T21:56:41.089441606Z',\n",
       " 'userID': 29655670,\n",
       " 'accountID': '101-001-29655670-001',\n",
       " 'batchID': '516',\n",
       " 'requestID': '79383233710443371',\n",
       " 'type': 'ORDER_FILL',\n",
       " 'orderID': '516',\n",
       " 'instrument': 'EUR_USD',\n",
       " 'units': '-100.0',\n",
       " 'gainQuoteHomeConversionFactor': '1.0',\n",
       " 'lossQuoteHomeConversionFactor': '1.0',\n",
       " 'price': 1.13711,\n",
       " 'fullVWAP': 1.13711,\n",
       " 'fullPrice': {'type': 'PRICE',\n",
       "  'bids': [{'price': 1.13711, 'liquidity': '500000'},\n",
       "   {'price': 1.1371, 'liquidity': '2500000'},\n",
       "   {'price': 1.13709, 'liquidity': '2000000'},\n",
       "   {'price': 1.13708, 'liquidity': '5000000'},\n",
       "   {'price': 1.13705, 'liquidity': '10000000'},\n",
       "   {'price': 1.13702, 'liquidity': '10000000'}],\n",
       "  'asks': [{'price': 1.13743, 'liquidity': '499900'},\n",
       "   {'price': 1.13744, 'liquidity': '500000'},\n",
       "   {'price': 1.13745, 'liquidity': '2000000'},\n",
       "   {'price': 1.13746, 'liquidity': '2000000'},\n",
       "   {'price': 1.13747, 'liquidity': '5000000'},\n",
       "   {'price': 1.13749, 'liquidity': '10000000'},\n",
       "   {'price': 1.13752, 'liquidity': '10000000'}],\n",
       "  'closeoutBid': 1.13702,\n",
       "  'closeoutAsk': 1.13752},\n",
       " 'reason': 'MARKET_ORDER',\n",
       " 'pl': '-0.032',\n",
       " 'financing': '0.0',\n",
       " 'commission': '0.0',\n",
       " 'guaranteedExecutionFee': '0.0',\n",
       " 'accountBalance': '109969.8201',\n",
       " 'tradesClosed': [{'tradeID': '514',\n",
       "   'units': '-100.0',\n",
       "   'price': 1.13711,\n",
       "   'realizedPL': '-0.032',\n",
       "   'financing': '0.0',\n",
       "   'guaranteedExecutionFee': '0.0',\n",
       "   'halfSpreadCost': '0.016'}],\n",
       " 'halfSpreadCost': '0.016'}"
      ]
     },
     "execution_count": 49,
     "metadata": {},
     "output_type": "execute_result"
    }
   ],
   "source": [
    "order = trader.create_order(trader.instrument, -trader.units, suppress = True, ret = True) # Closing position manually\n",
    "order"
   ]
  },
  {
   "cell_type": "markdown",
   "id": "57076a1d-bec5-42ea-b663-32ea2aec7791",
   "metadata": {},
   "source": [
    "#### Take Profit"
   ]
  },
  {
   "cell_type": "code",
   "execution_count": 52,
   "id": "638ab144-e0c1-4695-836b-f4bf56a625f0",
   "metadata": {},
   "outputs": [
    {
     "data": {
      "text/plain": [
       "{'id': '519',\n",
       " 'time': '2025-05-06T21:56:41.982342034Z',\n",
       " 'userID': 29655670,\n",
       " 'accountID': '101-001-29655670-001',\n",
       " 'batchID': '519',\n",
       " 'requestID': '61368835198358317',\n",
       " 'type': 'MARKET_ORDER_REJECT',\n",
       " 'instrument': 'EUR_USD',\n",
       " 'units': '100.0',\n",
       " 'timeInForce': 'FOK',\n",
       " 'positionFill': 'DEFAULT',\n",
       " 'reason': 'CLIENT_ORDER',\n",
       " 'takeProfitOnFill': {'price': 1.13999999999999, 'timeInForce': 'GTC'},\n",
       " 'rejectReason': 'TAKE_PROFIT_ON_FILL_PRICE_PRECISION_EXCEEDED'}"
      ]
     },
     "execution_count": 52,
     "metadata": {},
     "output_type": "execute_result"
    }
   ],
   "source": [
    "order = trader.create_order(trader.instrument, trader.units, suppress = True, ret = True,\n",
    "                            tp_price = 1.14) # Adjust price as needed.\n",
    "order"
   ]
  },
  {
   "cell_type": "code",
   "execution_count": 54,
   "id": "28101660-df82-4b6c-af1f-5e9d490e3394",
   "metadata": {},
   "outputs": [
    {
     "data": {
      "text/plain": [
       "{'id': '521',\n",
       " 'time': '2025-05-06T21:56:42.936480869Z',\n",
       " 'userID': 29655670,\n",
       " 'accountID': '101-001-29655670-001',\n",
       " 'batchID': '520',\n",
       " 'requestID': '79383233714638724',\n",
       " 'type': 'ORDER_FILL',\n",
       " 'orderID': '520',\n",
       " 'instrument': 'EUR_USD',\n",
       " 'units': '-100.0',\n",
       " 'gainQuoteHomeConversionFactor': '1.0',\n",
       " 'lossQuoteHomeConversionFactor': '1.0',\n",
       " 'price': 1.13711,\n",
       " 'fullVWAP': 1.13711,\n",
       " 'fullPrice': {'type': 'PRICE',\n",
       "  'bids': [{'price': 1.13711, 'liquidity': '499900'},\n",
       "   {'price': 1.1371, 'liquidity': '2500000'},\n",
       "   {'price': 1.13709, 'liquidity': '2000000'},\n",
       "   {'price': 1.13708, 'liquidity': '5000000'},\n",
       "   {'price': 1.13705, 'liquidity': '10000000'},\n",
       "   {'price': 1.13702, 'liquidity': '10000000'}],\n",
       "  'asks': [{'price': 1.13743, 'liquidity': '499900'},\n",
       "   {'price': 1.13744, 'liquidity': '500000'},\n",
       "   {'price': 1.13745, 'liquidity': '2000000'},\n",
       "   {'price': 1.13746, 'liquidity': '2000000'},\n",
       "   {'price': 1.13747, 'liquidity': '5000000'},\n",
       "   {'price': 1.13749, 'liquidity': '10000000'},\n",
       "   {'price': 1.13752, 'liquidity': '10000000'}],\n",
       "  'closeoutBid': 1.13702,\n",
       "  'closeoutAsk': 1.13752},\n",
       " 'reason': 'MARKET_ORDER',\n",
       " 'pl': '0.0',\n",
       " 'financing': '0.0',\n",
       " 'commission': '0.0',\n",
       " 'guaranteedExecutionFee': '0.0',\n",
       " 'accountBalance': '109969.8201',\n",
       " 'tradeOpened': {'tradeID': '521',\n",
       "  'units': '-100.0',\n",
       "  'price': 1.13711,\n",
       "  'guaranteedExecutionFee': '0.0',\n",
       "  'halfSpreadCost': '0.016',\n",
       "  'initialMarginRequired': '2.2745'},\n",
       " 'halfSpreadCost': '0.016'}"
      ]
     },
     "execution_count": 54,
     "metadata": {},
     "output_type": "execute_result"
    }
   ],
   "source": [
    "order = trader.create_order(trader.instrument, -trader.units, suppress = True, ret = True)\n",
    "order"
   ]
  },
  {
   "cell_type": "markdown",
   "id": "4d032bfc-e718-4cb0-816f-5ca9ec7de29b",
   "metadata": {},
   "source": [
    "#### Combining SL and TP (Stop Loss and Take Profit)"
   ]
  },
  {
   "cell_type": "code",
   "execution_count": 57,
   "id": "9a5905f1-3c9c-4053-8c01-783fbe551219",
   "metadata": {},
   "outputs": [
    {
     "data": {
      "text/plain": [
       "{'id': '523',\n",
       " 'time': '2025-05-06T21:56:44.059876163Z',\n",
       " 'userID': 29655670,\n",
       " 'accountID': '101-001-29655670-001',\n",
       " 'batchID': '522',\n",
       " 'requestID': '79383233723027937',\n",
       " 'type': 'ORDER_FILL',\n",
       " 'orderID': '522',\n",
       " 'instrument': 'EUR_USD',\n",
       " 'units': '100.0',\n",
       " 'gainQuoteHomeConversionFactor': '1.0',\n",
       " 'lossQuoteHomeConversionFactor': '1.0',\n",
       " 'price': 1.13743,\n",
       " 'fullVWAP': 1.13743,\n",
       " 'fullPrice': {'type': 'PRICE',\n",
       "  'bids': [{'price': 1.13711, 'liquidity': '499800'},\n",
       "   {'price': 1.1371, 'liquidity': '2500000'},\n",
       "   {'price': 1.13709, 'liquidity': '2000000'},\n",
       "   {'price': 1.13708, 'liquidity': '5000000'},\n",
       "   {'price': 1.13705, 'liquidity': '10000000'},\n",
       "   {'price': 1.13702, 'liquidity': '10000000'}],\n",
       "  'asks': [{'price': 1.13743, 'liquidity': '499900'},\n",
       "   {'price': 1.13744, 'liquidity': '500000'},\n",
       "   {'price': 1.13745, 'liquidity': '2000000'},\n",
       "   {'price': 1.13746, 'liquidity': '2000000'},\n",
       "   {'price': 1.13747, 'liquidity': '5000000'},\n",
       "   {'price': 1.13749, 'liquidity': '10000000'},\n",
       "   {'price': 1.13752, 'liquidity': '10000000'}],\n",
       "  'closeoutBid': 1.13702,\n",
       "  'closeoutAsk': 1.13752},\n",
       " 'reason': 'MARKET_ORDER',\n",
       " 'pl': '-0.032',\n",
       " 'financing': '0.0',\n",
       " 'commission': '0.0',\n",
       " 'guaranteedExecutionFee': '0.0',\n",
       " 'accountBalance': '109969.7881',\n",
       " 'tradesClosed': [{'tradeID': '521',\n",
       "   'units': '100.0',\n",
       "   'price': 1.13743,\n",
       "   'realizedPL': '-0.032',\n",
       "   'financing': '0.0',\n",
       "   'guaranteedExecutionFee': '0.0',\n",
       "   'halfSpreadCost': '0.016'}],\n",
       " 'halfSpreadCost': '0.016'}"
      ]
     },
     "execution_count": 57,
     "metadata": {},
     "output_type": "execute_result"
    }
   ],
   "source": [
    "order = trader.create_order(trader.instrument, trader.units, suppress = True, ret = True,\n",
    "                            sl_distance = 0.01, tp_price = 1.11)\n",
    "order"
   ]
  },
  {
   "cell_type": "code",
   "execution_count": 59,
   "id": "f91cd982-9b9e-4c84-9d4d-6c007d1dd9e2",
   "metadata": {},
   "outputs": [
    {
     "data": {
      "text/plain": [
       "{'id': '525',\n",
       " 'time': '2025-05-06T21:56:45.808866400Z',\n",
       " 'userID': 29655670,\n",
       " 'accountID': '101-001-29655670-001',\n",
       " 'batchID': '524',\n",
       " 'requestID': '61368835215137739',\n",
       " 'type': 'ORDER_FILL',\n",
       " 'orderID': '524',\n",
       " 'instrument': 'EUR_USD',\n",
       " 'units': '-100.0',\n",
       " 'gainQuoteHomeConversionFactor': '1.0',\n",
       " 'lossQuoteHomeConversionFactor': '1.0',\n",
       " 'price': 1.13711,\n",
       " 'fullVWAP': 1.13711,\n",
       " 'fullPrice': {'type': 'PRICE',\n",
       "  'bids': [{'price': 1.13711, 'liquidity': '499800'},\n",
       "   {'price': 1.1371, 'liquidity': '2500000'},\n",
       "   {'price': 1.13709, 'liquidity': '2000000'},\n",
       "   {'price': 1.13708, 'liquidity': '5000000'},\n",
       "   {'price': 1.13705, 'liquidity': '10000000'},\n",
       "   {'price': 1.13702, 'liquidity': '10000000'}],\n",
       "  'asks': [{'price': 1.13743, 'liquidity': '499800'},\n",
       "   {'price': 1.13744, 'liquidity': '500000'},\n",
       "   {'price': 1.13745, 'liquidity': '2000000'},\n",
       "   {'price': 1.13746, 'liquidity': '2000000'},\n",
       "   {'price': 1.13747, 'liquidity': '5000000'},\n",
       "   {'price': 1.13749, 'liquidity': '10000000'},\n",
       "   {'price': 1.13752, 'liquidity': '10000000'}],\n",
       "  'closeoutBid': 1.13702,\n",
       "  'closeoutAsk': 1.13752},\n",
       " 'reason': 'MARKET_ORDER',\n",
       " 'pl': '0.0',\n",
       " 'financing': '0.0',\n",
       " 'commission': '0.0',\n",
       " 'guaranteedExecutionFee': '0.0',\n",
       " 'accountBalance': '109969.7881',\n",
       " 'tradeOpened': {'tradeID': '525',\n",
       "  'units': '-100.0',\n",
       "  'price': 1.13711,\n",
       "  'guaranteedExecutionFee': '0.0',\n",
       "  'halfSpreadCost': '0.016',\n",
       "  'initialMarginRequired': '2.2745'},\n",
       " 'halfSpreadCost': '0.016'}"
      ]
     },
     "execution_count": 59,
     "metadata": {},
     "output_type": "execute_result"
    }
   ],
   "source": [
    "order = trader.create_order(trader.instrument, -trader.units, suppress = True, ret = True)\n",
    "order"
   ]
  },
  {
   "cell_type": "markdown",
   "id": "d41379d2-f0be-4bd3-aaa5-e824147b3852",
   "metadata": {},
   "source": [
    "#### Trailing Stop Loss"
   ]
  },
  {
   "cell_type": "markdown",
   "id": "c638fc59-a570-4497-8ce5-babe46015e8f",
   "metadata": {},
   "source": [
    "Trails the price takes a stop loss based on tsl_distance"
   ]
  },
  {
   "cell_type": "code",
   "execution_count": 63,
   "id": "624a7397-1490-4b8a-967a-f694cf11d7d3",
   "metadata": {},
   "outputs": [
    {
     "data": {
      "text/plain": [
       "{'id': '527',\n",
       " 'time': '2025-05-06T21:56:47.217278971Z',\n",
       " 'userID': 29655670,\n",
       " 'accountID': '101-001-29655670-001',\n",
       " 'batchID': '526',\n",
       " 'requestID': '61368835223527205',\n",
       " 'type': 'ORDER_FILL',\n",
       " 'orderID': '526',\n",
       " 'instrument': 'EUR_USD',\n",
       " 'units': '100.0',\n",
       " 'gainQuoteHomeConversionFactor': '1.0',\n",
       " 'lossQuoteHomeConversionFactor': '1.0',\n",
       " 'price': 1.13743,\n",
       " 'fullVWAP': 1.13743,\n",
       " 'fullPrice': {'type': 'PRICE',\n",
       "  'bids': [{'price': 1.13711, 'liquidity': '499700'},\n",
       "   {'price': 1.1371, 'liquidity': '2500000'},\n",
       "   {'price': 1.13709, 'liquidity': '2000000'},\n",
       "   {'price': 1.13708, 'liquidity': '5000000'},\n",
       "   {'price': 1.13705, 'liquidity': '10000000'},\n",
       "   {'price': 1.13702, 'liquidity': '10000000'}],\n",
       "  'asks': [{'price': 1.13743, 'liquidity': '499800'},\n",
       "   {'price': 1.13744, 'liquidity': '500000'},\n",
       "   {'price': 1.13745, 'liquidity': '2000000'},\n",
       "   {'price': 1.13746, 'liquidity': '2000000'},\n",
       "   {'price': 1.13747, 'liquidity': '5000000'},\n",
       "   {'price': 1.13749, 'liquidity': '10000000'},\n",
       "   {'price': 1.13752, 'liquidity': '10000000'}],\n",
       "  'closeoutBid': 1.13702,\n",
       "  'closeoutAsk': 1.13752},\n",
       " 'reason': 'MARKET_ORDER',\n",
       " 'pl': '-0.032',\n",
       " 'financing': '0.0',\n",
       " 'commission': '0.0',\n",
       " 'guaranteedExecutionFee': '0.0',\n",
       " 'accountBalance': '109969.7561',\n",
       " 'tradesClosed': [{'tradeID': '525',\n",
       "   'units': '100.0',\n",
       "   'price': 1.13743,\n",
       "   'realizedPL': '-0.032',\n",
       "   'financing': '0.0',\n",
       "   'guaranteedExecutionFee': '0.0',\n",
       "   'halfSpreadCost': '0.016'}],\n",
       " 'halfSpreadCost': '0.016'}"
      ]
     },
     "execution_count": 63,
     "metadata": {},
     "output_type": "execute_result"
    }
   ],
   "source": [
    "order = trader.create_order(trader.instrument, trader.units, suppress = True, ret = True,\n",
    "                            tsl_distance = 0.01)\n",
    "order"
   ]
  },
  {
   "cell_type": "code",
   "execution_count": 65,
   "id": "cd465c11-1555-4d13-9995-e5a71b8a03db",
   "metadata": {},
   "outputs": [
    {
     "data": {
      "text/plain": [
       "{'id': '529',\n",
       " 'time': '2025-05-06T21:56:49.404083642Z',\n",
       " 'userID': 29655670,\n",
       " 'accountID': '101-001-29655670-001',\n",
       " 'batchID': '528',\n",
       " 'requestID': '61368835231917096',\n",
       " 'type': 'ORDER_FILL',\n",
       " 'orderID': '528',\n",
       " 'instrument': 'EUR_USD',\n",
       " 'units': '-100.0',\n",
       " 'gainQuoteHomeConversionFactor': '1.0',\n",
       " 'lossQuoteHomeConversionFactor': '1.0',\n",
       " 'price': 1.13713,\n",
       " 'fullVWAP': 1.13713,\n",
       " 'fullPrice': {'type': 'PRICE',\n",
       "  'bids': [{'price': 1.13713, 'liquidity': '499700'},\n",
       "   {'price': 1.13712, 'liquidity': '2500000'},\n",
       "   {'price': 1.13711, 'liquidity': '2000000'},\n",
       "   {'price': 1.1371, 'liquidity': '5000000'},\n",
       "   {'price': 1.13707, 'liquidity': '10000000'},\n",
       "   {'price': 1.13704, 'liquidity': '10000000'}],\n",
       "  'asks': [{'price': 1.13743, 'liquidity': '499700'},\n",
       "   {'price': 1.13744, 'liquidity': '500000'},\n",
       "   {'price': 1.13745, 'liquidity': '2000000'},\n",
       "   {'price': 1.13746, 'liquidity': '2000000'},\n",
       "   {'price': 1.13747, 'liquidity': '5000000'},\n",
       "   {'price': 1.13749, 'liquidity': '10000000'},\n",
       "   {'price': 1.13752, 'liquidity': '10000000'}],\n",
       "  'closeoutBid': 1.13704,\n",
       "  'closeoutAsk': 1.13752},\n",
       " 'reason': 'MARKET_ORDER',\n",
       " 'pl': '0.0',\n",
       " 'financing': '0.0',\n",
       " 'commission': '0.0',\n",
       " 'guaranteedExecutionFee': '0.0',\n",
       " 'accountBalance': '109969.7561',\n",
       " 'tradeOpened': {'tradeID': '529',\n",
       "  'units': '-100.0',\n",
       "  'price': 1.13713,\n",
       "  'guaranteedExecutionFee': '0.0',\n",
       "  'halfSpreadCost': '0.015',\n",
       "  'initialMarginRequired': '2.2746'},\n",
       " 'halfSpreadCost': '0.015'}"
      ]
     },
     "execution_count": 65,
     "metadata": {},
     "output_type": "execute_result"
    }
   ],
   "source": [
    "order = trader.create_order(trader.instrument, -trader.units, suppress = True, ret = True)\n",
    "order"
   ]
  },
  {
   "cell_type": "markdown",
   "id": "e0da4245-5208-4eb9-a753-d00655d301a7",
   "metadata": {},
   "source": [
    "# Stop loss and Take Profit Orders - Pitfalls"
   ]
  },
  {
   "cell_type": "code",
   "execution_count": 68,
   "id": "530b5278-260c-456a-b6ff-16d937399c4e",
   "metadata": {},
   "outputs": [
    {
     "data": {
      "text/plain": [
       "<__main__.ConTrader at 0x1738cb75730>"
      ]
     },
     "execution_count": 68,
     "metadata": {},
     "output_type": "execute_result"
    }
   ],
   "source": [
    "trader"
   ]
  },
  {
   "cell_type": "code",
   "execution_count": 70,
   "id": "ea5f1fc5-1a5a-486e-9b1f-86d07f7bc4de",
   "metadata": {},
   "outputs": [
    {
     "data": {
      "text/plain": [
       "{'id': '531',\n",
       " 'time': '2025-05-06T21:56:51.603199163Z',\n",
       " 'userID': 29655670,\n",
       " 'accountID': '101-001-29655670-001',\n",
       " 'batchID': '530',\n",
       " 'requestID': '79383233752392195',\n",
       " 'type': 'ORDER_FILL',\n",
       " 'orderID': '530',\n",
       " 'instrument': 'EUR_USD',\n",
       " 'units': '100.0',\n",
       " 'gainQuoteHomeConversionFactor': '1.0',\n",
       " 'lossQuoteHomeConversionFactor': '1.0',\n",
       " 'price': 1.13743,\n",
       " 'fullVWAP': 1.13743,\n",
       " 'fullPrice': {'type': 'PRICE',\n",
       "  'bids': [{'price': 1.13713, 'liquidity': '499600'},\n",
       "   {'price': 1.13712, 'liquidity': '2500000'},\n",
       "   {'price': 1.13711, 'liquidity': '2000000'},\n",
       "   {'price': 1.1371, 'liquidity': '5000000'},\n",
       "   {'price': 1.13707, 'liquidity': '10000000'},\n",
       "   {'price': 1.13704, 'liquidity': '10000000'}],\n",
       "  'asks': [{'price': 1.13743, 'liquidity': '499700'},\n",
       "   {'price': 1.13744, 'liquidity': '500000'},\n",
       "   {'price': 1.13745, 'liquidity': '2000000'},\n",
       "   {'price': 1.13746, 'liquidity': '2000000'},\n",
       "   {'price': 1.13747, 'liquidity': '5000000'},\n",
       "   {'price': 1.13749, 'liquidity': '10000000'},\n",
       "   {'price': 1.13752, 'liquidity': '10000000'}],\n",
       "  'closeoutBid': 1.13704,\n",
       "  'closeoutAsk': 1.13752},\n",
       " 'reason': 'MARKET_ORDER',\n",
       " 'pl': '-0.03',\n",
       " 'financing': '0.0',\n",
       " 'commission': '0.0',\n",
       " 'guaranteedExecutionFee': '0.0',\n",
       " 'accountBalance': '109969.7261',\n",
       " 'tradesClosed': [{'tradeID': '529',\n",
       "   'units': '100.0',\n",
       "   'price': 1.13743,\n",
       "   'realizedPL': '-0.03',\n",
       "   'financing': '0.0',\n",
       "   'guaranteedExecutionFee': '0.0',\n",
       "   'halfSpreadCost': '0.015'}],\n",
       " 'halfSpreadCost': '0.015'}"
      ]
     },
     "execution_count": 70,
     "metadata": {},
     "output_type": "execute_result"
    }
   ],
   "source": [
    "order = trader.create_order(trader.instrument, trader.units, suppress = True, ret = True, # Order Cancelled example, distance is to small do to the pip.\n",
    "                            sl_distance = 0.0001)\n",
    "order"
   ]
  },
  {
   "cell_type": "code",
   "execution_count": 72,
   "id": "163a8091-1407-42f4-9ce8-c23240efae8f",
   "metadata": {},
   "outputs": [
    {
     "data": {
      "text/plain": [
       "1.13743"
      ]
     },
     "execution_count": 72,
     "metadata": {},
     "output_type": "execute_result"
    }
   ],
   "source": [
    "order[\"price\"] # order is incorrect the sl_distance was to small."
   ]
  },
  {
   "cell_type": "markdown",
   "id": "dc098d76-4e61-41a3-b521-0f888961a3f4",
   "metadata": {},
   "source": [
    "Another example of common mistakes when setting stop or limit orders is to many decimals. Below is an example of it."
   ]
  },
  {
   "cell_type": "code",
   "execution_count": 75,
   "id": "a0de0d3a-ad86-4f05-82f0-a5692ab6046c",
   "metadata": {},
   "outputs": [
    {
     "data": {
      "text/plain": [
       "{'id': '532',\n",
       " 'time': '2025-05-06T21:56:53.838822938Z',\n",
       " 'userID': 29655670,\n",
       " 'accountID': '101-001-29655670-001',\n",
       " 'batchID': '532',\n",
       " 'requestID': '97397632267283417',\n",
       " 'type': 'MARKET_ORDER_REJECT',\n",
       " 'instrument': 'EUR_USD',\n",
       " 'units': '100.0',\n",
       " 'timeInForce': 'FOK',\n",
       " 'positionFill': 'DEFAULT',\n",
       " 'reason': 'CLIENT_ORDER',\n",
       " 'stopLossOnFill': {'distance': '0.00014962', 'timeInForce': 'GTC'},\n",
       " 'rejectReason': 'STOP_LOSS_ON_FILL_DISTANCE_PRECISION_EXCEEDED'}"
      ]
     },
     "execution_count": 75,
     "metadata": {},
     "output_type": "execute_result"
    }
   ],
   "source": [
    "order = trader.create_order(trader.instrument, trader.units, suppress = True, ret = True, # Order Cancelled example, distance is to small do to the pip.\n",
    "                            sl_distance = 0.00014962)\n",
    "order"
   ]
  },
  {
   "cell_type": "markdown",
   "id": "582b55ea-1ed1-4eca-9501-003709685e0e",
   "metadata": {},
   "source": [
    "Another common mistakes is setting the stop or limit orders to small or great based on price. "
   ]
  },
  {
   "cell_type": "markdown",
   "id": "e478d022-6d59-4bdc-91bb-c11d106086e2",
   "metadata": {},
   "source": [
    "# Setting SL Distance and TP Price in real-time"
   ]
  },
  {
   "cell_type": "code",
   "execution_count": 79,
   "id": "4c512aa5-0aa6-4764-80a5-9ef0d95bd75f",
   "metadata": {},
   "outputs": [
    {
     "data": {
      "text/plain": [
       "<__main__.ConTrader at 0x1738cb75730>"
      ]
     },
     "execution_count": 79,
     "metadata": {},
     "output_type": "execute_result"
    }
   ],
   "source": [
    "trader"
   ]
  },
  {
   "cell_type": "code",
   "execution_count": 81,
   "id": "eecf0401-62d5-4239-8dac-a2626273f200",
   "metadata": {},
   "outputs": [
    {
     "data": {
      "text/plain": [
       "1.13752"
      ]
     },
     "execution_count": 81,
     "metadata": {},
     "output_type": "execute_result"
    }
   ],
   "source": [
    "current_price = trader.get_prices(trader.instrument)[2]\n",
    "current_price"
   ]
  },
  {
   "cell_type": "code",
   "execution_count": 83,
   "id": "310b26b2-9a6f-46b9-8ef4-736041229679",
   "metadata": {},
   "outputs": [],
   "source": [
    "sl_perc = 0.01 # Stop loss if price moves in wrong direction, stop at 1%"
   ]
  },
  {
   "cell_type": "code",
   "execution_count": 85,
   "id": "6eaaf312-06cb-4172-b242-16a13b7e9bef",
   "metadata": {},
   "outputs": [
    {
     "data": {
      "text/plain": [
       "0.0114"
      ]
     },
     "execution_count": 85,
     "metadata": {},
     "output_type": "execute_result"
    }
   ],
   "source": [
    "sl_dist = round(current_price * sl_perc, 4) # remember rouding to 4 decimal places\n",
    "sl_dist"
   ]
  },
  {
   "cell_type": "code",
   "execution_count": 87,
   "id": "b8ac78b3-0617-497d-b576-79a29b5de94e",
   "metadata": {},
   "outputs": [
    {
     "data": {
      "text/plain": [
       "1.12612"
      ]
     },
     "execution_count": 87,
     "metadata": {},
     "output_type": "execute_result"
    }
   ],
   "source": [
    "current_price - sl_dist # stop price for long(buy)"
   ]
  },
  {
   "cell_type": "code",
   "execution_count": 89,
   "id": "41fa1b52-099d-4969-959e-4e62ce240d7e",
   "metadata": {},
   "outputs": [
    {
     "data": {
      "text/plain": [
       "1.1489200000000002"
      ]
     },
     "execution_count": 89,
     "metadata": {},
     "output_type": "execute_result"
    }
   ],
   "source": [
    "current_price + sl_dist # stop price for a short"
   ]
  },
  {
   "cell_type": "markdown",
   "id": "6975ccd6-b823-49ef-91e0-12dcd7219861",
   "metadata": {},
   "source": [
    "#### Setting take profit price"
   ]
  },
  {
   "cell_type": "code",
   "execution_count": 92,
   "id": "7df831fa-1226-412b-8d97-d88acb267ef0",
   "metadata": {},
   "outputs": [],
   "source": [
    "from decimal import Decimal, ROUND_HALF_UP, getcontext"
   ]
  },
  {
   "cell_type": "code",
   "execution_count": 94,
   "id": "f33bf9eb-94e3-4e23-be13-0b97d91857b6",
   "metadata": {},
   "outputs": [],
   "source": [
    "getcontext().prec = 6"
   ]
  },
  {
   "cell_type": "code",
   "execution_count": 96,
   "id": "aee556c5-4cbb-4209-9107-499a64a17df7",
   "metadata": {},
   "outputs": [],
   "source": [
    "target_position = 1 "
   ]
  },
  {
   "cell_type": "code",
   "execution_count": 98,
   "id": "42a666a7-9c04-48ee-9c5a-da1517fc7631",
   "metadata": {},
   "outputs": [],
   "source": [
    "tp_perc = Decimal(\"0.03\") # 3% in price difference"
   ]
  },
  {
   "cell_type": "code",
   "execution_count": 100,
   "id": "bd414583-7786-4316-893f-bb5ed7b2a6fa",
   "metadata": {},
   "outputs": [],
   "source": [
    "current_price_decimal = Decimal(str(current_price))"
   ]
  },
  {
   "cell_type": "code",
   "execution_count": 102,
   "id": "44f81b93-d1e9-48d0-8d5b-f281b019ef08",
   "metadata": {},
   "outputs": [],
   "source": [
    "if target_position == 1:\n",
    "    tp_price = current_price_decimal * (Decimal(\"1.0\") + tp_perc)\n",
    "elif target_position == -1:\n",
    "    tp_price = current_price_decimal * (Decimal(\"1.0\") - tp_perc)"
   ]
  },
  {
   "cell_type": "code",
   "execution_count": 104,
   "id": "1c8fc3d6-1f84-4840-b85f-c78cc6e113a8",
   "metadata": {},
   "outputs": [],
   "source": [
    "tp_price = Decimal(tp_price).quantize(Decimal(\"0.0001\"), rounding=ROUND_HALF_UP)"
   ]
  },
  {
   "cell_type": "code",
   "execution_count": 106,
   "id": "3b528ffe-3b70-495c-a9ac-b271c7f171ce",
   "metadata": {},
   "outputs": [],
   "source": [
    "tp_price = float(format(tp_price, '.5f'))"
   ]
  },
  {
   "cell_type": "code",
   "execution_count": 108,
   "id": "fbd33374-0af4-4e2e-97db-95004fdab5d9",
   "metadata": {},
   "outputs": [
    {
     "data": {
      "text/plain": [
       "{'id': '533',\n",
       " 'time': '2025-05-06T21:57:06.069821183Z',\n",
       " 'userID': 29655670,\n",
       " 'accountID': '101-001-29655670-001',\n",
       " 'batchID': '533',\n",
       " 'requestID': '79383233815315452',\n",
       " 'type': 'MARKET_ORDER_REJECT',\n",
       " 'instrument': 'EUR_USD',\n",
       " 'units': '100.0',\n",
       " 'timeInForce': 'FOK',\n",
       " 'positionFill': 'DEFAULT',\n",
       " 'reason': 'CLIENT_ORDER',\n",
       " 'takeProfitOnFill': {'price': 1.17169999999999, 'timeInForce': 'GTC'},\n",
       " 'stopLossOnFill': {'distance': '0.0114', 'timeInForce': 'GTC'},\n",
       " 'rejectReason': 'TAKE_PROFIT_ON_FILL_PRICE_PRECISION_EXCEEDED'}"
      ]
     },
     "execution_count": 108,
     "metadata": {},
     "output_type": "execute_result"
    }
   ],
   "source": [
    "order = trader.create_order(\n",
    "    trader.instrument,\n",
    "    trader.units,\n",
    "    suppress=True,\n",
    "    ret=True,\n",
    "    sl_distance=sl_dist,\n",
    "    tp_price=tp_price\n",
    ")\n",
    "\n",
    "order"
   ]
  },
  {
   "cell_type": "code",
   "execution_count": 110,
   "id": "1c69651f-d59b-4154-8134-1e136d7e8b39",
   "metadata": {},
   "outputs": [
    {
     "data": {
      "text/plain": [
       "{'id': '535',\n",
       " 'time': '2025-05-06T21:57:06.656984677Z',\n",
       " 'userID': 29655670,\n",
       " 'accountID': '101-001-29655670-001',\n",
       " 'batchID': '534',\n",
       " 'requestID': '97397632321816070',\n",
       " 'type': 'ORDER_FILL',\n",
       " 'orderID': '534',\n",
       " 'instrument': 'EUR_USD',\n",
       " 'units': '-100.0',\n",
       " 'gainQuoteHomeConversionFactor': '1.0',\n",
       " 'lossQuoteHomeConversionFactor': '1.0',\n",
       " 'price': 1.13716,\n",
       " 'fullVWAP': 1.13716,\n",
       " 'fullPrice': {'type': 'PRICE',\n",
       "  'bids': [{'price': 1.13716, 'liquidity': '500000'},\n",
       "   {'price': 1.13715, 'liquidity': '2500000'},\n",
       "   {'price': 1.13714, 'liquidity': '2000000'},\n",
       "   {'price': 1.13713, 'liquidity': '5000000'},\n",
       "   {'price': 1.1371, 'liquidity': '10000000'},\n",
       "   {'price': 1.13707, 'liquidity': '10000000'}],\n",
       "  'asks': [{'price': 1.13743, 'liquidity': '500000'},\n",
       "   {'price': 1.13744, 'liquidity': '500000'},\n",
       "   {'price': 1.13745, 'liquidity': '2000000'},\n",
       "   {'price': 1.13746, 'liquidity': '2000000'},\n",
       "   {'price': 1.13747, 'liquidity': '5000000'},\n",
       "   {'price': 1.13749, 'liquidity': '10000000'},\n",
       "   {'price': 1.13752, 'liquidity': '10000000'}],\n",
       "  'closeoutBid': 1.13707,\n",
       "  'closeoutAsk': 1.13752},\n",
       " 'reason': 'MARKET_ORDER',\n",
       " 'pl': '0.0',\n",
       " 'financing': '0.0',\n",
       " 'commission': '0.0',\n",
       " 'guaranteedExecutionFee': '0.0',\n",
       " 'accountBalance': '109969.7261',\n",
       " 'tradeOpened': {'tradeID': '535',\n",
       "  'units': '-100.0',\n",
       "  'price': 1.13716,\n",
       "  'guaranteedExecutionFee': '0.0',\n",
       "  'halfSpreadCost': '0.0135',\n",
       "  'initialMarginRequired': '2.2746'},\n",
       " 'halfSpreadCost': '0.0135'}"
      ]
     },
     "execution_count": 110,
     "metadata": {},
     "output_type": "execute_result"
    }
   ],
   "source": [
    "order = trader.create_order(trader.instrument, -trader.units, suppress = True, ret = True)\n",
    "order"
   ]
  },
  {
   "cell_type": "markdown",
   "id": "ba0d9e6a-68d1-4044-8ad6-d4b3a37c2b25",
   "metadata": {},
   "source": [
    "# Check for SL / TP events"
   ]
  },
  {
   "cell_type": "code",
   "execution_count": 115,
   "id": "6be7d43b-f119-4b05-829b-309b390eb7a0",
   "metadata": {},
   "outputs": [
    {
     "data": {
      "text/plain": [
       "1"
      ]
     },
     "execution_count": 115,
     "metadata": {},
     "output_type": "execute_result"
    }
   ],
   "source": [
    "trader.position = 1\n",
    "trader.position"
   ]
  },
  {
   "cell_type": "code",
   "execution_count": 119,
   "id": "f4dc37a5-e2d4-463a-8107-1048867facff",
   "metadata": {},
   "outputs": [
    {
     "data": {
      "text/plain": [
       "100"
      ]
     },
     "execution_count": 119,
     "metadata": {},
     "output_type": "execute_result"
    }
   ],
   "source": [
    "exp_position = round(trader.position*trader.units, 0)\n",
    "exp_position"
   ]
  },
  {
   "cell_type": "code",
   "execution_count": 125,
   "id": "e382e9c4-01aa-404c-845a-8ab3a3976878",
   "metadata": {},
   "outputs": [
    {
     "data": {
      "text/plain": [
       "[{'instrument': 'EUR_USD',\n",
       "  'pl': '223.422',\n",
       "  'unrealizedPL': '0.393',\n",
       "  'marginUsed': '2.2663',\n",
       "  'resettablePL': '223.422',\n",
       "  'financing': '-253.6959',\n",
       "  'commission': '0.0',\n",
       "  'guaranteedExecutionFees': '0.0',\n",
       "  'long': {'units': '0.0',\n",
       "   'pl': '271.166',\n",
       "   'unrealizedPL': '0.0',\n",
       "   'resettablePL': '271.166',\n",
       "   'financing': '-253.8575',\n",
       "   'guaranteedExecutionFees': '0.0'},\n",
       "  'short': {'units': '-100.0',\n",
       "   'averagePrice': 1.13716,\n",
       "   'tradeIDs': ['535'],\n",
       "   'pl': '-47.744',\n",
       "   'unrealizedPL': '0.393',\n",
       "   'resettablePL': '-47.744',\n",
       "   'financing': '0.1616',\n",
       "   'guaranteedExecutionFees': '0.0'}}]"
      ]
     },
     "execution_count": 125,
     "metadata": {},
     "output_type": "execute_result"
    }
   ],
   "source": [
    "positions = trader.get_positions()\n",
    "positions"
   ]
  },
  {
   "cell_type": "code",
   "execution_count": 127,
   "id": "b37f38a4-eccb-4a03-90d7-e7772fa05df7",
   "metadata": {},
   "outputs": [
    {
     "data": {
      "text/plain": [
       "-100.0"
      ]
     },
     "execution_count": 127,
     "metadata": {},
     "output_type": "execute_result"
    }
   ],
   "source": [
    "actual_position = 0\n",
    "for pos in positions:\n",
    "    if pos[\"instrument\"] == trader.instrument:\n",
    "        actual_position = round(float(pos[\"long\"][\"units\"]) + float(pos[\"short\"][\"units\"]), 0)\n",
    "actual_position"
   ]
  },
  {
   "cell_type": "code",
   "execution_count": 129,
   "id": "e684f81b-07f8-46fb-a569-17d388fdf437",
   "metadata": {},
   "outputs": [
    {
     "name": "stdout",
     "output_type": "stream",
     "text": [
      "Go Neutral and Stop Trading Session\n"
     ]
    }
   ],
   "source": [
    "if actual_position != exp_position:\n",
    "    trader.position = actual_position / trader.units\n",
    "    print(\"Go Neutral and Stop Trading Session\")"
   ]
  },
  {
   "cell_type": "code",
   "execution_count": 131,
   "id": "3dbf6871-65fb-4ca6-8976-108e159bf54a",
   "metadata": {},
   "outputs": [
    {
     "data": {
      "text/plain": [
       "-1.0"
      ]
     },
     "execution_count": 131,
     "metadata": {},
     "output_type": "execute_result"
    }
   ],
   "source": [
    "trader.position"
   ]
  },
  {
   "cell_type": "code",
   "execution_count": null,
   "id": "e24c96a3-40b9-4cd1-b48e-37e789ef30af",
   "metadata": {},
   "outputs": [],
   "source": []
  }
 ],
 "metadata": {
  "kernelspec": {
   "display_name": "Python 3 (ipykernel)",
   "language": "python",
   "name": "python3"
  },
  "language_info": {
   "codemirror_mode": {
    "name": "ipython",
    "version": 3
   },
   "file_extension": ".py",
   "mimetype": "text/x-python",
   "name": "python",
   "nbconvert_exporter": "python",
   "pygments_lexer": "ipython3",
   "version": "3.12.4"
  }
 },
 "nbformat": 4,
 "nbformat_minor": 5
}
