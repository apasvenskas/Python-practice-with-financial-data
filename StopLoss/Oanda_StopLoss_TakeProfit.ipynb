{
 "cells": [
  {
   "cell_type": "markdown",
   "id": "009cf9af-0b5c-4d6b-a1e1-fef20b64004b",
   "metadata": {},
   "source": [
    "# Oanda: How to create a stop loss & take profit"
   ]
  },
  {
   "cell_type": "code",
   "execution_count": 2,
   "id": "620d8254-f543-472d-a79a-ab2e2dfd205a",
   "metadata": {},
   "outputs": [],
   "source": [
    "from trader import ConTrader"
   ]
  },
  {
   "cell_type": "code",
   "execution_count": 4,
   "id": "7049f0d7-327a-4dd4-938d-5693496de611",
   "metadata": {},
   "outputs": [],
   "source": [
    "trader = ConTrader(\"Oanda.cfg\", \"EUR_USD\", \"1min\", window = 1, units = 100)"
   ]
  },
  {
   "cell_type": "code",
   "execution_count": 6,
   "id": "e6e1649f-1e21-45f2-94f0-ccdafae15474",
   "metadata": {},
   "outputs": [],
   "source": [
    "trader.get_most_recent()"
   ]
  },
  {
   "cell_type": "code",
   "execution_count": 8,
   "id": "34ff2ca8-0dd8-4b56-b465-3325c361914b",
   "metadata": {},
   "outputs": [],
   "source": [
    "trader.define_strategy()"
   ]
  },
  {
   "cell_type": "code",
   "execution_count": 10,
   "id": "d30282c8-e806-488b-9a95-36707135ed60",
   "metadata": {},
   "outputs": [
    {
     "data": {
      "text/plain": [
       "1.13677"
      ]
     },
     "execution_count": 10,
     "metadata": {},
     "output_type": "execute_result"
    }
   ],
   "source": [
    "current_price = trader.data[trader.instrument].iloc[-1]\n",
    "current_price"
   ]
  },
  {
   "cell_type": "code",
   "execution_count": 12,
   "id": "72e2afb1-8af4-40cd-b9ab-6f5818efc978",
   "metadata": {},
   "outputs": [
    {
     "data": {
      "text/plain": [
       "{'id': '398',\n",
       " 'time': '2025-04-30T02:41:25.998442555Z',\n",
       " 'userID': 29655670,\n",
       " 'accountID': '101-001-29655670-001',\n",
       " 'batchID': '398',\n",
       " 'requestID': '79380768650058931',\n",
       " 'type': 'MARKET_ORDER',\n",
       " 'instrument': 'EUR_USD',\n",
       " 'units': '100.0',\n",
       " 'timeInForce': 'FOK',\n",
       " 'positionFill': 'DEFAULT',\n",
       " 'reason': 'CLIENT_ORDER',\n",
       " 'stopLossOnFill': {'distance': '0.01', 'timeInForce': 'GTC'}}"
      ]
     },
     "execution_count": 12,
     "metadata": {},
     "output_type": "execute_result"
    }
   ],
   "source": [
    "order = trader.create_order(trader.instrument, trader.units, suppress = True, ret = True,\n",
    "                           sl_distance = 0.01)\n",
    "order"
   ]
  },
  {
   "cell_type": "code",
   "execution_count": 14,
   "id": "86a6e682-b5ae-4074-a48a-ec185db14c6a",
   "metadata": {},
   "outputs": [
    {
     "data": {
      "text/plain": [
       "{'id': '401',\n",
       " 'time': '2025-04-30T02:41:26.727628010Z',\n",
       " 'userID': 29655670,\n",
       " 'accountID': '101-001-29655670-001',\n",
       " 'batchID': '400',\n",
       " 'requestID': '115409565671389651',\n",
       " 'type': 'ORDER_FILL',\n",
       " 'orderID': '400',\n",
       " 'instrument': 'EUR_USD',\n",
       " 'units': '-100.0',\n",
       " 'gainQuoteHomeConversionFactor': '1.0',\n",
       " 'lossQuoteHomeConversionFactor': '1.0',\n",
       " 'price': 1.13661,\n",
       " 'fullVWAP': 1.13661,\n",
       " 'fullPrice': {'type': 'PRICE',\n",
       "  'bids': [{'price': 1.13661, 'liquidity': '500000'},\n",
       "   {'price': 1.1366, 'liquidity': '2500000'},\n",
       "   {'price': 1.13659, 'liquidity': '2000000'},\n",
       "   {'price': 1.13658, 'liquidity': '5000000'},\n",
       "   {'price': 1.13655, 'liquidity': '10000000'},\n",
       "   {'price': 1.13652, 'liquidity': '10000000'}],\n",
       "  'asks': [{'price': 1.13678, 'liquidity': '500000'},\n",
       "   {'price': 1.13679, 'liquidity': '500000'},\n",
       "   {'price': 1.1368, 'liquidity': '2000000'},\n",
       "   {'price': 1.13681, 'liquidity': '2000000'},\n",
       "   {'price': 1.13682, 'liquidity': '5000000'},\n",
       "   {'price': 1.13684, 'liquidity': '10000000'},\n",
       "   {'price': 1.13687, 'liquidity': '10000000'}],\n",
       "  'closeoutBid': 1.13652,\n",
       "  'closeoutAsk': 1.13687},\n",
       " 'reason': 'MARKET_ORDER',\n",
       " 'pl': '9.902',\n",
       " 'financing': '0.0',\n",
       " 'commission': '0.0',\n",
       " 'guaranteedExecutionFee': '0.0',\n",
       " 'accountBalance': '108235.2234',\n",
       " 'tradeReduced': {'tradeID': '254',\n",
       "  'units': '-100.0',\n",
       "  'price': 1.13661,\n",
       "  'realizedPL': '9.902',\n",
       "  'financing': '0.0',\n",
       "  'guaranteedExecutionFee': '0.0',\n",
       "  'halfSpreadCost': '0.0085'},\n",
       " 'halfSpreadCost': '0.0085'}"
      ]
     },
     "execution_count": 14,
     "metadata": {},
     "output_type": "execute_result"
    }
   ],
   "source": [
    "order = trader.create_order(trader.instrument, -trader.units, suppress = True, ret = True)\n",
    "order"
   ]
  },
  {
   "cell_type": "markdown",
   "id": "98c2f795-399d-4786-a38f-0f72dd383d5f",
   "metadata": {},
   "source": [
    "# Adding Limit Orders to Trading Bot (Take profit & Stop Loss)"
   ]
  },
  {
   "cell_type": "markdown",
   "id": "e0f6bf7b-fbbb-46d9-92ef-96308f1d9cd0",
   "metadata": {},
   "source": [
    "### Oanda: Contrader Class without Trake Profits & Stop Loss"
   ]
  },
  {
   "cell_type": "code",
   "execution_count": 18,
   "id": "63c85053-fa92-4fd0-99f5-32a3838e1bb5",
   "metadata": {},
   "outputs": [],
   "source": [
    "import pandas as pd\n",
    "import numpy as np\n",
    "import tpqoa\n",
    "from datetime import datetime, timedelta, timezone # Need to import timezone seperatly\n",
    "import time"
   ]
  },
  {
   "cell_type": "code",
   "execution_count": 20,
   "id": "9e494dab-749c-4aab-b249-0ba899c34502",
   "metadata": {},
   "outputs": [],
   "source": [
    "class ConTrader(tpqoa.tpqoa):\n",
    "    def __init__(self, conf_file, instrument, bar_length, window, units):\n",
    "        super().__init__(conf_file)\n",
    "        self.instrument = instrument\n",
    "        self.bar_length = pd.to_timedelta(bar_length)\n",
    "        self.tick_data = pd.DataFrame()\n",
    "        self.raw_data = None\n",
    "        self.data = None \n",
    "        self.last_bar = None\n",
    "        self.units = units\n",
    "        self.position = 0\n",
    "        self.profits = [] \n",
    "        \n",
    "        #*****************add strategy-specific attributes here******************\n",
    "        self.window = window\n",
    "        #************************************************************************\n",
    "    \n",
    "    def get_most_recent(self, days = 5):\n",
    "        while True:\n",
    "            time.sleep(2)\n",
    "            now = datetime.now(timezone.utc).replace(tzinfo=None) # new (Python 3.12)\n",
    "            now = now - timedelta(microseconds = now.microsecond)\n",
    "            past = now - timedelta(days = days)\n",
    "            df = self.get_history(instrument = self.instrument, start = past, end = now,\n",
    "                                   granularity = \"S5\", price = \"M\", localize = False).c.dropna().to_frame()\n",
    "            df.rename(columns = {\"c\":self.instrument}, inplace = True)\n",
    "            df = df.resample(self.bar_length, label = \"right\").last().dropna().iloc[:-1]\n",
    "            self.raw_data = df.copy()\n",
    "            self.last_bar = self.raw_data.index[-1]\n",
    "            if pd.to_datetime(datetime.now(timezone.utc)) - self.last_bar < self.bar_length: # new (Python 3.12)\n",
    "                break\n",
    "            \n",
    "    def start_trading(self, days, max_attempts = 5, wait = 20, wait_increase = 0): # NEW, erroe handling\n",
    "        attempt = 0\n",
    "        success = False \n",
    "        while True:\n",
    "            try:\n",
    "                self.get_most_recent(days)\n",
    "                self.stream_data(self.instrument)\n",
    "            except Exception as e:\n",
    "                print(e, end = \" | \")\n",
    "            else:\n",
    "                success = True\n",
    "                break\n",
    "            finally:\n",
    "                attempt += 1\n",
    "                print(\"Attempt: {}\".format(attempt), end = 'n/')\n",
    "                if success == False:\n",
    "                    if attempt >= max_attempts:\n",
    "                        print(\"Max_attempts reached!\")\n",
    "                        try: # for termination \n",
    "                            time.sleep(wait)\n",
    "                            self.terminate_session(cause = \"Unexpected Session Stop (too many errors).\")\n",
    "                        except Exception as e:\n",
    "                            print(e, end = \" | \")\n",
    "                            print(\"Could not terminate the session.\")\n",
    "                        finally:\n",
    "                            break\n",
    "                    else:\n",
    "                        time.sleep(wait)\n",
    "                        wait += wait_increase\n",
    "                        self.tick_data = pd.DataFrame()\n",
    "                     \n",
    "    def on_success(self, time, bid, ask):\n",
    "        print(self.ticks, end = \"\\r\", flush = True)\n",
    "        \n",
    "        recent_tick = pd.to_datetime(time)\n",
    "        \n",
    "        # define stop\n",
    "        if self.ticks >= 100:\n",
    "            self.terminate_session(cause = \"Scheduled Session End.\")\n",
    "            return\n",
    "        \n",
    "        # collect and store tick data\n",
    "        df = pd.DataFrame({self.instrument:(ask + bid)/2}, \n",
    "                          index = [recent_tick])\n",
    "        self.tick_data = pd.concat([self.tick_data, df]) \n",
    "        \n",
    "        # if a time longer than the bar_lenght has elapsed between last full bar and the most recent tick\n",
    "        if recent_tick - self.last_bar >= self.bar_length:\n",
    "            self.resample_and_join()\n",
    "            self.define_strategy()\n",
    "            self.execute_trades()\n",
    "            \n",
    "    def resample_and_join(self):\n",
    "        self.raw_data = pd.concat([self.raw_data, self.tick_data.resample(self.bar_length, \n",
    "                                                                          label=\"right\").last().ffill().iloc[:-1]])\n",
    "        self.tick_data = self.tick_data.iloc[-1:]\n",
    "        self.last_bar = self.raw_data.index[-1]\n",
    "        \n",
    "    def define_strategy(self): # \"strategy-specific\"\n",
    "        df = self.raw_data.copy()\n",
    "        \n",
    "        #******************** define your strategy here ************************\n",
    "        df[\"returns\"] = np.log(df[self.instrument] / df[self.instrument].shift())\n",
    "        df[\"position\"] = -np.sign(df.returns.rolling(self.window).mean())\n",
    "        #***********************************************************************\n",
    "        \n",
    "        self.data = df.copy()\n",
    "        \n",
    "    def execute_trades(self):\n",
    "        if self.data[\"position\"].iloc[-1] == 1:\n",
    "            if self.position == 0:\n",
    "                order = self.create_order(self.instrument, self.units, suppress = True, ret = True)\n",
    "                self.report_trade(order, \"GOING LONG\")  \n",
    "            elif self.position == -1:\n",
    "                order = self.create_order(self.instrument, self.units * 2, suppress = True, ret = True) \n",
    "                self.report_trade(order, \"GOING LONG\")  \n",
    "            self.position = 1\n",
    "        elif self.data[\"position\"].iloc[-1] == -1: \n",
    "            if self.position == 0:\n",
    "                order = self.create_order(self.instrument, -self.units, suppress = True, ret = True)\n",
    "                self.report_trade(order, \"GOING SHORT\")  \n",
    "            elif self.position == 1:\n",
    "                order = self.create_order(self.instrument, -self.units * 2, suppress = True, ret = True)\n",
    "                self.report_trade(order, \"GOING SHORT\")  \n",
    "            self.position = -1\n",
    "        elif self.data[\"position\"].iloc[-1] == 0: \n",
    "            if self.position == -1:\n",
    "                order = self.create_order(self.instrument, self.units, suppress = True, ret = True) \n",
    "                self.report_trade(order, \"GOING NEUTRAL\")  \n",
    "            elif self.position == 1:\n",
    "                order = self.create_order(self.instrument, -self.units, suppress = True, ret = True)\n",
    "                self.report_trade(order, \"GOING NEUTRAL\")  \n",
    "            self.position = 0\n",
    "    \n",
    "    def report_trade(self, order, going):  \n",
    "        time = order[\"time\"]\n",
    "        units = order[\"units\"]\n",
    "        price = order[\"price\"]\n",
    "        pl = float(order[\"pl\"])\n",
    "        self.profits.append(pl)\n",
    "        cumpl = sum(self.profits)\n",
    "        print(\"\\n\" + 100* \"-\")\n",
    "        print(\"{} | {}\".format(time, going))\n",
    "        print(\"{} | units = {} | price = {} | P&L = {} | Cum P&L = {}\".format(time, units, price, pl, cumpl))\n",
    "        print(100 * \"-\" + \"\\n\")  \n",
    "        \n",
    "    def terminate_session(self, cause): # NEW\n",
    "        self.stop_stream = True\n",
    "        if self.position != 0:\n",
    "            close_order = self.create_order(self.instrument, units = -self.position * self.units,\n",
    "                                            suppress = True, ret = True) \n",
    "            self.report_trade(close_order, \"GOING NEUTRAL\")\n",
    "            self.position = 0\n",
    "        print(cause)"
   ]
  },
  {
   "cell_type": "code",
   "execution_count": 22,
   "id": "f67cd89c-ed4d-4fa2-a33b-f30ea2d5f4e3",
   "metadata": {},
   "outputs": [],
   "source": [
    "trader = ConTrader(\"oanda.cfg\", \"EUR_USD\", \"1min\", window = 1, units = 100)"
   ]
  },
  {
   "cell_type": "code",
   "execution_count": 24,
   "id": "89190c47-33b6-4f85-8509-4e0a83863d82",
   "metadata": {},
   "outputs": [
    {
     "name": "stdout",
     "output_type": "stream",
     "text": [
      "1\n",
      "----------------------------------------------------------------------------------------------------\n",
      "2025-04-30T02:41:38.152715523Z | GOING LONG\n",
      "2025-04-30T02:41:38.152715523Z | units = 100.0 | price = 1.13673 | P&L = 0.0 | Cum P&L = 0.0\n",
      "----------------------------------------------------------------------------------------------------\n",
      "\n",
      "100\n",
      "----------------------------------------------------------------------------------------------------\n",
      "2025-04-30T02:43:39.091574926Z | GOING NEUTRAL\n",
      "2025-04-30T02:43:39.091574926Z | units = -100.0 | price = 1.1364 | P&L = 9.881 | Cum P&L = 9.881\n",
      "----------------------------------------------------------------------------------------------------\n",
      "\n",
      "Scheduled Session End.\n",
      "Attempt: 1n/"
     ]
    }
   ],
   "source": [
    "trader.start_trading(days = 5, max_attempts = 3, wait = 20, wait_increase = 0)"
   ]
  },
  {
   "cell_type": "code",
   "execution_count": 26,
   "id": "0ce70d93-80ae-42db-bee4-4366452288a1",
   "metadata": {},
   "outputs": [
    {
     "data": {
      "text/html": [
       "<div>\n",
       "<style scoped>\n",
       "    .dataframe tbody tr th:only-of-type {\n",
       "        vertical-align: middle;\n",
       "    }\n",
       "\n",
       "    .dataframe tbody tr th {\n",
       "        vertical-align: top;\n",
       "    }\n",
       "\n",
       "    .dataframe thead th {\n",
       "        text-align: right;\n",
       "    }\n",
       "</style>\n",
       "<table border=\"1\" class=\"dataframe\">\n",
       "  <thead>\n",
       "    <tr style=\"text-align: right;\">\n",
       "      <th></th>\n",
       "      <th>EUR_USD</th>\n",
       "      <th>returns</th>\n",
       "      <th>position</th>\n",
       "    </tr>\n",
       "  </thead>\n",
       "  <tbody>\n",
       "    <tr>\n",
       "      <th>2025-04-25 02:41:00+00:00</th>\n",
       "      <td>1.134600</td>\n",
       "      <td>NaN</td>\n",
       "      <td>NaN</td>\n",
       "    </tr>\n",
       "    <tr>\n",
       "      <th>2025-04-25 02:42:00+00:00</th>\n",
       "      <td>1.134620</td>\n",
       "      <td>0.000018</td>\n",
       "      <td>-1.0</td>\n",
       "    </tr>\n",
       "    <tr>\n",
       "      <th>2025-04-25 02:43:00+00:00</th>\n",
       "      <td>1.134460</td>\n",
       "      <td>-0.000141</td>\n",
       "      <td>1.0</td>\n",
       "    </tr>\n",
       "    <tr>\n",
       "      <th>2025-04-25 02:44:00+00:00</th>\n",
       "      <td>1.134480</td>\n",
       "      <td>0.000018</td>\n",
       "      <td>-1.0</td>\n",
       "    </tr>\n",
       "    <tr>\n",
       "      <th>2025-04-25 02:45:00+00:00</th>\n",
       "      <td>1.134520</td>\n",
       "      <td>0.000035</td>\n",
       "      <td>-1.0</td>\n",
       "    </tr>\n",
       "    <tr>\n",
       "      <th>...</th>\n",
       "      <td>...</td>\n",
       "      <td>...</td>\n",
       "      <td>...</td>\n",
       "    </tr>\n",
       "    <tr>\n",
       "      <th>2025-04-30 02:38:00+00:00</th>\n",
       "      <td>1.136780</td>\n",
       "      <td>0.000018</td>\n",
       "      <td>-1.0</td>\n",
       "    </tr>\n",
       "    <tr>\n",
       "      <th>2025-04-30 02:39:00+00:00</th>\n",
       "      <td>1.136790</td>\n",
       "      <td>0.000009</td>\n",
       "      <td>-1.0</td>\n",
       "    </tr>\n",
       "    <tr>\n",
       "      <th>2025-04-30 02:40:00+00:00</th>\n",
       "      <td>1.136770</td>\n",
       "      <td>-0.000018</td>\n",
       "      <td>1.0</td>\n",
       "    </tr>\n",
       "    <tr>\n",
       "      <th>2025-04-30 02:42:00+00:00</th>\n",
       "      <td>1.136615</td>\n",
       "      <td>-0.000136</td>\n",
       "      <td>1.0</td>\n",
       "    </tr>\n",
       "    <tr>\n",
       "      <th>2025-04-30 02:43:00+00:00</th>\n",
       "      <td>1.136405</td>\n",
       "      <td>-0.000185</td>\n",
       "      <td>1.0</td>\n",
       "    </tr>\n",
       "  </tbody>\n",
       "</table>\n",
       "<p>4283 rows × 3 columns</p>\n",
       "</div>"
      ],
      "text/plain": [
       "                            EUR_USD   returns  position\n",
       "2025-04-25 02:41:00+00:00  1.134600       NaN       NaN\n",
       "2025-04-25 02:42:00+00:00  1.134620  0.000018      -1.0\n",
       "2025-04-25 02:43:00+00:00  1.134460 -0.000141       1.0\n",
       "2025-04-25 02:44:00+00:00  1.134480  0.000018      -1.0\n",
       "2025-04-25 02:45:00+00:00  1.134520  0.000035      -1.0\n",
       "...                             ...       ...       ...\n",
       "2025-04-30 02:38:00+00:00  1.136780  0.000018      -1.0\n",
       "2025-04-30 02:39:00+00:00  1.136790  0.000009      -1.0\n",
       "2025-04-30 02:40:00+00:00  1.136770 -0.000018       1.0\n",
       "2025-04-30 02:42:00+00:00  1.136615 -0.000136       1.0\n",
       "2025-04-30 02:43:00+00:00  1.136405 -0.000185       1.0\n",
       "\n",
       "[4283 rows x 3 columns]"
      ]
     },
     "execution_count": 26,
     "metadata": {},
     "output_type": "execute_result"
    }
   ],
   "source": [
    "trader.data"
   ]
  },
  {
   "cell_type": "code",
   "execution_count": 28,
   "id": "52af238e-226d-43a2-bb70-a464b80a0e63",
   "metadata": {},
   "outputs": [
    {
     "data": {
      "text/plain": [
       "0"
      ]
     },
     "execution_count": 28,
     "metadata": {},
     "output_type": "execute_result"
    }
   ],
   "source": [
    "trader.position"
   ]
  },
  {
   "cell_type": "markdown",
   "id": "1943ce1c-16df-4b6c-ae33-073fb5ed4963",
   "metadata": {},
   "source": [
    "## Stop loss and take profit"
   ]
  },
  {
   "cell_type": "code",
   "execution_count": 31,
   "id": "59cde778-0c75-4820-9951-17f2bd640856",
   "metadata": {},
   "outputs": [
    {
     "data": {
      "text/plain": [
       "<__main__.ConTrader at 0x1e3945c5340>"
      ]
     },
     "execution_count": 31,
     "metadata": {},
     "output_type": "execute_result"
    }
   ],
   "source": [
    "trader"
   ]
  },
  {
   "cell_type": "code",
   "execution_count": 33,
   "id": "a2aef11d-bd1b-47a8-961b-d72fe6f3da5a",
   "metadata": {},
   "outputs": [
    {
     "data": {
      "text/plain": [
       "1.1364049999999999"
      ]
     },
     "execution_count": 33,
     "metadata": {},
     "output_type": "execute_result"
    }
   ],
   "source": [
    "current_price = trader.data[trader.instrument].iloc[-1]\n",
    "current_price"
   ]
  },
  {
   "cell_type": "code",
   "execution_count": 39,
   "id": "f1ec7713-2ad1-43e9-954d-300bdce4875e",
   "metadata": {},
   "outputs": [
    {
     "data": {
      "text/plain": [
       "{'id': '410',\n",
       " 'time': '2025-04-30T02:49:38.428327175Z',\n",
       " 'userID': 29655670,\n",
       " 'accountID': '101-001-29655670-001',\n",
       " 'batchID': '410',\n",
       " 'requestID': '97395169228583757',\n",
       " 'type': 'MARKET_ORDER',\n",
       " 'instrument': 'EUR_USD',\n",
       " 'units': '100.0',\n",
       " 'timeInForce': 'FOK',\n",
       " 'positionFill': 'DEFAULT',\n",
       " 'reason': 'CLIENT_ORDER',\n",
       " 'stopLossOnFill': {'distance': '0.01', 'timeInForce': 'GTC'}}"
      ]
     },
     "execution_count": 39,
     "metadata": {},
     "output_type": "execute_result"
    }
   ],
   "source": [
    "order = trader.create_order(trader.instrument, trader.units, suppress = True, ret = True, # open a long position\n",
    "                           sl_distance = 0.01)\n",
    "order"
   ]
  },
  {
   "cell_type": "code",
   "execution_count": 41,
   "id": "1819c913-f565-4a1f-a7ba-8974f5b6b009",
   "metadata": {},
   "outputs": [
    {
     "data": {
      "text/plain": [
       "{'id': '413',\n",
       " 'time': '2025-04-30T02:50:45.988826293Z',\n",
       " 'userID': 29655670,\n",
       " 'accountID': '101-001-29655670-001',\n",
       " 'batchID': '412',\n",
       " 'requestID': '97395169509646222',\n",
       " 'type': 'ORDER_FILL',\n",
       " 'orderID': '412',\n",
       " 'instrument': 'EUR_USD',\n",
       " 'units': '-100.0',\n",
       " 'gainQuoteHomeConversionFactor': '1.0',\n",
       " 'lossQuoteHomeConversionFactor': '1.0',\n",
       " 'price': 1.13665,\n",
       " 'fullVWAP': 1.13665,\n",
       " 'fullPrice': {'type': 'PRICE',\n",
       "  'bids': [{'price': 1.13665, 'liquidity': '500000'},\n",
       "   {'price': 1.13664, 'liquidity': '2500000'},\n",
       "   {'price': 1.13663, 'liquidity': '2000000'},\n",
       "   {'price': 1.13662, 'liquidity': '5000000'},\n",
       "   {'price': 1.13659, 'liquidity': '10000000'},\n",
       "   {'price': 1.13656, 'liquidity': '10000000'}],\n",
       "  'asks': [{'price': 1.13681, 'liquidity': '500000'},\n",
       "   {'price': 1.13682, 'liquidity': '500000'},\n",
       "   {'price': 1.13683, 'liquidity': '2000000'},\n",
       "   {'price': 1.13684, 'liquidity': '2000000'},\n",
       "   {'price': 1.13685, 'liquidity': '5000000'},\n",
       "   {'price': 1.13687, 'liquidity': '10000000'},\n",
       "   {'price': 1.1369, 'liquidity': '10000000'}],\n",
       "  'closeoutBid': 1.13656,\n",
       "  'closeoutAsk': 1.1369},\n",
       " 'reason': 'MARKET_ORDER',\n",
       " 'pl': '9.906',\n",
       " 'financing': '0.0',\n",
       " 'commission': '0.0',\n",
       " 'guaranteedExecutionFee': '0.0',\n",
       " 'accountBalance': '108264.9194',\n",
       " 'tradeReduced': {'tradeID': '254',\n",
       "  'units': '-100.0',\n",
       "  'price': 1.13665,\n",
       "  'realizedPL': '9.906',\n",
       "  'financing': '0.0',\n",
       "  'guaranteedExecutionFee': '0.0',\n",
       "  'halfSpreadCost': '0.008'},\n",
       " 'halfSpreadCost': '0.008'}"
      ]
     },
     "execution_count": 41,
     "metadata": {},
     "output_type": "execute_result"
    }
   ],
   "source": [
    "order = trader.create_order(trader.instrument, -trader.units, suppress = True, ret = True) # Closing position manually\n",
    "order"
   ]
  },
  {
   "cell_type": "markdown",
   "id": "57076a1d-bec5-42ea-b663-32ea2aec7791",
   "metadata": {},
   "source": [
    "#### Take Profit"
   ]
  },
  {
   "cell_type": "code",
   "execution_count": 63,
   "id": "638ab144-e0c1-4695-836b-f4bf56a625f0",
   "metadata": {},
   "outputs": [
    {
     "data": {
      "text/plain": [
       "{'id': '427',\n",
       " 'time': '2025-04-30T03:09:16.672470708Z',\n",
       " 'userID': 29655670,\n",
       " 'accountID': '101-001-29655670-001',\n",
       " 'batchID': '427',\n",
       " 'requestID': '79380775660153170',\n",
       " 'type': 'MARKET_ORDER_REJECT',\n",
       " 'instrument': 'EUR_USD',\n",
       " 'units': '100.0',\n",
       " 'timeInForce': 'FOK',\n",
       " 'positionFill': 'DEFAULT',\n",
       " 'reason': 'CLIENT_ORDER',\n",
       " 'takeProfitOnFill': {'price': 1.13999999999999, 'timeInForce': 'GTC'},\n",
       " 'rejectReason': 'TAKE_PROFIT_ON_FILL_PRICE_PRECISION_EXCEEDED'}"
      ]
     },
     "execution_count": 63,
     "metadata": {},
     "output_type": "execute_result"
    }
   ],
   "source": [
    "order = trader.create_order(trader.instrument, trader.units, suppress = True, ret = True,\n",
    "                            tp_price = 1.14) # Adjust price as needed.\n",
    "order"
   ]
  },
  {
   "cell_type": "code",
   "execution_count": 65,
   "id": "28101660-df82-4b6c-af1f-5e9d490e3394",
   "metadata": {},
   "outputs": [
    {
     "data": {
      "text/plain": [
       "{'id': '429',\n",
       " 'time': '2025-04-30T03:09:46.416153574Z',\n",
       " 'userID': 29655670,\n",
       " 'accountID': '101-001-29655670-001',\n",
       " 'batchID': '428',\n",
       " 'requestID': '97395174291986829',\n",
       " 'type': 'ORDER_FILL',\n",
       " 'orderID': '428',\n",
       " 'instrument': 'EUR_USD',\n",
       " 'units': '-100.0',\n",
       " 'gainQuoteHomeConversionFactor': '1.0',\n",
       " 'lossQuoteHomeConversionFactor': '1.0',\n",
       " 'price': 1.13735,\n",
       " 'fullVWAP': 1.13735,\n",
       " 'fullPrice': {'type': 'PRICE',\n",
       "  'bids': [{'price': 1.13735, 'liquidity': '500000'},\n",
       "   {'price': 1.13734, 'liquidity': '2500000'},\n",
       "   {'price': 1.13733, 'liquidity': '2000000'},\n",
       "   {'price': 1.13732, 'liquidity': '5000000'},\n",
       "   {'price': 1.13729, 'liquidity': '10000000'},\n",
       "   {'price': 1.13726, 'liquidity': '10000000'}],\n",
       "  'asks': [{'price': 1.13749, 'liquidity': '500000'},\n",
       "   {'price': 1.1375, 'liquidity': '500000'},\n",
       "   {'price': 1.13751, 'liquidity': '2000000'},\n",
       "   {'price': 1.13752, 'liquidity': '2000000'},\n",
       "   {'price': 1.13753, 'liquidity': '5000000'},\n",
       "   {'price': 1.13755, 'liquidity': '10000000'},\n",
       "   {'price': 1.13758, 'liquidity': '10000000'}],\n",
       "  'closeoutBid': 1.13726,\n",
       "  'closeoutAsk': 1.13758},\n",
       " 'reason': 'MARKET_ORDER',\n",
       " 'pl': '0.0',\n",
       " 'financing': '0.0',\n",
       " 'commission': '0.0',\n",
       " 'guaranteedExecutionFee': '0.0',\n",
       " 'accountBalance': '109969.5214',\n",
       " 'tradeOpened': {'tradeID': '429',\n",
       "  'units': '-100.0',\n",
       "  'price': 1.13735,\n",
       "  'guaranteedExecutionFee': '0.0',\n",
       "  'halfSpreadCost': '0.007',\n",
       "  'initialMarginRequired': '2.2748'},\n",
       " 'halfSpreadCost': '0.007'}"
      ]
     },
     "execution_count": 65,
     "metadata": {},
     "output_type": "execute_result"
    }
   ],
   "source": [
    "order = trader.create_order(trader.instrument, -trader.units, suppress = True, ret = True)\n",
    "order"
   ]
  },
  {
   "cell_type": "markdown",
   "id": "4d032bfc-e718-4cb0-816f-5ca9ec7de29b",
   "metadata": {},
   "source": [
    "#### Combining SL and TP (Stop Loss and Take Profit)"
   ]
  },
  {
   "cell_type": "code",
   "execution_count": 67,
   "id": "9a5905f1-3c9c-4053-8c01-783fbe551219",
   "metadata": {},
   "outputs": [
    {
     "data": {
      "text/plain": [
       "{'id': '431',\n",
       " 'time': '2025-04-30T03:10:37.368561760Z',\n",
       " 'userID': 29655670,\n",
       " 'accountID': '101-001-29655670-001',\n",
       " 'batchID': '430',\n",
       " 'requestID': '61366377490745039',\n",
       " 'type': 'ORDER_FILL',\n",
       " 'orderID': '430',\n",
       " 'instrument': 'EUR_USD',\n",
       " 'units': '100.0',\n",
       " 'gainQuoteHomeConversionFactor': '1.0',\n",
       " 'lossQuoteHomeConversionFactor': '1.0',\n",
       " 'price': 1.13744,\n",
       " 'fullVWAP': 1.13744,\n",
       " 'fullPrice': {'type': 'PRICE',\n",
       "  'bids': [{'price': 1.13728, 'liquidity': '500000'},\n",
       "   {'price': 1.13727, 'liquidity': '2500000'},\n",
       "   {'price': 1.13726, 'liquidity': '2000000'},\n",
       "   {'price': 1.13725, 'liquidity': '5000000'},\n",
       "   {'price': 1.13722, 'liquidity': '10000000'},\n",
       "   {'price': 1.13719, 'liquidity': '10000000'}],\n",
       "  'asks': [{'price': 1.13744, 'liquidity': '500000'},\n",
       "   {'price': 1.13745, 'liquidity': '500000'},\n",
       "   {'price': 1.13746, 'liquidity': '2000000'},\n",
       "   {'price': 1.13747, 'liquidity': '2000000'},\n",
       "   {'price': 1.13748, 'liquidity': '5000000'},\n",
       "   {'price': 1.1375, 'liquidity': '10000000'},\n",
       "   {'price': 1.13753, 'liquidity': '10000000'}],\n",
       "  'closeoutBid': 1.13719,\n",
       "  'closeoutAsk': 1.13753},\n",
       " 'reason': 'MARKET_ORDER',\n",
       " 'pl': '-0.009',\n",
       " 'financing': '0.0',\n",
       " 'commission': '0.0',\n",
       " 'guaranteedExecutionFee': '0.0',\n",
       " 'accountBalance': '109969.5124',\n",
       " 'tradesClosed': [{'tradeID': '429',\n",
       "   'units': '100.0',\n",
       "   'price': 1.13744,\n",
       "   'realizedPL': '-0.009',\n",
       "   'financing': '0.0',\n",
       "   'guaranteedExecutionFee': '0.0',\n",
       "   'halfSpreadCost': '0.008'}],\n",
       " 'halfSpreadCost': '0.008'}"
      ]
     },
     "execution_count": 67,
     "metadata": {},
     "output_type": "execute_result"
    }
   ],
   "source": [
    "order = trader.create_order(trader.instrument, trader.units, suppress = True, ret = True,\n",
    "                            sl_distance = 0.01, tp_price = 1.11)\n",
    "order"
   ]
  },
  {
   "cell_type": "code",
   "execution_count": 69,
   "id": "f91cd982-9b9e-4c84-9d4d-6c007d1dd9e2",
   "metadata": {},
   "outputs": [
    {
     "data": {
      "text/plain": [
       "{'id': '433',\n",
       " 'time': '2025-04-30T03:11:59.480379934Z',\n",
       " 'userID': 29655670,\n",
       " 'accountID': '101-001-29655670-001',\n",
       " 'batchID': '432',\n",
       " 'requestID': '61366377834737205',\n",
       " 'type': 'ORDER_FILL',\n",
       " 'orderID': '432',\n",
       " 'instrument': 'EUR_USD',\n",
       " 'units': '-100.0',\n",
       " 'gainQuoteHomeConversionFactor': '1.0',\n",
       " 'lossQuoteHomeConversionFactor': '1.0',\n",
       " 'price': 1.13748,\n",
       " 'fullVWAP': 1.13748,\n",
       " 'fullPrice': {'type': 'PRICE',\n",
       "  'bids': [{'price': 1.13748, 'liquidity': '500000'},\n",
       "   {'price': 1.13747, 'liquidity': '2500000'},\n",
       "   {'price': 1.13746, 'liquidity': '2000000'},\n",
       "   {'price': 1.13745, 'liquidity': '5000000'},\n",
       "   {'price': 1.13742, 'liquidity': '10000000'},\n",
       "   {'price': 1.13739, 'liquidity': '10000000'}],\n",
       "  'asks': [{'price': 1.13762, 'liquidity': '500000'},\n",
       "   {'price': 1.13763, 'liquidity': '500000'},\n",
       "   {'price': 1.13764, 'liquidity': '2000000'},\n",
       "   {'price': 1.13765, 'liquidity': '2000000'},\n",
       "   {'price': 1.13766, 'liquidity': '5000000'},\n",
       "   {'price': 1.13768, 'liquidity': '10000000'},\n",
       "   {'price': 1.13771, 'liquidity': '10000000'}],\n",
       "  'closeoutBid': 1.13739,\n",
       "  'closeoutAsk': 1.13771},\n",
       " 'reason': 'MARKET_ORDER',\n",
       " 'pl': '0.0',\n",
       " 'financing': '0.0',\n",
       " 'commission': '0.0',\n",
       " 'guaranteedExecutionFee': '0.0',\n",
       " 'accountBalance': '109969.5124',\n",
       " 'tradeOpened': {'tradeID': '433',\n",
       "  'units': '-100.0',\n",
       "  'price': 1.13748,\n",
       "  'guaranteedExecutionFee': '0.0',\n",
       "  'halfSpreadCost': '0.007',\n",
       "  'initialMarginRequired': '2.2751'},\n",
       " 'halfSpreadCost': '0.007'}"
      ]
     },
     "execution_count": 69,
     "metadata": {},
     "output_type": "execute_result"
    }
   ],
   "source": [
    "order = trader.create_order(trader.instrument, -trader.units, suppress = True, ret = True)\n",
    "order"
   ]
  },
  {
   "cell_type": "markdown",
   "id": "d41379d2-f0be-4bd3-aaa5-e824147b3852",
   "metadata": {},
   "source": [
    "#### Trailing Stop Loss"
   ]
  },
  {
   "cell_type": "markdown",
   "id": "c638fc59-a570-4497-8ce5-babe46015e8f",
   "metadata": {},
   "source": [
    "Trails the price takes a stop loss based on tsl_distance"
   ]
  },
  {
   "cell_type": "code",
   "execution_count": 72,
   "id": "624a7397-1490-4b8a-967a-f694cf11d7d3",
   "metadata": {},
   "outputs": [
    {
     "data": {
      "text/plain": [
       "{'id': '435',\n",
       " 'time': '2025-04-30T03:16:06.561249891Z',\n",
       " 'userID': 29655670,\n",
       " 'accountID': '101-001-29655670-001',\n",
       " 'batchID': '434',\n",
       " 'requestID': '61366378866699789',\n",
       " 'type': 'ORDER_FILL',\n",
       " 'orderID': '434',\n",
       " 'instrument': 'EUR_USD',\n",
       " 'units': '100.0',\n",
       " 'gainQuoteHomeConversionFactor': '1.0',\n",
       " 'lossQuoteHomeConversionFactor': '1.0',\n",
       " 'price': 1.13763,\n",
       " 'fullVWAP': 1.13763,\n",
       " 'fullPrice': {'type': 'PRICE',\n",
       "  'bids': [{'price': 1.13748, 'liquidity': '500000'},\n",
       "   {'price': 1.13747, 'liquidity': '2500000'},\n",
       "   {'price': 1.13746, 'liquidity': '2000000'},\n",
       "   {'price': 1.13745, 'liquidity': '5000000'},\n",
       "   {'price': 1.13742, 'liquidity': '10000000'},\n",
       "   {'price': 1.13739, 'liquidity': '10000000'}],\n",
       "  'asks': [{'price': 1.13763, 'liquidity': '500000'},\n",
       "   {'price': 1.13764, 'liquidity': '500000'},\n",
       "   {'price': 1.13765, 'liquidity': '2000000'},\n",
       "   {'price': 1.13766, 'liquidity': '2000000'},\n",
       "   {'price': 1.13767, 'liquidity': '5000000'},\n",
       "   {'price': 1.13769, 'liquidity': '10000000'},\n",
       "   {'price': 1.13772, 'liquidity': '10000000'}],\n",
       "  'closeoutBid': 1.13739,\n",
       "  'closeoutAsk': 1.13772},\n",
       " 'reason': 'MARKET_ORDER',\n",
       " 'pl': '-0.015',\n",
       " 'financing': '0.0',\n",
       " 'commission': '0.0',\n",
       " 'guaranteedExecutionFee': '0.0',\n",
       " 'accountBalance': '109969.4974',\n",
       " 'tradesClosed': [{'tradeID': '433',\n",
       "   'units': '100.0',\n",
       "   'price': 1.13763,\n",
       "   'realizedPL': '-0.015',\n",
       "   'financing': '0.0',\n",
       "   'guaranteedExecutionFee': '0.0',\n",
       "   'halfSpreadCost': '0.0075'}],\n",
       " 'halfSpreadCost': '0.0075'}"
      ]
     },
     "execution_count": 72,
     "metadata": {},
     "output_type": "execute_result"
    }
   ],
   "source": [
    "order = trader.create_order(trader.instrument, trader.units, suppress = True, ret = True,\n",
    "                            tsl_distance = 0.01)\n",
    "order"
   ]
  },
  {
   "cell_type": "code",
   "execution_count": 77,
   "id": "cd465c11-1555-4d13-9995-e5a71b8a03db",
   "metadata": {},
   "outputs": [
    {
     "data": {
      "text/plain": [
       "{'id': '437',\n",
       " 'time': '2025-04-30T03:19:28.823027293Z',\n",
       " 'userID': 29655670,\n",
       " 'accountID': '101-001-29655670-001',\n",
       " 'batchID': '436',\n",
       " 'requestID': '79380778227569197',\n",
       " 'type': 'ORDER_FILL',\n",
       " 'orderID': '436',\n",
       " 'instrument': 'EUR_USD',\n",
       " 'units': '-100.0',\n",
       " 'gainQuoteHomeConversionFactor': '1.0',\n",
       " 'lossQuoteHomeConversionFactor': '1.0',\n",
       " 'price': 1.13776,\n",
       " 'fullVWAP': 1.13776,\n",
       " 'fullPrice': {'type': 'PRICE',\n",
       "  'bids': [{'price': 1.13776, 'liquidity': '500000'},\n",
       "   {'price': 1.13775, 'liquidity': '2500000'},\n",
       "   {'price': 1.13774, 'liquidity': '2000000'},\n",
       "   {'price': 1.13773, 'liquidity': '5000000'},\n",
       "   {'price': 1.1377, 'liquidity': '10000000'},\n",
       "   {'price': 1.13767, 'liquidity': '10000000'}],\n",
       "  'asks': [{'price': 1.13791, 'liquidity': '500000'},\n",
       "   {'price': 1.13792, 'liquidity': '500000'},\n",
       "   {'price': 1.13793, 'liquidity': '2000000'},\n",
       "   {'price': 1.13794, 'liquidity': '2000000'},\n",
       "   {'price': 1.13795, 'liquidity': '5000000'},\n",
       "   {'price': 1.13797, 'liquidity': '10000000'},\n",
       "   {'price': 1.138, 'liquidity': '10000000'}],\n",
       "  'closeoutBid': 1.13767,\n",
       "  'closeoutAsk': 1.138},\n",
       " 'reason': 'MARKET_ORDER',\n",
       " 'pl': '0.0',\n",
       " 'financing': '0.0',\n",
       " 'commission': '0.0',\n",
       " 'guaranteedExecutionFee': '0.0',\n",
       " 'accountBalance': '109969.4974',\n",
       " 'tradeOpened': {'tradeID': '437',\n",
       "  'units': '-100.0',\n",
       "  'price': 1.13776,\n",
       "  'guaranteedExecutionFee': '0.0',\n",
       "  'halfSpreadCost': '0.0075',\n",
       "  'initialMarginRequired': '2.2757'},\n",
       " 'halfSpreadCost': '0.0075'}"
      ]
     },
     "execution_count": 77,
     "metadata": {},
     "output_type": "execute_result"
    }
   ],
   "source": [
    "order = trader.create_order(trader.instrument, -trader.units, suppress = True, ret = True)\n",
    "order"
   ]
  },
  {
   "cell_type": "code",
   "execution_count": null,
   "id": "37cd5ff3-b668-4560-9d66-070bb1fe99c0",
   "metadata": {},
   "outputs": [],
   "source": []
  }
 ],
 "metadata": {
  "kernelspec": {
   "display_name": "Python 3 (ipykernel)",
   "language": "python",
   "name": "python3"
  },
  "language_info": {
   "codemirror_mode": {
    "name": "ipython",
    "version": 3
   },
   "file_extension": ".py",
   "mimetype": "text/x-python",
   "name": "python",
   "nbconvert_exporter": "python",
   "pygments_lexer": "ipython3",
   "version": "3.12.4"
  }
 },
 "nbformat": 4,
 "nbformat_minor": 5
}
