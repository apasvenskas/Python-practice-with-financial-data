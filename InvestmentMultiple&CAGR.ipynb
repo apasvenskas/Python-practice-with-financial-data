{
 "cells": [
  {
   "cell_type": "markdown",
   "id": "baccced6-63d8-4af6-a32a-6845b058523e",
   "metadata": {},
   "source": [
    "Investment Multiple and CAGR"
   ]
  },
  {
   "cell_type": "code",
   "execution_count": 8,
   "id": "05ff849b-17ac-43ed-88b5-bc328349b047",
   "metadata": {},
   "outputs": [],
   "source": [
    "import pandas as pd\n",
    "import numpy as np\n",
    "import matplotlib.pyplot as plt\n",
    "pd.options.display.float_format = '{:.4f}'.format"
   ]
  },
  {
   "cell_type": "code",
   "execution_count": 29,
   "id": "386fa317-2e0f-46a4-acf5-45c7a67f64df",
   "metadata": {},
   "outputs": [],
   "source": [
    "import yfinance as yf\n"
   ]
  },
  {
   "cell_type": "code",
   "execution_count": 31,
   "id": "e9cda983-45d8-4d0b-8144-3ce6f87bf957",
   "metadata": {},
   "outputs": [
    {
     "name": "stderr",
     "output_type": "stream",
     "text": [
      "[*********************100%***********************]  1 of 1 completed\n"
     ]
    }
   ],
   "source": [
    "data = yf.download(\"MSFT\", start=\"2020-01-01\", end=\"2023-01-01\")\n",
    "close = data['Close']\n"
   ]
  },
  {
   "cell_type": "code",
   "execution_count": 34,
   "id": "0f040365-4a7f-46ab-8fb2-db5b5d12aa6e",
   "metadata": {},
   "outputs": [
    {
     "data": {
      "text/html": [
       "<div>\n",
       "<style scoped>\n",
       "    .dataframe tbody tr th:only-of-type {\n",
       "        vertical-align: middle;\n",
       "    }\n",
       "\n",
       "    .dataframe tbody tr th {\n",
       "        vertical-align: top;\n",
       "    }\n",
       "\n",
       "    .dataframe thead th {\n",
       "        text-align: right;\n",
       "    }\n",
       "</style>\n",
       "<table border=\"1\" class=\"dataframe\">\n",
       "  <thead>\n",
       "    <tr style=\"text-align: right;\">\n",
       "      <th></th>\n",
       "      <th>Price</th>\n",
       "      <th>Returns</th>\n",
       "    </tr>\n",
       "    <tr>\n",
       "      <th>Date</th>\n",
       "      <th></th>\n",
       "      <th></th>\n",
       "    </tr>\n",
       "  </thead>\n",
       "  <tbody>\n",
       "    <tr>\n",
       "      <th>2014-10-01 00:00:00+00:00</th>\n",
       "      <td>45.9000</td>\n",
       "      <td>NaN</td>\n",
       "    </tr>\n",
       "    <tr>\n",
       "      <th>2014-10-02 00:00:00+00:00</th>\n",
       "      <td>45.7600</td>\n",
       "      <td>-0.0031</td>\n",
       "    </tr>\n",
       "    <tr>\n",
       "      <th>2014-10-03 00:00:00+00:00</th>\n",
       "      <td>46.0900</td>\n",
       "      <td>0.0072</td>\n",
       "    </tr>\n",
       "    <tr>\n",
       "      <th>2014-10-06 00:00:00+00:00</th>\n",
       "      <td>46.0900</td>\n",
       "      <td>0.0000</td>\n",
       "    </tr>\n",
       "    <tr>\n",
       "      <th>2014-10-07 00:00:00+00:00</th>\n",
       "      <td>45.5300</td>\n",
       "      <td>-0.0122</td>\n",
       "    </tr>\n",
       "    <tr>\n",
       "      <th>...</th>\n",
       "      <td>...</td>\n",
       "      <td>...</td>\n",
       "    </tr>\n",
       "    <tr>\n",
       "      <th>2021-05-24 00:00:00+00:00</th>\n",
       "      <td>250.7800</td>\n",
       "      <td>0.0229</td>\n",
       "    </tr>\n",
       "    <tr>\n",
       "      <th>2021-05-25 00:00:00+00:00</th>\n",
       "      <td>251.7200</td>\n",
       "      <td>0.0037</td>\n",
       "    </tr>\n",
       "    <tr>\n",
       "      <th>2021-05-26 00:00:00+00:00</th>\n",
       "      <td>251.4900</td>\n",
       "      <td>-0.0009</td>\n",
       "    </tr>\n",
       "    <tr>\n",
       "      <th>2021-05-27 00:00:00+00:00</th>\n",
       "      <td>249.3100</td>\n",
       "      <td>-0.0087</td>\n",
       "    </tr>\n",
       "    <tr>\n",
       "      <th>2021-05-28 00:00:00+00:00</th>\n",
       "      <td>249.6800</td>\n",
       "      <td>0.0015</td>\n",
       "    </tr>\n",
       "  </tbody>\n",
       "</table>\n",
       "<p>1677 rows × 2 columns</p>\n",
       "</div>"
      ],
      "text/plain": [
       "                             Price  Returns\n",
       "Date                                       \n",
       "2014-10-01 00:00:00+00:00  45.9000      NaN\n",
       "2014-10-02 00:00:00+00:00  45.7600  -0.0031\n",
       "2014-10-03 00:00:00+00:00  46.0900   0.0072\n",
       "2014-10-06 00:00:00+00:00  46.0900   0.0000\n",
       "2014-10-07 00:00:00+00:00  45.5300  -0.0122\n",
       "...                            ...      ...\n",
       "2021-05-24 00:00:00+00:00 250.7800   0.0229\n",
       "2021-05-25 00:00:00+00:00 251.7200   0.0037\n",
       "2021-05-26 00:00:00+00:00 251.4900  -0.0009\n",
       "2021-05-27 00:00:00+00:00 249.3100  -0.0087\n",
       "2021-05-28 00:00:00+00:00 249.6800   0.0015\n",
       "\n",
       "[1677 rows x 2 columns]"
      ]
     },
     "execution_count": 34,
     "metadata": {},
     "output_type": "execute_result"
    }
   ],
   "source": [
    "msft = pd.read_csv(\"Desktop/AutoTrader/finiacialDataAnalysis/msft.csv\", index_col=\"Date\", parse_dates=[\"Date\"])\n",
    "msft"
   ]
  },
  {
   "cell_type": "markdown",
   "id": "1aa01ac9-83c0-4bda-8ff0-b20287f0e3c1",
   "metadata": {},
   "source": [
    "Investment Multiple:"
   ]
  },
  {
   "cell_type": "code",
   "execution_count": 37,
   "id": "9709fb19-a8d2-4b89-a2a4-b4a7e687ae4f",
   "metadata": {},
   "outputs": [
    {
     "name": "stderr",
     "output_type": "stream",
     "text": [
      "C:\\Users\\audri\\AppData\\Local\\Temp\\ipykernel_19940\\3370495833.py:1: FutureWarning: Series.__getitem__ treating keys as positions is deprecated. In a future version, integer keys will always be treated as labels (consistent with DataFrame behavior). To access a value by position, use `ser.iloc[pos]`\n",
      "  multiple = (msft.Price[-1] / msft.Price[0])\n"
     ]
    },
    {
     "data": {
      "text/plain": [
       "5.43965107571966"
      ]
     },
     "execution_count": 37,
     "metadata": {},
     "output_type": "execute_result"
    }
   ],
   "source": [
    "multiple = (msft.Price[-1] / msft.Price[0])\n",
    "multiple"
   ]
  },
  {
   "cell_type": "code",
   "execution_count": 39,
   "id": "0998c2a6-3280-44cc-9d04-a81020b4f5b6",
   "metadata": {},
   "outputs": [
    {
     "data": {
      "text/plain": [
       "443.96510757196603"
      ]
     },
     "execution_count": 39,
     "metadata": {},
     "output_type": "execute_result"
    }
   ],
   "source": [
    "(multiple - 1) * 100"
   ]
  },
  {
   "cell_type": "code",
   "execution_count": 41,
   "id": "3ad62106-b5f7-4822-9afc-c7d2820b4a41",
   "metadata": {},
   "outputs": [
    {
     "name": "stderr",
     "output_type": "stream",
     "text": [
      "C:\\Users\\audri\\AppData\\Local\\Temp\\ipykernel_19940\\1590048142.py:1: FutureWarning: Series.__getitem__ treating keys as positions is deprecated. In a future version, integer keys will always be treated as labels (consistent with DataFrame behavior). To access a value by position, use `ser.iloc[pos]`\n",
      "  msft.Price / msft.Price[0]\n"
     ]
    },
    {
     "data": {
      "text/plain": [
       "Date\n",
       "2014-10-01 00:00:00+00:00   1.0000\n",
       "2014-10-02 00:00:00+00:00   0.9969\n",
       "2014-10-03 00:00:00+00:00   1.0041\n",
       "2014-10-06 00:00:00+00:00   1.0041\n",
       "2014-10-07 00:00:00+00:00   0.9919\n",
       "                             ...  \n",
       "2021-05-24 00:00:00+00:00   5.4636\n",
       "2021-05-25 00:00:00+00:00   5.4841\n",
       "2021-05-26 00:00:00+00:00   5.4791\n",
       "2021-05-27 00:00:00+00:00   5.4316\n",
       "2021-05-28 00:00:00+00:00   5.4397\n",
       "Name: Price, Length: 1677, dtype: float64"
      ]
     },
     "execution_count": 41,
     "metadata": {},
     "output_type": "execute_result"
    }
   ],
   "source": [
    "msft.Price / msft.Price[0]"
   ]
  },
  {
   "cell_type": "markdown",
   "id": "b30008e4-dc43-4393-af05-b0ca49c4df47",
   "metadata": {},
   "source": [
    "Drawback of investemnt Multiple: Meaningfull only with conjunction with investment period"
   ]
  },
  {
   "cell_type": "markdown",
   "id": "cfa08faf-8b83-42c5-b3bc-41b27d841ad5",
   "metadata": {},
   "source": [
    "Compund Annual Growth Rate (CAGR)"
   ]
  },
  {
   "cell_type": "code",
   "execution_count": 45,
   "id": "811b25b4-09be-41a1-9781-e0183c173c11",
   "metadata": {},
   "outputs": [
    {
     "data": {
      "text/plain": [
       "Timestamp('2014-10-01 00:00:00+0000', tz='UTC')"
      ]
     },
     "execution_count": 45,
     "metadata": {},
     "output_type": "execute_result"
    }
   ],
   "source": [
    "start = msft.index[0]\n",
    "start"
   ]
  },
  {
   "cell_type": "code",
   "execution_count": 47,
   "id": "1f43a1dd-8292-48b1-9ff4-5c816f8ab149",
   "metadata": {},
   "outputs": [
    {
     "data": {
      "text/plain": [
       "Timestamp('2021-05-28 00:00:00+0000', tz='UTC')"
      ]
     },
     "execution_count": 47,
     "metadata": {},
     "output_type": "execute_result"
    }
   ],
   "source": [
    "end = msft.index[-1]\n",
    "end"
   ]
  },
  {
   "cell_type": "code",
   "execution_count": 49,
   "id": "0e0d2a3d-dc49-492b-b464-6c2a884ec6d0",
   "metadata": {},
   "outputs": [
    {
     "data": {
      "text/plain": [
       "Timedelta('2431 days 00:00:00')"
      ]
     },
     "execution_count": 49,
     "metadata": {},
     "output_type": "execute_result"
    }
   ],
   "source": [
    "td = end - start\n",
    "td"
   ]
  },
  {
   "cell_type": "code",
   "execution_count": 53,
   "id": "234fdb4f-df5f-4f38-ad60-6b2e1a84792e",
   "metadata": {},
   "outputs": [
    {
     "data": {
      "text/plain": [
       "6.655715263518139"
      ]
     },
     "execution_count": 53,
     "metadata": {},
     "output_type": "execute_result"
    }
   ],
   "source": [
    "td_years = td.days / 365.25\n",
    "td_years"
   ]
  },
  {
   "cell_type": "code",
   "execution_count": 55,
   "id": "6dab149d-6ac9-4711-a243-1b919cf501f3",
   "metadata": {},
   "outputs": [
    {
     "data": {
      "text/plain": [
       "0.2897846506194157"
      ]
     },
     "execution_count": 55,
     "metadata": {},
     "output_type": "execute_result"
    }
   ],
   "source": [
    "cagr = multiple**(1/td_years) - 1\n",
    "cagr"
   ]
  },
  {
   "cell_type": "code",
   "execution_count": 65,
   "id": "550a0b88-ea9a-4f3d-b656-0507ed0520ce",
   "metadata": {},
   "outputs": [
    {
     "name": "stderr",
     "output_type": "stream",
     "text": [
      "C:\\Users\\audri\\AppData\\Local\\Temp\\ipykernel_19940\\3623329166.py:1: FutureWarning: Series.__getitem__ treating keys as positions is deprecated. In a future version, integer keys will always be treated as labels (consistent with DataFrame behavior). To access a value by position, use `ser.iloc[pos]`\n",
      "  cagr = (msft.Price[-1]/msft.Price[0])**(1/((msft.index[-1] - msft.index[0]).days / 365.25)) - 1 # if multiple and td_years are not availble this long calculation can be used instead\n"
     ]
    },
    {
     "data": {
      "text/plain": [
       "0.2897846506194157"
      ]
     },
     "execution_count": 65,
     "metadata": {},
     "output_type": "execute_result"
    }
   ],
   "source": [
    "cagr = (msft.Price[-1]/msft.Price[0])**(1/((msft.index[-1] - msft.index[0]).days / 365.25)) - 1 # if multiple and td_years are not availble this long calculation can be used instead\n",
    "cagr"
   ]
  },
  {
   "cell_type": "code",
   "execution_count": 67,
   "id": "5df95af2-67de-42b3-9a3f-bdf8bc7b67e4",
   "metadata": {},
   "outputs": [
    {
     "data": {
      "text/plain": [
       "5.439651075719659"
      ]
     },
     "execution_count": 67,
     "metadata": {},
     "output_type": "execute_result"
    }
   ],
   "source": [
    "(1 + cagr)**(td_years)"
   ]
  },
  {
   "cell_type": "markdown",
   "id": "75981639-fa4e-48fe-a4d0-7ac487b20550",
   "metadata": {},
   "source": [
    "Compund Returns & Geometric Mean"
   ]
  },
  {
   "cell_type": "code",
   "execution_count": 69,
   "id": "5ffebdbe-df64-4f16-bef9-0d6b9ab18788",
   "metadata": {},
   "outputs": [
    {
     "data": {
      "text/html": [
       "<div>\n",
       "<style scoped>\n",
       "    .dataframe tbody tr th:only-of-type {\n",
       "        vertical-align: middle;\n",
       "    }\n",
       "\n",
       "    .dataframe tbody tr th {\n",
       "        vertical-align: top;\n",
       "    }\n",
       "\n",
       "    .dataframe thead th {\n",
       "        text-align: right;\n",
       "    }\n",
       "</style>\n",
       "<table border=\"1\" class=\"dataframe\">\n",
       "  <thead>\n",
       "    <tr style=\"text-align: right;\">\n",
       "      <th></th>\n",
       "      <th>Price</th>\n",
       "      <th>Returns</th>\n",
       "    </tr>\n",
       "    <tr>\n",
       "      <th>Date</th>\n",
       "      <th></th>\n",
       "      <th></th>\n",
       "    </tr>\n",
       "  </thead>\n",
       "  <tbody>\n",
       "    <tr>\n",
       "      <th>2014-10-01 00:00:00+00:00</th>\n",
       "      <td>45.9000</td>\n",
       "      <td>NaN</td>\n",
       "    </tr>\n",
       "    <tr>\n",
       "      <th>2014-10-02 00:00:00+00:00</th>\n",
       "      <td>45.7600</td>\n",
       "      <td>-0.0031</td>\n",
       "    </tr>\n",
       "    <tr>\n",
       "      <th>2014-10-03 00:00:00+00:00</th>\n",
       "      <td>46.0900</td>\n",
       "      <td>0.0072</td>\n",
       "    </tr>\n",
       "    <tr>\n",
       "      <th>2014-10-06 00:00:00+00:00</th>\n",
       "      <td>46.0900</td>\n",
       "      <td>0.0000</td>\n",
       "    </tr>\n",
       "    <tr>\n",
       "      <th>2014-10-07 00:00:00+00:00</th>\n",
       "      <td>45.5300</td>\n",
       "      <td>-0.0122</td>\n",
       "    </tr>\n",
       "    <tr>\n",
       "      <th>...</th>\n",
       "      <td>...</td>\n",
       "      <td>...</td>\n",
       "    </tr>\n",
       "    <tr>\n",
       "      <th>2021-05-24 00:00:00+00:00</th>\n",
       "      <td>250.7800</td>\n",
       "      <td>0.0229</td>\n",
       "    </tr>\n",
       "    <tr>\n",
       "      <th>2021-05-25 00:00:00+00:00</th>\n",
       "      <td>251.7200</td>\n",
       "      <td>0.0037</td>\n",
       "    </tr>\n",
       "    <tr>\n",
       "      <th>2021-05-26 00:00:00+00:00</th>\n",
       "      <td>251.4900</td>\n",
       "      <td>-0.0009</td>\n",
       "    </tr>\n",
       "    <tr>\n",
       "      <th>2021-05-27 00:00:00+00:00</th>\n",
       "      <td>249.3100</td>\n",
       "      <td>-0.0087</td>\n",
       "    </tr>\n",
       "    <tr>\n",
       "      <th>2021-05-28 00:00:00+00:00</th>\n",
       "      <td>249.6800</td>\n",
       "      <td>0.0015</td>\n",
       "    </tr>\n",
       "  </tbody>\n",
       "</table>\n",
       "<p>1677 rows × 2 columns</p>\n",
       "</div>"
      ],
      "text/plain": [
       "                             Price  Returns\n",
       "Date                                       \n",
       "2014-10-01 00:00:00+00:00  45.9000      NaN\n",
       "2014-10-02 00:00:00+00:00  45.7600  -0.0031\n",
       "2014-10-03 00:00:00+00:00  46.0900   0.0072\n",
       "2014-10-06 00:00:00+00:00  46.0900   0.0000\n",
       "2014-10-07 00:00:00+00:00  45.5300  -0.0122\n",
       "...                            ...      ...\n",
       "2021-05-24 00:00:00+00:00 250.7800   0.0229\n",
       "2021-05-25 00:00:00+00:00 251.7200   0.0037\n",
       "2021-05-26 00:00:00+00:00 251.4900  -0.0009\n",
       "2021-05-27 00:00:00+00:00 249.3100  -0.0087\n",
       "2021-05-28 00:00:00+00:00 249.6800   0.0015\n",
       "\n",
       "[1677 rows x 2 columns]"
      ]
     },
     "execution_count": 69,
     "metadata": {},
     "output_type": "execute_result"
    }
   ],
   "source": [
    "msft"
   ]
  },
  {
   "cell_type": "code",
   "execution_count": 72,
   "id": "78554745-903c-4b31-83cc-7cd5c88be449",
   "metadata": {},
   "outputs": [
    {
     "data": {
      "text/plain": [
       "5.4396510757198575"
      ]
     },
     "execution_count": 72,
     "metadata": {},
     "output_type": "execute_result"
    }
   ],
   "source": [
    "multiple = (1 + msft.Returns).prod()\n",
    "multiple"
   ]
  },
  {
   "cell_type": "code",
   "execution_count": 74,
   "id": "2a0afd73-e875-4ef4-a604-38d672d0cc7e",
   "metadata": {},
   "outputs": [
    {
     "data": {
      "text/plain": [
       "1676"
      ]
     },
     "execution_count": 74,
     "metadata": {},
     "output_type": "execute_result"
    }
   ],
   "source": [
    "n = msft.Returns.count()\n",
    "n"
   ]
  },
  {
   "cell_type": "code",
   "execution_count": 76,
   "id": "f8fdca5a-130b-41de-86a8-d1bdef716ec9",
   "metadata": {},
   "outputs": [
    {
     "data": {
      "text/plain": [
       "0.0010110805580043625"
      ]
     },
     "execution_count": 76,
     "metadata": {},
     "output_type": "execute_result"
    }
   ],
   "source": [
    "geo_mean = multiple**(1/n) - 1\n",
    "geo_mean"
   ]
  },
  {
   "cell_type": "code",
   "execution_count": 78,
   "id": "9b6724ad-1948-43d7-833b-70140da8906a",
   "metadata": {},
   "outputs": [
    {
     "data": {
      "text/plain": [
       "5.439651075720363"
      ]
     },
     "execution_count": 78,
     "metadata": {},
     "output_type": "execute_result"
    }
   ],
   "source": [
    "(1 + geo_mean)**n"
   ]
  },
  {
   "cell_type": "code",
   "execution_count": 80,
   "id": "983f9ef6-5641-40f6-ab82-59eea4c30ccc",
   "metadata": {},
   "outputs": [
    {
     "data": {
      "text/plain": [
       "0.001159781798206695"
      ]
     },
     "execution_count": 80,
     "metadata": {},
     "output_type": "execute_result"
    }
   ],
   "source": [
    "mu = msft.Returns.mean()\n",
    "mu"
   ]
  },
  {
   "cell_type": "markdown",
   "id": "13035be8-8c16-4f03-b484-5eb45cbf959c",
   "metadata": {},
   "source": [
    "arithmetic mean return is always greater that the geometric return"
   ]
  },
  {
   "cell_type": "code",
   "execution_count": 83,
   "id": "34eedf0f-b669-4256-b7bd-816c5cc659f3",
   "metadata": {},
   "outputs": [
    {
     "data": {
      "text/plain": [
       "6.977341539401793"
      ]
     },
     "execution_count": 83,
     "metadata": {},
     "output_type": "execute_result"
    }
   ],
   "source": [
    "(1 + mu)**n"
   ]
  },
  {
   "cell_type": "code",
   "execution_count": null,
   "id": "d6b306c2-c270-49cc-9440-d1d924cb423e",
   "metadata": {},
   "outputs": [],
   "source": []
  }
 ],
 "metadata": {
  "kernelspec": {
   "display_name": "Python 3 (ipykernel)",
   "language": "python",
   "name": "python3"
  },
  "language_info": {
   "codemirror_mode": {
    "name": "ipython",
    "version": 3
   },
   "file_extension": ".py",
   "mimetype": "text/x-python",
   "name": "python",
   "nbconvert_exporter": "python",
   "pygments_lexer": "ipython3",
   "version": "3.12.4"
  }
 },
 "nbformat": 4,
 "nbformat_minor": 5
}
